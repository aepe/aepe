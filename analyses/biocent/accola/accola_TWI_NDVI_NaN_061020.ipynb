{
 "metadata": {
  "language_info": {
   "codemirror_mode": {
    "name": "ipython",
    "version": 3
   },
   "file_extension": ".py",
   "mimetype": "text/x-python",
   "name": "python",
   "nbconvert_exporter": "python",
   "pygments_lexer": "ipython3",
   "version": "3.8.2-final"
  },
  "orig_nbformat": 2,
  "kernelspec": {
   "name": "Python 3.8.2 64-bit ('gis': conda)",
   "display_name": "Python 3.8.2 64-bit ('gis': conda)",
   "metadata": {
    "interpreter": {
     "hash": "105ff0aaf530955537e1147328ef295aa52b0200f6f7ec5c3e3699f7f739eb29"
    }
   }
  }
 },
 "nbformat": 4,
 "nbformat_minor": 2,
 "cells": [
  {
   "cell_type": "code",
   "execution_count": 1,
   "metadata": {},
   "outputs": [],
   "source": [
    "import rasterio\n",
    "import json\n",
    "import pandas as pd\n",
    "import geopandas as gpd\n",
    "import numpy as np\n",
    "import matplotlib.pyplot as plt\n",
    "from rasterstats import zonal_stats\n",
    "%matplotlib inline"
   ]
  },
  {
   "cell_type": "code",
   "execution_count": 3,
   "metadata": {},
   "outputs": [],
   "source": [
    "twi_file = rasterio.open(\"tif/twi_noturn_PnD_9-16-20.tif\")\n",
    "ndvi_file = rasterio.open(\"tif/20190707_Sky_NDVI_Accola.tif\")\n",
    "ym_file = rasterio.open(\"tif/ym_raster_100x30_fillholes.tif\")"
   ]
  },
  {
   "cell_type": "code",
   "execution_count": 7,
   "metadata": {
    "tags": []
   },
   "outputs": [
    {
     "output_type": "stream",
     "name": "stdout",
     "text": "EPSG:26915\nEPSG:32615\nEPSG:4326\n"
    }
   ],
   "source": [
    "print(twi_file.crs)\n",
    "print(ndvi_file.crs)\n",
    "print(ym_file.crs)"
   ]
  },
  {
   "cell_type": "code",
   "execution_count": null,
   "metadata": {},
   "outputs": [],
   "source": [
    "https://rasterio.readthedocs.io/en/latest/topics/reproject.html"
   ]
  }
 ]
}