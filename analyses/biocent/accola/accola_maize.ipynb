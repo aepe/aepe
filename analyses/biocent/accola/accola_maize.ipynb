{
 "cells": [
  {
   "cell_type": "markdown",
   "metadata": {},
   "source": [
    "### Notebook for analyzing BioCentury Research Farm Accola field site - author @ Matt Nowatzke"
   ]
  },
  {
   "cell_type": "code",
   "execution_count": 1,
   "metadata": {},
   "outputs": [],
   "source": [
    "import json\n",
    "import pandas as pd\n",
    "import geopandas as gpd\n",
    "import numpy as np\n",
    "import database as db\n",
    "import gdal\n",
    "import rasterio as rio\n",
    "from rasterio.plot import plotting_extent\n",
    "import analyses.run_apsim\n",
    "import earthpy as et\n",
    "import earthpy.plot as ep\n",
    "import rasterstats as rs\n",
    "import statsmodels.api as sm\n",
    "from sklearn.metrics import mean_squared_error, r2_score\n",
    "from math import sqrt\n",
    "from rasterstats import zonal_stats\n",
    "from analyses.munging import get_centroid\n",
    "from apsim.daymet import create_excel_met\n",
    "from apsim.apsim_input_writer import create_mukey_runs\n",
    "from apsim.apsim_output_parser import parse_all_output_field, parse_summary_output_field\n",
    "import matplotlib.pyplot as plt"
   ]
  },
  {
   "cell_type": "markdown",
   "metadata": {},
   "source": [
    "### Load management data for 2018 soybeans following corn and 2019 corn following soybeans."
   ]
  },
  {
   "cell_type": "code",
   "execution_count": 2,
   "metadata": {},
   "outputs": [],
   "source": [
    "#Load the management data\n",
    "accola_soy_mgmt_2018 = json.loads( open( 'crop_jsons/accola_sfc_2018.json', 'r' ).read() )\n",
    "accola_corn_mgmt_2019 = json.loads( open( 'crop_jsons/accola_cfs_2019.json', 'r' ).read() )"
   ]
  },
  {
   "cell_type": "markdown",
   "metadata": {},
   "source": [
    "Create database connection and get a list of all the unique soils (mukeys) for the field."
   ]
  },
  {
   "cell_type": "code",
   "execution_count": 3,
   "metadata": {},
   "outputs": [],
   "source": [
    "dbconn = db.connect_to_db('database.ini')"
   ]
  },
  {
   "cell_type": "code",
   "execution_count": 6,
   "metadata": {},
   "outputs": [
    {
     "output_type": "execute_result",
     "data": {
      "text/plain": "['2765537', '2800480', '2835021', '2835194', '2922031', '411333']"
     },
     "metadata": {},
     "execution_count": 6
    }
   ],
   "source": [
    "accola_soils = gpd.read_postgis('SELECT * FROM biocent_farms.accola_ssurgo;', dbconn, geom_col='wkb_geometry')\n",
    "accola_mukeys = list(np.unique(accola_soils['mukey']))\n",
    "#accola_soils = pd.read_sql('SELECT * FROM biocent_farms.accola_ssurgo;', dbconn)\n",
    "accola_mukeys"
   ]
  },
  {
   "cell_type": "markdown",
   "metadata": {},
   "source": [
    "### Get the centroid of the field and create met file.\n",
    "This met file--if created on a Windows machine--is a an Excel file that should be saved afterwards as a Formatted Text file (*.prn)  \n",
    "See: https://www.apsim.info/support/apsim-training-manuals/creating-an-apsim-met-file-using-excel/  \n",
    "This is a known problem with Pandas on Windows. If creating the met file on Mac or Linux, feel free to use the daymet.create_met function instead."
   ]
  },
  {
   "cell_type": "code",
   "execution_count": 17,
   "metadata": {},
   "outputs": [],
   "source": [
    "#accola_centroid = get_centroid(accola_soils, 'areasymbol', 'wkb_geometry')\n",
    "#create_excel_met(accola_centroid[0], accola_centroid[1], 2012, 2019, 'accola')"
   ]
  },
  {
   "cell_type": "markdown",
   "metadata": {},
   "source": [
    "Create runs using the default soil calcs or Saxton Rawls"
   ]
  },
  {
   "cell_type": "code",
   "execution_count": 7,
   "metadata": {
    "tags": []
   },
   "outputs": [
    {
     "output_type": "stream",
     "name": "stdout",
     "text": "Finished! All files created!\n"
    }
   ],
   "source": [
    "create_mukey_runs(accola_mukeys, dbconn, 'cfs', 'accola.met', 'AccolaTest', start_year=1980, end_year=2019, sfc_mgmt=accola_soy_mgmt_2018, cfs_mgmt=accola_corn_mgmt_2019)"
   ]
  },
  {
   "cell_type": "code",
   "execution_count": 5,
   "metadata": {
    "tags": []
   },
   "outputs": [
    {
     "output_type": "stream",
     "name": "stdout",
     "text": "Finished! All files created!\nFinished! All files created!\n"
    }
   ],
   "source": [
    "create_mukey_runs(accola_mukeys, dbconn, 'cfs', 'accola.met', 'AccolaDefault', start_year=2017, end_year=2019, sfc_mgmt=accola_soy_mgmt_2018, cfs_mgmt=accola_corn_mgmt_2019)\n",
    "create_mukey_runs(accola_mukeys, dbconn, 'cfs', 'accola.met', 'AccolaSaxton', start_year=2017, end_year=2019, sfc_mgmt=accola_soy_mgmt_2018, cfs_mgmt=accola_corn_mgmt_2019, saxton=True)"
   ]
  },
  {
   "cell_type": "code",
   "execution_count": 6,
   "metadata": {
    "tags": []
   },
   "outputs": [
    {
     "output_type": "stream",
     "name": "stdout",
     "text": "Finished! All files created!\nFinished! All files created!\n"
    }
   ],
   "source": [
    "create_mukey_runs(accola_mukeys, dbconn, 'sfc', 'accola.met', 'AccolaDefault', start_year=2016, end_year=2018, sfc_mgmt=accola_soy_mgmt_2018, cfs_mgmt=accola_corn_mgmt_2019)\n",
    "create_mukey_runs(accola_mukeys, dbconn, 'sfc', 'accola.met', 'AccolaSaxton', start_year=2016, end_year=2018, sfc_mgmt=accola_soy_mgmt_2018, cfs_mgmt=accola_corn_mgmt_2019, saxton=True)"
   ]
  },
  {
   "cell_type": "markdown",
   "metadata": {},
   "source": [
    "Run simulations"
   ]
  },
  {
   "cell_type": "code",
   "execution_count": 9,
   "metadata": {
    "tags": []
   },
   "outputs": [
    {
     "output_type": "stream",
     "name": "stdout",
     "text": "Running on 62 cores\nConverting 6 .apsim files to .sim files.\nRunning Apsim for 6 .sim files...\nRuns completed.\nProcessing time: 2.0638 seconds\nRunning on 62 cores\nConverting 6 .apsim files to .sim files.\nRunning Apsim for 6 .sim files...\nRuns completed.\nProcessing time: 2.0617 seconds\n"
    }
   ],
   "source": [
    "analyses.run_apsim.run_all_simulations(apsim_files_path=\"apsim_files\\\\AccolaSaxton\\\\2019\\\\cfs\\\\*.apsim\", sim_files_path=\"apsim_files\\\\AccolaSaxton\\\\2019\\\\cfs\\\\*.sim\")\n",
    "analyses.run_apsim.run_all_simulations(apsim_files_path=\"apsim_files\\\\AccolaSaxton\\\\2018\\\\sfc\\\\*.apsim\", sim_files_path=\"apsim_files\\\\AccolaSaxton\\\\2018\\\\sfc\\\\*.sim\")"
   ]
  },
  {
   "cell_type": "code",
   "execution_count": 10,
   "metadata": {
    "tags": []
   },
   "outputs": [
    {
     "output_type": "stream",
     "name": "stdout",
     "text": "Running on 62 cores\nConverting 6 .apsim files to .sim files.\nRunning Apsim for 6 .sim files...\nRuns completed.\nProcessing time: 2.0612 seconds\nRunning on 62 cores\nConverting 6 .apsim files to .sim files.\nRunning Apsim for 6 .sim files...\nRuns completed.\nProcessing time: 2.0746 seconds\n"
    }
   ],
   "source": [
    "analyses.run_apsim.run_all_simulations(apsim_files_path=\"apsim_files\\\\AccolaDefault\\\\2019\\\\cfs\\\\*.apsim\", sim_files_path=\"apsim_files\\\\AccolaDefault\\\\2019\\\\cfs\\\\*.sim\")\n",
    "analyses.run_apsim.run_all_simulations(apsim_files_path=\"apsim_files\\\\AccolaDefault\\\\2018\\\\sfc\\\\*.apsim\", sim_files_path=\"apsim_files\\\\AccolaDefault\\\\2018\\\\sfc\\\\*.sim\")"
   ]
  },
  {
   "cell_type": "code",
   "execution_count": 5,
   "metadata": {},
   "outputs": [],
   "source": [
    "accola_soy_output_2018_saxton = parse_summary_output_field(\"apsim_files/AccolaSaxton/2018/sfc\", year=2018)\n",
    "accola_soy_output_2018_default = parse_summary_output_field(\"apsim_files/AccolaDefault/2018/sfc\", year=2018)"
   ]
  },
  {
   "cell_type": "code",
   "execution_count": 2,
   "metadata": {},
   "outputs": [],
   "source": [
    "accola_maize_output_2019_saxton = parse_summary_output_field(\"apsim_files/AccolaSaxton/2019/cfs\", year=2019)\n",
    "accola_maize_output_2019_default = parse_summary_output_field(\"apsim_files/AccolaDefault/2019/cfs\", year=2019)"
   ]
  },
  {
   "cell_type": "code",
   "execution_count": 13,
   "metadata": {},
   "outputs": [],
   "source": [
    "#accola_soy_output_2018_default.to_csv('output/apsim/accola_apsim_default_soy_2019.csv', index=False)\n",
    "#accola_maize_output_2019_default.to_csv('output/apsim/accola_apsim_default_maize_2019.csv', index=False)"
   ]
  },
  {
   "cell_type": "code",
   "execution_count": 6,
   "metadata": {},
   "outputs": [
    {
     "output_type": "execute_result",
     "data": {
      "text/plain": "     mukey  soy_buac\n0  2765537  54.05396\n1  2800480  54.05395\n2  2835021  54.05396\n3  2835194  54.05396\n4  2922031  54.05396\n5   411333  54.05395",
      "text/html": "<div>\n<style scoped>\n    .dataframe tbody tr th:only-of-type {\n        vertical-align: middle;\n    }\n\n    .dataframe tbody tr th {\n        vertical-align: top;\n    }\n\n    .dataframe thead th {\n        text-align: right;\n    }\n</style>\n<table border=\"1\" class=\"dataframe\">\n  <thead>\n    <tr style=\"text-align: right;\">\n      <th></th>\n      <th>mukey</th>\n      <th>soy_buac</th>\n    </tr>\n  </thead>\n  <tbody>\n    <tr>\n      <th>0</th>\n      <td>2765537</td>\n      <td>54.05396</td>\n    </tr>\n    <tr>\n      <th>1</th>\n      <td>2800480</td>\n      <td>54.05395</td>\n    </tr>\n    <tr>\n      <th>2</th>\n      <td>2835021</td>\n      <td>54.05396</td>\n    </tr>\n    <tr>\n      <th>3</th>\n      <td>2835194</td>\n      <td>54.05396</td>\n    </tr>\n    <tr>\n      <th>4</th>\n      <td>2922031</td>\n      <td>54.05396</td>\n    </tr>\n    <tr>\n      <th>5</th>\n      <td>411333</td>\n      <td>54.05395</td>\n    </tr>\n  </tbody>\n</table>\n</div>"
     },
     "metadata": {},
     "execution_count": 6
    }
   ],
   "source": [
    "accola_apsim_yield_2018_saxton = accola_soy_output_2018_saxton[['mukey', 'soy_buac']]\n",
    "accola_apsim_yield_2018_saxton"
   ]
  },
  {
   "cell_type": "code",
   "execution_count": 7,
   "metadata": {},
   "outputs": [
    {
     "output_type": "execute_result",
     "data": {
      "text/plain": "     mukey  soy_buac\n0  2765537  54.05396\n1  2800480  54.05394\n2  2835021  54.05394\n3  2835194  54.05394\n4  2922031  54.05394\n5   411333  54.02292",
      "text/html": "<div>\n<style scoped>\n    .dataframe tbody tr th:only-of-type {\n        vertical-align: middle;\n    }\n\n    .dataframe tbody tr th {\n        vertical-align: top;\n    }\n\n    .dataframe thead th {\n        text-align: right;\n    }\n</style>\n<table border=\"1\" class=\"dataframe\">\n  <thead>\n    <tr style=\"text-align: right;\">\n      <th></th>\n      <th>mukey</th>\n      <th>soy_buac</th>\n    </tr>\n  </thead>\n  <tbody>\n    <tr>\n      <th>0</th>\n      <td>2765537</td>\n      <td>54.05396</td>\n    </tr>\n    <tr>\n      <th>1</th>\n      <td>2800480</td>\n      <td>54.05394</td>\n    </tr>\n    <tr>\n      <th>2</th>\n      <td>2835021</td>\n      <td>54.05394</td>\n    </tr>\n    <tr>\n      <th>3</th>\n      <td>2835194</td>\n      <td>54.05394</td>\n    </tr>\n    <tr>\n      <th>4</th>\n      <td>2922031</td>\n      <td>54.05394</td>\n    </tr>\n    <tr>\n      <th>5</th>\n      <td>411333</td>\n      <td>54.02292</td>\n    </tr>\n  </tbody>\n</table>\n</div>"
     },
     "metadata": {},
     "execution_count": 7
    }
   ],
   "source": [
    "accola_apsim_yield_2018_default = accola_soy_output_2018_default[['mukey', 'soy_buac']]\n",
    "accola_apsim_yield_2018_default"
   ]
  },
  {
   "cell_type": "code",
   "execution_count": 8,
   "metadata": {},
   "outputs": [
    {
     "output_type": "execute_result",
     "data": {
      "text/plain": "     mukey  corn_buac\n0  2765537  190.49635\n1  2800480  198.33374\n2  2835021  202.98877\n3  2835194  203.96081\n4  2922031  200.70335\n5   411333  206.77245",
      "text/html": "<div>\n<style scoped>\n    .dataframe tbody tr th:only-of-type {\n        vertical-align: middle;\n    }\n\n    .dataframe tbody tr th {\n        vertical-align: top;\n    }\n\n    .dataframe thead th {\n        text-align: right;\n    }\n</style>\n<table border=\"1\" class=\"dataframe\">\n  <thead>\n    <tr style=\"text-align: right;\">\n      <th></th>\n      <th>mukey</th>\n      <th>corn_buac</th>\n    </tr>\n  </thead>\n  <tbody>\n    <tr>\n      <th>0</th>\n      <td>2765537</td>\n      <td>190.49635</td>\n    </tr>\n    <tr>\n      <th>1</th>\n      <td>2800480</td>\n      <td>198.33374</td>\n    </tr>\n    <tr>\n      <th>2</th>\n      <td>2835021</td>\n      <td>202.98877</td>\n    </tr>\n    <tr>\n      <th>3</th>\n      <td>2835194</td>\n      <td>203.96081</td>\n    </tr>\n    <tr>\n      <th>4</th>\n      <td>2922031</td>\n      <td>200.70335</td>\n    </tr>\n    <tr>\n      <th>5</th>\n      <td>411333</td>\n      <td>206.77245</td>\n    </tr>\n  </tbody>\n</table>\n</div>"
     },
     "metadata": {},
     "execution_count": 8
    }
   ],
   "source": [
    "accola_apsim_yield_2019_saxton = accola_maize_output_2019_saxton[['mukey', 'corn_buac']]\n",
    "accola_apsim_yield_2019_saxton"
   ]
  },
  {
   "cell_type": "code",
   "execution_count": 9,
   "metadata": {},
   "outputs": [
    {
     "output_type": "execute_result",
     "data": {
      "text/plain": "     mukey  corn_buac\n0  2765537  201.72437\n1  2800480  202.48384\n2  2835021  204.03448\n3  2835194  204.27408\n4  2922031  203.26524\n5   411333  198.65392",
      "text/html": "<div>\n<style scoped>\n    .dataframe tbody tr th:only-of-type {\n        vertical-align: middle;\n    }\n\n    .dataframe tbody tr th {\n        vertical-align: top;\n    }\n\n    .dataframe thead th {\n        text-align: right;\n    }\n</style>\n<table border=\"1\" class=\"dataframe\">\n  <thead>\n    <tr style=\"text-align: right;\">\n      <th></th>\n      <th>mukey</th>\n      <th>corn_buac</th>\n    </tr>\n  </thead>\n  <tbody>\n    <tr>\n      <th>0</th>\n      <td>2765537</td>\n      <td>201.72437</td>\n    </tr>\n    <tr>\n      <th>1</th>\n      <td>2800480</td>\n      <td>202.48384</td>\n    </tr>\n    <tr>\n      <th>2</th>\n      <td>2835021</td>\n      <td>204.03448</td>\n    </tr>\n    <tr>\n      <th>3</th>\n      <td>2835194</td>\n      <td>204.27408</td>\n    </tr>\n    <tr>\n      <th>4</th>\n      <td>2922031</td>\n      <td>203.26524</td>\n    </tr>\n    <tr>\n      <th>5</th>\n      <td>411333</td>\n      <td>198.65392</td>\n    </tr>\n  </tbody>\n</table>\n</div>"
     },
     "metadata": {},
     "execution_count": 9
    }
   ],
   "source": [
    "accola_apsim_yield_2019_default = accola_maize_output_2019_default[['mukey', 'corn_buac']]\n",
    "accola_apsim_yield_2019_default"
   ]
  },
  {
   "cell_type": "code",
   "execution_count": null,
   "metadata": {},
   "outputs": [],
   "source": [
    "#accola_yield = gpd.read_file(\"yield_monitor/Accola2019YieldwGeom.dbf\")\n",
    "#accola_yield_clean = accola_yield[['Yld_Vol_Dr','geometry']]\n",
    "#accola_yield_clean['Yld_Vol_Dr'].describe()"
   ]
  },
  {
   "cell_type": "code",
   "execution_count": 18,
   "metadata": {},
   "outputs": [],
   "source": [
    "#YM data with turn rows\n",
    "#accola_ssurgo_geojson = 'C:/Users/mjn/Documents/Foresite/yield_monitor_data/analyses/accola/accola_ssurgo.geojson'\n",
    "#accola_raster_yield = \"C:\\\\Users\\\\mjn\\\\Documents\\\\Foresite\\\\yield_monitor_data\\\\analyses\\\\accola\\\\accola_maize_2019_raster_30.tif\"\n",
    "\n",
    "#YM data without turn rows\n",
    "accola_ssurgo_geojson = \"C:\\\\Users\\\\mjn\\\\Documents\\\\Foresite\\\\yield_monitor_data\\\\analyses\\\\accola\\\\ssurgo\\\\accola_ssurgo_noturnrows.geojson\"\n",
    "accola_raster_yield = \"C:\\\\Users\\\\mjn\\\\Documents\\\\Foresite\\\\yield_monitor_data\\\\analyses\\\\accola\\\\yield_monitor\\\\no_turnrow\\\\accola_maize_noturn_ym_raster_2019.tif\""
   ]
  },
  {
   "cell_type": "code",
   "execution_count": 19,
   "metadata": {},
   "outputs": [],
   "source": [
    "stats = zonal_stats(accola_ssurgo_geojson, accola_raster_yield, geojson_out=True, stats=['min', 'max', 'median', 'mean', 'std', 'range'])"
   ]
  },
  {
   "cell_type": "code",
   "execution_count": 20,
   "metadata": {},
   "outputs": [],
   "source": [
    "accola_maize_2019 = gpd.GeoDataFrame.from_features(stats)"
   ]
  },
  {
   "cell_type": "code",
   "execution_count": 22,
   "metadata": {},
   "outputs": [],
   "source": [
    "accola_maize_2019['Field'] = 'Accola'"
   ]
  },
  {
   "cell_type": "code",
   "execution_count": 23,
   "metadata": {},
   "outputs": [],
   "source": [
    "accola_maize_2019 = accola_maize_2019[['geometry', 'Field', 'objectid', 'areasymbol', 'musym', 'mukey', 'shape_area', 'mean', 'median', 'min', 'max', 'std', 'range']]"
   ]
  },
  {
   "cell_type": "code",
   "execution_count": 24,
   "metadata": {},
   "outputs": [],
   "source": [
    "accola_maize_2019 = accola_maize_2019.round({'mean':2,'median':2, 'min':2, 'max':2, 'std':2, 'range':2})"
   ]
  },
  {
   "cell_type": "code",
   "execution_count": 25,
   "metadata": {},
   "outputs": [],
   "source": [
    "accola_maize_2019.to_file('accola_zonalstats_maize_2019.geojson', driver='GeoJSON')"
   ]
  },
  {
   "cell_type": "code",
   "execution_count": 10,
   "metadata": {},
   "outputs": [],
   "source": [
    "accola_maize_2019 = gpd.read_file(\"accola_zonalstats_maize_2019.geojson\")"
   ]
  },
  {
   "cell_type": "code",
   "execution_count": 11,
   "metadata": {},
   "outputs": [],
   "source": [
    "def wkb_hexer(line):\n",
    "    return line.wkb_hex"
   ]
  },
  {
   "cell_type": "code",
   "execution_count": 12,
   "metadata": {},
   "outputs": [],
   "source": [
    "accola_maize_2019['geometry'] = accola_maize_2019['geometry'].apply(wkb_hexer)"
   ]
  },
  {
   "cell_type": "code",
   "execution_count": 13,
   "metadata": {},
   "outputs": [],
   "source": [
    "accola_maize_df = pd.DataFrame(accola_maize_2019)"
   ]
  },
  {
   "cell_type": "code",
   "execution_count": null,
   "metadata": {},
   "outputs": [],
   "source": [
    "db_schema = 'biocent_farms'\n",
    "db_table = 'accola_maize_2019_yield_zonal_stats' \n",
    "accola_maize_df.to_sql(\n",
    "con = dbconn,\n",
    "name = db_table,\n",
    "schema = db_schema,\n",
    "if_exists = 'replace',\n",
    "index = False,\n",
    "chunksize=1000,\n",
    "method='multi' )"
   ]
  },
  {
   "cell_type": "code",
   "execution_count": 14,
   "metadata": {},
   "outputs": [
    {
     "output_type": "execute_result",
     "data": {
      "text/plain": "                                             geometry  objectid    mukey  \\\n2   01060000000100000001030000000100000045000000CF...   1673500  2765537   \n4   0106000000010000000103000000010000001F00000015...   1679582  2765537   \n5   0106000000010000000103000000010000000D0000001E...   1679975  2765537   \n8   0106000000020000000103000000010000000A000000C4...   1689439  2800480   \n15  01060000000100000001030000000100000013000000F6...   1694874  2800480   \n12  0106000000010000000103000000010000000F00000060...   1689902  2800480   \n11  010600000001000000010300000001000000080000007B...   1689892  2800480   \n10  0106000000010000000103000000010000000800000069...   1689765  2800480   \n9   0106000000010000000103000000010000000B000000EF...   1689585  2800480   \n17  01060000000100000001030000000100000015000000C2...   1694915  2800480   \n7   0106000000020000000103000000010000000500000093...   1689289  2800480   \n16  0106000000010000000103000000010000001600000037...   1694884  2800480   \n3   0106000000010000000103000000010000000B00000050...   1675300  2835021   \n0   010600000003000000010300000001000000100000003A...   1670419  2835021   \n13  010600000001000000010300000002000000260000008A...   1694527  2835194   \n14  0106000000010000000103000000010000002400000093...   1694530  2835194   \n1   01060000000100000001030000000100000018000000C5...   1699584  2835194   \n6   010600000001000000010300000004000000C80000001E...   1689022  2922031   \n\n      mean  \n2   222.68  \n4   209.98  \n5   193.95  \n8   177.99  \n15  218.23  \n12  207.48  \n11  213.58  \n10  174.42  \n9   201.52  \n17  217.51  \n7   184.26  \n16  201.34  \n3   164.64  \n0   196.34  \n13  164.25  \n14  182.76  \n1   178.26  \n6   200.48  ",
      "text/html": "<div>\n<style scoped>\n    .dataframe tbody tr th:only-of-type {\n        vertical-align: middle;\n    }\n\n    .dataframe tbody tr th {\n        vertical-align: top;\n    }\n\n    .dataframe thead th {\n        text-align: right;\n    }\n</style>\n<table border=\"1\" class=\"dataframe\">\n  <thead>\n    <tr style=\"text-align: right;\">\n      <th></th>\n      <th>geometry</th>\n      <th>objectid</th>\n      <th>mukey</th>\n      <th>mean</th>\n    </tr>\n  </thead>\n  <tbody>\n    <tr>\n      <th>2</th>\n      <td>01060000000100000001030000000100000045000000CF...</td>\n      <td>1673500</td>\n      <td>2765537</td>\n      <td>222.68</td>\n    </tr>\n    <tr>\n      <th>4</th>\n      <td>0106000000010000000103000000010000001F00000015...</td>\n      <td>1679582</td>\n      <td>2765537</td>\n      <td>209.98</td>\n    </tr>\n    <tr>\n      <th>5</th>\n      <td>0106000000010000000103000000010000000D0000001E...</td>\n      <td>1679975</td>\n      <td>2765537</td>\n      <td>193.95</td>\n    </tr>\n    <tr>\n      <th>8</th>\n      <td>0106000000020000000103000000010000000A000000C4...</td>\n      <td>1689439</td>\n      <td>2800480</td>\n      <td>177.99</td>\n    </tr>\n    <tr>\n      <th>15</th>\n      <td>01060000000100000001030000000100000013000000F6...</td>\n      <td>1694874</td>\n      <td>2800480</td>\n      <td>218.23</td>\n    </tr>\n    <tr>\n      <th>12</th>\n      <td>0106000000010000000103000000010000000F00000060...</td>\n      <td>1689902</td>\n      <td>2800480</td>\n      <td>207.48</td>\n    </tr>\n    <tr>\n      <th>11</th>\n      <td>010600000001000000010300000001000000080000007B...</td>\n      <td>1689892</td>\n      <td>2800480</td>\n      <td>213.58</td>\n    </tr>\n    <tr>\n      <th>10</th>\n      <td>0106000000010000000103000000010000000800000069...</td>\n      <td>1689765</td>\n      <td>2800480</td>\n      <td>174.42</td>\n    </tr>\n    <tr>\n      <th>9</th>\n      <td>0106000000010000000103000000010000000B000000EF...</td>\n      <td>1689585</td>\n      <td>2800480</td>\n      <td>201.52</td>\n    </tr>\n    <tr>\n      <th>17</th>\n      <td>01060000000100000001030000000100000015000000C2...</td>\n      <td>1694915</td>\n      <td>2800480</td>\n      <td>217.51</td>\n    </tr>\n    <tr>\n      <th>7</th>\n      <td>0106000000020000000103000000010000000500000093...</td>\n      <td>1689289</td>\n      <td>2800480</td>\n      <td>184.26</td>\n    </tr>\n    <tr>\n      <th>16</th>\n      <td>0106000000010000000103000000010000001600000037...</td>\n      <td>1694884</td>\n      <td>2800480</td>\n      <td>201.34</td>\n    </tr>\n    <tr>\n      <th>3</th>\n      <td>0106000000010000000103000000010000000B00000050...</td>\n      <td>1675300</td>\n      <td>2835021</td>\n      <td>164.64</td>\n    </tr>\n    <tr>\n      <th>0</th>\n      <td>010600000003000000010300000001000000100000003A...</td>\n      <td>1670419</td>\n      <td>2835021</td>\n      <td>196.34</td>\n    </tr>\n    <tr>\n      <th>13</th>\n      <td>010600000001000000010300000002000000260000008A...</td>\n      <td>1694527</td>\n      <td>2835194</td>\n      <td>164.25</td>\n    </tr>\n    <tr>\n      <th>14</th>\n      <td>0106000000010000000103000000010000002400000093...</td>\n      <td>1694530</td>\n      <td>2835194</td>\n      <td>182.76</td>\n    </tr>\n    <tr>\n      <th>1</th>\n      <td>01060000000100000001030000000100000018000000C5...</td>\n      <td>1699584</td>\n      <td>2835194</td>\n      <td>178.26</td>\n    </tr>\n    <tr>\n      <th>6</th>\n      <td>010600000001000000010300000004000000C80000001E...</td>\n      <td>1689022</td>\n      <td>2922031</td>\n      <td>200.48</td>\n    </tr>\n  </tbody>\n</table>\n</div>"
     },
     "metadata": {},
     "execution_count": 14
    }
   ],
   "source": [
    "accola_maize_2019 = accola_maize_2019[['geometry','objectid', 'mukey', 'mean']]\n",
    "accola_maize_2019.sort_values('mukey')"
   ]
  },
  {
   "cell_type": "code",
   "execution_count": null,
   "metadata": {},
   "outputs": [],
   "source": [
    "with rio.open(accola_raster_yield) as src:\n",
    "    accola_raster_array = src.read(1, masked=True)\n",
    "accola_raster_array = accola_raster_array.ravel()"
   ]
  },
  {
   "cell_type": "code",
   "execution_count": null,
   "metadata": {},
   "outputs": [],
   "source": [
    "plt.hist(accola_raster_array,\n",
    "        color='purple')\n",
    "plt.xlabel('Maize yield')\n",
    "plt.ylabel('Frequency')\n",
    "plt.title('Accola 2019 Maize Yield')\n",
    "plt.show()"
   ]
  },
  {
   "cell_type": "markdown",
   "metadata": {},
   "source": [
    "![SSURGO soils with raster yield overlay](images/accola_ssurgo_rasteryield_2019.png \"Accola SSURGO soils with yield overlay\")  "
   ]
  },
  {
   "cell_type": "code",
   "execution_count": 15,
   "metadata": {},
   "outputs": [
    {
     "output_type": "execute_result",
     "data": {
      "text/plain": "                                             geometry  objectid    mukey  \\\n2   01060000000100000001030000000100000045000000CF...   1673500  2765537   \n4   0106000000010000000103000000010000001F00000015...   1679582  2765537   \n5   0106000000010000000103000000010000000D0000001E...   1679975  2765537   \n8   0106000000020000000103000000010000000A000000C4...   1689439  2800480   \n15  01060000000100000001030000000100000013000000F6...   1694874  2800480   \n12  0106000000010000000103000000010000000F00000060...   1689902  2800480   \n11  010600000001000000010300000001000000080000007B...   1689892  2800480   \n10  0106000000010000000103000000010000000800000069...   1689765  2800480   \n9   0106000000010000000103000000010000000B000000EF...   1689585  2800480   \n17  01060000000100000001030000000100000015000000C2...   1694915  2800480   \n7   0106000000020000000103000000010000000500000093...   1689289  2800480   \n16  0106000000010000000103000000010000001600000037...   1694884  2800480   \n3   0106000000010000000103000000010000000B00000050...   1675300  2835021   \n0   010600000003000000010300000001000000100000003A...   1670419  2835021   \n13  010600000001000000010300000002000000260000008A...   1694527  2835194   \n14  0106000000010000000103000000010000002400000093...   1694530  2835194   \n1   01060000000100000001030000000100000018000000C5...   1699584  2835194   \n6   010600000001000000010300000004000000C80000001E...   1689022  2922031   \n\n    observed  predicted     resid  \n2     222.68  201.72437 -20.95563  \n4     209.98  201.72437  -8.25563  \n5     193.95  201.72437   7.77437  \n8     177.99  202.48384  24.49384  \n15    218.23  202.48384 -15.74616  \n12    207.48  202.48384  -4.99616  \n11    213.58  202.48384 -11.09616  \n10    174.42  202.48384  28.06384  \n9     201.52  202.48384   0.96384  \n17    217.51  202.48384 -15.02616  \n7     184.26  202.48384  18.22384  \n16    201.34  202.48384   1.14384  \n3     164.64  204.03448  39.39448  \n0     196.34  204.03448   7.69448  \n13    164.25  204.27408  40.02408  \n14    182.76  204.27408  21.51408  \n1     178.26  204.27408  26.01408  \n6     200.48  203.26524   2.78524  ",
      "text/html": "<div>\n<style scoped>\n    .dataframe tbody tr th:only-of-type {\n        vertical-align: middle;\n    }\n\n    .dataframe tbody tr th {\n        vertical-align: top;\n    }\n\n    .dataframe thead th {\n        text-align: right;\n    }\n</style>\n<table border=\"1\" class=\"dataframe\">\n  <thead>\n    <tr style=\"text-align: right;\">\n      <th></th>\n      <th>geometry</th>\n      <th>objectid</th>\n      <th>mukey</th>\n      <th>observed</th>\n      <th>predicted</th>\n      <th>resid</th>\n    </tr>\n  </thead>\n  <tbody>\n    <tr>\n      <th>2</th>\n      <td>01060000000100000001030000000100000045000000CF...</td>\n      <td>1673500</td>\n      <td>2765537</td>\n      <td>222.68</td>\n      <td>201.72437</td>\n      <td>-20.95563</td>\n    </tr>\n    <tr>\n      <th>4</th>\n      <td>0106000000010000000103000000010000001F00000015...</td>\n      <td>1679582</td>\n      <td>2765537</td>\n      <td>209.98</td>\n      <td>201.72437</td>\n      <td>-8.25563</td>\n    </tr>\n    <tr>\n      <th>5</th>\n      <td>0106000000010000000103000000010000000D0000001E...</td>\n      <td>1679975</td>\n      <td>2765537</td>\n      <td>193.95</td>\n      <td>201.72437</td>\n      <td>7.77437</td>\n    </tr>\n    <tr>\n      <th>8</th>\n      <td>0106000000020000000103000000010000000A000000C4...</td>\n      <td>1689439</td>\n      <td>2800480</td>\n      <td>177.99</td>\n      <td>202.48384</td>\n      <td>24.49384</td>\n    </tr>\n    <tr>\n      <th>15</th>\n      <td>01060000000100000001030000000100000013000000F6...</td>\n      <td>1694874</td>\n      <td>2800480</td>\n      <td>218.23</td>\n      <td>202.48384</td>\n      <td>-15.74616</td>\n    </tr>\n    <tr>\n      <th>12</th>\n      <td>0106000000010000000103000000010000000F00000060...</td>\n      <td>1689902</td>\n      <td>2800480</td>\n      <td>207.48</td>\n      <td>202.48384</td>\n      <td>-4.99616</td>\n    </tr>\n    <tr>\n      <th>11</th>\n      <td>010600000001000000010300000001000000080000007B...</td>\n      <td>1689892</td>\n      <td>2800480</td>\n      <td>213.58</td>\n      <td>202.48384</td>\n      <td>-11.09616</td>\n    </tr>\n    <tr>\n      <th>10</th>\n      <td>0106000000010000000103000000010000000800000069...</td>\n      <td>1689765</td>\n      <td>2800480</td>\n      <td>174.42</td>\n      <td>202.48384</td>\n      <td>28.06384</td>\n    </tr>\n    <tr>\n      <th>9</th>\n      <td>0106000000010000000103000000010000000B000000EF...</td>\n      <td>1689585</td>\n      <td>2800480</td>\n      <td>201.52</td>\n      <td>202.48384</td>\n      <td>0.96384</td>\n    </tr>\n    <tr>\n      <th>17</th>\n      <td>01060000000100000001030000000100000015000000C2...</td>\n      <td>1694915</td>\n      <td>2800480</td>\n      <td>217.51</td>\n      <td>202.48384</td>\n      <td>-15.02616</td>\n    </tr>\n    <tr>\n      <th>7</th>\n      <td>0106000000020000000103000000010000000500000093...</td>\n      <td>1689289</td>\n      <td>2800480</td>\n      <td>184.26</td>\n      <td>202.48384</td>\n      <td>18.22384</td>\n    </tr>\n    <tr>\n      <th>16</th>\n      <td>0106000000010000000103000000010000001600000037...</td>\n      <td>1694884</td>\n      <td>2800480</td>\n      <td>201.34</td>\n      <td>202.48384</td>\n      <td>1.14384</td>\n    </tr>\n    <tr>\n      <th>3</th>\n      <td>0106000000010000000103000000010000000B00000050...</td>\n      <td>1675300</td>\n      <td>2835021</td>\n      <td>164.64</td>\n      <td>204.03448</td>\n      <td>39.39448</td>\n    </tr>\n    <tr>\n      <th>0</th>\n      <td>010600000003000000010300000001000000100000003A...</td>\n      <td>1670419</td>\n      <td>2835021</td>\n      <td>196.34</td>\n      <td>204.03448</td>\n      <td>7.69448</td>\n    </tr>\n    <tr>\n      <th>13</th>\n      <td>010600000001000000010300000002000000260000008A...</td>\n      <td>1694527</td>\n      <td>2835194</td>\n      <td>164.25</td>\n      <td>204.27408</td>\n      <td>40.02408</td>\n    </tr>\n    <tr>\n      <th>14</th>\n      <td>0106000000010000000103000000010000002400000093...</td>\n      <td>1694530</td>\n      <td>2835194</td>\n      <td>182.76</td>\n      <td>204.27408</td>\n      <td>21.51408</td>\n    </tr>\n    <tr>\n      <th>1</th>\n      <td>01060000000100000001030000000100000018000000C5...</td>\n      <td>1699584</td>\n      <td>2835194</td>\n      <td>178.26</td>\n      <td>204.27408</td>\n      <td>26.01408</td>\n    </tr>\n    <tr>\n      <th>6</th>\n      <td>010600000001000000010300000004000000C80000001E...</td>\n      <td>1689022</td>\n      <td>2922031</td>\n      <td>200.48</td>\n      <td>203.26524</td>\n      <td>2.78524</td>\n    </tr>\n  </tbody>\n</table>\n</div>"
     },
     "metadata": {},
     "execution_count": 15
    }
   ],
   "source": [
    "pred_vs_obs_def = accola_maize_2019.merge(accola_apsim_yield_2019_default, on='mukey', how='left')\n",
    "pred_vs_obs_def.columns = ['geometry','objectid', 'mukey', 'observed', 'predicted']\n",
    "pred_vs_obs_def['resid'] = pred_vs_obs_def['predicted'] - pred_vs_obs_def['observed']\n",
    "pred_vs_obs_def.sort_values('mukey')"
   ]
  },
  {
   "cell_type": "code",
   "execution_count": 17,
   "metadata": {},
   "outputs": [],
   "source": [
    "pred_vs_obs_def.to_csv(\"output/fit/accola_pvo_accola_2019.csv\", index=False)"
   ]
  },
  {
   "cell_type": "code",
   "execution_count": 18,
   "metadata": {},
   "outputs": [],
   "source": [
    "yield_monitor = tuple(pred_vs_obs_def['observed'])\n",
    "yield_monitor = [round(num, 2) for num in yield_monitor]\n",
    "apsim_predicted_def = tuple(pred_vs_obs_def['predicted'])\n",
    "apsim_predicted_def = [round(num, 2) for num in apsim_predicted_def]"
   ]
  },
  {
   "cell_type": "code",
   "execution_count": 19,
   "metadata": {},
   "outputs": [
    {
     "output_type": "display_data",
     "data": {
      "text/plain": "<Figure size 432x288 with 1 Axes>",
      "image/svg+xml": "<?xml version=\"1.0\" encoding=\"utf-8\" standalone=\"no\"?>\r\n<!DOCTYPE svg PUBLIC \"-//W3C//DTD SVG 1.1//EN\"\r\n  \"http://www.w3.org/Graphics/SVG/1.1/DTD/svg11.dtd\">\r\n<!-- Created with matplotlib (https://matplotlib.org/) -->\r\n<svg height=\"262.19625pt\" version=\"1.1\" viewBox=\"0 0 388.965625 262.19625\" width=\"388.965625pt\" xmlns=\"http://www.w3.org/2000/svg\" xmlns:xlink=\"http://www.w3.org/1999/xlink\">\r\n <defs>\r\n  <style type=\"text/css\">\r\n*{stroke-linecap:butt;stroke-linejoin:round;}\r\n  </style>\r\n </defs>\r\n <g id=\"figure_1\">\r\n  <g id=\"patch_1\">\r\n   <path d=\"M 0 262.19625 \r\nL 388.965625 262.19625 \r\nL 388.965625 0 \r\nL 0 0 \r\nz\r\n\" style=\"fill:none;\"/>\r\n  </g>\r\n  <g id=\"axes_1\">\r\n   <g id=\"patch_2\">\r\n    <path d=\"M 46.965625 224.64 \r\nL 381.765625 224.64 \r\nL 381.765625 7.2 \r\nL 46.965625 7.2 \r\nz\r\n\" style=\"fill:#ffffff;\"/>\r\n   </g>\r\n   <g id=\"PathCollection_1\">\r\n    <defs>\r\n     <path d=\"M 0 3 \r\nC 0.795609 3 1.55874 2.683901 2.12132 2.12132 \r\nC 2.683901 1.55874 3 0.795609 3 0 \r\nC 3 -0.795609 2.683901 -1.55874 2.12132 -2.12132 \r\nC 1.55874 -2.683901 0.795609 -3 0 -3 \r\nC -0.795609 -3 -1.55874 -2.683901 -2.12132 -2.12132 \r\nC -2.683901 -1.55874 -3 -0.795609 -3 0 \r\nC -3 0.795609 -2.683901 1.55874 -2.12132 2.12132 \r\nC -1.55874 2.683901 -0.795609 3 0 3 \r\nz\r\n\" id=\"mcdd571756c\" style=\"stroke:#1f77b4;\"/>\r\n    </defs>\r\n    <g clip-path=\"url(#p59a28a1dd9)\">\r\n     <use style=\"fill:#1f77b4;stroke:#1f77b4;\" x=\"257.666425\" xlink:href=\"#mcdd571756c\" y=\"77.663738\"/>\r\n     <use style=\"fill:#1f77b4;stroke:#1f77b4;\" x=\"220.980461\" xlink:href=\"#mcdd571756c\" y=\"77.347462\"/>\r\n     <use style=\"fill:#1f77b4;stroke:#1f77b4;\" x=\"311.11268\" xlink:href=\"#mcdd571756c\" y=\"80.707898\"/>\r\n     <use style=\"fill:#1f77b4;stroke:#1f77b4;\" x=\"193.344243\" xlink:href=\"#mcdd571756c\" y=\"77.663738\"/>\r\n     <use style=\"fill:#1f77b4;stroke:#1f77b4;\" x=\"285.343225\" xlink:href=\"#mcdd571756c\" y=\"80.707898\"/>\r\n     <use style=\"fill:#1f77b4;stroke:#1f77b4;\" x=\"252.816898\" xlink:href=\"#mcdd571756c\" y=\"80.707898\"/>\r\n     <use style=\"fill:#1f77b4;stroke:#1f77b4;\" x=\"266.066861\" xlink:href=\"#mcdd571756c\" y=\"78.66528\"/>\r\n     <use style=\"fill:#1f77b4;stroke:#1f77b4;\" x=\"233.155007\" xlink:href=\"#mcdd571756c\" y=\"79.706356\"/>\r\n     <use style=\"fill:#1f77b4;stroke:#1f77b4;\" x=\"220.432607\" xlink:href=\"#mcdd571756c\" y=\"79.706356\"/>\r\n     <use style=\"fill:#1f77b4;stroke:#1f77b4;\" x=\"268.177116\" xlink:href=\"#mcdd571756c\" y=\"79.706356\"/>\r\n     <use style=\"fill:#1f77b4;stroke:#1f77b4;\" x=\"213.188752\" xlink:href=\"#mcdd571756c\" y=\"79.706356\"/>\r\n     <use style=\"fill:#1f77b4;stroke:#1f77b4;\" x=\"292.647952\" xlink:href=\"#mcdd571756c\" y=\"79.706356\"/>\r\n     <use style=\"fill:#1f77b4;stroke:#1f77b4;\" x=\"280.270498\" xlink:href=\"#mcdd571756c\" y=\"79.706356\"/>\r\n     <use style=\"fill:#1f77b4;stroke:#1f77b4;\" x=\"192.552898\" xlink:href=\"#mcdd571756c\" y=\"77.347462\"/>\r\n     <use style=\"fill:#1f77b4;stroke:#1f77b4;\" x=\"230.11137\" xlink:href=\"#mcdd571756c\" y=\"77.347462\"/>\r\n     <use style=\"fill:#1f77b4;stroke:#1f77b4;\" x=\"302.083225\" xlink:href=\"#mcdd571756c\" y=\"79.706356\"/>\r\n     <use style=\"fill:#1f77b4;stroke:#1f77b4;\" x=\"267.81188\" xlink:href=\"#mcdd571756c\" y=\"79.706356\"/>\r\n     <use style=\"fill:#1f77b4;stroke:#1f77b4;\" x=\"300.62228\" xlink:href=\"#mcdd571756c\" y=\"79.706356\"/>\r\n    </g>\r\n   </g>\r\n   <g id=\"matplotlib.axis_1\">\r\n    <g id=\"xtick_1\">\r\n     <g id=\"line2d_1\">\r\n      <defs>\r\n       <path d=\"M 0 0 \r\nL 0 3.5 \r\n\" id=\"m3547e1abea\" style=\"stroke:#000000;stroke-width:0.8;\"/>\r\n      </defs>\r\n      <g>\r\n       <use style=\"stroke:#000000;stroke-width:0.8;\" x=\"62.183807\" xlink:href=\"#m3547e1abea\" y=\"224.64\"/>\r\n      </g>\r\n     </g>\r\n     <g id=\"text_1\">\r\n      <!-- 100 -->\r\n      <defs>\r\n       <path d=\"M 12.40625 8.296875 \r\nL 28.515625 8.296875 \r\nL 28.515625 63.921875 \r\nL 10.984375 60.40625 \r\nL 10.984375 69.390625 \r\nL 28.421875 72.90625 \r\nL 38.28125 72.90625 \r\nL 38.28125 8.296875 \r\nL 54.390625 8.296875 \r\nL 54.390625 0 \r\nL 12.40625 0 \r\nz\r\n\" id=\"DejaVuSans-49\"/>\r\n       <path d=\"M 31.78125 66.40625 \r\nQ 24.171875 66.40625 20.328125 58.90625 \r\nQ 16.5 51.421875 16.5 36.375 \r\nQ 16.5 21.390625 20.328125 13.890625 \r\nQ 24.171875 6.390625 31.78125 6.390625 \r\nQ 39.453125 6.390625 43.28125 13.890625 \r\nQ 47.125 21.390625 47.125 36.375 \r\nQ 47.125 51.421875 43.28125 58.90625 \r\nQ 39.453125 66.40625 31.78125 66.40625 \r\nz\r\nM 31.78125 74.21875 \r\nQ 44.046875 74.21875 50.515625 64.515625 \r\nQ 56.984375 54.828125 56.984375 36.375 \r\nQ 56.984375 17.96875 50.515625 8.265625 \r\nQ 44.046875 -1.421875 31.78125 -1.421875 \r\nQ 19.53125 -1.421875 13.0625 8.265625 \r\nQ 6.59375 17.96875 6.59375 36.375 \r\nQ 6.59375 54.828125 13.0625 64.515625 \r\nQ 19.53125 74.21875 31.78125 74.21875 \r\nz\r\n\" id=\"DejaVuSans-48\"/>\r\n      </defs>\r\n      <g transform=\"translate(52.640057 239.238437)scale(0.1 -0.1)\">\r\n       <use xlink:href=\"#DejaVuSans-49\"/>\r\n       <use x=\"63.623047\" xlink:href=\"#DejaVuSans-48\"/>\r\n       <use x=\"127.246094\" xlink:href=\"#DejaVuSans-48\"/>\r\n      </g>\r\n     </g>\r\n    </g>\r\n    <g id=\"xtick_2\">\r\n     <g id=\"line2d_2\">\r\n      <g>\r\n       <use style=\"stroke:#000000;stroke-width:0.8;\" x=\"102.765625\" xlink:href=\"#m3547e1abea\" y=\"224.64\"/>\r\n      </g>\r\n     </g>\r\n     <g id=\"text_2\">\r\n      <!-- 120 -->\r\n      <defs>\r\n       <path d=\"M 19.1875 8.296875 \r\nL 53.609375 8.296875 \r\nL 53.609375 0 \r\nL 7.328125 0 \r\nL 7.328125 8.296875 \r\nQ 12.9375 14.109375 22.625 23.890625 \r\nQ 32.328125 33.6875 34.8125 36.53125 \r\nQ 39.546875 41.84375 41.421875 45.53125 \r\nQ 43.3125 49.21875 43.3125 52.78125 \r\nQ 43.3125 58.59375 39.234375 62.25 \r\nQ 35.15625 65.921875 28.609375 65.921875 \r\nQ 23.96875 65.921875 18.8125 64.3125 \r\nQ 13.671875 62.703125 7.8125 59.421875 \r\nL 7.8125 69.390625 \r\nQ 13.765625 71.78125 18.9375 73 \r\nQ 24.125 74.21875 28.421875 74.21875 \r\nQ 39.75 74.21875 46.484375 68.546875 \r\nQ 53.21875 62.890625 53.21875 53.421875 \r\nQ 53.21875 48.921875 51.53125 44.890625 \r\nQ 49.859375 40.875 45.40625 35.40625 \r\nQ 44.1875 33.984375 37.640625 27.21875 \r\nQ 31.109375 20.453125 19.1875 8.296875 \r\nz\r\n\" id=\"DejaVuSans-50\"/>\r\n      </defs>\r\n      <g transform=\"translate(93.221875 239.238437)scale(0.1 -0.1)\">\r\n       <use xlink:href=\"#DejaVuSans-49\"/>\r\n       <use x=\"63.623047\" xlink:href=\"#DejaVuSans-50\"/>\r\n       <use x=\"127.246094\" xlink:href=\"#DejaVuSans-48\"/>\r\n      </g>\r\n     </g>\r\n    </g>\r\n    <g id=\"xtick_3\">\r\n     <g id=\"line2d_3\">\r\n      <g>\r\n       <use style=\"stroke:#000000;stroke-width:0.8;\" x=\"143.347443\" xlink:href=\"#m3547e1abea\" y=\"224.64\"/>\r\n      </g>\r\n     </g>\r\n     <g id=\"text_3\">\r\n      <!-- 140 -->\r\n      <defs>\r\n       <path d=\"M 37.796875 64.3125 \r\nL 12.890625 25.390625 \r\nL 37.796875 25.390625 \r\nz\r\nM 35.203125 72.90625 \r\nL 47.609375 72.90625 \r\nL 47.609375 25.390625 \r\nL 58.015625 25.390625 \r\nL 58.015625 17.1875 \r\nL 47.609375 17.1875 \r\nL 47.609375 0 \r\nL 37.796875 0 \r\nL 37.796875 17.1875 \r\nL 4.890625 17.1875 \r\nL 4.890625 26.703125 \r\nz\r\n\" id=\"DejaVuSans-52\"/>\r\n      </defs>\r\n      <g transform=\"translate(133.803693 239.238437)scale(0.1 -0.1)\">\r\n       <use xlink:href=\"#DejaVuSans-49\"/>\r\n       <use x=\"63.623047\" xlink:href=\"#DejaVuSans-52\"/>\r\n       <use x=\"127.246094\" xlink:href=\"#DejaVuSans-48\"/>\r\n      </g>\r\n     </g>\r\n    </g>\r\n    <g id=\"xtick_4\">\r\n     <g id=\"line2d_4\">\r\n      <g>\r\n       <use style=\"stroke:#000000;stroke-width:0.8;\" x=\"183.929261\" xlink:href=\"#m3547e1abea\" y=\"224.64\"/>\r\n      </g>\r\n     </g>\r\n     <g id=\"text_4\">\r\n      <!-- 160 -->\r\n      <defs>\r\n       <path d=\"M 33.015625 40.375 \r\nQ 26.375 40.375 22.484375 35.828125 \r\nQ 18.609375 31.296875 18.609375 23.390625 \r\nQ 18.609375 15.53125 22.484375 10.953125 \r\nQ 26.375 6.390625 33.015625 6.390625 \r\nQ 39.65625 6.390625 43.53125 10.953125 \r\nQ 47.40625 15.53125 47.40625 23.390625 \r\nQ 47.40625 31.296875 43.53125 35.828125 \r\nQ 39.65625 40.375 33.015625 40.375 \r\nz\r\nM 52.59375 71.296875 \r\nL 52.59375 62.3125 \r\nQ 48.875 64.0625 45.09375 64.984375 \r\nQ 41.3125 65.921875 37.59375 65.921875 \r\nQ 27.828125 65.921875 22.671875 59.328125 \r\nQ 17.53125 52.734375 16.796875 39.40625 \r\nQ 19.671875 43.65625 24.015625 45.921875 \r\nQ 28.375 48.1875 33.59375 48.1875 \r\nQ 44.578125 48.1875 50.953125 41.515625 \r\nQ 57.328125 34.859375 57.328125 23.390625 \r\nQ 57.328125 12.15625 50.6875 5.359375 \r\nQ 44.046875 -1.421875 33.015625 -1.421875 \r\nQ 20.359375 -1.421875 13.671875 8.265625 \r\nQ 6.984375 17.96875 6.984375 36.375 \r\nQ 6.984375 53.65625 15.1875 63.9375 \r\nQ 23.390625 74.21875 37.203125 74.21875 \r\nQ 40.921875 74.21875 44.703125 73.484375 \r\nQ 48.484375 72.75 52.59375 71.296875 \r\nz\r\n\" id=\"DejaVuSans-54\"/>\r\n      </defs>\r\n      <g transform=\"translate(174.385511 239.238437)scale(0.1 -0.1)\">\r\n       <use xlink:href=\"#DejaVuSans-49\"/>\r\n       <use x=\"63.623047\" xlink:href=\"#DejaVuSans-54\"/>\r\n       <use x=\"127.246094\" xlink:href=\"#DejaVuSans-48\"/>\r\n      </g>\r\n     </g>\r\n    </g>\r\n    <g id=\"xtick_5\">\r\n     <g id=\"line2d_5\">\r\n      <g>\r\n       <use style=\"stroke:#000000;stroke-width:0.8;\" x=\"224.51108\" xlink:href=\"#m3547e1abea\" y=\"224.64\"/>\r\n      </g>\r\n     </g>\r\n     <g id=\"text_5\">\r\n      <!-- 180 -->\r\n      <defs>\r\n       <path d=\"M 31.78125 34.625 \r\nQ 24.75 34.625 20.71875 30.859375 \r\nQ 16.703125 27.09375 16.703125 20.515625 \r\nQ 16.703125 13.921875 20.71875 10.15625 \r\nQ 24.75 6.390625 31.78125 6.390625 \r\nQ 38.8125 6.390625 42.859375 10.171875 \r\nQ 46.921875 13.96875 46.921875 20.515625 \r\nQ 46.921875 27.09375 42.890625 30.859375 \r\nQ 38.875 34.625 31.78125 34.625 \r\nz\r\nM 21.921875 38.8125 \r\nQ 15.578125 40.375 12.03125 44.71875 \r\nQ 8.5 49.078125 8.5 55.328125 \r\nQ 8.5 64.0625 14.71875 69.140625 \r\nQ 20.953125 74.21875 31.78125 74.21875 \r\nQ 42.671875 74.21875 48.875 69.140625 \r\nQ 55.078125 64.0625 55.078125 55.328125 \r\nQ 55.078125 49.078125 51.53125 44.71875 \r\nQ 48 40.375 41.703125 38.8125 \r\nQ 48.828125 37.15625 52.796875 32.3125 \r\nQ 56.78125 27.484375 56.78125 20.515625 \r\nQ 56.78125 9.90625 50.3125 4.234375 \r\nQ 43.84375 -1.421875 31.78125 -1.421875 \r\nQ 19.734375 -1.421875 13.25 4.234375 \r\nQ 6.78125 9.90625 6.78125 20.515625 \r\nQ 6.78125 27.484375 10.78125 32.3125 \r\nQ 14.796875 37.15625 21.921875 38.8125 \r\nz\r\nM 18.3125 54.390625 \r\nQ 18.3125 48.734375 21.84375 45.5625 \r\nQ 25.390625 42.390625 31.78125 42.390625 \r\nQ 38.140625 42.390625 41.71875 45.5625 \r\nQ 45.3125 48.734375 45.3125 54.390625 \r\nQ 45.3125 60.0625 41.71875 63.234375 \r\nQ 38.140625 66.40625 31.78125 66.40625 \r\nQ 25.390625 66.40625 21.84375 63.234375 \r\nQ 18.3125 60.0625 18.3125 54.390625 \r\nz\r\n\" id=\"DejaVuSans-56\"/>\r\n      </defs>\r\n      <g transform=\"translate(214.96733 239.238437)scale(0.1 -0.1)\">\r\n       <use xlink:href=\"#DejaVuSans-49\"/>\r\n       <use x=\"63.623047\" xlink:href=\"#DejaVuSans-56\"/>\r\n       <use x=\"127.246094\" xlink:href=\"#DejaVuSans-48\"/>\r\n      </g>\r\n     </g>\r\n    </g>\r\n    <g id=\"xtick_6\">\r\n     <g id=\"line2d_6\">\r\n      <g>\r\n       <use style=\"stroke:#000000;stroke-width:0.8;\" x=\"265.092898\" xlink:href=\"#m3547e1abea\" y=\"224.64\"/>\r\n      </g>\r\n     </g>\r\n     <g id=\"text_6\">\r\n      <!-- 200 -->\r\n      <g transform=\"translate(255.549148 239.238437)scale(0.1 -0.1)\">\r\n       <use xlink:href=\"#DejaVuSans-50\"/>\r\n       <use x=\"63.623047\" xlink:href=\"#DejaVuSans-48\"/>\r\n       <use x=\"127.246094\" xlink:href=\"#DejaVuSans-48\"/>\r\n      </g>\r\n     </g>\r\n    </g>\r\n    <g id=\"xtick_7\">\r\n     <g id=\"line2d_7\">\r\n      <g>\r\n       <use style=\"stroke:#000000;stroke-width:0.8;\" x=\"305.674716\" xlink:href=\"#m3547e1abea\" y=\"224.64\"/>\r\n      </g>\r\n     </g>\r\n     <g id=\"text_7\">\r\n      <!-- 220 -->\r\n      <g transform=\"translate(296.130966 239.238437)scale(0.1 -0.1)\">\r\n       <use xlink:href=\"#DejaVuSans-50\"/>\r\n       <use x=\"63.623047\" xlink:href=\"#DejaVuSans-50\"/>\r\n       <use x=\"127.246094\" xlink:href=\"#DejaVuSans-48\"/>\r\n      </g>\r\n     </g>\r\n    </g>\r\n    <g id=\"xtick_8\">\r\n     <g id=\"line2d_8\">\r\n      <g>\r\n       <use style=\"stroke:#000000;stroke-width:0.8;\" x=\"346.256534\" xlink:href=\"#m3547e1abea\" y=\"224.64\"/>\r\n      </g>\r\n     </g>\r\n     <g id=\"text_8\">\r\n      <!-- 240 -->\r\n      <g transform=\"translate(336.712784 239.238437)scale(0.1 -0.1)\">\r\n       <use xlink:href=\"#DejaVuSans-50\"/>\r\n       <use x=\"63.623047\" xlink:href=\"#DejaVuSans-52\"/>\r\n       <use x=\"127.246094\" xlink:href=\"#DejaVuSans-48\"/>\r\n      </g>\r\n     </g>\r\n    </g>\r\n    <g id=\"text_9\">\r\n     <!-- Measured -->\r\n     <defs>\r\n      <path d=\"M 9.8125 72.90625 \r\nL 24.515625 72.90625 \r\nL 43.109375 23.296875 \r\nL 61.8125 72.90625 \r\nL 76.515625 72.90625 \r\nL 76.515625 0 \r\nL 66.890625 0 \r\nL 66.890625 64.015625 \r\nL 48.09375 14.015625 \r\nL 38.1875 14.015625 \r\nL 19.390625 64.015625 \r\nL 19.390625 0 \r\nL 9.8125 0 \r\nz\r\n\" id=\"DejaVuSans-77\"/>\r\n      <path d=\"M 56.203125 29.59375 \r\nL 56.203125 25.203125 \r\nL 14.890625 25.203125 \r\nQ 15.484375 15.921875 20.484375 11.0625 \r\nQ 25.484375 6.203125 34.421875 6.203125 \r\nQ 39.59375 6.203125 44.453125 7.46875 \r\nQ 49.3125 8.734375 54.109375 11.28125 \r\nL 54.109375 2.78125 \r\nQ 49.265625 0.734375 44.1875 -0.34375 \r\nQ 39.109375 -1.421875 33.890625 -1.421875 \r\nQ 20.796875 -1.421875 13.15625 6.1875 \r\nQ 5.515625 13.8125 5.515625 26.8125 \r\nQ 5.515625 40.234375 12.765625 48.109375 \r\nQ 20.015625 56 32.328125 56 \r\nQ 43.359375 56 49.78125 48.890625 \r\nQ 56.203125 41.796875 56.203125 29.59375 \r\nz\r\nM 47.21875 32.234375 \r\nQ 47.125 39.59375 43.09375 43.984375 \r\nQ 39.0625 48.390625 32.421875 48.390625 \r\nQ 24.90625 48.390625 20.390625 44.140625 \r\nQ 15.875 39.890625 15.1875 32.171875 \r\nz\r\n\" id=\"DejaVuSans-101\"/>\r\n      <path d=\"M 34.28125 27.484375 \r\nQ 23.390625 27.484375 19.1875 25 \r\nQ 14.984375 22.515625 14.984375 16.5 \r\nQ 14.984375 11.71875 18.140625 8.90625 \r\nQ 21.296875 6.109375 26.703125 6.109375 \r\nQ 34.1875 6.109375 38.703125 11.40625 \r\nQ 43.21875 16.703125 43.21875 25.484375 \r\nL 43.21875 27.484375 \r\nz\r\nM 52.203125 31.203125 \r\nL 52.203125 0 \r\nL 43.21875 0 \r\nL 43.21875 8.296875 \r\nQ 40.140625 3.328125 35.546875 0.953125 \r\nQ 30.953125 -1.421875 24.3125 -1.421875 \r\nQ 15.921875 -1.421875 10.953125 3.296875 \r\nQ 6 8.015625 6 15.921875 \r\nQ 6 25.140625 12.171875 29.828125 \r\nQ 18.359375 34.515625 30.609375 34.515625 \r\nL 43.21875 34.515625 \r\nL 43.21875 35.40625 \r\nQ 43.21875 41.609375 39.140625 45 \r\nQ 35.0625 48.390625 27.6875 48.390625 \r\nQ 23 48.390625 18.546875 47.265625 \r\nQ 14.109375 46.140625 10.015625 43.890625 \r\nL 10.015625 52.203125 \r\nQ 14.9375 54.109375 19.578125 55.046875 \r\nQ 24.21875 56 28.609375 56 \r\nQ 40.484375 56 46.34375 49.84375 \r\nQ 52.203125 43.703125 52.203125 31.203125 \r\nz\r\n\" id=\"DejaVuSans-97\"/>\r\n      <path d=\"M 44.28125 53.078125 \r\nL 44.28125 44.578125 \r\nQ 40.484375 46.53125 36.375 47.5 \r\nQ 32.28125 48.484375 27.875 48.484375 \r\nQ 21.1875 48.484375 17.84375 46.4375 \r\nQ 14.5 44.390625 14.5 40.28125 \r\nQ 14.5 37.15625 16.890625 35.375 \r\nQ 19.28125 33.59375 26.515625 31.984375 \r\nL 29.59375 31.296875 \r\nQ 39.15625 29.25 43.1875 25.515625 \r\nQ 47.21875 21.78125 47.21875 15.09375 \r\nQ 47.21875 7.46875 41.1875 3.015625 \r\nQ 35.15625 -1.421875 24.609375 -1.421875 \r\nQ 20.21875 -1.421875 15.453125 -0.5625 \r\nQ 10.6875 0.296875 5.421875 2 \r\nL 5.421875 11.28125 \r\nQ 10.40625 8.6875 15.234375 7.390625 \r\nQ 20.0625 6.109375 24.8125 6.109375 \r\nQ 31.15625 6.109375 34.5625 8.28125 \r\nQ 37.984375 10.453125 37.984375 14.40625 \r\nQ 37.984375 18.0625 35.515625 20.015625 \r\nQ 33.0625 21.96875 24.703125 23.78125 \r\nL 21.578125 24.515625 \r\nQ 13.234375 26.265625 9.515625 29.90625 \r\nQ 5.8125 33.546875 5.8125 39.890625 \r\nQ 5.8125 47.609375 11.28125 51.796875 \r\nQ 16.75 56 26.8125 56 \r\nQ 31.78125 56 36.171875 55.265625 \r\nQ 40.578125 54.546875 44.28125 53.078125 \r\nz\r\n\" id=\"DejaVuSans-115\"/>\r\n      <path d=\"M 8.5 21.578125 \r\nL 8.5 54.6875 \r\nL 17.484375 54.6875 \r\nL 17.484375 21.921875 \r\nQ 17.484375 14.15625 20.5 10.265625 \r\nQ 23.53125 6.390625 29.59375 6.390625 \r\nQ 36.859375 6.390625 41.078125 11.03125 \r\nQ 45.3125 15.671875 45.3125 23.6875 \r\nL 45.3125 54.6875 \r\nL 54.296875 54.6875 \r\nL 54.296875 0 \r\nL 45.3125 0 \r\nL 45.3125 8.40625 \r\nQ 42.046875 3.421875 37.71875 1 \r\nQ 33.40625 -1.421875 27.6875 -1.421875 \r\nQ 18.265625 -1.421875 13.375 4.4375 \r\nQ 8.5 10.296875 8.5 21.578125 \r\nz\r\nM 31.109375 56 \r\nz\r\n\" id=\"DejaVuSans-117\"/>\r\n      <path d=\"M 41.109375 46.296875 \r\nQ 39.59375 47.171875 37.8125 47.578125 \r\nQ 36.03125 48 33.890625 48 \r\nQ 26.265625 48 22.1875 43.046875 \r\nQ 18.109375 38.09375 18.109375 28.8125 \r\nL 18.109375 0 \r\nL 9.078125 0 \r\nL 9.078125 54.6875 \r\nL 18.109375 54.6875 \r\nL 18.109375 46.1875 \r\nQ 20.953125 51.171875 25.484375 53.578125 \r\nQ 30.03125 56 36.53125 56 \r\nQ 37.453125 56 38.578125 55.875 \r\nQ 39.703125 55.765625 41.0625 55.515625 \r\nz\r\n\" id=\"DejaVuSans-114\"/>\r\n      <path d=\"M 45.40625 46.390625 \r\nL 45.40625 75.984375 \r\nL 54.390625 75.984375 \r\nL 54.390625 0 \r\nL 45.40625 0 \r\nL 45.40625 8.203125 \r\nQ 42.578125 3.328125 38.25 0.953125 \r\nQ 33.9375 -1.421875 27.875 -1.421875 \r\nQ 17.96875 -1.421875 11.734375 6.484375 \r\nQ 5.515625 14.40625 5.515625 27.296875 \r\nQ 5.515625 40.1875 11.734375 48.09375 \r\nQ 17.96875 56 27.875 56 \r\nQ 33.9375 56 38.25 53.625 \r\nQ 42.578125 51.265625 45.40625 46.390625 \r\nz\r\nM 14.796875 27.296875 \r\nQ 14.796875 17.390625 18.875 11.75 \r\nQ 22.953125 6.109375 30.078125 6.109375 \r\nQ 37.203125 6.109375 41.296875 11.75 \r\nQ 45.40625 17.390625 45.40625 27.296875 \r\nQ 45.40625 37.203125 41.296875 42.84375 \r\nQ 37.203125 48.484375 30.078125 48.484375 \r\nQ 22.953125 48.484375 18.875 42.84375 \r\nQ 14.796875 37.203125 14.796875 27.296875 \r\nz\r\n\" id=\"DejaVuSans-100\"/>\r\n     </defs>\r\n     <g transform=\"translate(189.94375 252.916562)scale(0.1 -0.1)\">\r\n      <use xlink:href=\"#DejaVuSans-77\"/>\r\n      <use x=\"86.279297\" xlink:href=\"#DejaVuSans-101\"/>\r\n      <use x=\"147.802734\" xlink:href=\"#DejaVuSans-97\"/>\r\n      <use x=\"209.082031\" xlink:href=\"#DejaVuSans-115\"/>\r\n      <use x=\"261.181641\" xlink:href=\"#DejaVuSans-117\"/>\r\n      <use x=\"324.560547\" xlink:href=\"#DejaVuSans-114\"/>\r\n      <use x=\"363.423828\" xlink:href=\"#DejaVuSans-101\"/>\r\n      <use x=\"424.947266\" xlink:href=\"#DejaVuSans-100\"/>\r\n     </g>\r\n    </g>\r\n   </g>\r\n   <g id=\"matplotlib.axis_2\">\r\n    <g id=\"ytick_1\">\r\n     <g id=\"line2d_9\">\r\n      <defs>\r\n       <path d=\"M 0 0 \r\nL -3.5 0 \r\n\" id=\"m8dea3322ab\" style=\"stroke:#000000;stroke-width:0.8;\"/>\r\n      </defs>\r\n      <g>\r\n       <use style=\"stroke:#000000;stroke-width:0.8;\" x=\"46.965625\" xlink:href=\"#m8dea3322ab\" y=\"214.756364\"/>\r\n      </g>\r\n     </g>\r\n     <g id=\"text_10\">\r\n      <!-- 100 -->\r\n      <g transform=\"translate(20.878125 218.555582)scale(0.1 -0.1)\">\r\n       <use xlink:href=\"#DejaVuSans-49\"/>\r\n       <use x=\"63.623047\" xlink:href=\"#DejaVuSans-48\"/>\r\n       <use x=\"127.246094\" xlink:href=\"#DejaVuSans-48\"/>\r\n      </g>\r\n     </g>\r\n    </g>\r\n    <g id=\"ytick_2\">\r\n     <g id=\"line2d_10\">\r\n      <g>\r\n       <use style=\"stroke:#000000;stroke-width:0.8;\" x=\"46.965625\" xlink:href=\"#m8dea3322ab\" y=\"188.4\"/>\r\n      </g>\r\n     </g>\r\n     <g id=\"text_11\">\r\n      <!-- 120 -->\r\n      <g transform=\"translate(20.878125 192.199219)scale(0.1 -0.1)\">\r\n       <use xlink:href=\"#DejaVuSans-49\"/>\r\n       <use x=\"63.623047\" xlink:href=\"#DejaVuSans-50\"/>\r\n       <use x=\"127.246094\" xlink:href=\"#DejaVuSans-48\"/>\r\n      </g>\r\n     </g>\r\n    </g>\r\n    <g id=\"ytick_3\">\r\n     <g id=\"line2d_11\">\r\n      <g>\r\n       <use style=\"stroke:#000000;stroke-width:0.8;\" x=\"46.965625\" xlink:href=\"#m8dea3322ab\" y=\"162.043636\"/>\r\n      </g>\r\n     </g>\r\n     <g id=\"text_12\">\r\n      <!-- 140 -->\r\n      <g transform=\"translate(20.878125 165.842855)scale(0.1 -0.1)\">\r\n       <use xlink:href=\"#DejaVuSans-49\"/>\r\n       <use x=\"63.623047\" xlink:href=\"#DejaVuSans-52\"/>\r\n       <use x=\"127.246094\" xlink:href=\"#DejaVuSans-48\"/>\r\n      </g>\r\n     </g>\r\n    </g>\r\n    <g id=\"ytick_4\">\r\n     <g id=\"line2d_12\">\r\n      <g>\r\n       <use style=\"stroke:#000000;stroke-width:0.8;\" x=\"46.965625\" xlink:href=\"#m8dea3322ab\" y=\"135.687273\"/>\r\n      </g>\r\n     </g>\r\n     <g id=\"text_13\">\r\n      <!-- 160 -->\r\n      <g transform=\"translate(20.878125 139.486491)scale(0.1 -0.1)\">\r\n       <use xlink:href=\"#DejaVuSans-49\"/>\r\n       <use x=\"63.623047\" xlink:href=\"#DejaVuSans-54\"/>\r\n       <use x=\"127.246094\" xlink:href=\"#DejaVuSans-48\"/>\r\n      </g>\r\n     </g>\r\n    </g>\r\n    <g id=\"ytick_5\">\r\n     <g id=\"line2d_13\">\r\n      <g>\r\n       <use style=\"stroke:#000000;stroke-width:0.8;\" x=\"46.965625\" xlink:href=\"#m8dea3322ab\" y=\"109.330909\"/>\r\n      </g>\r\n     </g>\r\n     <g id=\"text_14\">\r\n      <!-- 180 -->\r\n      <g transform=\"translate(20.878125 113.130128)scale(0.1 -0.1)\">\r\n       <use xlink:href=\"#DejaVuSans-49\"/>\r\n       <use x=\"63.623047\" xlink:href=\"#DejaVuSans-56\"/>\r\n       <use x=\"127.246094\" xlink:href=\"#DejaVuSans-48\"/>\r\n      </g>\r\n     </g>\r\n    </g>\r\n    <g id=\"ytick_6\">\r\n     <g id=\"line2d_14\">\r\n      <g>\r\n       <use style=\"stroke:#000000;stroke-width:0.8;\" x=\"46.965625\" xlink:href=\"#m8dea3322ab\" y=\"82.974545\"/>\r\n      </g>\r\n     </g>\r\n     <g id=\"text_15\">\r\n      <!-- 200 -->\r\n      <g transform=\"translate(20.878125 86.773764)scale(0.1 -0.1)\">\r\n       <use xlink:href=\"#DejaVuSans-50\"/>\r\n       <use x=\"63.623047\" xlink:href=\"#DejaVuSans-48\"/>\r\n       <use x=\"127.246094\" xlink:href=\"#DejaVuSans-48\"/>\r\n      </g>\r\n     </g>\r\n    </g>\r\n    <g id=\"ytick_7\">\r\n     <g id=\"line2d_15\">\r\n      <g>\r\n       <use style=\"stroke:#000000;stroke-width:0.8;\" x=\"46.965625\" xlink:href=\"#m8dea3322ab\" y=\"56.618182\"/>\r\n      </g>\r\n     </g>\r\n     <g id=\"text_16\">\r\n      <!-- 220 -->\r\n      <g transform=\"translate(20.878125 60.417401)scale(0.1 -0.1)\">\r\n       <use xlink:href=\"#DejaVuSans-50\"/>\r\n       <use x=\"63.623047\" xlink:href=\"#DejaVuSans-50\"/>\r\n       <use x=\"127.246094\" xlink:href=\"#DejaVuSans-48\"/>\r\n      </g>\r\n     </g>\r\n    </g>\r\n    <g id=\"ytick_8\">\r\n     <g id=\"line2d_16\">\r\n      <g>\r\n       <use style=\"stroke:#000000;stroke-width:0.8;\" x=\"46.965625\" xlink:href=\"#m8dea3322ab\" y=\"30.261818\"/>\r\n      </g>\r\n     </g>\r\n     <g id=\"text_17\">\r\n      <!-- 240 -->\r\n      <g transform=\"translate(20.878125 34.061037)scale(0.1 -0.1)\">\r\n       <use xlink:href=\"#DejaVuSans-50\"/>\r\n       <use x=\"63.623047\" xlink:href=\"#DejaVuSans-52\"/>\r\n       <use x=\"127.246094\" xlink:href=\"#DejaVuSans-48\"/>\r\n      </g>\r\n     </g>\r\n    </g>\r\n    <g id=\"text_18\">\r\n     <!-- Predicted -->\r\n     <defs>\r\n      <path d=\"M 19.671875 64.796875 \r\nL 19.671875 37.40625 \r\nL 32.078125 37.40625 \r\nQ 38.96875 37.40625 42.71875 40.96875 \r\nQ 46.484375 44.53125 46.484375 51.125 \r\nQ 46.484375 57.671875 42.71875 61.234375 \r\nQ 38.96875 64.796875 32.078125 64.796875 \r\nz\r\nM 9.8125 72.90625 \r\nL 32.078125 72.90625 \r\nQ 44.34375 72.90625 50.609375 67.359375 \r\nQ 56.890625 61.8125 56.890625 51.125 \r\nQ 56.890625 40.328125 50.609375 34.8125 \r\nQ 44.34375 29.296875 32.078125 29.296875 \r\nL 19.671875 29.296875 \r\nL 19.671875 0 \r\nL 9.8125 0 \r\nz\r\n\" id=\"DejaVuSans-80\"/>\r\n      <path d=\"M 9.421875 54.6875 \r\nL 18.40625 54.6875 \r\nL 18.40625 0 \r\nL 9.421875 0 \r\nz\r\nM 9.421875 75.984375 \r\nL 18.40625 75.984375 \r\nL 18.40625 64.59375 \r\nL 9.421875 64.59375 \r\nz\r\n\" id=\"DejaVuSans-105\"/>\r\n      <path d=\"M 48.78125 52.59375 \r\nL 48.78125 44.1875 \r\nQ 44.96875 46.296875 41.140625 47.34375 \r\nQ 37.3125 48.390625 33.40625 48.390625 \r\nQ 24.65625 48.390625 19.8125 42.84375 \r\nQ 14.984375 37.3125 14.984375 27.296875 \r\nQ 14.984375 17.28125 19.8125 11.734375 \r\nQ 24.65625 6.203125 33.40625 6.203125 \r\nQ 37.3125 6.203125 41.140625 7.25 \r\nQ 44.96875 8.296875 48.78125 10.40625 \r\nL 48.78125 2.09375 \r\nQ 45.015625 0.34375 40.984375 -0.53125 \r\nQ 36.96875 -1.421875 32.421875 -1.421875 \r\nQ 20.0625 -1.421875 12.78125 6.34375 \r\nQ 5.515625 14.109375 5.515625 27.296875 \r\nQ 5.515625 40.671875 12.859375 48.328125 \r\nQ 20.21875 56 33.015625 56 \r\nQ 37.15625 56 41.109375 55.140625 \r\nQ 45.0625 54.296875 48.78125 52.59375 \r\nz\r\n\" id=\"DejaVuSans-99\"/>\r\n      <path d=\"M 18.3125 70.21875 \r\nL 18.3125 54.6875 \r\nL 36.8125 54.6875 \r\nL 36.8125 47.703125 \r\nL 18.3125 47.703125 \r\nL 18.3125 18.015625 \r\nQ 18.3125 11.328125 20.140625 9.421875 \r\nQ 21.96875 7.515625 27.59375 7.515625 \r\nL 36.8125 7.515625 \r\nL 36.8125 0 \r\nL 27.59375 0 \r\nQ 17.1875 0 13.234375 3.875 \r\nQ 9.28125 7.765625 9.28125 18.015625 \r\nL 9.28125 47.703125 \r\nL 2.6875 47.703125 \r\nL 2.6875 54.6875 \r\nL 9.28125 54.6875 \r\nL 9.28125 70.21875 \r\nz\r\n\" id=\"DejaVuSans-116\"/>\r\n     </defs>\r\n     <g transform=\"translate(14.798438 139.390312)rotate(-90)scale(0.1 -0.1)\">\r\n      <use xlink:href=\"#DejaVuSans-80\"/>\r\n      <use x=\"58.552734\" xlink:href=\"#DejaVuSans-114\"/>\r\n      <use x=\"97.416016\" xlink:href=\"#DejaVuSans-101\"/>\r\n      <use x=\"158.939453\" xlink:href=\"#DejaVuSans-100\"/>\r\n      <use x=\"222.416016\" xlink:href=\"#DejaVuSans-105\"/>\r\n      <use x=\"250.199219\" xlink:href=\"#DejaVuSans-99\"/>\r\n      <use x=\"305.179688\" xlink:href=\"#DejaVuSans-116\"/>\r\n      <use x=\"344.388672\" xlink:href=\"#DejaVuSans-101\"/>\r\n      <use x=\"405.912109\" xlink:href=\"#DejaVuSans-100\"/>\r\n     </g>\r\n    </g>\r\n   </g>\r\n   <g id=\"line2d_17\">\r\n    <path clip-path=\"url(#p59a28a1dd9)\" d=\"M 62.183807 214.756364 \r\nL 366.547443 17.083636 \r\n\" style=\"fill:none;stroke:#1f77b4;stroke-linecap:square;stroke-width:1.5;\"/>\r\n   </g>\r\n   <g id=\"patch_3\">\r\n    <path d=\"M 46.965625 224.64 \r\nL 46.965625 7.2 \r\n\" style=\"fill:none;stroke:#000000;stroke-linecap:square;stroke-linejoin:miter;stroke-width:0.8;\"/>\r\n   </g>\r\n   <g id=\"patch_4\">\r\n    <path d=\"M 381.765625 224.64 \r\nL 381.765625 7.2 \r\n\" style=\"fill:none;stroke:#000000;stroke-linecap:square;stroke-linejoin:miter;stroke-width:0.8;\"/>\r\n   </g>\r\n   <g id=\"patch_5\">\r\n    <path d=\"M 46.965625 224.64 \r\nL 381.765625 224.64 \r\n\" style=\"fill:none;stroke:#000000;stroke-linecap:square;stroke-linejoin:miter;stroke-width:0.8;\"/>\r\n   </g>\r\n   <g id=\"patch_6\">\r\n    <path d=\"M 46.965625 7.2 \r\nL 381.765625 7.2 \r\n\" style=\"fill:none;stroke:#000000;stroke-linecap:square;stroke-linejoin:miter;stroke-width:0.8;\"/>\r\n   </g>\r\n  </g>\r\n </g>\r\n <defs>\r\n  <clipPath id=\"p59a28a1dd9\">\r\n   <rect height=\"217.44\" width=\"334.8\" x=\"46.965625\" y=\"7.2\"/>\r\n  </clipPath>\r\n </defs>\r\n</svg>\r\n",
      "image/png": "[encoded data removed]"
     },
     "metadata": {
      "needs_background": "light"
     }
    }
   ],
   "source": [
    "fig, ax = plt.subplots()\n",
    "ax.scatter(yield_monitor, apsim_predicted_def)\n",
    "ax.plot([100,250],[100,250])\n",
    "ax.set_xlabel('Measured')\n",
    "ax.set_ylabel('Predicted')\n",
    "plt.show()"
   ]
  },
  {
   "cell_type": "code",
   "execution_count": 20,
   "metadata": {},
   "outputs": [
    {
     "output_type": "execute_result",
     "data": {
      "text/plain": "20.09795691661773"
     },
     "metadata": {},
     "execution_count": 20
    }
   ],
   "source": [
    "rmse = mean_squared_error(yield_monitor, apsim_predicted_def, squared=False)\n",
    "rmse"
   ]
  },
  {
   "cell_type": "code",
   "execution_count": 21,
   "metadata": {},
   "outputs": [
    {
     "output_type": "execute_result",
     "data": {
      "text/plain": "-0.25810876449558995"
     },
     "metadata": {},
     "execution_count": 21
    }
   ],
   "source": [
    "r_sq = r2_score(yield_monitor, apsim_predicted_def)\n",
    "r_sq"
   ]
  },
  {
   "cell_type": "code",
   "execution_count": 22,
   "metadata": {},
   "outputs": [
    {
     "output_type": "execute_result",
     "data": {
      "text/plain": "0.39440444805855307"
     },
     "metadata": {},
     "execution_count": 22
    }
   ],
   "source": [
    "corr_matrix = np.corrcoef(yield_monitor, apsim_predicted_def)\n",
    "corr_xy = corr_matrix[0,1]\n",
    "r_squared = corr_xy**2\n",
    "r_squared"
   ]
  },
  {
   "cell_type": "code",
   "execution_count": 23,
   "metadata": {},
   "outputs": [
    {
     "output_type": "execute_result",
     "data": {
      "text/plain": "array([[ 1.        , -0.62801628],\n       [-0.62801628,  1.        ]])"
     },
     "metadata": {},
     "execution_count": 23
    }
   ],
   "source": [
    "corr_matrix"
   ]
  },
  {
   "cell_type": "code",
   "execution_count": null,
   "metadata": {},
   "outputs": [],
   "source": [
    "#gdal.Grid('yield_avg.tif', 'accola_yield_basic.csv')"
   ]
  },
  {
   "cell_type": "code",
   "execution_count": null,
   "metadata": {},
   "outputs": [],
   "source": [
    "def reproject(vector_gpd, raster):\n",
    "    proj = raster.crs.to_epsg()\n",
    "    print(\"Original vector layer projection: \", vector_gpd.crs)\n",
    "    reproj = vector_gpd.to_crs(proj)\n",
    "    print(\"New vector layer projection (PROJ4): \", reproj.crs)\n",
    "    return reproj"
   ]
  },
  {
   "cell_type": "code",
   "execution_count": null,
   "metadata": {},
   "outputs": [],
   "source": [
    "yield_with_dem_path = \"C:\\\\Users\\\\mjn\\\\Documents\\\\Foresite\\\\yield_monitor_data\\\\analyses\\\\accola\\\\accola_maize_2019_yield_w_elev_noturnrows.geojson\""
   ]
  },
  {
   "cell_type": "code",
   "execution_count": null,
   "metadata": {},
   "outputs": [],
   "source": [
    "yld_with_dem = gpd.read_file(yield_with_dem_path)"
   ]
  },
  {
   "cell_type": "code",
   "execution_count": null,
   "metadata": {},
   "outputs": [],
   "source": [
    "yld_with_dem.head()"
   ]
  },
  {
   "cell_type": "code",
   "execution_count": null,
   "metadata": {},
   "outputs": [],
   "source": [
    "yld_with_dem = yld_with_dem.round({'Yld_Vol_Dr':2})\n",
    "yld_with_dem = yld_with_dem.astype({'Obj__Id':'int32'})"
   ]
  },
  {
   "cell_type": "code",
   "execution_count": null,
   "metadata": {},
   "outputs": [],
   "source": [
    "yld_with_dem.head()"
   ]
  },
  {
   "cell_type": "code",
   "execution_count": null,
   "metadata": {},
   "outputs": [],
   "source": [
    "fig, ax = plt.subplots()\n",
    "ax.scatter(yld_with_dem['Yld_Vol_Dr'], yld_with_dem['rvalue_1'], alpha=0.2)\n",
    "ax.set_xlabel('Yield Monitor (bu/ac')\n",
    "ax.set_ylabel('DEM (elevation)')\n",
    "plt.show()"
   ]
  },
  {
   "cell_type": "code",
   "execution_count": null,
   "metadata": {},
   "outputs": [],
   "source": [
    "len(yld_with_dem['Yld_Vol_Dr'])"
   ]
  },
  {
   "cell_type": "code",
   "execution_count": null,
   "metadata": {},
   "outputs": [],
   "source": [
    "dem_pred = tuple(yld_with_dem['rvalue_1'])\n",
    "yld_obsv = tuple(yld_with_dem['Yld_Vol_Dr'])"
   ]
  },
  {
   "cell_type": "code",
   "execution_count": null,
   "metadata": {},
   "outputs": [],
   "source": [
    "corr_matrix = np.corrcoef(yld_obsv, dem_pred)\n",
    "corr_xy = corr_matrix[0,1]\n",
    "corr_xy"
   ]
  },
  {
   "cell_type": "code",
   "execution_count": null,
   "metadata": {},
   "outputs": [],
   "source": [
    "yield_with_ym_elev_path = \"C:\\\\Users\\\\mjn\\\\Documents\\\\Foresite\\\\yield_monitor_data\\\\analyses\\\\accola\\\\accola_maize_2019_noturn_ym_elev.geojson\"\n",
    "yield_with_ym_elev_path = gpd.read_file(yield_with_ym_elev_path)"
   ]
  },
  {
   "cell_type": "code",
   "execution_count": null,
   "metadata": {},
   "outputs": [],
   "source": [
    "yield_with_ym_elev_path.head()"
   ]
  },
  {
   "cell_type": "code",
   "execution_count": null,
   "metadata": {},
   "outputs": [],
   "source": [
    "yield_with_ym_elev_path = yield_with_ym_elev_path.round({'Yld_Vol_Dr':2})\n",
    "yield_with_ym_elev_path = yield_with_ym_elev_path.astype({'Obj__Id':'int32'})"
   ]
  },
  {
   "cell_type": "code",
   "execution_count": null,
   "metadata": {},
   "outputs": [],
   "source": [
    "yield_with_ym_elev_path.head()"
   ]
  },
  {
   "cell_type": "code",
   "execution_count": null,
   "metadata": {},
   "outputs": [],
   "source": [
    "fig, ax = plt.subplots()\n",
    "ax.scatter(yield_with_ym_elev_path['Yld_Vol_Dr'], yield_with_ym_elev_path['Elevation_'], alpha=0.2)\n",
    "ax.set_xlabel('Yield Monitor (bu/ac')\n",
    "ax.set_ylabel('Yield Monitor Elevation')\n",
    "plt.show()"
   ]
  },
  {
   "cell_type": "code",
   "execution_count": null,
   "metadata": {},
   "outputs": [],
   "source": [
    "ym_elev = tuple(yield_with_ym_elev_path['Elevation_'])\n",
    "yld_obsv = tuple(yield_with_ym_elev_path['Yld_Vol_Dr'])"
   ]
  },
  {
   "cell_type": "code",
   "execution_count": null,
   "metadata": {},
   "outputs": [],
   "source": [
    "corr_matrix = np.corrcoef(yld_obsv, ym_elev)\n",
    "corr_xy = corr_matrix[0,1]\n",
    "corr_xy"
   ]
  },
  {
   "cell_type": "code",
   "execution_count": null,
   "metadata": {},
   "outputs": [],
   "source": []
  }
 ],
 "metadata": {
  "kernelspec": {
   "display_name": "Python 3",
   "language": "python",
   "name": "python3"
  },
  "language_info": {
   "codemirror_mode": {
    "name": "ipython",
    "version": 3
   },
   "file_extension": ".py",
   "mimetype": "text/x-python",
   "name": "python",
   "nbconvert_exporter": "python",
   "pygments_lexer": "ipython3",
   "version": "3.8.2-final"
  }
 },
 "nbformat": 4,
 "nbformat_minor": 4
}