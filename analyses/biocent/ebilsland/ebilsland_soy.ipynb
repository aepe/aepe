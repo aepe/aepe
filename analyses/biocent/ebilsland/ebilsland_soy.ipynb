{
 "cells": [
  {
   "cell_type": "markdown",
   "metadata": {},
   "source": [
    "### Notebook for analyzing BioCentury Research Farm East Bilsland field site - author @ Matt Nowatzke"
   ]
  },
  {
   "cell_type": "code",
   "execution_count": 2,
   "metadata": {},
   "outputs": [],
   "source": [
    "import os\n",
    "import json\n",
    "import pandas as pd\n",
    "import geopandas as gpd\n",
    "import numpy as np\n",
    "import matplotlib.pyplot as plt\n",
    "import seaborn as sns\n",
    "import database as db\n",
    "import gdal\n",
    "import rasterio as rio\n",
    "import analyses.run_apsim\n",
    "from sklearn.metrics import mean_squared_error, r2_score\n",
    "from math import sqrt\n",
    "from rasterstats import zonal_stats\n",
    "from analyses.munging import get_centroid\n",
    "from apsim.daymet import create_excel_met\n",
    "from apsim.apsim_input_writer import create_mukey_runs\n",
    "from apsim.apsim_output_parser import parse_all_output_field, parse_summary_output_field"
   ]
  },
  {
   "cell_type": "markdown",
   "metadata": {},
   "source": [
    "### Load management data for 2018 soybeans following corn and 2019 corn following soybeans."
   ]
  },
  {
   "cell_type": "code",
   "execution_count": 22,
   "metadata": {},
   "outputs": [],
   "source": [
    "ebilsland_corn_mgmt_2018 = json.loads( open( 'crop_jsons/ebilsland_cfs_2018.json', 'r' ).read() )\n",
    "ebilsland_soy_mgmt_2019 = json.loads( open( 'crop_jsons/ebilsland_sfc_2019.json', 'r' ).read() )"
   ]
  },
  {
   "cell_type": "code",
   "execution_count": null,
   "metadata": {},
   "outputs": [],
   "source": [
    "ebilsland_soy_mgmt_2019"
   ]
  },
  {
   "cell_type": "markdown",
   "metadata": {},
   "source": [
    "### Create database connection and get a list of all the unique soils (mukeys) for the field.  \n",
    "Each soil mapunit has unique musym identifier and a mapunit key (mukey) which relates to soil properties."
   ]
  },
  {
   "cell_type": "code",
   "execution_count": 23,
   "metadata": {},
   "outputs": [],
   "source": [
    "dbconn = db.connect_to_db('database.ini')"
   ]
  },
  {
   "cell_type": "code",
   "execution_count": 24,
   "metadata": {},
   "outputs": [
    {
     "output_type": "execute_result",
     "data": {
      "text/plain": "['2550285', '2765522', '2834849', '2835012', '2835146', '2922007']"
     },
     "metadata": {},
     "execution_count": 24
    }
   ],
   "source": [
    "#with turn rows\n",
    "#ebilsland_ssurgo = gpd.read_file(\"C:/Users/mjn/Documents/Foresite/yield_monitor_data/analyses/ebilsland/ebilsland_ssurgo_2019.geojson\")\n",
    "\n",
    "#without turn rows\n",
    "ebilsland_ssurgo = gpd.read_file(\"C:\\\\Users\\\\mjn\\\\Documents\\\\Foresite\\\\yield_monitor_data\\\\analyses\\\\ebilsland\\\\ssurgo\\\\noturnrows\\\\ebilsland_ssurgo_noturnrows.geojson\")\n",
    "ebilsland_mukeys = list(np.unique(ebilsland_ssurgo['mukey']))\n",
    "ebilsland_mukeys"
   ]
  },
  {
   "cell_type": "markdown",
   "metadata": {},
   "source": [
    "### Get the centroid of the field and create met file.\n",
    "This met file--if created on a Windows machine--is a an Excel file that should be saved afterwards as a Formatted Text file (*.prn)  \n",
    "See: https://www.apsim.info/support/apsim-training-manuals/creating-an-apsim-met-file-using-excel/  \n",
    "This is a known problem with Pandas on Windows. If creating the met file on Mac or Linux, feel free to use the daymet.create_met function instead."
   ]
  },
  {
   "cell_type": "code",
   "execution_count": null,
   "metadata": {
    "tags": []
   },
   "outputs": [],
   "source": [
    "ebilsland_centroid = get_centroid(ebilsland_ssurgo, 'areasymbol', 'geometry')\n",
    "create_excel_met(ebilsland_centroid[0], ebilsland_centroid[1], 2012, 2019, 'Ebilsland')\n",
    "print(f'East Bilsland centroid located at {ebilsland_centroid}')"
   ]
  },
  {
   "cell_type": "markdown",
   "metadata": {},
   "source": [
    "### Create runs using the default soil calcs or Saxton Rawls"
   ]
  },
  {
   "cell_type": "code",
   "execution_count": 25,
   "metadata": {
    "tags": []
   },
   "outputs": [
    {
     "output_type": "stream",
     "name": "stdout",
     "text": "Finished! All files created!\nFinished! All files created!\n"
    }
   ],
   "source": [
    "create_mukey_runs(ebilsland_mukeys, dbconn, 'cfs', 'Ebilsland.met', 'EbilslandDefault', start_year=2016, end_year=2018, sfc_mgmt=ebilsland_soy_mgmt_2019, cfs_mgmt=ebilsland_corn_mgmt_2018)\n",
    "create_mukey_runs(ebilsland_mukeys, dbconn, 'cfs', 'Ebilsland.met', 'EbilslandSaxton', start_year=2016, end_year=2018, sfc_mgmt=ebilsland_soy_mgmt_2019, cfs_mgmt=ebilsland_corn_mgmt_2018, saxton=True)"
   ]
  },
  {
   "cell_type": "code",
   "execution_count": null,
   "metadata": {
    "tags": []
   },
   "outputs": [],
   "source": [
    "create_mukey_runs(ebilsland_mukeys, dbconn, 'sfc', 'Ebilsland.met', 'EbilslandDefault', start_year=2017, end_year=2019, sfc_mgmt=ebilsland_soy_mgmt_2019, cfs_mgmt=ebilsland_corn_mgmt_2018)\n",
    "create_mukey_runs(ebilsland_mukeys, dbconn, 'sfc', 'Ebilsland.met', 'EbilslandSaxton', start_year=2017, end_year=2019, sfc_mgmt=ebilsland_soy_mgmt_2019, cfs_mgmt=ebilsland_corn_mgmt_2018, saxton=True)"
   ]
  },
  {
   "cell_type": "markdown",
   "metadata": {},
   "source": [
    "### Run simulations"
   ]
  },
  {
   "cell_type": "code",
   "execution_count": 26,
   "metadata": {
    "tags": []
   },
   "outputs": [
    {
     "output_type": "stream",
     "name": "stdout",
     "text": "Running on 62 cores\nConverting 6 .apsim files to .sim files.\nRunning Apsim for 6 .sim files...\nRuns completed.\nProcessing time: 2.0978 seconds\nRunning on 62 cores\nConverting 6 .apsim files to .sim files.\nRunning Apsim for 6 .sim files...\nRuns completed.\nProcessing time: 2.0763 seconds\n"
    }
   ],
   "source": [
    "analyses.run_apsim.run_all_simulations(apsim_files_path=\"apsim_files\\\\EbilslandSaxton\\\\2018\\\\cfs\\\\*.apsim\", sim_files_path=\"apsim_files\\\\EbilslandSaxton\\\\2018\\\\cfs\\\\*.sim\")\n",
    "analyses.run_apsim.run_all_simulations(apsim_files_path=\"apsim_files\\\\EbilslandSaxton\\\\2019\\\\sfc\\\\*.apsim\", sim_files_path=\"apsim_files\\\\EbilslandSaxton\\\\2019\\\\sfc\\\\*.sim\")"
   ]
  },
  {
   "cell_type": "code",
   "execution_count": 27,
   "metadata": {
    "tags": []
   },
   "outputs": [
    {
     "output_type": "stream",
     "name": "stdout",
     "text": "Running on 62 cores\nConverting 6 .apsim files to .sim files.\nRunning Apsim for 6 .sim files...\nRuns completed.\nProcessing time: 2.0775 seconds\nRunning on 62 cores\nConverting 6 .apsim files to .sim files.\nRunning Apsim for 6 .sim files...\nRuns completed.\nProcessing time: 2.0773 seconds\n"
    }
   ],
   "source": [
    "analyses.run_apsim.run_all_simulations(apsim_files_path=\"apsim_files\\\\EbilslandDefault\\\\2018\\\\cfs\\\\*.apsim\", sim_files_path=\"apsim_files\\\\EbilslandDefault\\\\2018\\\\cfs\\\\*.sim\")\n",
    "analyses.run_apsim.run_all_simulations(apsim_files_path=\"apsim_files\\\\EbilslandDefault\\\\2019\\\\sfc\\\\*.apsim\", sim_files_path=\"apsim_files\\\\EbilslandDefault\\\\2019\\\\sfc\\\\*.sim\")"
   ]
  },
  {
   "cell_type": "markdown",
   "metadata": {},
   "source": [
    "### View output from APSIM runs for default soil profiles and saxton soil profiles."
   ]
  },
  {
   "cell_type": "code",
   "execution_count": 3,
   "metadata": {},
   "outputs": [
    {
     "output_type": "execute_result",
     "data": {
      "text/plain": "                                            title            field    mukey  \\\n0  name_EbilslandSaxton_mukey_2550285_rot_cfs_sim  EbilslandSaxton  2550285   \n1  name_EbilslandSaxton_mukey_2765522_rot_cfs_sim  EbilslandSaxton  2765522   \n2  name_EbilslandSaxton_mukey_2834849_rot_cfs_sim  EbilslandSaxton  2834849   \n3  name_EbilslandSaxton_mukey_2835012_rot_cfs_sim  EbilslandSaxton  2835012   \n4  name_EbilslandSaxton_mukey_2835146_rot_cfs_sim  EbilslandSaxton  2835146   \n5  name_EbilslandSaxton_mukey_2922007_rot_cfs_sim  EbilslandSaxton  2922007   \n\n  rotation  year  soybean_yield  maize_yield  corn_buac  soy_buac  \\\n0      cfs  2018            0.0  11115.71231  207.92920       0.0   \n1      cfs  2018            0.0  10653.64283  199.28578       0.0   \n2      cfs  2018            0.0  10826.95052  202.52766       0.0   \n3      cfs  2018            0.0  11008.79361  205.92920       0.0   \n4      cfs  2018            0.0  11023.33863  206.20128       0.0   \n5      cfs  2018            0.0  10926.07924  204.38196       0.0   \n\n   soybean_biomass  maize_biomass  fertiliser  surfaceom_c_init  \\\n0              0.0    22274.53618         0.0        3143.54565   \n1              0.0    18639.39271         0.0        2719.90137   \n2              0.0    20022.21699         0.0        2751.22778   \n3              0.0    21369.69468         0.0        2920.02612   \n4              0.0    21464.89756         0.0        2939.08691   \n5              0.0    20851.77502         0.0        2799.58106   \n\n   surfaceom_c_end  leach_no3  \n0       3963.31128   56.77211  \n1       3344.28955   17.81767  \n2       3558.39185   19.03100  \n3       3797.53564   25.75259  \n4       3808.51147   29.33317  \n5       3700.61841   22.68160  ",
      "text/html": "<div>\n<style scoped>\n    .dataframe tbody tr th:only-of-type {\n        vertical-align: middle;\n    }\n\n    .dataframe tbody tr th {\n        vertical-align: top;\n    }\n\n    .dataframe thead th {\n        text-align: right;\n    }\n</style>\n<table border=\"1\" class=\"dataframe\">\n  <thead>\n    <tr style=\"text-align: right;\">\n      <th></th>\n      <th>title</th>\n      <th>field</th>\n      <th>mukey</th>\n      <th>rotation</th>\n      <th>year</th>\n      <th>soybean_yield</th>\n      <th>maize_yield</th>\n      <th>corn_buac</th>\n      <th>soy_buac</th>\n      <th>soybean_biomass</th>\n      <th>maize_biomass</th>\n      <th>fertiliser</th>\n      <th>surfaceom_c_init</th>\n      <th>surfaceom_c_end</th>\n      <th>leach_no3</th>\n    </tr>\n  </thead>\n  <tbody>\n    <tr>\n      <th>0</th>\n      <td>name_EbilslandSaxton_mukey_2550285_rot_cfs_sim</td>\n      <td>EbilslandSaxton</td>\n      <td>2550285</td>\n      <td>cfs</td>\n      <td>2018</td>\n      <td>0.0</td>\n      <td>11115.71231</td>\n      <td>207.92920</td>\n      <td>0.0</td>\n      <td>0.0</td>\n      <td>22274.53618</td>\n      <td>0.0</td>\n      <td>3143.54565</td>\n      <td>3963.31128</td>\n      <td>56.77211</td>\n    </tr>\n    <tr>\n      <th>1</th>\n      <td>name_EbilslandSaxton_mukey_2765522_rot_cfs_sim</td>\n      <td>EbilslandSaxton</td>\n      <td>2765522</td>\n      <td>cfs</td>\n      <td>2018</td>\n      <td>0.0</td>\n      <td>10653.64283</td>\n      <td>199.28578</td>\n      <td>0.0</td>\n      <td>0.0</td>\n      <td>18639.39271</td>\n      <td>0.0</td>\n      <td>2719.90137</td>\n      <td>3344.28955</td>\n      <td>17.81767</td>\n    </tr>\n    <tr>\n      <th>2</th>\n      <td>name_EbilslandSaxton_mukey_2834849_rot_cfs_sim</td>\n      <td>EbilslandSaxton</td>\n      <td>2834849</td>\n      <td>cfs</td>\n      <td>2018</td>\n      <td>0.0</td>\n      <td>10826.95052</td>\n      <td>202.52766</td>\n      <td>0.0</td>\n      <td>0.0</td>\n      <td>20022.21699</td>\n      <td>0.0</td>\n      <td>2751.22778</td>\n      <td>3558.39185</td>\n      <td>19.03100</td>\n    </tr>\n    <tr>\n      <th>3</th>\n      <td>name_EbilslandSaxton_mukey_2835012_rot_cfs_sim</td>\n      <td>EbilslandSaxton</td>\n      <td>2835012</td>\n      <td>cfs</td>\n      <td>2018</td>\n      <td>0.0</td>\n      <td>11008.79361</td>\n      <td>205.92920</td>\n      <td>0.0</td>\n      <td>0.0</td>\n      <td>21369.69468</td>\n      <td>0.0</td>\n      <td>2920.02612</td>\n      <td>3797.53564</td>\n      <td>25.75259</td>\n    </tr>\n    <tr>\n      <th>4</th>\n      <td>name_EbilslandSaxton_mukey_2835146_rot_cfs_sim</td>\n      <td>EbilslandSaxton</td>\n      <td>2835146</td>\n      <td>cfs</td>\n      <td>2018</td>\n      <td>0.0</td>\n      <td>11023.33863</td>\n      <td>206.20128</td>\n      <td>0.0</td>\n      <td>0.0</td>\n      <td>21464.89756</td>\n      <td>0.0</td>\n      <td>2939.08691</td>\n      <td>3808.51147</td>\n      <td>29.33317</td>\n    </tr>\n    <tr>\n      <th>5</th>\n      <td>name_EbilslandSaxton_mukey_2922007_rot_cfs_sim</td>\n      <td>EbilslandSaxton</td>\n      <td>2922007</td>\n      <td>cfs</td>\n      <td>2018</td>\n      <td>0.0</td>\n      <td>10926.07924</td>\n      <td>204.38196</td>\n      <td>0.0</td>\n      <td>0.0</td>\n      <td>20851.77502</td>\n      <td>0.0</td>\n      <td>2799.58106</td>\n      <td>3700.61841</td>\n      <td>22.68160</td>\n    </tr>\n  </tbody>\n</table>\n</div>"
     },
     "metadata": {},
     "execution_count": 3
    }
   ],
   "source": [
    "ebilsland_maize_output_2018_saxton = parse_summary_output_field(\"apsim_files/EbilslandSaxton/2018/cfs\", year=2018)\n",
    "ebilsland_maize_output_2018_saxton"
   ]
  },
  {
   "cell_type": "code",
   "execution_count": 4,
   "metadata": {},
   "outputs": [
    {
     "output_type": "execute_result",
     "data": {
      "text/plain": "                                            title            field    mukey  \\\n0  name_EbilslandSaxton_mukey_2550285_rot_sfc_sim  EbilslandSaxton  2550285   \n1  name_EbilslandSaxton_mukey_2765522_rot_sfc_sim  EbilslandSaxton  2765522   \n2  name_EbilslandSaxton_mukey_2834849_rot_sfc_sim  EbilslandSaxton  2834849   \n3  name_EbilslandSaxton_mukey_2835012_rot_sfc_sim  EbilslandSaxton  2835012   \n4  name_EbilslandSaxton_mukey_2835146_rot_sfc_sim  EbilslandSaxton  2835146   \n5  name_EbilslandSaxton_mukey_2922007_rot_sfc_sim  EbilslandSaxton  2922007   \n\n  rotation  year  soybean_yield  maize_yield  corn_buac  soy_buac  \\\n0      sfc  2019     3599.92529          0.0        0.0  61.65389   \n1      sfc  2019     3563.99170          0.0        0.0  61.03848   \n2      sfc  2019     3570.76196          0.0        0.0  61.15443   \n3      sfc  2019     3598.39844          0.0        0.0  61.62774   \n4      sfc  2019     3599.11523          0.0        0.0  61.64002   \n5      sfc  2019     3581.55615          0.0        0.0  61.33929   \n\n   soybean_biomass  maize_biomass  fertiliser  surfaceom_c_init  \\\n0       7517.64648            0.0         0.0        4154.16602   \n1       7451.83838            0.0         0.0        3924.59033   \n2       7466.08887            0.0         0.0        3900.15210   \n3       7515.35449            0.0         0.0        3976.50024   \n4       7516.80518            0.0         0.0        4043.63647   \n5       7485.22461            0.0         0.0        3912.94385   \n\n   surfaceom_c_end  leach_no3  \n0       2927.83301  181.30395  \n1       2904.33130   64.70263  \n2       2908.31299   85.17977  \n3       2927.63013  126.30414  \n4       2927.95606  130.95341  \n5       2915.62817  106.92022  ",
      "text/html": "<div>\n<style scoped>\n    .dataframe tbody tr th:only-of-type {\n        vertical-align: middle;\n    }\n\n    .dataframe tbody tr th {\n        vertical-align: top;\n    }\n\n    .dataframe thead th {\n        text-align: right;\n    }\n</style>\n<table border=\"1\" class=\"dataframe\">\n  <thead>\n    <tr style=\"text-align: right;\">\n      <th></th>\n      <th>title</th>\n      <th>field</th>\n      <th>mukey</th>\n      <th>rotation</th>\n      <th>year</th>\n      <th>soybean_yield</th>\n      <th>maize_yield</th>\n      <th>corn_buac</th>\n      <th>soy_buac</th>\n      <th>soybean_biomass</th>\n      <th>maize_biomass</th>\n      <th>fertiliser</th>\n      <th>surfaceom_c_init</th>\n      <th>surfaceom_c_end</th>\n      <th>leach_no3</th>\n    </tr>\n  </thead>\n  <tbody>\n    <tr>\n      <th>0</th>\n      <td>name_EbilslandSaxton_mukey_2550285_rot_sfc_sim</td>\n      <td>EbilslandSaxton</td>\n      <td>2550285</td>\n      <td>sfc</td>\n      <td>2019</td>\n      <td>3599.92529</td>\n      <td>0.0</td>\n      <td>0.0</td>\n      <td>61.65389</td>\n      <td>7517.64648</td>\n      <td>0.0</td>\n      <td>0.0</td>\n      <td>4154.16602</td>\n      <td>2927.83301</td>\n      <td>181.30395</td>\n    </tr>\n    <tr>\n      <th>1</th>\n      <td>name_EbilslandSaxton_mukey_2765522_rot_sfc_sim</td>\n      <td>EbilslandSaxton</td>\n      <td>2765522</td>\n      <td>sfc</td>\n      <td>2019</td>\n      <td>3563.99170</td>\n      <td>0.0</td>\n      <td>0.0</td>\n      <td>61.03848</td>\n      <td>7451.83838</td>\n      <td>0.0</td>\n      <td>0.0</td>\n      <td>3924.59033</td>\n      <td>2904.33130</td>\n      <td>64.70263</td>\n    </tr>\n    <tr>\n      <th>2</th>\n      <td>name_EbilslandSaxton_mukey_2834849_rot_sfc_sim</td>\n      <td>EbilslandSaxton</td>\n      <td>2834849</td>\n      <td>sfc</td>\n      <td>2019</td>\n      <td>3570.76196</td>\n      <td>0.0</td>\n      <td>0.0</td>\n      <td>61.15443</td>\n      <td>7466.08887</td>\n      <td>0.0</td>\n      <td>0.0</td>\n      <td>3900.15210</td>\n      <td>2908.31299</td>\n      <td>85.17977</td>\n    </tr>\n    <tr>\n      <th>3</th>\n      <td>name_EbilslandSaxton_mukey_2835012_rot_sfc_sim</td>\n      <td>EbilslandSaxton</td>\n      <td>2835012</td>\n      <td>sfc</td>\n      <td>2019</td>\n      <td>3598.39844</td>\n      <td>0.0</td>\n      <td>0.0</td>\n      <td>61.62774</td>\n      <td>7515.35449</td>\n      <td>0.0</td>\n      <td>0.0</td>\n      <td>3976.50024</td>\n      <td>2927.63013</td>\n      <td>126.30414</td>\n    </tr>\n    <tr>\n      <th>4</th>\n      <td>name_EbilslandSaxton_mukey_2835146_rot_sfc_sim</td>\n      <td>EbilslandSaxton</td>\n      <td>2835146</td>\n      <td>sfc</td>\n      <td>2019</td>\n      <td>3599.11523</td>\n      <td>0.0</td>\n      <td>0.0</td>\n      <td>61.64002</td>\n      <td>7516.80518</td>\n      <td>0.0</td>\n      <td>0.0</td>\n      <td>4043.63647</td>\n      <td>2927.95606</td>\n      <td>130.95341</td>\n    </tr>\n    <tr>\n      <th>5</th>\n      <td>name_EbilslandSaxton_mukey_2922007_rot_sfc_sim</td>\n      <td>EbilslandSaxton</td>\n      <td>2922007</td>\n      <td>sfc</td>\n      <td>2019</td>\n      <td>3581.55615</td>\n      <td>0.0</td>\n      <td>0.0</td>\n      <td>61.33929</td>\n      <td>7485.22461</td>\n      <td>0.0</td>\n      <td>0.0</td>\n      <td>3912.94385</td>\n      <td>2915.62817</td>\n      <td>106.92022</td>\n    </tr>\n  </tbody>\n</table>\n</div>"
     },
     "metadata": {},
     "execution_count": 4
    }
   ],
   "source": [
    "ebilsland_soy_output_2019_saxton = parse_summary_output_field(\"apsim_files/EbilslandSaxton/2019/sfc\", year=2019)\n",
    "ebilsland_soy_output_2019_saxton"
   ]
  },
  {
   "cell_type": "code",
   "execution_count": 5,
   "metadata": {},
   "outputs": [],
   "source": [
    "#ebilsland_soy_output_2019_saxton.to_csv('ebilsland_saxton_soy_2019.csv', index=False)"
   ]
  },
  {
   "cell_type": "code",
   "execution_count": 6,
   "metadata": {},
   "outputs": [
    {
     "output_type": "execute_result",
     "data": {
      "text/plain": "                                             title             field    mukey  \\\n0  name_EbilslandDefault_mukey_2550285_rot_cfs_sim  EbilslandDefault  2550285   \n1  name_EbilslandDefault_mukey_2765522_rot_cfs_sim  EbilslandDefault  2765522   \n2  name_EbilslandDefault_mukey_2834849_rot_cfs_sim  EbilslandDefault  2834849   \n3  name_EbilslandDefault_mukey_2835012_rot_cfs_sim  EbilslandDefault  2835012   \n4  name_EbilslandDefault_mukey_2835146_rot_cfs_sim  EbilslandDefault  2835146   \n5  name_EbilslandDefault_mukey_2922007_rot_cfs_sim  EbilslandDefault  2922007   \n\n  rotation  year  soybean_yield  maize_yield  corn_buac  soy_buac  \\\n0      cfs  2018            0.0  11071.41488  207.10059       0.0   \n1      cfs  2018            0.0  10817.48608  202.35062       0.0   \n2      cfs  2018            0.0  10845.64575  202.87738       0.0   \n3      cfs  2018            0.0  10938.14469  204.60765       0.0   \n4      cfs  2018            0.0  10942.22415  204.68396       0.0   \n5      cfs  2018            0.0  10888.28867  203.67505       0.0   \n\n   soybean_biomass  maize_biomass  fertiliser  surfaceom_c_init  \\\n0              0.0    21639.33261         0.0        2689.70923   \n1              0.0    19851.85332         0.0        3049.76294   \n2              0.0    20227.17789         0.0        3006.84106   \n3              0.0    21072.45429         0.0        3003.70068   \n4              0.0    21241.78760         0.0        3105.90967   \n5              0.0    20662.17534         0.0        2978.63623   \n\n   surfaceom_c_end  leach_no3  \n0       3851.14746   26.03907  \n1       3587.55298    9.11150  \n2       3621.39575   10.15412  \n3       3756.31763   14.90942  \n4       3790.79810   15.66696  \n5       3685.51904   10.69089  ",
      "text/html": "<div>\n<style scoped>\n    .dataframe tbody tr th:only-of-type {\n        vertical-align: middle;\n    }\n\n    .dataframe tbody tr th {\n        vertical-align: top;\n    }\n\n    .dataframe thead th {\n        text-align: right;\n    }\n</style>\n<table border=\"1\" class=\"dataframe\">\n  <thead>\n    <tr style=\"text-align: right;\">\n      <th></th>\n      <th>title</th>\n      <th>field</th>\n      <th>mukey</th>\n      <th>rotation</th>\n      <th>year</th>\n      <th>soybean_yield</th>\n      <th>maize_yield</th>\n      <th>corn_buac</th>\n      <th>soy_buac</th>\n      <th>soybean_biomass</th>\n      <th>maize_biomass</th>\n      <th>fertiliser</th>\n      <th>surfaceom_c_init</th>\n      <th>surfaceom_c_end</th>\n      <th>leach_no3</th>\n    </tr>\n  </thead>\n  <tbody>\n    <tr>\n      <th>0</th>\n      <td>name_EbilslandDefault_mukey_2550285_rot_cfs_sim</td>\n      <td>EbilslandDefault</td>\n      <td>2550285</td>\n      <td>cfs</td>\n      <td>2018</td>\n      <td>0.0</td>\n      <td>11071.41488</td>\n      <td>207.10059</td>\n      <td>0.0</td>\n      <td>0.0</td>\n      <td>21639.33261</td>\n      <td>0.0</td>\n      <td>2689.70923</td>\n      <td>3851.14746</td>\n      <td>26.03907</td>\n    </tr>\n    <tr>\n      <th>1</th>\n      <td>name_EbilslandDefault_mukey_2765522_rot_cfs_sim</td>\n      <td>EbilslandDefault</td>\n      <td>2765522</td>\n      <td>cfs</td>\n      <td>2018</td>\n      <td>0.0</td>\n      <td>10817.48608</td>\n      <td>202.35062</td>\n      <td>0.0</td>\n      <td>0.0</td>\n      <td>19851.85332</td>\n      <td>0.0</td>\n      <td>3049.76294</td>\n      <td>3587.55298</td>\n      <td>9.11150</td>\n    </tr>\n    <tr>\n      <th>2</th>\n      <td>name_EbilslandDefault_mukey_2834849_rot_cfs_sim</td>\n      <td>EbilslandDefault</td>\n      <td>2834849</td>\n      <td>cfs</td>\n      <td>2018</td>\n      <td>0.0</td>\n      <td>10845.64575</td>\n      <td>202.87738</td>\n      <td>0.0</td>\n      <td>0.0</td>\n      <td>20227.17789</td>\n      <td>0.0</td>\n      <td>3006.84106</td>\n      <td>3621.39575</td>\n      <td>10.15412</td>\n    </tr>\n    <tr>\n      <th>3</th>\n      <td>name_EbilslandDefault_mukey_2835012_rot_cfs_sim</td>\n      <td>EbilslandDefault</td>\n      <td>2835012</td>\n      <td>cfs</td>\n      <td>2018</td>\n      <td>0.0</td>\n      <td>10938.14469</td>\n      <td>204.60765</td>\n      <td>0.0</td>\n      <td>0.0</td>\n      <td>21072.45429</td>\n      <td>0.0</td>\n      <td>3003.70068</td>\n      <td>3756.31763</td>\n      <td>14.90942</td>\n    </tr>\n    <tr>\n      <th>4</th>\n      <td>name_EbilslandDefault_mukey_2835146_rot_cfs_sim</td>\n      <td>EbilslandDefault</td>\n      <td>2835146</td>\n      <td>cfs</td>\n      <td>2018</td>\n      <td>0.0</td>\n      <td>10942.22415</td>\n      <td>204.68396</td>\n      <td>0.0</td>\n      <td>0.0</td>\n      <td>21241.78760</td>\n      <td>0.0</td>\n      <td>3105.90967</td>\n      <td>3790.79810</td>\n      <td>15.66696</td>\n    </tr>\n    <tr>\n      <th>5</th>\n      <td>name_EbilslandDefault_mukey_2922007_rot_cfs_sim</td>\n      <td>EbilslandDefault</td>\n      <td>2922007</td>\n      <td>cfs</td>\n      <td>2018</td>\n      <td>0.0</td>\n      <td>10888.28867</td>\n      <td>203.67505</td>\n      <td>0.0</td>\n      <td>0.0</td>\n      <td>20662.17534</td>\n      <td>0.0</td>\n      <td>2978.63623</td>\n      <td>3685.51904</td>\n      <td>10.69089</td>\n    </tr>\n  </tbody>\n</table>\n</div>"
     },
     "metadata": {},
     "execution_count": 6
    }
   ],
   "source": [
    "ebilsland_maize_output_2018_default = parse_summary_output_field(\"apsim_files/EbilslandDefault/2018/cfs\", year=2018)\n",
    "ebilsland_maize_output_2018_default"
   ]
  },
  {
   "cell_type": "code",
   "execution_count": 7,
   "metadata": {},
   "outputs": [
    {
     "output_type": "execute_result",
     "data": {
      "text/plain": "                                             title             field    mukey  \\\n0  name_EbilslandDefault_mukey_2550285_rot_sfc_sim  EbilslandDefault  2550285   \n1  name_EbilslandDefault_mukey_2765522_rot_sfc_sim  EbilslandDefault  2765522   \n2  name_EbilslandDefault_mukey_2834849_rot_sfc_sim  EbilslandDefault  2834849   \n3  name_EbilslandDefault_mukey_2835012_rot_sfc_sim  EbilslandDefault  2835012   \n4  name_EbilslandDefault_mukey_2835146_rot_sfc_sim  EbilslandDefault  2835146   \n5  name_EbilslandDefault_mukey_2922007_rot_sfc_sim  EbilslandDefault  2922007   \n\n  rotation  year  soybean_yield  maize_yield  corn_buac  soy_buac  \\\n0      sfc  2019     3534.75366          0.0        0.0  60.53773   \n1      sfc  2019     3599.92481          0.0        0.0  61.65388   \n2      sfc  2019     3599.78857          0.0        0.0  61.65155   \n3      sfc  2019     3598.90283          0.0        0.0  61.63638   \n4      sfc  2019     3599.92481          0.0        0.0  61.65388   \n5      sfc  2019     3599.03101          0.0        0.0  61.63858   \n\n   soybean_biomass  maize_biomass  fertiliser  surfaceom_c_init  \\\n0       7387.10986            0.0         0.0        3933.40186   \n1       7517.64600            0.0         0.0        4061.56665   \n2       7517.50439            0.0         0.0        4027.91357   \n3       7516.58447            0.0         0.0        4009.78980   \n4       7517.64600            0.0         0.0        4044.78980   \n5       7516.71728            0.0         0.0        4008.33984   \n\n   surfaceom_c_end  leach_no3  \n0       2876.97314  118.31692  \n1       2931.43115   67.95033  \n2       2929.90649   74.59351  \n3       2929.08887  103.86300  \n4       2929.55273  106.75616  \n5       2929.16919   78.19918  ",
      "text/html": "<div>\n<style scoped>\n    .dataframe tbody tr th:only-of-type {\n        vertical-align: middle;\n    }\n\n    .dataframe tbody tr th {\n        vertical-align: top;\n    }\n\n    .dataframe thead th {\n        text-align: right;\n    }\n</style>\n<table border=\"1\" class=\"dataframe\">\n  <thead>\n    <tr style=\"text-align: right;\">\n      <th></th>\n      <th>title</th>\n      <th>field</th>\n      <th>mukey</th>\n      <th>rotation</th>\n      <th>year</th>\n      <th>soybean_yield</th>\n      <th>maize_yield</th>\n      <th>corn_buac</th>\n      <th>soy_buac</th>\n      <th>soybean_biomass</th>\n      <th>maize_biomass</th>\n      <th>fertiliser</th>\n      <th>surfaceom_c_init</th>\n      <th>surfaceom_c_end</th>\n      <th>leach_no3</th>\n    </tr>\n  </thead>\n  <tbody>\n    <tr>\n      <th>0</th>\n      <td>name_EbilslandDefault_mukey_2550285_rot_sfc_sim</td>\n      <td>EbilslandDefault</td>\n      <td>2550285</td>\n      <td>sfc</td>\n      <td>2019</td>\n      <td>3534.75366</td>\n      <td>0.0</td>\n      <td>0.0</td>\n      <td>60.53773</td>\n      <td>7387.10986</td>\n      <td>0.0</td>\n      <td>0.0</td>\n      <td>3933.40186</td>\n      <td>2876.97314</td>\n      <td>118.31692</td>\n    </tr>\n    <tr>\n      <th>1</th>\n      <td>name_EbilslandDefault_mukey_2765522_rot_sfc_sim</td>\n      <td>EbilslandDefault</td>\n      <td>2765522</td>\n      <td>sfc</td>\n      <td>2019</td>\n      <td>3599.92481</td>\n      <td>0.0</td>\n      <td>0.0</td>\n      <td>61.65388</td>\n      <td>7517.64600</td>\n      <td>0.0</td>\n      <td>0.0</td>\n      <td>4061.56665</td>\n      <td>2931.43115</td>\n      <td>67.95033</td>\n    </tr>\n    <tr>\n      <th>2</th>\n      <td>name_EbilslandDefault_mukey_2834849_rot_sfc_sim</td>\n      <td>EbilslandDefault</td>\n      <td>2834849</td>\n      <td>sfc</td>\n      <td>2019</td>\n      <td>3599.78857</td>\n      <td>0.0</td>\n      <td>0.0</td>\n      <td>61.65155</td>\n      <td>7517.50439</td>\n      <td>0.0</td>\n      <td>0.0</td>\n      <td>4027.91357</td>\n      <td>2929.90649</td>\n      <td>74.59351</td>\n    </tr>\n    <tr>\n      <th>3</th>\n      <td>name_EbilslandDefault_mukey_2835012_rot_sfc_sim</td>\n      <td>EbilslandDefault</td>\n      <td>2835012</td>\n      <td>sfc</td>\n      <td>2019</td>\n      <td>3598.90283</td>\n      <td>0.0</td>\n      <td>0.0</td>\n      <td>61.63638</td>\n      <td>7516.58447</td>\n      <td>0.0</td>\n      <td>0.0</td>\n      <td>4009.78980</td>\n      <td>2929.08887</td>\n      <td>103.86300</td>\n    </tr>\n    <tr>\n      <th>4</th>\n      <td>name_EbilslandDefault_mukey_2835146_rot_sfc_sim</td>\n      <td>EbilslandDefault</td>\n      <td>2835146</td>\n      <td>sfc</td>\n      <td>2019</td>\n      <td>3599.92481</td>\n      <td>0.0</td>\n      <td>0.0</td>\n      <td>61.65388</td>\n      <td>7517.64600</td>\n      <td>0.0</td>\n      <td>0.0</td>\n      <td>4044.78980</td>\n      <td>2929.55273</td>\n      <td>106.75616</td>\n    </tr>\n    <tr>\n      <th>5</th>\n      <td>name_EbilslandDefault_mukey_2922007_rot_sfc_sim</td>\n      <td>EbilslandDefault</td>\n      <td>2922007</td>\n      <td>sfc</td>\n      <td>2019</td>\n      <td>3599.03101</td>\n      <td>0.0</td>\n      <td>0.0</td>\n      <td>61.63858</td>\n      <td>7516.71728</td>\n      <td>0.0</td>\n      <td>0.0</td>\n      <td>4008.33984</td>\n      <td>2929.16919</td>\n      <td>78.19918</td>\n    </tr>\n  </tbody>\n</table>\n</div>"
     },
     "metadata": {},
     "execution_count": 7
    }
   ],
   "source": [
    "ebilsland_soy_output_2019_default = parse_summary_output_field(\"apsim_files/EbilslandDefault/2019/sfc\", year=2019)\n",
    "ebilsland_soy_output_2019_default"
   ]
  },
  {
   "cell_type": "code",
   "execution_count": 33,
   "metadata": {},
   "outputs": [],
   "source": [
    "#ebilsland_soy_output_2019_default.to_csv(\"output/apsim/ebilsland_apsim_default_soy_2019.csv\", index=False)\n",
    "#ebilsland_maize_output_2018_default.to_csv(\"output/apsim/ebilsland_apsim_default_maize_2018.csv\", index=False)"
   ]
  },
  {
   "cell_type": "markdown",
   "metadata": {},
   "source": [
    "Get zonal stats from yield monitor data to compare to simulated yields"
   ]
  },
  {
   "cell_type": "code",
   "execution_count": 8,
   "metadata": {},
   "outputs": [],
   "source": [
    "#With turn rows included\n",
    "# ebilsland_raster = \"C:\\\\Users\\\\mjn\\\\Documents\\\\Foresite\\\\yield_monitor_data\\\\analyses\\\\ebilsland\\\\ebilsland_soy_2019_raster_30.tif\"\n",
    "# ebilsland_ssurgo_geojson = 'C:/Users/mjn/Documents/Foresite/yield_monitor_data/analyses/ebilsland/ebilsland_ssurgo_2019.geojson'\n",
    "\n",
    "#Removed turn rows\n",
    "ebilsland_raster = \"C:\\\\Users\\\\mjn\\\\Documents\\\\Foresite\\\\yield_monitor_data\\\\analyses\\\\ebilsland\\\\yield_monitor\\\\noturnrows\\\\ebilsland_soy_2019_raster_30_noturnrows.tif\"\n",
    "ebilsland_ssurgo_geojson = \"C:\\\\Users\\\\mjn\\\\Documents\\\\Foresite\\\\yield_monitor_data\\\\analyses\\\\ebilsland\\\\ssurgo\\\\noturnrows\\\\ebilsland_ssurgo_noturnrows.geojson\""
   ]
  },
  {
   "cell_type": "code",
   "execution_count": null,
   "metadata": {},
   "outputs": [],
   "source": [
    "stats = zonal_stats(ebilsland_ssurgo_geojson, ebilsland_raster, geojson_out=True, stats=['min', 'max', 'median', 'mean', 'std', 'range'])"
   ]
  },
  {
   "cell_type": "code",
   "execution_count": null,
   "metadata": {},
   "outputs": [],
   "source": [
    "ebilsland_soy_2019_stats = gpd.GeoDataFrame.from_features(stats)"
   ]
  },
  {
   "cell_type": "code",
   "execution_count": null,
   "metadata": {},
   "outputs": [],
   "source": [
    "ebilsland_soy_2019_stats"
   ]
  },
  {
   "cell_type": "code",
   "execution_count": null,
   "metadata": {},
   "outputs": [],
   "source": [
    "ebilsland_soy_ym = ebilsland_soy_2019_stats[['geometry', 'Field', 'objectid', 'areasymbol', 'musym', 'mukey', 'shape_area', 'mean', 'median', 'min', 'max', 'std', 'range']]\n",
    "ebilsland_soy_ym.sort_values('mukey')"
   ]
  },
  {
   "cell_type": "code",
   "execution_count": null,
   "metadata": {},
   "outputs": [],
   "source": [
    "ebilsland_soy_ym = ebilsland_soy_ym.drop(index=7)"
   ]
  },
  {
   "cell_type": "code",
   "execution_count": null,
   "metadata": {},
   "outputs": [],
   "source": [
    "ebilsland_soy_ym = ebilsland_soy_ym.round({'mean':2,'median':2, 'min':2, 'max':2, 'std':2, 'range':2})"
   ]
  },
  {
   "cell_type": "code",
   "execution_count": null,
   "metadata": {},
   "outputs": [],
   "source": [
    "ebilsland_soy_ym"
   ]
  },
  {
   "cell_type": "code",
   "execution_count": null,
   "metadata": {},
   "outputs": [],
   "source": [
    "#Write summary stats file to json for first time.\n",
    "#ebilsland_soy_ym.to_file(\"output/ebilsland_zonalstats_soy_2019.geojson\", driver='GeoJSON')"
   ]
  },
  {
   "cell_type": "code",
   "execution_count": null,
   "metadata": {},
   "outputs": [],
   "source": [
    "ebilsland_raster_maize = \"C:\\\\Users\\\\mjn\\\\Documents\\\\Foresite\\\\yield_monitor_data\\\\analyses\\\\ebilsland\\\\yield_monitor\\\\noturnrows\\\\ebilsland_soy_2019_raster_30_noturnrows.tif\""
   ]
  },
  {
   "cell_type": "code",
   "execution_count": 9,
   "metadata": {},
   "outputs": [],
   "source": [
    "#Read summary stats file from json.\n",
    "ebilsland_soy_ym = gpd.read_file(\"output/ym/ebilsland_zonalstats_soy_2019.geojson\")"
   ]
  },
  {
   "cell_type": "code",
   "execution_count": 10,
   "metadata": {},
   "outputs": [],
   "source": [
    "def wkb_hexer(line):\n",
    "    return line.wkb_hex"
   ]
  },
  {
   "cell_type": "code",
   "execution_count": 11,
   "metadata": {},
   "outputs": [],
   "source": [
    "ebilsland_soy_ym['geometry'] = ebilsland_soy_ym['geometry'].apply(wkb_hexer)"
   ]
  },
  {
   "cell_type": "code",
   "execution_count": 12,
   "metadata": {},
   "outputs": [],
   "source": [
    "ebilsland_pd = pd.DataFrame(ebilsland_soy_ym)"
   ]
  },
  {
   "cell_type": "code",
   "execution_count": null,
   "metadata": {},
   "outputs": [],
   "source": [
    "db_schema = 'biocent_farms'\n",
    "db_table = 'ebilsland_soy_2019_yield_zonal_stats' \n",
    "ebilsland_pd.to_sql(\n",
    "con = dbconn,\n",
    "name = db_table,\n",
    "schema = db_schema,\n",
    "if_exists = 'replace',\n",
    "index = False,\n",
    "chunksize=1000,\n",
    "method='multi' )"
   ]
  },
  {
   "cell_type": "code",
   "execution_count": null,
   "metadata": {},
   "outputs": [],
   "source": []
  },
  {
   "cell_type": "markdown",
   "metadata": {},
   "source": [
    "#### Get distribution of observed yields"
   ]
  },
  {
   "cell_type": "code",
   "execution_count": null,
   "metadata": {},
   "outputs": [],
   "source": [
    "with rio.open(ebilsland_raster) as src:\n",
    "    ebilsland_raster_hist = src.read(1, masked=True)\n",
    "ebilsland_raster_hist = ebilsland_raster_hist.ravel()"
   ]
  },
  {
   "cell_type": "code",
   "execution_count": null,
   "metadata": {},
   "outputs": [],
   "source": [
    "plt.hist(ebilsland_raster_hist,\n",
    "        bins=[10,20,30,40,50,60,70,80,90,100],\n",
    "        color='purple')\n",
    "plt.xlabel('Soybean yield')\n",
    "plt.ylabel('Frequency')\n",
    "plt.title('East Bilsland 2019 Soybean Yield')\n",
    "plt.show()"
   ]
  },
  {
   "cell_type": "markdown",
   "metadata": {},
   "source": [
    "![SSURGO soils with raster yield overlay](images/ebilsland_ssurgo_w_rasteryield.png \"East Bilsland SSURGO soils with yield overlay\")  "
   ]
  },
  {
   "cell_type": "markdown",
   "metadata": {},
   "source": [
    "## Get predicted vs observed  \n",
    "Filter the data and left join to get df of default soil prediction vs. observed mean and Saxton soil bs observed mean."
   ]
  },
  {
   "cell_type": "code",
   "execution_count": 13,
   "metadata": {},
   "outputs": [],
   "source": [
    "#get yield monitor data\n",
    "ebilsland_soy_ym = ebilsland_soy_ym[['geometry','objectid', 'mukey', 'mean']]"
   ]
  },
  {
   "cell_type": "code",
   "execution_count": 14,
   "metadata": {},
   "outputs": [],
   "source": [
    "#get predictions\n",
    "default_apsim_pred = ebilsland_soy_output_2019_default[['mukey', 'soy_buac']]\n",
    "saxton_apsim_pred = ebilsland_soy_output_2019_saxton[['mukey', 'soy_buac']]"
   ]
  },
  {
   "cell_type": "code",
   "execution_count": 16,
   "metadata": {},
   "outputs": [
    {
     "output_type": "execute_result",
     "data": {
      "text/plain": "                                             geometry  objectid    mukey  \\\n0   0106000000010000000103000000010000001A0000000D...  13447276  2550285   \n2   0106000000010000000103000000010000001700000065...  13455735  2765522   \n3   0106000000010000000103000000010000003B00000079...  13458179  2765522   \n4   01060000000100000001030000000100000010000000D5...  13458216  2765522   \n5   0106000000010000000103000000010000000A00000043...  13458451  2765522   \n6   01060000000100000001030000000100000061000000BB...  13461421  2765522   \n9   01060000000100000001030000000100000012000000A7...  13470727  2834849   \n10  0106000000010000000103000000010000000A000000C8...  13471951  2834849   \n11  01060000000200000001030000000100000004000000F9...  13472028  2834849   \n1   0106000000010000000103000000010000000D00000018...  13449079  2835012   \n12  01060000000100000001030000000200000053000000C0...  13473439  2835146   \n7   0106000000010000000103000000010000002200000040...  13466907  2922007   \n8   01060000000900000001030000000100000008000000E8...  13467687  2922007   \n\n    observed  predicted     resid  \n0      54.85   60.53773   5.68773  \n2      57.86   61.65388   3.79388  \n3      59.02   61.65388   2.63388  \n4      42.74   61.65388  18.91388  \n5      65.46   61.65388  -3.80612  \n6      62.06   61.65388  -0.40612  \n9      57.68   61.65155   3.97155  \n10     52.51   61.65155   9.14155  \n11     47.02   61.65155  14.63155  \n1      65.52   61.63638  -3.88362  \n12     57.84   61.65388   3.81388  \n7      62.84   61.63858  -1.20142  \n8      60.89   61.63858   0.74858  ",
      "text/html": "<div>\n<style scoped>\n    .dataframe tbody tr th:only-of-type {\n        vertical-align: middle;\n    }\n\n    .dataframe tbody tr th {\n        vertical-align: top;\n    }\n\n    .dataframe thead th {\n        text-align: right;\n    }\n</style>\n<table border=\"1\" class=\"dataframe\">\n  <thead>\n    <tr style=\"text-align: right;\">\n      <th></th>\n      <th>geometry</th>\n      <th>objectid</th>\n      <th>mukey</th>\n      <th>observed</th>\n      <th>predicted</th>\n      <th>resid</th>\n    </tr>\n  </thead>\n  <tbody>\n    <tr>\n      <th>0</th>\n      <td>0106000000010000000103000000010000001A0000000D...</td>\n      <td>13447276</td>\n      <td>2550285</td>\n      <td>54.85</td>\n      <td>60.53773</td>\n      <td>5.68773</td>\n    </tr>\n    <tr>\n      <th>2</th>\n      <td>0106000000010000000103000000010000001700000065...</td>\n      <td>13455735</td>\n      <td>2765522</td>\n      <td>57.86</td>\n      <td>61.65388</td>\n      <td>3.79388</td>\n    </tr>\n    <tr>\n      <th>3</th>\n      <td>0106000000010000000103000000010000003B00000079...</td>\n      <td>13458179</td>\n      <td>2765522</td>\n      <td>59.02</td>\n      <td>61.65388</td>\n      <td>2.63388</td>\n    </tr>\n    <tr>\n      <th>4</th>\n      <td>01060000000100000001030000000100000010000000D5...</td>\n      <td>13458216</td>\n      <td>2765522</td>\n      <td>42.74</td>\n      <td>61.65388</td>\n      <td>18.91388</td>\n    </tr>\n    <tr>\n      <th>5</th>\n      <td>0106000000010000000103000000010000000A00000043...</td>\n      <td>13458451</td>\n      <td>2765522</td>\n      <td>65.46</td>\n      <td>61.65388</td>\n      <td>-3.80612</td>\n    </tr>\n    <tr>\n      <th>6</th>\n      <td>01060000000100000001030000000100000061000000BB...</td>\n      <td>13461421</td>\n      <td>2765522</td>\n      <td>62.06</td>\n      <td>61.65388</td>\n      <td>-0.40612</td>\n    </tr>\n    <tr>\n      <th>9</th>\n      <td>01060000000100000001030000000100000012000000A7...</td>\n      <td>13470727</td>\n      <td>2834849</td>\n      <td>57.68</td>\n      <td>61.65155</td>\n      <td>3.97155</td>\n    </tr>\n    <tr>\n      <th>10</th>\n      <td>0106000000010000000103000000010000000A000000C8...</td>\n      <td>13471951</td>\n      <td>2834849</td>\n      <td>52.51</td>\n      <td>61.65155</td>\n      <td>9.14155</td>\n    </tr>\n    <tr>\n      <th>11</th>\n      <td>01060000000200000001030000000100000004000000F9...</td>\n      <td>13472028</td>\n      <td>2834849</td>\n      <td>47.02</td>\n      <td>61.65155</td>\n      <td>14.63155</td>\n    </tr>\n    <tr>\n      <th>1</th>\n      <td>0106000000010000000103000000010000000D00000018...</td>\n      <td>13449079</td>\n      <td>2835012</td>\n      <td>65.52</td>\n      <td>61.63638</td>\n      <td>-3.88362</td>\n    </tr>\n    <tr>\n      <th>12</th>\n      <td>01060000000100000001030000000200000053000000C0...</td>\n      <td>13473439</td>\n      <td>2835146</td>\n      <td>57.84</td>\n      <td>61.65388</td>\n      <td>3.81388</td>\n    </tr>\n    <tr>\n      <th>7</th>\n      <td>0106000000010000000103000000010000002200000040...</td>\n      <td>13466907</td>\n      <td>2922007</td>\n      <td>62.84</td>\n      <td>61.63858</td>\n      <td>-1.20142</td>\n    </tr>\n    <tr>\n      <th>8</th>\n      <td>01060000000900000001030000000100000008000000E8...</td>\n      <td>13467687</td>\n      <td>2922007</td>\n      <td>60.89</td>\n      <td>61.63858</td>\n      <td>0.74858</td>\n    </tr>\n  </tbody>\n</table>\n</div>"
     },
     "metadata": {},
     "execution_count": 16
    }
   ],
   "source": [
    "#merge to compare\n",
    "pred_vs_obs_saxton = ebilsland_soy_ym.merge(saxton_apsim_pred, on='mukey', how='left')\n",
    "pred_vs_obs_saxton.columns = ['geometry','objectid', 'mukey', 'observed', 'predicted']\n",
    "pred_vs_obs_saxton['resid'] = pred_vs_obs_saxton['predicted'] - pred_vs_obs_saxton['observed']\n",
    "pred_vs_obs_saxton.sort_values('mukey')\n",
    "pred_vs_obs_default = ebilsland_soy_ym.merge(default_apsim_pred, on='mukey', how='left')\n",
    "pred_vs_obs_default.columns = ['geometry','objectid', 'mukey', 'observed', 'predicted']\n",
    "pred_vs_obs_default['resid'] = pred_vs_obs_default['predicted'] - pred_vs_obs_default['observed']\n",
    "pred_vs_obs_default.sort_values('mukey')"
   ]
  },
  {
   "cell_type": "code",
   "execution_count": 17,
   "metadata": {},
   "outputs": [],
   "source": [
    "pred_vs_obs_default.to_csv(\"output/fit/ebilsland_pvo_soy_2019.csv\", index=False)"
   ]
  },
  {
   "cell_type": "code",
   "execution_count": 36,
   "metadata": {},
   "outputs": [
    {
     "output_type": "execute_result",
     "data": {
      "text/plain": "                                             geometry  objectid    mukey  \\\n0   0106000000010000000103000000010000001A0000000D...  13447276  2550285   \n1   0106000000010000000103000000010000000D00000018...  13449079  2835012   \n2   0106000000010000000103000000010000001700000065...  13455735  2765522   \n3   0106000000010000000103000000010000003B00000079...  13458179  2765522   \n4   01060000000100000001030000000100000010000000D5...  13458216  2765522   \n5   0106000000010000000103000000010000000A00000043...  13458451  2765522   \n6   01060000000100000001030000000100000061000000BB...  13461421  2765522   \n7   0106000000010000000103000000010000002200000040...  13466907  2922007   \n8   01060000000900000001030000000100000008000000E8...  13467687  2922007   \n9   01060000000100000001030000000100000012000000A7...  13470727  2834849   \n10  0106000000010000000103000000010000000A000000C8...  13471951  2834849   \n11  01060000000200000001030000000100000004000000F9...  13472028  2834849   \n12  01060000000100000001030000000200000053000000C0...  13473439  2835146   \n\n    observed  predicted     resid  \n0      54.85   60.53773   5.68773  \n1      65.52   61.63638  -3.88362  \n2      57.86   61.65388   3.79388  \n3      59.02   61.65388   2.63388  \n4      42.74   61.65388  18.91388  \n5      65.46   61.65388  -3.80612  \n6      62.06   61.65388  -0.40612  \n7      62.84   61.63858  -1.20142  \n8      60.89   61.63858   0.74858  \n9      57.68   61.65155   3.97155  \n10     52.51   61.65155   9.14155  \n11     47.02   61.65155  14.63155  \n12     57.84   61.65388   3.81388  ",
      "text/html": "<div>\n<style scoped>\n    .dataframe tbody tr th:only-of-type {\n        vertical-align: middle;\n    }\n\n    .dataframe tbody tr th {\n        vertical-align: top;\n    }\n\n    .dataframe thead th {\n        text-align: right;\n    }\n</style>\n<table border=\"1\" class=\"dataframe\">\n  <thead>\n    <tr style=\"text-align: right;\">\n      <th></th>\n      <th>geometry</th>\n      <th>objectid</th>\n      <th>mukey</th>\n      <th>observed</th>\n      <th>predicted</th>\n      <th>resid</th>\n    </tr>\n  </thead>\n  <tbody>\n    <tr>\n      <th>0</th>\n      <td>0106000000010000000103000000010000001A0000000D...</td>\n      <td>13447276</td>\n      <td>2550285</td>\n      <td>54.85</td>\n      <td>60.53773</td>\n      <td>5.68773</td>\n    </tr>\n    <tr>\n      <th>1</th>\n      <td>0106000000010000000103000000010000000D00000018...</td>\n      <td>13449079</td>\n      <td>2835012</td>\n      <td>65.52</td>\n      <td>61.63638</td>\n      <td>-3.88362</td>\n    </tr>\n    <tr>\n      <th>2</th>\n      <td>0106000000010000000103000000010000001700000065...</td>\n      <td>13455735</td>\n      <td>2765522</td>\n      <td>57.86</td>\n      <td>61.65388</td>\n      <td>3.79388</td>\n    </tr>\n    <tr>\n      <th>3</th>\n      <td>0106000000010000000103000000010000003B00000079...</td>\n      <td>13458179</td>\n      <td>2765522</td>\n      <td>59.02</td>\n      <td>61.65388</td>\n      <td>2.63388</td>\n    </tr>\n    <tr>\n      <th>4</th>\n      <td>01060000000100000001030000000100000010000000D5...</td>\n      <td>13458216</td>\n      <td>2765522</td>\n      <td>42.74</td>\n      <td>61.65388</td>\n      <td>18.91388</td>\n    </tr>\n    <tr>\n      <th>5</th>\n      <td>0106000000010000000103000000010000000A00000043...</td>\n      <td>13458451</td>\n      <td>2765522</td>\n      <td>65.46</td>\n      <td>61.65388</td>\n      <td>-3.80612</td>\n    </tr>\n    <tr>\n      <th>6</th>\n      <td>01060000000100000001030000000100000061000000BB...</td>\n      <td>13461421</td>\n      <td>2765522</td>\n      <td>62.06</td>\n      <td>61.65388</td>\n      <td>-0.40612</td>\n    </tr>\n    <tr>\n      <th>7</th>\n      <td>0106000000010000000103000000010000002200000040...</td>\n      <td>13466907</td>\n      <td>2922007</td>\n      <td>62.84</td>\n      <td>61.63858</td>\n      <td>-1.20142</td>\n    </tr>\n    <tr>\n      <th>8</th>\n      <td>01060000000900000001030000000100000008000000E8...</td>\n      <td>13467687</td>\n      <td>2922007</td>\n      <td>60.89</td>\n      <td>61.63858</td>\n      <td>0.74858</td>\n    </tr>\n    <tr>\n      <th>9</th>\n      <td>01060000000100000001030000000100000012000000A7...</td>\n      <td>13470727</td>\n      <td>2834849</td>\n      <td>57.68</td>\n      <td>61.65155</td>\n      <td>3.97155</td>\n    </tr>\n    <tr>\n      <th>10</th>\n      <td>0106000000010000000103000000010000000A000000C8...</td>\n      <td>13471951</td>\n      <td>2834849</td>\n      <td>52.51</td>\n      <td>61.65155</td>\n      <td>9.14155</td>\n    </tr>\n    <tr>\n      <th>11</th>\n      <td>01060000000200000001030000000100000004000000F9...</td>\n      <td>13472028</td>\n      <td>2834849</td>\n      <td>47.02</td>\n      <td>61.65155</td>\n      <td>14.63155</td>\n    </tr>\n    <tr>\n      <th>12</th>\n      <td>01060000000100000001030000000200000053000000C0...</td>\n      <td>13473439</td>\n      <td>2835146</td>\n      <td>57.84</td>\n      <td>61.65388</td>\n      <td>3.81388</td>\n    </tr>\n  </tbody>\n</table>\n</div>"
     },
     "metadata": {},
     "execution_count": 36
    }
   ],
   "source": [
    "pred_vs_obs_default"
   ]
  },
  {
   "cell_type": "markdown",
   "metadata": {},
   "source": [
    "## Results from 'default' soil calculations"
   ]
  },
  {
   "cell_type": "markdown",
   "metadata": {},
   "source": [
    "Round the buac and store in tuples to preserve order for comparison."
   ]
  },
  {
   "cell_type": "code",
   "execution_count": 38,
   "metadata": {},
   "outputs": [],
   "source": [
    "yield_monitor = tuple(pred_vs_obs_default['observed'])\n",
    "yield_monitor = [round(num, 2) for num in yield_monitor]\n",
    "def_apsim_predicted = tuple(pred_vs_obs_default['predicted'])\n",
    "def_apsim_predicted = [round(num, 2) for num in def_apsim_predicted]"
   ]
  },
  {
   "cell_type": "code",
   "execution_count": 39,
   "metadata": {},
   "outputs": [
    {
     "output_type": "display_data",
     "data": {
      "text/plain": "<Figure size 432x288 with 1 Axes>",
      "image/svg+xml": "<?xml version=\"1.0\" encoding=\"utf-8\" standalone=\"no\"?>\r\n<!DOCTYPE svg PUBLIC \"-//W3C//DTD SVG 1.1//EN\"\r\n  \"http://www.w3.org/Graphics/SVG/1.1/DTD/svg11.dtd\">\r\n<!-- Created with matplotlib (https://matplotlib.org/) -->\r\n<svg height=\"262.19625pt\" version=\"1.1\" viewBox=\"0 0 382.603125 262.19625\" width=\"382.603125pt\" xmlns=\"http://www.w3.org/2000/svg\" xmlns:xlink=\"http://www.w3.org/1999/xlink\">\r\n <defs>\r\n  <style type=\"text/css\">\r\n*{stroke-linecap:butt;stroke-linejoin:round;}\r\n  </style>\r\n </defs>\r\n <g id=\"figure_1\">\r\n  <g id=\"patch_1\">\r\n   <path d=\"M 0 262.19625 \r\nL 382.603125 262.19625 \r\nL 382.603125 0 \r\nL 0 0 \r\nz\r\n\" style=\"fill:none;\"/>\r\n  </g>\r\n  <g id=\"axes_1\">\r\n   <g id=\"patch_2\">\r\n    <path d=\"M 40.603125 224.64 \r\nL 375.403125 224.64 \r\nL 375.403125 7.2 \r\nL 40.603125 7.2 \r\nz\r\n\" style=\"fill:#ffffff;\"/>\r\n   </g>\r\n   <g id=\"PathCollection_1\">\r\n    <defs>\r\n     <path d=\"M 0 3 \r\nC 0.795609 3 1.55874 2.683901 2.12132 2.12132 \r\nC 2.683901 1.55874 3 0.795609 3 0 \r\nC 3 -0.795609 2.683901 -1.55874 2.12132 -2.12132 \r\nC 1.55874 -2.683901 0.795609 -3 0 -3 \r\nC -0.795609 -3 -1.55874 -2.683901 -2.12132 -2.12132 \r\nC -2.683901 -1.55874 -3 -0.795609 -3 0 \r\nC -3 0.795609 -2.683901 1.55874 -2.12132 2.12132 \r\nC -1.55874 2.683901 -0.795609 3 0 3 \r\nz\r\n\" id=\"m6ca791b455\" style=\"stroke:#1f77b4;\"/>\r\n    </defs>\r\n    <g clip-path=\"url(#p76daa9de1b)\">\r\n     <use style=\"fill:#1f77b4;stroke:#1f77b4;\" x=\"207.090034\" xlink:href=\"#m6ca791b455\" y=\"94.017862\"/>\r\n     <use style=\"fill:#1f77b4;stroke:#1f77b4;\" x=\"272.041234\" xlink:href=\"#m6ca791b455\" y=\"89.669062\"/>\r\n     <use style=\"fill:#1f77b4;stroke:#1f77b4;\" x=\"225.412725\" xlink:href=\"#m6ca791b455\" y=\"89.629527\"/>\r\n     <use style=\"fill:#1f77b4;stroke:#1f77b4;\" x=\"232.473961\" xlink:href=\"#m6ca791b455\" y=\"89.629527\"/>\r\n     <use style=\"fill:#1f77b4;stroke:#1f77b4;\" x=\"133.373161\" xlink:href=\"#m6ca791b455\" y=\"89.629527\"/>\r\n     <use style=\"fill:#1f77b4;stroke:#1f77b4;\" x=\"271.675998\" xlink:href=\"#m6ca791b455\" y=\"89.629527\"/>\r\n     <use style=\"fill:#1f77b4;stroke:#1f77b4;\" x=\"250.97927\" xlink:href=\"#m6ca791b455\" y=\"89.629527\"/>\r\n     <use style=\"fill:#1f77b4;stroke:#1f77b4;\" x=\"255.727343\" xlink:href=\"#m6ca791b455\" y=\"89.669062\"/>\r\n     <use style=\"fill:#1f77b4;stroke:#1f77b4;\" x=\"243.857161\" xlink:href=\"#m6ca791b455\" y=\"89.669062\"/>\r\n     <use style=\"fill:#1f77b4;stroke:#1f77b4;\" x=\"224.317016\" xlink:href=\"#m6ca791b455\" y=\"89.629527\"/>\r\n     <use style=\"fill:#1f77b4;stroke:#1f77b4;\" x=\"192.845816\" xlink:href=\"#m6ca791b455\" y=\"89.629527\"/>\r\n     <use style=\"fill:#1f77b4;stroke:#1f77b4;\" x=\"159.426689\" xlink:href=\"#m6ca791b455\" y=\"89.629527\"/>\r\n     <use style=\"fill:#1f77b4;stroke:#1f77b4;\" x=\"225.29098\" xlink:href=\"#m6ca791b455\" y=\"89.629527\"/>\r\n    </g>\r\n   </g>\r\n   <g id=\"matplotlib.axis_1\">\r\n    <g id=\"xtick_1\">\r\n     <g id=\"line2d_1\">\r\n      <defs>\r\n       <path d=\"M 0 0 \r\nL 0 3.5 \r\n\" id=\"md8c9722af8\" style=\"stroke:#000000;stroke-width:0.8;\"/>\r\n      </defs>\r\n      <g>\r\n       <use style=\"stroke:#000000;stroke-width:0.8;\" x=\"55.821307\" xlink:href=\"#md8c9722af8\" y=\"224.64\"/>\r\n      </g>\r\n     </g>\r\n     <g id=\"text_1\">\r\n      <!-- 30 -->\r\n      <defs>\r\n       <path d=\"M 40.578125 39.3125 \r\nQ 47.65625 37.796875 51.625 33 \r\nQ 55.609375 28.21875 55.609375 21.1875 \r\nQ 55.609375 10.40625 48.1875 4.484375 \r\nQ 40.765625 -1.421875 27.09375 -1.421875 \r\nQ 22.515625 -1.421875 17.65625 -0.515625 \r\nQ 12.796875 0.390625 7.625 2.203125 \r\nL 7.625 11.71875 \r\nQ 11.71875 9.328125 16.59375 8.109375 \r\nQ 21.484375 6.890625 26.8125 6.890625 \r\nQ 36.078125 6.890625 40.9375 10.546875 \r\nQ 45.796875 14.203125 45.796875 21.1875 \r\nQ 45.796875 27.640625 41.28125 31.265625 \r\nQ 36.765625 34.90625 28.71875 34.90625 \r\nL 20.21875 34.90625 \r\nL 20.21875 43.015625 \r\nL 29.109375 43.015625 \r\nQ 36.375 43.015625 40.234375 45.921875 \r\nQ 44.09375 48.828125 44.09375 54.296875 \r\nQ 44.09375 59.90625 40.109375 62.90625 \r\nQ 36.140625 65.921875 28.71875 65.921875 \r\nQ 24.65625 65.921875 20.015625 65.03125 \r\nQ 15.375 64.15625 9.8125 62.3125 \r\nL 9.8125 71.09375 \r\nQ 15.4375 72.65625 20.34375 73.4375 \r\nQ 25.25 74.21875 29.59375 74.21875 \r\nQ 40.828125 74.21875 47.359375 69.109375 \r\nQ 53.90625 64.015625 53.90625 55.328125 \r\nQ 53.90625 49.265625 50.4375 45.09375 \r\nQ 46.96875 40.921875 40.578125 39.3125 \r\nz\r\n\" id=\"DejaVuSans-51\"/>\r\n       <path d=\"M 31.78125 66.40625 \r\nQ 24.171875 66.40625 20.328125 58.90625 \r\nQ 16.5 51.421875 16.5 36.375 \r\nQ 16.5 21.390625 20.328125 13.890625 \r\nQ 24.171875 6.390625 31.78125 6.390625 \r\nQ 39.453125 6.390625 43.28125 13.890625 \r\nQ 47.125 21.390625 47.125 36.375 \r\nQ 47.125 51.421875 43.28125 58.90625 \r\nQ 39.453125 66.40625 31.78125 66.40625 \r\nz\r\nM 31.78125 74.21875 \r\nQ 44.046875 74.21875 50.515625 64.515625 \r\nQ 56.984375 54.828125 56.984375 36.375 \r\nQ 56.984375 17.96875 50.515625 8.265625 \r\nQ 44.046875 -1.421875 31.78125 -1.421875 \r\nQ 19.53125 -1.421875 13.0625 8.265625 \r\nQ 6.59375 17.96875 6.59375 36.375 \r\nQ 6.59375 54.828125 13.0625 64.515625 \r\nQ 19.53125 74.21875 31.78125 74.21875 \r\nz\r\n\" id=\"DejaVuSans-48\"/>\r\n      </defs>\r\n      <g transform=\"translate(49.458807 239.238437)scale(0.1 -0.1)\">\r\n       <use xlink:href=\"#DejaVuSans-51\"/>\r\n       <use x=\"63.623047\" xlink:href=\"#DejaVuSans-48\"/>\r\n      </g>\r\n     </g>\r\n    </g>\r\n    <g id=\"xtick_2\">\r\n     <g id=\"line2d_2\">\r\n      <g>\r\n       <use style=\"stroke:#000000;stroke-width:0.8;\" x=\"116.694034\" xlink:href=\"#md8c9722af8\" y=\"224.64\"/>\r\n      </g>\r\n     </g>\r\n     <g id=\"text_2\">\r\n      <!-- 40 -->\r\n      <defs>\r\n       <path d=\"M 37.796875 64.3125 \r\nL 12.890625 25.390625 \r\nL 37.796875 25.390625 \r\nz\r\nM 35.203125 72.90625 \r\nL 47.609375 72.90625 \r\nL 47.609375 25.390625 \r\nL 58.015625 25.390625 \r\nL 58.015625 17.1875 \r\nL 47.609375 17.1875 \r\nL 47.609375 0 \r\nL 37.796875 0 \r\nL 37.796875 17.1875 \r\nL 4.890625 17.1875 \r\nL 4.890625 26.703125 \r\nz\r\n\" id=\"DejaVuSans-52\"/>\r\n      </defs>\r\n      <g transform=\"translate(110.331534 239.238437)scale(0.1 -0.1)\">\r\n       <use xlink:href=\"#DejaVuSans-52\"/>\r\n       <use x=\"63.623047\" xlink:href=\"#DejaVuSans-48\"/>\r\n      </g>\r\n     </g>\r\n    </g>\r\n    <g id=\"xtick_3\">\r\n     <g id=\"line2d_3\">\r\n      <g>\r\n       <use style=\"stroke:#000000;stroke-width:0.8;\" x=\"177.566761\" xlink:href=\"#md8c9722af8\" y=\"224.64\"/>\r\n      </g>\r\n     </g>\r\n     <g id=\"text_3\">\r\n      <!-- 50 -->\r\n      <defs>\r\n       <path d=\"M 10.796875 72.90625 \r\nL 49.515625 72.90625 \r\nL 49.515625 64.59375 \r\nL 19.828125 64.59375 \r\nL 19.828125 46.734375 \r\nQ 21.96875 47.46875 24.109375 47.828125 \r\nQ 26.265625 48.1875 28.421875 48.1875 \r\nQ 40.625 48.1875 47.75 41.5 \r\nQ 54.890625 34.8125 54.890625 23.390625 \r\nQ 54.890625 11.625 47.5625 5.09375 \r\nQ 40.234375 -1.421875 26.90625 -1.421875 \r\nQ 22.3125 -1.421875 17.546875 -0.640625 \r\nQ 12.796875 0.140625 7.71875 1.703125 \r\nL 7.71875 11.625 \r\nQ 12.109375 9.234375 16.796875 8.0625 \r\nQ 21.484375 6.890625 26.703125 6.890625 \r\nQ 35.15625 6.890625 40.078125 11.328125 \r\nQ 45.015625 15.765625 45.015625 23.390625 \r\nQ 45.015625 31 40.078125 35.4375 \r\nQ 35.15625 39.890625 26.703125 39.890625 \r\nQ 22.75 39.890625 18.8125 39.015625 \r\nQ 14.890625 38.140625 10.796875 36.28125 \r\nz\r\n\" id=\"DejaVuSans-53\"/>\r\n      </defs>\r\n      <g transform=\"translate(171.204261 239.238437)scale(0.1 -0.1)\">\r\n       <use xlink:href=\"#DejaVuSans-53\"/>\r\n       <use x=\"63.623047\" xlink:href=\"#DejaVuSans-48\"/>\r\n      </g>\r\n     </g>\r\n    </g>\r\n    <g id=\"xtick_4\">\r\n     <g id=\"line2d_4\">\r\n      <g>\r\n       <use style=\"stroke:#000000;stroke-width:0.8;\" x=\"238.439489\" xlink:href=\"#md8c9722af8\" y=\"224.64\"/>\r\n      </g>\r\n     </g>\r\n     <g id=\"text_4\">\r\n      <!-- 60 -->\r\n      <defs>\r\n       <path d=\"M 33.015625 40.375 \r\nQ 26.375 40.375 22.484375 35.828125 \r\nQ 18.609375 31.296875 18.609375 23.390625 \r\nQ 18.609375 15.53125 22.484375 10.953125 \r\nQ 26.375 6.390625 33.015625 6.390625 \r\nQ 39.65625 6.390625 43.53125 10.953125 \r\nQ 47.40625 15.53125 47.40625 23.390625 \r\nQ 47.40625 31.296875 43.53125 35.828125 \r\nQ 39.65625 40.375 33.015625 40.375 \r\nz\r\nM 52.59375 71.296875 \r\nL 52.59375 62.3125 \r\nQ 48.875 64.0625 45.09375 64.984375 \r\nQ 41.3125 65.921875 37.59375 65.921875 \r\nQ 27.828125 65.921875 22.671875 59.328125 \r\nQ 17.53125 52.734375 16.796875 39.40625 \r\nQ 19.671875 43.65625 24.015625 45.921875 \r\nQ 28.375 48.1875 33.59375 48.1875 \r\nQ 44.578125 48.1875 50.953125 41.515625 \r\nQ 57.328125 34.859375 57.328125 23.390625 \r\nQ 57.328125 12.15625 50.6875 5.359375 \r\nQ 44.046875 -1.421875 33.015625 -1.421875 \r\nQ 20.359375 -1.421875 13.671875 8.265625 \r\nQ 6.984375 17.96875 6.984375 36.375 \r\nQ 6.984375 53.65625 15.1875 63.9375 \r\nQ 23.390625 74.21875 37.203125 74.21875 \r\nQ 40.921875 74.21875 44.703125 73.484375 \r\nQ 48.484375 72.75 52.59375 71.296875 \r\nz\r\n\" id=\"DejaVuSans-54\"/>\r\n      </defs>\r\n      <g transform=\"translate(232.076989 239.238437)scale(0.1 -0.1)\">\r\n       <use xlink:href=\"#DejaVuSans-54\"/>\r\n       <use x=\"63.623047\" xlink:href=\"#DejaVuSans-48\"/>\r\n      </g>\r\n     </g>\r\n    </g>\r\n    <g id=\"xtick_5\">\r\n     <g id=\"line2d_5\">\r\n      <g>\r\n       <use style=\"stroke:#000000;stroke-width:0.8;\" x=\"299.312216\" xlink:href=\"#md8c9722af8\" y=\"224.64\"/>\r\n      </g>\r\n     </g>\r\n     <g id=\"text_5\">\r\n      <!-- 70 -->\r\n      <defs>\r\n       <path d=\"M 8.203125 72.90625 \r\nL 55.078125 72.90625 \r\nL 55.078125 68.703125 \r\nL 28.609375 0 \r\nL 18.3125 0 \r\nL 43.21875 64.59375 \r\nL 8.203125 64.59375 \r\nz\r\n\" id=\"DejaVuSans-55\"/>\r\n      </defs>\r\n      <g transform=\"translate(292.949716 239.238437)scale(0.1 -0.1)\">\r\n       <use xlink:href=\"#DejaVuSans-55\"/>\r\n       <use x=\"63.623047\" xlink:href=\"#DejaVuSans-48\"/>\r\n      </g>\r\n     </g>\r\n    </g>\r\n    <g id=\"xtick_6\">\r\n     <g id=\"line2d_6\">\r\n      <g>\r\n       <use style=\"stroke:#000000;stroke-width:0.8;\" x=\"360.184943\" xlink:href=\"#md8c9722af8\" y=\"224.64\"/>\r\n      </g>\r\n     </g>\r\n     <g id=\"text_6\">\r\n      <!-- 80 -->\r\n      <defs>\r\n       <path d=\"M 31.78125 34.625 \r\nQ 24.75 34.625 20.71875 30.859375 \r\nQ 16.703125 27.09375 16.703125 20.515625 \r\nQ 16.703125 13.921875 20.71875 10.15625 \r\nQ 24.75 6.390625 31.78125 6.390625 \r\nQ 38.8125 6.390625 42.859375 10.171875 \r\nQ 46.921875 13.96875 46.921875 20.515625 \r\nQ 46.921875 27.09375 42.890625 30.859375 \r\nQ 38.875 34.625 31.78125 34.625 \r\nz\r\nM 21.921875 38.8125 \r\nQ 15.578125 40.375 12.03125 44.71875 \r\nQ 8.5 49.078125 8.5 55.328125 \r\nQ 8.5 64.0625 14.71875 69.140625 \r\nQ 20.953125 74.21875 31.78125 74.21875 \r\nQ 42.671875 74.21875 48.875 69.140625 \r\nQ 55.078125 64.0625 55.078125 55.328125 \r\nQ 55.078125 49.078125 51.53125 44.71875 \r\nQ 48 40.375 41.703125 38.8125 \r\nQ 48.828125 37.15625 52.796875 32.3125 \r\nQ 56.78125 27.484375 56.78125 20.515625 \r\nQ 56.78125 9.90625 50.3125 4.234375 \r\nQ 43.84375 -1.421875 31.78125 -1.421875 \r\nQ 19.734375 -1.421875 13.25 4.234375 \r\nQ 6.78125 9.90625 6.78125 20.515625 \r\nQ 6.78125 27.484375 10.78125 32.3125 \r\nQ 14.796875 37.15625 21.921875 38.8125 \r\nz\r\nM 18.3125 54.390625 \r\nQ 18.3125 48.734375 21.84375 45.5625 \r\nQ 25.390625 42.390625 31.78125 42.390625 \r\nQ 38.140625 42.390625 41.71875 45.5625 \r\nQ 45.3125 48.734375 45.3125 54.390625 \r\nQ 45.3125 60.0625 41.71875 63.234375 \r\nQ 38.140625 66.40625 31.78125 66.40625 \r\nQ 25.390625 66.40625 21.84375 63.234375 \r\nQ 18.3125 60.0625 18.3125 54.390625 \r\nz\r\n\" id=\"DejaVuSans-56\"/>\r\n      </defs>\r\n      <g transform=\"translate(353.822443 239.238437)scale(0.1 -0.1)\">\r\n       <use xlink:href=\"#DejaVuSans-56\"/>\r\n       <use x=\"63.623047\" xlink:href=\"#DejaVuSans-48\"/>\r\n      </g>\r\n     </g>\r\n    </g>\r\n    <g id=\"text_7\">\r\n     <!-- Measured -->\r\n     <defs>\r\n      <path d=\"M 9.8125 72.90625 \r\nL 24.515625 72.90625 \r\nL 43.109375 23.296875 \r\nL 61.8125 72.90625 \r\nL 76.515625 72.90625 \r\nL 76.515625 0 \r\nL 66.890625 0 \r\nL 66.890625 64.015625 \r\nL 48.09375 14.015625 \r\nL 38.1875 14.015625 \r\nL 19.390625 64.015625 \r\nL 19.390625 0 \r\nL 9.8125 0 \r\nz\r\n\" id=\"DejaVuSans-77\"/>\r\n      <path d=\"M 56.203125 29.59375 \r\nL 56.203125 25.203125 \r\nL 14.890625 25.203125 \r\nQ 15.484375 15.921875 20.484375 11.0625 \r\nQ 25.484375 6.203125 34.421875 6.203125 \r\nQ 39.59375 6.203125 44.453125 7.46875 \r\nQ 49.3125 8.734375 54.109375 11.28125 \r\nL 54.109375 2.78125 \r\nQ 49.265625 0.734375 44.1875 -0.34375 \r\nQ 39.109375 -1.421875 33.890625 -1.421875 \r\nQ 20.796875 -1.421875 13.15625 6.1875 \r\nQ 5.515625 13.8125 5.515625 26.8125 \r\nQ 5.515625 40.234375 12.765625 48.109375 \r\nQ 20.015625 56 32.328125 56 \r\nQ 43.359375 56 49.78125 48.890625 \r\nQ 56.203125 41.796875 56.203125 29.59375 \r\nz\r\nM 47.21875 32.234375 \r\nQ 47.125 39.59375 43.09375 43.984375 \r\nQ 39.0625 48.390625 32.421875 48.390625 \r\nQ 24.90625 48.390625 20.390625 44.140625 \r\nQ 15.875 39.890625 15.1875 32.171875 \r\nz\r\n\" id=\"DejaVuSans-101\"/>\r\n      <path d=\"M 34.28125 27.484375 \r\nQ 23.390625 27.484375 19.1875 25 \r\nQ 14.984375 22.515625 14.984375 16.5 \r\nQ 14.984375 11.71875 18.140625 8.90625 \r\nQ 21.296875 6.109375 26.703125 6.109375 \r\nQ 34.1875 6.109375 38.703125 11.40625 \r\nQ 43.21875 16.703125 43.21875 25.484375 \r\nL 43.21875 27.484375 \r\nz\r\nM 52.203125 31.203125 \r\nL 52.203125 0 \r\nL 43.21875 0 \r\nL 43.21875 8.296875 \r\nQ 40.140625 3.328125 35.546875 0.953125 \r\nQ 30.953125 -1.421875 24.3125 -1.421875 \r\nQ 15.921875 -1.421875 10.953125 3.296875 \r\nQ 6 8.015625 6 15.921875 \r\nQ 6 25.140625 12.171875 29.828125 \r\nQ 18.359375 34.515625 30.609375 34.515625 \r\nL 43.21875 34.515625 \r\nL 43.21875 35.40625 \r\nQ 43.21875 41.609375 39.140625 45 \r\nQ 35.0625 48.390625 27.6875 48.390625 \r\nQ 23 48.390625 18.546875 47.265625 \r\nQ 14.109375 46.140625 10.015625 43.890625 \r\nL 10.015625 52.203125 \r\nQ 14.9375 54.109375 19.578125 55.046875 \r\nQ 24.21875 56 28.609375 56 \r\nQ 40.484375 56 46.34375 49.84375 \r\nQ 52.203125 43.703125 52.203125 31.203125 \r\nz\r\n\" id=\"DejaVuSans-97\"/>\r\n      <path d=\"M 44.28125 53.078125 \r\nL 44.28125 44.578125 \r\nQ 40.484375 46.53125 36.375 47.5 \r\nQ 32.28125 48.484375 27.875 48.484375 \r\nQ 21.1875 48.484375 17.84375 46.4375 \r\nQ 14.5 44.390625 14.5 40.28125 \r\nQ 14.5 37.15625 16.890625 35.375 \r\nQ 19.28125 33.59375 26.515625 31.984375 \r\nL 29.59375 31.296875 \r\nQ 39.15625 29.25 43.1875 25.515625 \r\nQ 47.21875 21.78125 47.21875 15.09375 \r\nQ 47.21875 7.46875 41.1875 3.015625 \r\nQ 35.15625 -1.421875 24.609375 -1.421875 \r\nQ 20.21875 -1.421875 15.453125 -0.5625 \r\nQ 10.6875 0.296875 5.421875 2 \r\nL 5.421875 11.28125 \r\nQ 10.40625 8.6875 15.234375 7.390625 \r\nQ 20.0625 6.109375 24.8125 6.109375 \r\nQ 31.15625 6.109375 34.5625 8.28125 \r\nQ 37.984375 10.453125 37.984375 14.40625 \r\nQ 37.984375 18.0625 35.515625 20.015625 \r\nQ 33.0625 21.96875 24.703125 23.78125 \r\nL 21.578125 24.515625 \r\nQ 13.234375 26.265625 9.515625 29.90625 \r\nQ 5.8125 33.546875 5.8125 39.890625 \r\nQ 5.8125 47.609375 11.28125 51.796875 \r\nQ 16.75 56 26.8125 56 \r\nQ 31.78125 56 36.171875 55.265625 \r\nQ 40.578125 54.546875 44.28125 53.078125 \r\nz\r\n\" id=\"DejaVuSans-115\"/>\r\n      <path d=\"M 8.5 21.578125 \r\nL 8.5 54.6875 \r\nL 17.484375 54.6875 \r\nL 17.484375 21.921875 \r\nQ 17.484375 14.15625 20.5 10.265625 \r\nQ 23.53125 6.390625 29.59375 6.390625 \r\nQ 36.859375 6.390625 41.078125 11.03125 \r\nQ 45.3125 15.671875 45.3125 23.6875 \r\nL 45.3125 54.6875 \r\nL 54.296875 54.6875 \r\nL 54.296875 0 \r\nL 45.3125 0 \r\nL 45.3125 8.40625 \r\nQ 42.046875 3.421875 37.71875 1 \r\nQ 33.40625 -1.421875 27.6875 -1.421875 \r\nQ 18.265625 -1.421875 13.375 4.4375 \r\nQ 8.5 10.296875 8.5 21.578125 \r\nz\r\nM 31.109375 56 \r\nz\r\n\" id=\"DejaVuSans-117\"/>\r\n      <path d=\"M 41.109375 46.296875 \r\nQ 39.59375 47.171875 37.8125 47.578125 \r\nQ 36.03125 48 33.890625 48 \r\nQ 26.265625 48 22.1875 43.046875 \r\nQ 18.109375 38.09375 18.109375 28.8125 \r\nL 18.109375 0 \r\nL 9.078125 0 \r\nL 9.078125 54.6875 \r\nL 18.109375 54.6875 \r\nL 18.109375 46.1875 \r\nQ 20.953125 51.171875 25.484375 53.578125 \r\nQ 30.03125 56 36.53125 56 \r\nQ 37.453125 56 38.578125 55.875 \r\nQ 39.703125 55.765625 41.0625 55.515625 \r\nz\r\n\" id=\"DejaVuSans-114\"/>\r\n      <path d=\"M 45.40625 46.390625 \r\nL 45.40625 75.984375 \r\nL 54.390625 75.984375 \r\nL 54.390625 0 \r\nL 45.40625 0 \r\nL 45.40625 8.203125 \r\nQ 42.578125 3.328125 38.25 0.953125 \r\nQ 33.9375 -1.421875 27.875 -1.421875 \r\nQ 17.96875 -1.421875 11.734375 6.484375 \r\nQ 5.515625 14.40625 5.515625 27.296875 \r\nQ 5.515625 40.1875 11.734375 48.09375 \r\nQ 17.96875 56 27.875 56 \r\nQ 33.9375 56 38.25 53.625 \r\nQ 42.578125 51.265625 45.40625 46.390625 \r\nz\r\nM 14.796875 27.296875 \r\nQ 14.796875 17.390625 18.875 11.75 \r\nQ 22.953125 6.109375 30.078125 6.109375 \r\nQ 37.203125 6.109375 41.296875 11.75 \r\nQ 45.40625 17.390625 45.40625 27.296875 \r\nQ 45.40625 37.203125 41.296875 42.84375 \r\nQ 37.203125 48.484375 30.078125 48.484375 \r\nQ 22.953125 48.484375 18.875 42.84375 \r\nQ 14.796875 37.203125 14.796875 27.296875 \r\nz\r\n\" id=\"DejaVuSans-100\"/>\r\n     </defs>\r\n     <g transform=\"translate(183.58125 252.916562)scale(0.1 -0.1)\">\r\n      <use xlink:href=\"#DejaVuSans-77\"/>\r\n      <use x=\"86.279297\" xlink:href=\"#DejaVuSans-101\"/>\r\n      <use x=\"147.802734\" xlink:href=\"#DejaVuSans-97\"/>\r\n      <use x=\"209.082031\" xlink:href=\"#DejaVuSans-115\"/>\r\n      <use x=\"261.181641\" xlink:href=\"#DejaVuSans-117\"/>\r\n      <use x=\"324.560547\" xlink:href=\"#DejaVuSans-114\"/>\r\n      <use x=\"363.423828\" xlink:href=\"#DejaVuSans-101\"/>\r\n      <use x=\"424.947266\" xlink:href=\"#DejaVuSans-100\"/>\r\n     </g>\r\n    </g>\r\n   </g>\r\n   <g id=\"matplotlib.axis_2\">\r\n    <g id=\"ytick_1\">\r\n     <g id=\"line2d_7\">\r\n      <defs>\r\n       <path d=\"M 0 0 \r\nL -3.5 0 \r\n\" id=\"m0fd3911b24\" style=\"stroke:#000000;stroke-width:0.8;\"/>\r\n      </defs>\r\n      <g>\r\n       <use style=\"stroke:#000000;stroke-width:0.8;\" x=\"40.603125\" xlink:href=\"#m0fd3911b24\" y=\"214.756364\"/>\r\n      </g>\r\n     </g>\r\n     <g id=\"text_8\">\r\n      <!-- 30 -->\r\n      <g transform=\"translate(20.878125 218.555582)scale(0.1 -0.1)\">\r\n       <use xlink:href=\"#DejaVuSans-51\"/>\r\n       <use x=\"63.623047\" xlink:href=\"#DejaVuSans-48\"/>\r\n      </g>\r\n     </g>\r\n    </g>\r\n    <g id=\"ytick_2\">\r\n     <g id=\"line2d_8\">\r\n      <g>\r\n       <use style=\"stroke:#000000;stroke-width:0.8;\" x=\"40.603125\" xlink:href=\"#m0fd3911b24\" y=\"175.221818\"/>\r\n      </g>\r\n     </g>\r\n     <g id=\"text_9\">\r\n      <!-- 40 -->\r\n      <g transform=\"translate(20.878125 179.021037)scale(0.1 -0.1)\">\r\n       <use xlink:href=\"#DejaVuSans-52\"/>\r\n       <use x=\"63.623047\" xlink:href=\"#DejaVuSans-48\"/>\r\n      </g>\r\n     </g>\r\n    </g>\r\n    <g id=\"ytick_3\">\r\n     <g id=\"line2d_9\">\r\n      <g>\r\n       <use style=\"stroke:#000000;stroke-width:0.8;\" x=\"40.603125\" xlink:href=\"#m0fd3911b24\" y=\"135.687273\"/>\r\n      </g>\r\n     </g>\r\n     <g id=\"text_10\">\r\n      <!-- 50 -->\r\n      <g transform=\"translate(20.878125 139.486491)scale(0.1 -0.1)\">\r\n       <use xlink:href=\"#DejaVuSans-53\"/>\r\n       <use x=\"63.623047\" xlink:href=\"#DejaVuSans-48\"/>\r\n      </g>\r\n     </g>\r\n    </g>\r\n    <g id=\"ytick_4\">\r\n     <g id=\"line2d_10\">\r\n      <g>\r\n       <use style=\"stroke:#000000;stroke-width:0.8;\" x=\"40.603125\" xlink:href=\"#m0fd3911b24\" y=\"96.152727\"/>\r\n      </g>\r\n     </g>\r\n     <g id=\"text_11\">\r\n      <!-- 60 -->\r\n      <g transform=\"translate(20.878125 99.951946)scale(0.1 -0.1)\">\r\n       <use xlink:href=\"#DejaVuSans-54\"/>\r\n       <use x=\"63.623047\" xlink:href=\"#DejaVuSans-48\"/>\r\n      </g>\r\n     </g>\r\n    </g>\r\n    <g id=\"ytick_5\">\r\n     <g id=\"line2d_11\">\r\n      <g>\r\n       <use style=\"stroke:#000000;stroke-width:0.8;\" x=\"40.603125\" xlink:href=\"#m0fd3911b24\" y=\"56.618182\"/>\r\n      </g>\r\n     </g>\r\n     <g id=\"text_12\">\r\n      <!-- 70 -->\r\n      <g transform=\"translate(20.878125 60.417401)scale(0.1 -0.1)\">\r\n       <use xlink:href=\"#DejaVuSans-55\"/>\r\n       <use x=\"63.623047\" xlink:href=\"#DejaVuSans-48\"/>\r\n      </g>\r\n     </g>\r\n    </g>\r\n    <g id=\"ytick_6\">\r\n     <g id=\"line2d_12\">\r\n      <g>\r\n       <use style=\"stroke:#000000;stroke-width:0.8;\" x=\"40.603125\" xlink:href=\"#m0fd3911b24\" y=\"17.083636\"/>\r\n      </g>\r\n     </g>\r\n     <g id=\"text_13\">\r\n      <!-- 80 -->\r\n      <g transform=\"translate(20.878125 20.882855)scale(0.1 -0.1)\">\r\n       <use xlink:href=\"#DejaVuSans-56\"/>\r\n       <use x=\"63.623047\" xlink:href=\"#DejaVuSans-48\"/>\r\n      </g>\r\n     </g>\r\n    </g>\r\n    <g id=\"text_14\">\r\n     <!-- Predicted -->\r\n     <defs>\r\n      <path d=\"M 19.671875 64.796875 \r\nL 19.671875 37.40625 \r\nL 32.078125 37.40625 \r\nQ 38.96875 37.40625 42.71875 40.96875 \r\nQ 46.484375 44.53125 46.484375 51.125 \r\nQ 46.484375 57.671875 42.71875 61.234375 \r\nQ 38.96875 64.796875 32.078125 64.796875 \r\nz\r\nM 9.8125 72.90625 \r\nL 32.078125 72.90625 \r\nQ 44.34375 72.90625 50.609375 67.359375 \r\nQ 56.890625 61.8125 56.890625 51.125 \r\nQ 56.890625 40.328125 50.609375 34.8125 \r\nQ 44.34375 29.296875 32.078125 29.296875 \r\nL 19.671875 29.296875 \r\nL 19.671875 0 \r\nL 9.8125 0 \r\nz\r\n\" id=\"DejaVuSans-80\"/>\r\n      <path d=\"M 9.421875 54.6875 \r\nL 18.40625 54.6875 \r\nL 18.40625 0 \r\nL 9.421875 0 \r\nz\r\nM 9.421875 75.984375 \r\nL 18.40625 75.984375 \r\nL 18.40625 64.59375 \r\nL 9.421875 64.59375 \r\nz\r\n\" id=\"DejaVuSans-105\"/>\r\n      <path d=\"M 48.78125 52.59375 \r\nL 48.78125 44.1875 \r\nQ 44.96875 46.296875 41.140625 47.34375 \r\nQ 37.3125 48.390625 33.40625 48.390625 \r\nQ 24.65625 48.390625 19.8125 42.84375 \r\nQ 14.984375 37.3125 14.984375 27.296875 \r\nQ 14.984375 17.28125 19.8125 11.734375 \r\nQ 24.65625 6.203125 33.40625 6.203125 \r\nQ 37.3125 6.203125 41.140625 7.25 \r\nQ 44.96875 8.296875 48.78125 10.40625 \r\nL 48.78125 2.09375 \r\nQ 45.015625 0.34375 40.984375 -0.53125 \r\nQ 36.96875 -1.421875 32.421875 -1.421875 \r\nQ 20.0625 -1.421875 12.78125 6.34375 \r\nQ 5.515625 14.109375 5.515625 27.296875 \r\nQ 5.515625 40.671875 12.859375 48.328125 \r\nQ 20.21875 56 33.015625 56 \r\nQ 37.15625 56 41.109375 55.140625 \r\nQ 45.0625 54.296875 48.78125 52.59375 \r\nz\r\n\" id=\"DejaVuSans-99\"/>\r\n      <path d=\"M 18.3125 70.21875 \r\nL 18.3125 54.6875 \r\nL 36.8125 54.6875 \r\nL 36.8125 47.703125 \r\nL 18.3125 47.703125 \r\nL 18.3125 18.015625 \r\nQ 18.3125 11.328125 20.140625 9.421875 \r\nQ 21.96875 7.515625 27.59375 7.515625 \r\nL 36.8125 7.515625 \r\nL 36.8125 0 \r\nL 27.59375 0 \r\nQ 17.1875 0 13.234375 3.875 \r\nQ 9.28125 7.765625 9.28125 18.015625 \r\nL 9.28125 47.703125 \r\nL 2.6875 47.703125 \r\nL 2.6875 54.6875 \r\nL 9.28125 54.6875 \r\nL 9.28125 70.21875 \r\nz\r\n\" id=\"DejaVuSans-116\"/>\r\n     </defs>\r\n     <g transform=\"translate(14.798438 139.390312)rotate(-90)scale(0.1 -0.1)\">\r\n      <use xlink:href=\"#DejaVuSans-80\"/>\r\n      <use x=\"58.552734\" xlink:href=\"#DejaVuSans-114\"/>\r\n      <use x=\"97.416016\" xlink:href=\"#DejaVuSans-101\"/>\r\n      <use x=\"158.939453\" xlink:href=\"#DejaVuSans-100\"/>\r\n      <use x=\"222.416016\" xlink:href=\"#DejaVuSans-105\"/>\r\n      <use x=\"250.199219\" xlink:href=\"#DejaVuSans-99\"/>\r\n      <use x=\"305.179688\" xlink:href=\"#DejaVuSans-116\"/>\r\n      <use x=\"344.388672\" xlink:href=\"#DejaVuSans-101\"/>\r\n      <use x=\"405.912109\" xlink:href=\"#DejaVuSans-100\"/>\r\n     </g>\r\n    </g>\r\n   </g>\r\n   <g id=\"line2d_13\">\r\n    <path clip-path=\"url(#p76daa9de1b)\" d=\"M 55.821307 214.756364 \r\nL 360.184943 17.083636 \r\n\" style=\"fill:none;stroke:#1f77b4;stroke-linecap:square;stroke-width:1.5;\"/>\r\n   </g>\r\n   <g id=\"patch_3\">\r\n    <path d=\"M 40.603125 224.64 \r\nL 40.603125 7.2 \r\n\" style=\"fill:none;stroke:#000000;stroke-linecap:square;stroke-linejoin:miter;stroke-width:0.8;\"/>\r\n   </g>\r\n   <g id=\"patch_4\">\r\n    <path d=\"M 375.403125 224.64 \r\nL 375.403125 7.2 \r\n\" style=\"fill:none;stroke:#000000;stroke-linecap:square;stroke-linejoin:miter;stroke-width:0.8;\"/>\r\n   </g>\r\n   <g id=\"patch_5\">\r\n    <path d=\"M 40.603125 224.64 \r\nL 375.403125 224.64 \r\n\" style=\"fill:none;stroke:#000000;stroke-linecap:square;stroke-linejoin:miter;stroke-width:0.8;\"/>\r\n   </g>\r\n   <g id=\"patch_6\">\r\n    <path d=\"M 40.603125 7.2 \r\nL 375.403125 7.2 \r\n\" style=\"fill:none;stroke:#000000;stroke-linecap:square;stroke-linejoin:miter;stroke-width:0.8;\"/>\r\n   </g>\r\n  </g>\r\n </g>\r\n <defs>\r\n  <clipPath id=\"p76daa9de1b\">\r\n   <rect height=\"217.44\" width=\"334.8\" x=\"40.603125\" y=\"7.2\"/>\r\n  </clipPath>\r\n </defs>\r\n</svg>\r\n",
      "image/png": "[encoded data removed]"
     },
     "metadata": {
      "needs_background": "light"
     }
    }
   ],
   "source": [
    "fig, ax = plt.subplots()\n",
    "ax.scatter(yield_monitor, def_apsim_predicted)\n",
    "ax.plot([30,80],[30,80])\n",
    "ax.set_xlabel('Measured')\n",
    "ax.set_ylabel('Predicted')\n",
    "plt.show()"
   ]
  },
  {
   "cell_type": "code",
   "execution_count": null,
   "metadata": {},
   "outputs": [],
   "source": [
    "sns.set(style=\"whitegrid\")\n",
    "sns.residplot(def_apsim_predicted, yield_monitor)"
   ]
  },
  {
   "cell_type": "code",
   "execution_count": null,
   "metadata": {},
   "outputs": [],
   "source": [
    "rmse = mean_squared_error(yield_monitor, def_apsim_predicted, squared=False)\n",
    "rmse"
   ]
  },
  {
   "cell_type": "code",
   "execution_count": null,
   "metadata": {},
   "outputs": [],
   "source": [
    "r_sq = r2_score(yield_monitor, def_apsim_predicted)\n",
    "r_sq"
   ]
  },
  {
   "cell_type": "code",
   "execution_count": null,
   "metadata": {},
   "outputs": [],
   "source": [
    "corr_matrix = np.corrcoef(yield_monitor, def_apsim_predicted)\n",
    "corr_xy = corr_matrix[0,1]\n",
    "r_squared = corr_xy**2\n",
    "r_squared"
   ]
  },
  {
   "cell_type": "markdown",
   "metadata": {},
   "source": [
    "### Saxton results"
   ]
  },
  {
   "cell_type": "code",
   "execution_count": null,
   "metadata": {},
   "outputs": [],
   "source": [
    "yield_monitor = tuple(pred_vs_obs_saxton['observed'])\n",
    "yield_monitor = [round(num, 2) for num in yield_monitor]\n",
    "sax_apsim_predicted = tuple(pred_vs_obs_saxton['predicted'])\n",
    "sax_apsim_predicted = [round(num, 2) for num in sax_apsim_predicted]"
   ]
  },
  {
   "cell_type": "code",
   "execution_count": null,
   "metadata": {},
   "outputs": [],
   "source": [
    "fig, ax = plt.subplots()\n",
    "ax.scatter(yield_monitor, sax_apsim_predicted)\n",
    "ax.plot([30,80],[30,80])\n",
    "ax.set_xlabel('Measured')\n",
    "ax.set_ylabel('Predicted')\n",
    "plt.show()"
   ]
  },
  {
   "cell_type": "code",
   "execution_count": null,
   "metadata": {},
   "outputs": [],
   "source": [
    "rmse = mean_squared_error(yield_monitor, sax_apsim_predicted, squared=False)\n",
    "rmse"
   ]
  },
  {
   "cell_type": "code",
   "execution_count": null,
   "metadata": {},
   "outputs": [],
   "source": [
    "r_sq = r2_score(yield_monitor, sax_apsim_predicted)\n",
    "r_sq"
   ]
  },
  {
   "cell_type": "code",
   "execution_count": null,
   "metadata": {},
   "outputs": [],
   "source": [
    "corr_matrix = np.corrcoef(yield_monitor, sax_apsim_predicted)\n",
    "corr_xy = corr_matrix[0,1]\n",
    "r_squared = corr_xy**2\n",
    "r_squared"
   ]
  },
  {
   "cell_type": "code",
   "execution_count": null,
   "metadata": {},
   "outputs": [],
   "source": []
  }
 ],
 "metadata": {
  "kernelspec": {
   "display_name": "Python 3",
   "language": "python",
   "name": "python3"
  },
  "language_info": {
   "codemirror_mode": {
    "name": "ipython",
    "version": 3
   },
   "file_extension": ".py",
   "mimetype": "text/x-python",
   "name": "python",
   "nbconvert_exporter": "python",
   "pygments_lexer": "ipython3",
   "version": "3.8.2-final"
  }
 },
 "nbformat": 4,
 "nbformat_minor": 4
}