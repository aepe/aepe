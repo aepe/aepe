{
 "cells": [
  {
   "cell_type": "code",
   "execution_count": 31,
   "metadata": {},
   "outputs": [],
   "source": [
    "import sys\n",
    "import pathlib\n",
    "import os\n",
    "import psycopg2\n",
    "import requests\n",
    "import geopandas as gpd\n",
    "import pandas as pd\n",
    "import numpy as np\n",
    "import database as db\n",
    "import re\n",
    "from xml.etree.ElementTree import ElementTree, Element, SubElement\n",
    "import io\n",
    "import json\n",
    "import openpyxl\n",
    "import csv\n",
    "from openpyxl.utils.dataframe import dataframe_to_rows\n",
    "from openpyxl.styles.alignment import Alignment\n",
    "import apsim.wrapper as apsim\n",
    "from apsim.daymet import Weather, create_excel_met, create_all_excel_met\n",
    "from apsim.apsim_input_writer import get_date, add_management_year, create_mukey_runs\n",
    "from apsim import run_apsim\n",
    "from apsim.apsim_output_parser import parse_all_output, parse_summary_output\n",
    "from budgets.budget_calcs import Budget\n",
    "import munging\n",
    "import traceback"
   ]
  },
  {
   "cell_type": "code",
   "execution_count": 2,
   "metadata": {},
   "outputs": [],
   "source": [
    "dbconn = db.connect_to_db('database.ini')\n",
    "raccoon_2018 = 'raccoon.raccoon_clu_ssurgo_2018'\n",
    "#raccoon = pd.read_sql(f\"SELECT * FROM {raccoon_2018} LIMIT 200;\", dbconn)\n",
    "#greene = pd.read_sql(f\"SELECT * FROM {raccoon_2018} WHERE County='Greene';\", dbconn)\n",
    "#greene_soils = pd.read_sql(f\"SELECT DISTINCT mukey FROM {raccoon_2018} where County='Greene';\", dbconn)\n",
    "#field_25 = pd.read_sql(f\"SELECT * FROM {raccoon_2018} WHERE clukey=2515723;\", dbconn)"
   ]
  },
  {
   "cell_type": "code",
   "execution_count": 43,
   "metadata": {},
   "outputs": [],
   "source": [
    "spin_up_corn = json.loads( open( 'crop_jsons/maize.json', 'r' ).read() )\n",
    "spin_up_soybean = json.loads( open( 'crop_jsons/soybean.json', 'r' ).read() )"
   ]
  },
  {
   "cell_type": "markdown",
   "metadata": {},
   "source": [
    "### Step 1: Get the counties we are interested in."
   ]
  },
  {
   "cell_type": "code",
   "execution_count": 6,
   "metadata": {},
   "outputs": [],
   "source": [
    "#buena_vista = get_county(dbconn, 'raccoon.raccoon_clu_ssurgo_2018', 'IA021', \"wkb_geometry\")"
   ]
  },
  {
   "cell_type": "markdown",
   "metadata": {},
   "source": [
    "### Step 2: Get the county centroid for creating APSIM met files"
   ]
  },
  {
   "cell_type": "code",
   "execution_count": 8,
   "metadata": {},
   "outputs": [],
   "source": [
    "#bv_centroid = get_centroid(buena_vista, 'fips', \"wkb_geometry\")"
   ]
  },
  {
   "cell_type": "code",
   "execution_count": 10,
   "metadata": {},
   "outputs": [],
   "source": [
    "# greene = get_county(dbconn, 'raccoon.raccoon_clu_ssurgo_2018', 'IA073', \"wkb_geometry\")\n",
    "# greene_centroid = get_centroid(greene, 'fips', \"wkb_geometry\")\n",
    "# create_met(greene_centroid[0], greene_centroid[1], 2012, 2019, 'greene')"
   ]
  },
  {
   "cell_type": "markdown",
   "metadata": {},
   "source": [
    "### Step 3: Get all distinct counties and create met files for all county geometry lat/lon"
   ]
  },
  {
   "cell_type": "code",
   "execution_count": 15,
   "metadata": {},
   "outputs": [],
   "source": [
    "#fips = get_distinct(dbconn, raccoon_2018, 'fips')\n",
    "# create_all_met(dbconn, fips, raccoon_2018)\n",
    "# create_all_excel_met(dbconn, fips, raccoon_2018)"
   ]
  },
  {
   "cell_type": "markdown",
   "metadata": {},
   "source": [
    "### Step 4: Get clukey crop rotations"
   ]
  },
  {
   "cell_type": "code",
   "execution_count": 17,
   "metadata": {},
   "outputs": [],
   "source": [
    "#rots = pd.read_sql('SELECT * FROM raccoon.raccoon_rots LIMIT 100;', dbconn)\n",
    "#rots['rotation'] = ''\n",
    "#group df by clukey, sort by year, then loop through and get rotation, appending to original df.\n",
    "# clukeys = rots.drop_duplicates('clukey')\n",
    "# for i in clukeys['clukey']:\n",
    "#     field = rots.loc[rots['clukey'] == i]\n",
    "#     rotation = get_rotation(field, 'crop')\n",
    "# push to database\n",
    "# db_table = 'raccoon_crop_rotations'\n",
    "# db_schema = 'raccoon'\n",
    "# rots.to_sql(\n",
    "#         name = db_table,\n",
    "#         con = dbconn,\n",
    "#         schema = db_schema,\n",
    "#         if_exists = 'replace',\n",
    "#         index = False )"
   ]
  },
  {
   "cell_type": "markdown",
   "metadata": {},
   "source": [
    "### Step 5: Get the soil properties for each individual mukey"
   ]
  },
  {
   "cell_type": "code",
   "execution_count": 18,
   "metadata": {},
   "outputs": [],
   "source": [
    "#field_25 = pd.read_sql(f\"SELECT * FROM {raccoon_2018} WHERE clukey=2515723;\", dbconn)\n",
    "greene_clu = pd.read_sql(f\"SELECT * FROM {raccoon_2018} WHERE County='Greene';\", dbconn)\n",
    "greene_soils = pd.read_sql(f\"SELECT DISTINCT mukey FROM {raccoon_2018} where County='Greene';\", dbconn)"
   ]
  },
  {
   "cell_type": "markdown",
   "metadata": {},
   "source": [
    "### Loop through all rows - !!!DON'T RUN!!!"
   ]
  },
  {
   "cell_type": "markdown",
   "metadata": {},
   "source": [
    "### Create APSIM files for the unique soils for a given county"
   ]
  },
  {
   "cell_type": "code",
   "execution_count": null,
   "metadata": {},
   "outputs": [],
   "source": [
    "#greene_soils = pd.read_sql(f\"SELECT DISTINCT mukey FROM {raccoon_2018} where County='Greene';\", dbconn)\n",
    "greene_soils_list = list(greene_soils['mukey'])"
   ]
  },
  {
   "cell_type": "code",
   "execution_count": 40,
   "metadata": {},
   "outputs": [],
   "source": [
    "soils_test_list = (1453495, 1453495)"
   ]
  },
  {
   "cell_type": "code",
   "execution_count": 1,
   "metadata": {},
   "outputs": [
    {
     "output_type": "error",
     "ename": "NameError",
     "evalue": "name 'create_mukey_runs' is not defined",
     "traceback": [
      "\u001b[1;31m---------------------------------------------------------------------------\u001b[0m",
      "\u001b[1;31mNameError\u001b[0m                                 Traceback (most recent call last)",
      "\u001b[1;32m<ipython-input-1-b9b899d24c65>\u001b[0m in \u001b[0;36m<module>\u001b[1;34m\u001b[0m\n\u001b[1;32m----> 1\u001b[1;33m \u001b[0mcreate_mukey_runs\u001b[0m\u001b[1;33m(\u001b[0m\u001b[0msoils_test_list\u001b[0m\u001b[1;33m,\u001b[0m \u001b[0mdbconn\u001b[0m\u001b[1;33m,\u001b[0m \u001b[1;34m'sfc'\u001b[0m\u001b[1;33m,\u001b[0m \u001b[1;34m'Greene'\u001b[0m\u001b[1;33m,\u001b[0m \u001b[1;34m'IA073'\u001b[0m\u001b[1;33m)\u001b[0m\u001b[1;33m\u001b[0m\u001b[1;33m\u001b[0m\u001b[0m\n\u001b[0m\u001b[0;32m      2\u001b[0m \u001b[0mcreate_mukey_runs\u001b[0m\u001b[1;33m(\u001b[0m\u001b[0msoils_test_list\u001b[0m\u001b[1;33m,\u001b[0m \u001b[0mdbconn\u001b[0m\u001b[1;33m,\u001b[0m \u001b[1;34m'cc'\u001b[0m\u001b[1;33m,\u001b[0m \u001b[1;34m'Greene'\u001b[0m\u001b[1;33m,\u001b[0m \u001b[1;34m'IA073'\u001b[0m\u001b[1;33m)\u001b[0m\u001b[1;33m\u001b[0m\u001b[1;33m\u001b[0m\u001b[0m\n\u001b[0;32m      3\u001b[0m \u001b[0mcreate_mukey_runs\u001b[0m\u001b[1;33m(\u001b[0m\u001b[0msoils_test_list\u001b[0m\u001b[1;33m,\u001b[0m \u001b[0mdbconn\u001b[0m\u001b[1;33m,\u001b[0m \u001b[1;34m'cfs'\u001b[0m\u001b[1;33m,\u001b[0m \u001b[1;34m'Greene'\u001b[0m\u001b[1;33m,\u001b[0m \u001b[1;34m'IA073'\u001b[0m\u001b[1;33m)\u001b[0m\u001b[1;33m\u001b[0m\u001b[1;33m\u001b[0m\u001b[0m\n",
      "\u001b[1;31mNameError\u001b[0m: name 'create_mukey_runs' is not defined"
     ]
    }
   ],
   "source": [
    "create_mukey_runs(soils_test_list, dbconn, 'sfc', 'Greene', 'IA073')\n",
    "create_mukey_runs(soils_test_list, dbconn, 'cc', 'Greene', 'IA073')\n",
    "create_mukey_runs(soils_test_list, dbconn, 'cfs', 'Greene', 'IA073')"
   ]
  },
  {
   "cell_type": "code",
   "execution_count": null,
   "metadata": {},
   "outputs": [],
   "source": [
    "# create_mukey_runs(greene_soils_list, dbconn, 'cfs', 'Greene', 'IA073')\n",
    "# create_mukey_runs(greene_soils_list, dbconn, 'sfc', 'Greene', 'IA073')\n",
    "# create_mukey_runs(greene_soils_list, dbconn, 'cc', 'Greene', 'IA073')"
   ]
  },
  {
   "cell_type": "code",
   "execution_count": 20,
   "metadata": {},
   "outputs": [],
   "source": [
    "all_output = parse_all_output(\"C:\\\\Users\\\\mnowatz\\\\Documents\\\\Dev\\\\aepe\\\\analyses\\\\apsim_files\\\\Greene\")"
   ]
  },
  {
   "cell_type": "code",
   "execution_count": 21,
   "metadata": {},
   "outputs": [
    {
     "output_type": "execute_result",
     "data": {
      "text/plain": "                                               title  county   fips    mukey  \\\n0  County_Greene_fips_IA073_mukey_1453495_rot_cc_sim  Greene  IA073  1453495   \n1  County_Greene_fips_IA073_mukey_1453495_rot_cc_sim  Greene  IA073  1453495   \n2  County_Greene_fips_IA073_mukey_1453495_rot_cc_sim  Greene  IA073  1453495   \n3  County_Greene_fips_IA073_mukey_1453495_rot_cc_sim  Greene  IA073  1453495   \n4  County_Greene_fips_IA073_mukey_1453495_rot_cc_sim  Greene  IA073  1453495   \n\n  rotation        date  day  year  soybean_yield  maize_yield  \\\n0       cc  2018-01-01    1  2018            0.0          0.0   \n1       cc  2018-02-01    2  2018            0.0          0.0   \n2       cc  2018-03-01    3  2018            0.0          0.0   \n3       cc  2018-04-01    4  2018            0.0          0.0   \n4       cc  2018-05-01    5  2018            0.0          0.0   \n\n   soybean_biomass  maize_biomass  corn_buac  soy_buac  fertiliser  \\\n0              0.0            0.0        0.0       0.0         0.0   \n1              0.0            0.0        0.0       0.0         0.0   \n2              0.0            0.0        0.0       0.0         0.0   \n3              0.0            0.0        0.0       0.0         0.0   \n4              0.0            0.0        0.0       0.0         0.0   \n\n   surfaceom_c  subsurface_drain  subsurface_drain_no3  leach_no3  \n0    1163.6864               NaN                   NaN        0.0  \n1    1163.6864               NaN                   NaN        0.0  \n2    1163.6864               NaN                   NaN        0.0  \n3    1163.6864               NaN                   NaN        0.0  \n4    1163.6864               NaN                   NaN        0.0  ",
      "text/html": "<div>\n<style scoped>\n    .dataframe tbody tr th:only-of-type {\n        vertical-align: middle;\n    }\n\n    .dataframe tbody tr th {\n        vertical-align: top;\n    }\n\n    .dataframe thead th {\n        text-align: right;\n    }\n</style>\n<table border=\"1\" class=\"dataframe\">\n  <thead>\n    <tr style=\"text-align: right;\">\n      <th></th>\n      <th>title</th>\n      <th>county</th>\n      <th>fips</th>\n      <th>mukey</th>\n      <th>rotation</th>\n      <th>date</th>\n      <th>day</th>\n      <th>year</th>\n      <th>soybean_yield</th>\n      <th>maize_yield</th>\n      <th>soybean_biomass</th>\n      <th>maize_biomass</th>\n      <th>corn_buac</th>\n      <th>soy_buac</th>\n      <th>fertiliser</th>\n      <th>surfaceom_c</th>\n      <th>subsurface_drain</th>\n      <th>subsurface_drain_no3</th>\n      <th>leach_no3</th>\n    </tr>\n  </thead>\n  <tbody>\n    <tr>\n      <th>0</th>\n      <td>County_Greene_fips_IA073_mukey_1453495_rot_cc_sim</td>\n      <td>Greene</td>\n      <td>IA073</td>\n      <td>1453495</td>\n      <td>cc</td>\n      <td>2018-01-01</td>\n      <td>1</td>\n      <td>2018</td>\n      <td>0.0</td>\n      <td>0.0</td>\n      <td>0.0</td>\n      <td>0.0</td>\n      <td>0.0</td>\n      <td>0.0</td>\n      <td>0.0</td>\n      <td>1163.6864</td>\n      <td>NaN</td>\n      <td>NaN</td>\n      <td>0.0</td>\n    </tr>\n    <tr>\n      <th>1</th>\n      <td>County_Greene_fips_IA073_mukey_1453495_rot_cc_sim</td>\n      <td>Greene</td>\n      <td>IA073</td>\n      <td>1453495</td>\n      <td>cc</td>\n      <td>2018-02-01</td>\n      <td>2</td>\n      <td>2018</td>\n      <td>0.0</td>\n      <td>0.0</td>\n      <td>0.0</td>\n      <td>0.0</td>\n      <td>0.0</td>\n      <td>0.0</td>\n      <td>0.0</td>\n      <td>1163.6864</td>\n      <td>NaN</td>\n      <td>NaN</td>\n      <td>0.0</td>\n    </tr>\n    <tr>\n      <th>2</th>\n      <td>County_Greene_fips_IA073_mukey_1453495_rot_cc_sim</td>\n      <td>Greene</td>\n      <td>IA073</td>\n      <td>1453495</td>\n      <td>cc</td>\n      <td>2018-03-01</td>\n      <td>3</td>\n      <td>2018</td>\n      <td>0.0</td>\n      <td>0.0</td>\n      <td>0.0</td>\n      <td>0.0</td>\n      <td>0.0</td>\n      <td>0.0</td>\n      <td>0.0</td>\n      <td>1163.6864</td>\n      <td>NaN</td>\n      <td>NaN</td>\n      <td>0.0</td>\n    </tr>\n    <tr>\n      <th>3</th>\n      <td>County_Greene_fips_IA073_mukey_1453495_rot_cc_sim</td>\n      <td>Greene</td>\n      <td>IA073</td>\n      <td>1453495</td>\n      <td>cc</td>\n      <td>2018-04-01</td>\n      <td>4</td>\n      <td>2018</td>\n      <td>0.0</td>\n      <td>0.0</td>\n      <td>0.0</td>\n      <td>0.0</td>\n      <td>0.0</td>\n      <td>0.0</td>\n      <td>0.0</td>\n      <td>1163.6864</td>\n      <td>NaN</td>\n      <td>NaN</td>\n      <td>0.0</td>\n    </tr>\n    <tr>\n      <th>4</th>\n      <td>County_Greene_fips_IA073_mukey_1453495_rot_cc_sim</td>\n      <td>Greene</td>\n      <td>IA073</td>\n      <td>1453495</td>\n      <td>cc</td>\n      <td>2018-05-01</td>\n      <td>5</td>\n      <td>2018</td>\n      <td>0.0</td>\n      <td>0.0</td>\n      <td>0.0</td>\n      <td>0.0</td>\n      <td>0.0</td>\n      <td>0.0</td>\n      <td>0.0</td>\n      <td>1163.6864</td>\n      <td>NaN</td>\n      <td>NaN</td>\n      <td>0.0</td>\n    </tr>\n  </tbody>\n</table>\n</div>"
     },
     "metadata": {},
     "execution_count": 21
    }
   ],
   "source": [
    "all_output.head()"
   ]
  },
  {
   "cell_type": "code",
   "execution_count": 22,
   "metadata": {},
   "outputs": [],
   "source": [
    "summary_output = parse_summary_output(\"C:\\\\Users\\\\mnowatz\\\\Documents\\\\Dev\\\\aepe\\\\analyses\\\\apsim_files\\\\Greene\")"
   ]
  },
  {
   "cell_type": "code",
   "execution_count": 23,
   "metadata": {},
   "outputs": [
    {
     "output_type": "execute_result",
     "data": {
      "text/plain": "                                               title  county   fips    mukey  \\\n0  County_Greene_fips_IA073_mukey_1453495_rot_cc_sim  Greene  IA073  1453495   \n1  County_Greene_fips_IA073_mukey_1453495_rot_cfs...  Greene  IA073  1453495   \n2  County_Greene_fips_IA073_mukey_1453495_rot_sfc...  Greene  IA073  1453495   \n3  County_Greene_fips_IA073_mukey_1651354_rot_cc_sim  Greene  IA073  1651354   \n4  County_Greene_fips_IA073_mukey_1651354_rot_cfs...  Greene  IA073  1651354   \n\n  rotation  year  soybean_yield  maize_yield  corn_buac  soy_buac  \\\n0       cc  2018        0.00000   2107.11308   39.41541   0.00000   \n1      cfs  2018        0.00000   2104.64886   39.36931   0.00000   \n2      sfc  2018     1831.33118      0.00000    0.00000  31.36418   \n3       cc  2018        0.00000   7976.43613  149.20627   0.00000   \n4      cfs  2018        0.00000   8021.76992  150.05429   0.00000   \n\n   soybean_biomass  maize_biomass  fertiliser  surfaceom_c_init  \\\n0           0.0000     9709.98004       220.0        1163.68640   \n1           0.0000     9710.55276       220.0         761.95184   \n2        4612.8584        0.00000         0.0        1149.34387   \n3           0.0000    16842.03793       220.0        1428.02869   \n4           0.0000    17291.39834       220.0         958.68036   \n\n   surfaceom_c_end  leach_no3  \n0       1368.94153   69.11974  \n1       1367.38245   58.45128  \n2        736.50665   98.54264  \n3       1682.92847   74.80633  \n4       1758.85962   53.06663  ",
      "text/html": "<div>\n<style scoped>\n    .dataframe tbody tr th:only-of-type {\n        vertical-align: middle;\n    }\n\n    .dataframe tbody tr th {\n        vertical-align: top;\n    }\n\n    .dataframe thead th {\n        text-align: right;\n    }\n</style>\n<table border=\"1\" class=\"dataframe\">\n  <thead>\n    <tr style=\"text-align: right;\">\n      <th></th>\n      <th>title</th>\n      <th>county</th>\n      <th>fips</th>\n      <th>mukey</th>\n      <th>rotation</th>\n      <th>year</th>\n      <th>soybean_yield</th>\n      <th>maize_yield</th>\n      <th>corn_buac</th>\n      <th>soy_buac</th>\n      <th>soybean_biomass</th>\n      <th>maize_biomass</th>\n      <th>fertiliser</th>\n      <th>surfaceom_c_init</th>\n      <th>surfaceom_c_end</th>\n      <th>leach_no3</th>\n    </tr>\n  </thead>\n  <tbody>\n    <tr>\n      <th>0</th>\n      <td>County_Greene_fips_IA073_mukey_1453495_rot_cc_sim</td>\n      <td>Greene</td>\n      <td>IA073</td>\n      <td>1453495</td>\n      <td>cc</td>\n      <td>2018</td>\n      <td>0.00000</td>\n      <td>2107.11308</td>\n      <td>39.41541</td>\n      <td>0.00000</td>\n      <td>0.0000</td>\n      <td>9709.98004</td>\n      <td>220.0</td>\n      <td>1163.68640</td>\n      <td>1368.94153</td>\n      <td>69.11974</td>\n    </tr>\n    <tr>\n      <th>1</th>\n      <td>County_Greene_fips_IA073_mukey_1453495_rot_cfs...</td>\n      <td>Greene</td>\n      <td>IA073</td>\n      <td>1453495</td>\n      <td>cfs</td>\n      <td>2018</td>\n      <td>0.00000</td>\n      <td>2104.64886</td>\n      <td>39.36931</td>\n      <td>0.00000</td>\n      <td>0.0000</td>\n      <td>9710.55276</td>\n      <td>220.0</td>\n      <td>761.95184</td>\n      <td>1367.38245</td>\n      <td>58.45128</td>\n    </tr>\n    <tr>\n      <th>2</th>\n      <td>County_Greene_fips_IA073_mukey_1453495_rot_sfc...</td>\n      <td>Greene</td>\n      <td>IA073</td>\n      <td>1453495</td>\n      <td>sfc</td>\n      <td>2018</td>\n      <td>1831.33118</td>\n      <td>0.00000</td>\n      <td>0.00000</td>\n      <td>31.36418</td>\n      <td>4612.8584</td>\n      <td>0.00000</td>\n      <td>0.0</td>\n      <td>1149.34387</td>\n      <td>736.50665</td>\n      <td>98.54264</td>\n    </tr>\n    <tr>\n      <th>3</th>\n      <td>County_Greene_fips_IA073_mukey_1651354_rot_cc_sim</td>\n      <td>Greene</td>\n      <td>IA073</td>\n      <td>1651354</td>\n      <td>cc</td>\n      <td>2018</td>\n      <td>0.00000</td>\n      <td>7976.43613</td>\n      <td>149.20627</td>\n      <td>0.00000</td>\n      <td>0.0000</td>\n      <td>16842.03793</td>\n      <td>220.0</td>\n      <td>1428.02869</td>\n      <td>1682.92847</td>\n      <td>74.80633</td>\n    </tr>\n    <tr>\n      <th>4</th>\n      <td>County_Greene_fips_IA073_mukey_1651354_rot_cfs...</td>\n      <td>Greene</td>\n      <td>IA073</td>\n      <td>1651354</td>\n      <td>cfs</td>\n      <td>2018</td>\n      <td>0.00000</td>\n      <td>8021.76992</td>\n      <td>150.05429</td>\n      <td>0.00000</td>\n      <td>0.0000</td>\n      <td>17291.39834</td>\n      <td>220.0</td>\n      <td>958.68036</td>\n      <td>1758.85962</td>\n      <td>53.06663</td>\n    </tr>\n  </tbody>\n</table>\n</div>"
     },
     "metadata": {},
     "execution_count": 23
    }
   ],
   "source": [
    "summary_output.head()"
   ]
  },
  {
   "cell_type": "code",
   "execution_count": 27,
   "metadata": {},
   "outputs": [],
   "source": [
    "db_schema = 'raccoon'\n",
    "db_table = 'apsim_output_summary' \n",
    "summary_output.to_sql(\n",
    "con = dbconn,\n",
    "name = db_table,\n",
    "schema = db_schema,\n",
    "if_exists = 'replace',\n",
    "index = False,\n",
    "chunksize=1000,\n",
    "method='multi' )"
   ]
  },
  {
   "cell_type": "code",
   "execution_count": 30,
   "metadata": {},
   "outputs": [],
   "source": [
    "db_schema = 'raccoon'\n",
    "db_table = 'apsim_output_all'\n",
    "all_output.to_sql(\n",
    "con = dbconn,\n",
    "name = db_table,\n",
    "schema = db_schema,\n",
    "if_exists = 'replace',\n",
    "index = False,\n",
    "chunksize=1000,\n",
    "method='multi' )"
   ]
  },
  {
   "cell_type": "code",
   "execution_count": null,
   "metadata": {},
   "outputs": [],
   "source": [
    "#group by clukeys\n",
    "#get clukey rotation\n",
    "#look up yield for each mukey within clukey\n",
    "#calculate profit\n",
    "#append profit to clukey df"
   ]
  },
  {
   "cell_type": "code",
   "execution_count": 32,
   "metadata": {},
   "outputs": [],
   "source": [
    "output_table = 'raccoon.apsim_output_summary'\n",
    "county = 'Greene'\n",
    "county_df = pd.read_sql(f\"SELECT * FROM raccoon.raccoon_clu_ssurgo_2018 WHERE county = '{county}';\", dbconn)\n",
    "clukeys = list(county_df['clukey'].drop_duplicates())"
   ]
  },
  {
   "cell_type": "code",
   "execution_count": null,
   "metadata": {},
   "outputs": [],
   "source": [
    "rot_df = pd.read_sql(f'SELECT * FROM raccoon.raccoon_rots WHERE clukey = 2516788;', dbconn).sort_values(by=['years'], ascending=True)"
   ]
  },
  {
   "cell_type": "code",
   "execution_count": 33,
   "metadata": {},
   "outputs": [
    {
     "output_type": "execute_result",
     "data": {
      "text/plain": "      state   fips      huc8   clukey   musym    mukey    acres  clu_pct  \\\n982      IA  IA073  07100006  2516788       6   406246  0.05661  0.00169   \n983      IA  IA073  07100006  2516788    L507  2922024  0.01131  0.00034   \n35966    IA  IA073  07100006  2516788  L138B2  2877281  2.82280  0.08451   \n35967    IA  IA073  07100006  2516788   L138B  2765528  1.58281  0.04739   \n36037    IA  IA073  07100006  2516788    L107  2835017  3.08083  0.09223   \n36038    IA  IA073  07100006  2516788    585B   406245  1.54089  0.04613   \n36039    IA  IA073  07100006  2516788    585B   406245  3.98312  0.11925   \n36040    IA  IA073  07100006  2516788  L138C2  2877326  2.22587  0.06664   \n36041    IA  IA073  07100006  2516788  L138C2  2877326  1.77938  0.05327   \n36060    IA  IA073  07100006  2516788  L138B2  2877281  9.55006  0.28591   \n36061    IA  IA073  07100006  2516788  L138B2  2877281  2.39523  0.07171   \n36062    IA  IA073  07100006  2516788    L507  2922024  0.08766  0.00262   \n36063    IA  IA073  07100006  2516788    L507  2922024  0.02806  0.00084   \n36066    IA  IA073  07100006  2516788     L55  2834838  0.98194  0.02940   \n36067    IA  IA073  07100006  2516788     L55  2834838  1.54209  0.04617   \n36068    IA  IA073  07100006  2516788     L55  2834838  0.79771  0.02388   \n36069    IA  IA073  07100006  2516788     L55  2834838  0.83702  0.02506   \n36070    IA  IA073  07100006  2516788     L55  2834838  0.09863  0.00295   \n\n                                            wkb_geometry  county  \n982    0103000020E6100000010000000700000009C5492C538D...  Greene  \n983    0103000020E61000000100000004000000E5AD91649E8D...  Greene  \n35966  0103000020E6100000010000000F0000004043EC639E8D...  Greene  \n35967  0103000020E6100000010000000D000000D6037B639E8D...  Greene  \n36037  0103000020E61000000100000029000000FDA681629E8D...  Greene  \n36038  0103000020E61000000100000016000000A588B4639E8D...  Greene  \n36039  0103000020E61000000100000025000000EA5B8850748D...  Greene  \n36040  0103000020E6100000010000001800000003C40EA4708D...  Greene  \n36041  0103000020E6100000010000001100000019A2D4639E8D...  Greene  \n36060  0103000020E61000000100000057000000995EE9377D8D...  Greene  \n36061  0103000020E6100000010000001F000000701534564A8D...  Greene  \n36062  0103000020E610000001000000070000003ED40D1B8B8D...  Greene  \n36063  0103000020E610000001000000060000006E686F9A988D...  Greene  \n36066  0103000020E61000000100000014000000E7ECDF5F668D...  Greene  \n36067  0103000020E6100000010000001D000000B1315C639E8D...  Greene  \n36068  0103000020E6100000010000001000000045FBCF57638D...  Greene  \n36069  0103000020E6100000010000000D0000006F611A6B558D...  Greene  \n36070  0103000020E61000000100000009000000B4BD54649E8D...  Greene  ",
      "text/html": "<div>\n<style scoped>\n    .dataframe tbody tr th:only-of-type {\n        vertical-align: middle;\n    }\n\n    .dataframe tbody tr th {\n        vertical-align: top;\n    }\n\n    .dataframe thead th {\n        text-align: right;\n    }\n</style>\n<table border=\"1\" class=\"dataframe\">\n  <thead>\n    <tr style=\"text-align: right;\">\n      <th></th>\n      <th>state</th>\n      <th>fips</th>\n      <th>huc8</th>\n      <th>clukey</th>\n      <th>musym</th>\n      <th>mukey</th>\n      <th>acres</th>\n      <th>clu_pct</th>\n      <th>wkb_geometry</th>\n      <th>county</th>\n    </tr>\n  </thead>\n  <tbody>\n    <tr>\n      <th>982</th>\n      <td>IA</td>\n      <td>IA073</td>\n      <td>07100006</td>\n      <td>2516788</td>\n      <td>6</td>\n      <td>406246</td>\n      <td>0.05661</td>\n      <td>0.00169</td>\n      <td>0103000020E6100000010000000700000009C5492C538D...</td>\n      <td>Greene</td>\n    </tr>\n    <tr>\n      <th>983</th>\n      <td>IA</td>\n      <td>IA073</td>\n      <td>07100006</td>\n      <td>2516788</td>\n      <td>L507</td>\n      <td>2922024</td>\n      <td>0.01131</td>\n      <td>0.00034</td>\n      <td>0103000020E61000000100000004000000E5AD91649E8D...</td>\n      <td>Greene</td>\n    </tr>\n    <tr>\n      <th>35966</th>\n      <td>IA</td>\n      <td>IA073</td>\n      <td>07100006</td>\n      <td>2516788</td>\n      <td>L138B2</td>\n      <td>2877281</td>\n      <td>2.82280</td>\n      <td>0.08451</td>\n      <td>0103000020E6100000010000000F0000004043EC639E8D...</td>\n      <td>Greene</td>\n    </tr>\n    <tr>\n      <th>35967</th>\n      <td>IA</td>\n      <td>IA073</td>\n      <td>07100006</td>\n      <td>2516788</td>\n      <td>L138B</td>\n      <td>2765528</td>\n      <td>1.58281</td>\n      <td>0.04739</td>\n      <td>0103000020E6100000010000000D000000D6037B639E8D...</td>\n      <td>Greene</td>\n    </tr>\n    <tr>\n      <th>36037</th>\n      <td>IA</td>\n      <td>IA073</td>\n      <td>07100006</td>\n      <td>2516788</td>\n      <td>L107</td>\n      <td>2835017</td>\n      <td>3.08083</td>\n      <td>0.09223</td>\n      <td>0103000020E61000000100000029000000FDA681629E8D...</td>\n      <td>Greene</td>\n    </tr>\n    <tr>\n      <th>36038</th>\n      <td>IA</td>\n      <td>IA073</td>\n      <td>07100006</td>\n      <td>2516788</td>\n      <td>585B</td>\n      <td>406245</td>\n      <td>1.54089</td>\n      <td>0.04613</td>\n      <td>0103000020E61000000100000016000000A588B4639E8D...</td>\n      <td>Greene</td>\n    </tr>\n    <tr>\n      <th>36039</th>\n      <td>IA</td>\n      <td>IA073</td>\n      <td>07100006</td>\n      <td>2516788</td>\n      <td>585B</td>\n      <td>406245</td>\n      <td>3.98312</td>\n      <td>0.11925</td>\n      <td>0103000020E61000000100000025000000EA5B8850748D...</td>\n      <td>Greene</td>\n    </tr>\n    <tr>\n      <th>36040</th>\n      <td>IA</td>\n      <td>IA073</td>\n      <td>07100006</td>\n      <td>2516788</td>\n      <td>L138C2</td>\n      <td>2877326</td>\n      <td>2.22587</td>\n      <td>0.06664</td>\n      <td>0103000020E6100000010000001800000003C40EA4708D...</td>\n      <td>Greene</td>\n    </tr>\n    <tr>\n      <th>36041</th>\n      <td>IA</td>\n      <td>IA073</td>\n      <td>07100006</td>\n      <td>2516788</td>\n      <td>L138C2</td>\n      <td>2877326</td>\n      <td>1.77938</td>\n      <td>0.05327</td>\n      <td>0103000020E6100000010000001100000019A2D4639E8D...</td>\n      <td>Greene</td>\n    </tr>\n    <tr>\n      <th>36060</th>\n      <td>IA</td>\n      <td>IA073</td>\n      <td>07100006</td>\n      <td>2516788</td>\n      <td>L138B2</td>\n      <td>2877281</td>\n      <td>9.55006</td>\n      <td>0.28591</td>\n      <td>0103000020E61000000100000057000000995EE9377D8D...</td>\n      <td>Greene</td>\n    </tr>\n    <tr>\n      <th>36061</th>\n      <td>IA</td>\n      <td>IA073</td>\n      <td>07100006</td>\n      <td>2516788</td>\n      <td>L138B2</td>\n      <td>2877281</td>\n      <td>2.39523</td>\n      <td>0.07171</td>\n      <td>0103000020E6100000010000001F000000701534564A8D...</td>\n      <td>Greene</td>\n    </tr>\n    <tr>\n      <th>36062</th>\n      <td>IA</td>\n      <td>IA073</td>\n      <td>07100006</td>\n      <td>2516788</td>\n      <td>L507</td>\n      <td>2922024</td>\n      <td>0.08766</td>\n      <td>0.00262</td>\n      <td>0103000020E610000001000000070000003ED40D1B8B8D...</td>\n      <td>Greene</td>\n    </tr>\n    <tr>\n      <th>36063</th>\n      <td>IA</td>\n      <td>IA073</td>\n      <td>07100006</td>\n      <td>2516788</td>\n      <td>L507</td>\n      <td>2922024</td>\n      <td>0.02806</td>\n      <td>0.00084</td>\n      <td>0103000020E610000001000000060000006E686F9A988D...</td>\n      <td>Greene</td>\n    </tr>\n    <tr>\n      <th>36066</th>\n      <td>IA</td>\n      <td>IA073</td>\n      <td>07100006</td>\n      <td>2516788</td>\n      <td>L55</td>\n      <td>2834838</td>\n      <td>0.98194</td>\n      <td>0.02940</td>\n      <td>0103000020E61000000100000014000000E7ECDF5F668D...</td>\n      <td>Greene</td>\n    </tr>\n    <tr>\n      <th>36067</th>\n      <td>IA</td>\n      <td>IA073</td>\n      <td>07100006</td>\n      <td>2516788</td>\n      <td>L55</td>\n      <td>2834838</td>\n      <td>1.54209</td>\n      <td>0.04617</td>\n      <td>0103000020E6100000010000001D000000B1315C639E8D...</td>\n      <td>Greene</td>\n    </tr>\n    <tr>\n      <th>36068</th>\n      <td>IA</td>\n      <td>IA073</td>\n      <td>07100006</td>\n      <td>2516788</td>\n      <td>L55</td>\n      <td>2834838</td>\n      <td>0.79771</td>\n      <td>0.02388</td>\n      <td>0103000020E6100000010000001000000045FBCF57638D...</td>\n      <td>Greene</td>\n    </tr>\n    <tr>\n      <th>36069</th>\n      <td>IA</td>\n      <td>IA073</td>\n      <td>07100006</td>\n      <td>2516788</td>\n      <td>L55</td>\n      <td>2834838</td>\n      <td>0.83702</td>\n      <td>0.02506</td>\n      <td>0103000020E6100000010000000D0000006F611A6B558D...</td>\n      <td>Greene</td>\n    </tr>\n    <tr>\n      <th>36070</th>\n      <td>IA</td>\n      <td>IA073</td>\n      <td>07100006</td>\n      <td>2516788</td>\n      <td>L55</td>\n      <td>2834838</td>\n      <td>0.09863</td>\n      <td>0.00295</td>\n      <td>0103000020E61000000100000009000000B4BD54649E8D...</td>\n      <td>Greene</td>\n    </tr>\n  </tbody>\n</table>\n</div>"
     },
     "metadata": {},
     "execution_count": 33
    }
   ],
   "source": [
    "clukey_df = county_df.loc[county_df['clukey'] == 2516788]\n",
    "clukey_df"
   ]
  },
  {
   "cell_type": "code",
   "execution_count": null,
   "metadata": {
    "tags": [
     "outputPrepend",
     "outputPrepend",
     "outputPrepend",
     "outputPrepend",
     "outputPrepend",
     "outputPrepend",
     "outputPrepend",
     "outputPrepend",
     "outputPrepend",
     "outputPrepend",
     "outputPrepend",
     "outputPrepend",
     "outputPrepend",
     "outputPrepend",
     "outputPrepend",
     "outputPrepend",
     "outputPrepend",
     "outputPrepend",
     "outputPrepend",
     "outputPrepend",
     "outputPrepend",
     "outputPrepend",
     "outputPrepend",
     "outputPrepend",
     "outputPrepend",
     "outputPrepend",
     "outputPrepend",
     "outputPrepend",
     "outputPrepend",
     "outputPrepend",
     "outputPrepend",
     "outputPrepend",
     "outputPrepend",
     "outputPrepend",
     "outputPrepend",
     "outputPrepend",
     "outputPrepend",
     "outputPrepend",
     "outputPrepend",
     "outputPrepend",
     "outputPrepend",
     "outputPrepend",
     "outputPrepend",
     "outputPrepend",
     "outputPrepend",
     "outputPrepend",
     "outputPrepend",
     "outputPrepend",
     "outputPrepend",
     "outputPrepend",
     "outputPrepend",
     "outputPrepend",
     "outputPrepend",
     "outputPrepend",
     "outputPrepend",
     "outputPrepend",
     "outputPrepend",
     "outputPrepend",
     "outputPrepend",
     "outputPrepend",
     "outputPrepend",
     "outputPrepend",
     "outputPrepend",
     "outputPrepend",
     "outputPrepend",
     "outputPrepend",
     "outputPrepend",
     "outputPrepend",
     "outputPrepend",
     "outputPrepend",
     "outputPrepend",
     "outputPrepend",
     "outputPrepend",
     "outputPrepend",
     "outputPrepend",
     "outputPrepend",
     "outputPrepend",
     "outputPrepend",
     "outputPrepend",
     "outputPrepend",
     "outputPrepend",
     "outputPrepend",
     "outputPrepend",
     "outputPrepend",
     "outputPrepend",
     "outputPrepend",
     "outputPrepend",
     "outputPrepend",
     "outputPrepend",
     "outputPrepend",
     "outputPrepend",
     "outputPrepend",
     "outputPrepend",
     "outputPrepend",
     "outputPrepend",
     "outputPrepend",
     "outputPrepend",
     "outputPrepend",
     "outputPrepend",
     "outputPrepend",
     "outputPrepend",
     "outputPrepend",
     "outputPrepend",
     "outputPrepend",
     "outputPrepend",
     "outputPrepend",
     "outputPrepend",
     "outputPrepend",
     "outputPrepend",
     "outputPrepend",
     "outputPrepend",
     "outputPrepend",
     "outputPrepend",
     "outputPrepend",
     "outputPrepend",
     "outputPrepend",
     "outputPrepend",
     "outputPrepend",
     "outputPrepend",
     "outputPrepend",
     "outputPrepend",
     "outputPrepend",
     "outputPrepend",
     "outputPrepend",
     "outputPrepend",
     "outputPrepend",
     "outputPrepend",
     "outputPrepend",
     "outputPrepend",
     "outputPrepend",
     "outputPrepend",
     "outputPrepend",
     "outputPrepend",
     "outputPrepend",
     "outputPrepend",
     "outputPrepend",
     "outputPrepend",
     "outputPrepend",
     "outputPrepend",
     "outputPrepend",
     "outputPrepend",
     "outputPrepend",
     "outputPrepend",
     "outputPrepend",
     "outputPrepend",
     "outputPrepend",
     "outputPrepend",
     "outputPrepend",
     "outputPrepend",
     "outputPrepend",
     "outputPrepend",
     "outputPrepend",
     "outputPrepend",
     "outputPrepend",
     "outputPrepend",
     "outputPrepend",
     "outputPrepend",
     "outputPrepend",
     "outputPrepend",
     "outputPrepend",
     "outputPrepend",
     "outputPrepend",
     "outputPrepend",
     "outputPrepend",
     "outputPrepend",
     "outputPrepend",
     "outputPrepend",
     "outputPrepend",
     "outputPrepend",
     "outputPrepend",
     "outputPrepend",
     "outputPrepend",
     "outputPrepend",
     "outputPrepend",
     "outputPrepend",
     "outputPrepend",
     "outputPrepend",
     "outputPrepend",
     "outputPrepend",
     "outputPrepend",
     "outputPrepend",
     "outputPrepend",
     "outputPrepend",
     "outputPrepend",
     "outputPrepend",
     "outputPrepend",
     "outputPrepend",
     "outputPrepend",
     "outputPrepend",
     "outputPrepend",
     "outputPrepend",
     "outputPrepend",
     "outputPrepend",
     "outputPrepend",
     "outputPrepend",
     "outputPrepend",
     "outputPrepend",
     "outputPrepend",
     "outputPrepend",
     "outputPrepend",
     "outputPrepend",
     "outputPrepend",
     "outputPrepend",
     "outputPrepend",
     "outputPrepend",
     "outputPrepend",
     "outputPrepend",
     "outputPrepend",
     "outputPrepend",
     "outputPrepend",
     "outputPrepend",
     "outputPrepend",
     "outputPrepend",
     "outputPrepend",
     "outputPrepend",
     "outputPrepend",
     "outputPrepend",
     "outputPrepend",
     "outputPrepend",
     "outputPrepend",
     "outputPrepend",
     "outputPrepend",
     "outputPrepend",
     "outputPrepend"
    ]
   },
   "outputs": [],
   "source": [
    "for i in clukeys[0:5]:\n",
    "    try:\n",
    "        rot_df = pd.read_sql(f'SELECT * FROM raccoon.raccoon_rots WHERE clukey = {i};', dbconn).sort_values(by=['years'], ascending=True)\n",
    "        clukey_df = county_df.loc[county_df['clukey'] == i]\n",
    "        rotation = get_rotation(rot_df, 'crop')\n",
    "        for i in clukey_df.index():\n",
    "            try:\n",
    "                mukey_summary = pd.read_sql(f\"SELECT * FROM raccoon.apsim_output_summary WHERE county = '{county}' AND mukey = {i} AND rotation = {rotation};\")\n",
    "                if rotation == 'cc' or rotation == 'cfs':\n",
    "                    buac = mukey_summary['corn_buac']\n",
    "                elif rotation == 'sfc':\n",
    "                    buac = mukey_summary['soy_buac']\n",
    "                else:\n",
    "                    print('Not a corn or soybean rotation.')\n",
    "                    continue\n",
    "                acres = clukey_df.loc[i, 'acres']\n",
    "                lbs_nitr = int(mukey_summary['fertiliser'])*0.892\n",
    "                no3_loss = mukey_summary['leach_no3']\n",
    "\n",
    "\n",
    "    except:\n",
    "        print('Error occured')\n",
    "        continue\n",
    "    "
   ]
  },
  {
   "cell_type": "code",
   "execution_count": null,
   "metadata": {},
   "outputs": [],
   "source": [
    "rot_df = pd.read_sql(f'SELECT * FROM raccoon.raccoon_rots WHERE clukey = 2518856;', dbconn).sort_values(by=['years'], ascending=True)"
   ]
  },
  {
   "cell_type": "code",
   "execution_count": null,
   "metadata": {},
   "outputs": [],
   "source": [
    "county_df = pd.read_sql(f\"SELECT * FROM raccoon.raccoon_clu_ssurgo_2018 WHERE county = 'Greene';\", dbconn)"
   ]
  },
  {
   "cell_type": "code",
   "execution_count": null,
   "metadata": {},
   "outputs": [],
   "source": [
    "clukey_df = county_df.loc[county_df['clukey'] == 2518856].drop_duplicates('mukey')"
   ]
  },
  {
   "cell_type": "code",
   "execution_count": null,
   "metadata": {},
   "outputs": [],
   "source": [
    "county = 'Greene'"
   ]
  },
  {
   "cell_type": "code",
   "execution_count": null,
   "metadata": {},
   "outputs": [],
   "source": []
  }
 ],
 "metadata": {
  "language_info": {
   "name": "python",
   "codemirror_mode": {
    "name": "ipython",
    "version": 3
   },
   "version": "3.8.2-final"
  },
  "orig_nbformat": 2,
  "file_extension": ".py",
  "mimetype": "text/x-python",
  "name": "python",
  "npconvert_exporter": "python",
  "pygments_lexer": "ipython3",
  "version": 3,
  "kernelspec": {
   "name": "gis",
   "display_name": "gis"
  }
 },
 "nbformat": 4,
 "nbformat_minor": 2
}