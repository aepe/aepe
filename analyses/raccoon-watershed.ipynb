{
 "cells": [
  {
   "cell_type": "code",
   "execution_count": 7,
   "metadata": {},
   "outputs": [],
   "source": [
    "import json\n",
    "import pandas as pd\n",
    "import geopandas as gpd\n",
    "import numpy as np\n",
    "import database as db\n",
    "from munging import get_distinct, get_county, get_centroid, get_rotation\n",
    "from apsim.daymet import create_excel_met, create_all_excel_met\n",
    "from apsim.apsim_input_writer import get_date, add_management_year, create_mukey_county_runs\n",
    "from apsim.apsim_output_parser import parse_all_output, parse_summary_output\n",
    "from budgets.budget_calcs import Budget\n",
    "import traceback\n",
    "import folium\n",
    "import shapely\n",
    "import seaborn as sns"
   ]
  },
  {
   "cell_type": "code",
   "execution_count": 2,
   "metadata": {},
   "outputs": [],
   "source": [
    "cfs_mgmt = json.loads( open( 'crop_jsons/cfs.json', 'r' ).read() )\n",
    "cc_mgmt = json.loads( open( 'crop_jsons/cc.json', 'r' ).read() )\n",
    "sfc_mgmt = json.loads( open( 'crop_jsons/sfc.json', 'r' ).read() )"
   ]
  },
  {
   "cell_type": "code",
   "execution_count": 3,
   "metadata": {},
   "outputs": [],
   "source": [
    "dbconn = db.connect_to_db('database.ini')\n",
    "raccoon_2018 = 'raccoon.raccoon_clu_ssurgo_2018'\n",
    "#raccoon = pd.read_sql(f\"SELECT * FROM {raccoon_2018} LIMIT 200;\", dbconn)\n",
    "#greene = pd.read_sql(f\"SELECT * FROM {raccoon_2018} WHERE County='Greene';\", dbconn)\n",
    "#greene_soils = pd.read_sql(f\"SELECT DISTINCT mukey FROM {raccoon_2018} where County='Greene';\", dbconn)\n",
    "#field_25 = pd.read_sql(f\"SELECT * FROM {raccoon_2018} WHERE clukey=2515723;\", dbconn)"
   ]
  },
  {
   "cell_type": "markdown",
   "metadata": {},
   "source": [
    "### Get the county centroid for creating APSIM met files"
   ]
  },
  {
   "cell_type": "code",
   "execution_count": null,
   "metadata": {},
   "outputs": [],
   "source": [
    "#buena_vista = get_county(dbconn, 'raccoon.raccoon_clu_ssurgo_2018', 'IA021', \"wkb_geometry\")\n",
    "#bv_centroid = get_centroid(buena_vista, 'fips', \"wkb_geometry\")\n",
    "# greene = get_county(dbconn, 'raccoon.raccoon_clu_ssurgo_2018', 'IA073', \"wkb_geometry\")\n",
    "# greene_centroid = get_centroid(greene, 'fips', \"wkb_geometry\")\n",
    "# create_excel_met(greene_centroid[0], greene_centroid[1], 2012, 2019, 'greene')"
   ]
  },
  {
   "cell_type": "markdown",
   "metadata": {},
   "source": [
    "### Step 3: Get all distinct counties and create met files for all county geometry lat/lon"
   ]
  },
  {
   "cell_type": "code",
   "execution_count": null,
   "metadata": {},
   "outputs": [],
   "source": [
    "fips = get_distinct(dbconn, raccoon_2018, 'county')\n",
    "# create_all_met(dbconn, fips, raccoon_2018)\n",
    "# create_all_excel_met(dbconn, fips, raccoon_2018)"
   ]
  },
  {
   "cell_type": "code",
   "execution_count": null,
   "metadata": {},
   "outputs": [],
   "source": [
    "fips"
   ]
  },
  {
   "cell_type": "markdown",
   "metadata": {},
   "source": [
    "### Get the soil properties for each individual mukey"
   ]
  },
  {
   "cell_type": "code",
   "execution_count": null,
   "metadata": {},
   "outputs": [],
   "source": [
    "#field_25 = pd.read_sql(f\"SELECT * FROM {raccoon_2018} WHERE clukey=2515723;\", dbconn)\n",
    "#greene_clu = pd.read_sql(f\"SELECT * FROM {raccoon_2018} WHERE County='Greene';\", dbconn)"
   ]
  },
  {
   "cell_type": "markdown",
   "metadata": {},
   "source": [
    "### Create APSIM files for the unique soils for a given county"
   ]
  },
  {
   "cell_type": "code",
   "execution_count": 4,
   "metadata": {},
   "outputs": [],
   "source": [
    "greene_soils = pd.read_sql(f\"SELECT DISTINCT mukey FROM {raccoon_2018} where County='Greene' LIMIT 5;\", dbconn)\n",
    "#greene_soils = pd.read_sql(f\"SELECT DISTINCT mukey FROM {raccoon_2018} where County='Greene';\", dbconn)\n",
    "greene_soils_list = list(greene_soils['mukey'])"
   ]
  },
  {
   "cell_type": "code",
   "execution_count": 5,
   "metadata": {},
   "outputs": [
    {
     "output_type": "execute_result",
     "data": {
      "text/plain": "['703831', '403511', '406211', '403455', '406372']"
     },
     "metadata": {},
     "execution_count": 5
    }
   ],
   "source": [
    "greene_soils_list"
   ]
  },
  {
   "cell_type": "code",
   "execution_count": 8,
   "metadata": {},
   "outputs": [
    {
     "output_type": "stream",
     "name": "stdout",
     "text": "Soil 703831 not found\nSoil 703831 not found\nSoil 703831 not found\n"
    }
   ],
   "source": [
    "create_mukey_county_runs(greene_soils_list, dbconn, 'sfc', 'Greene', 'IA073', sfc_mgmt=sfc_mgmt, cfs_mgt=cfs_mgmt, cc_mgmt=cc_mgmt)\n",
    "create_mukey_county_runs(greene_soils_list, dbconn, 'cc', 'Greene', 'IA073', sfc_mgmt=sfc_mgmt, cfs_mgt=cfs_mgmt, cc_mgmt=cc_mgmt)\n",
    "create_mukey_county_runs(greene_soils_list, dbconn, 'cfs', 'Greene', 'IA073', sfc_mgmt=sfc_mgmt, cfs_mgt=cfs_mgmt, cc_mgmt=cc_mgmt)"
   ]
  },
  {
   "cell_type": "code",
   "execution_count": null,
   "metadata": {},
   "outputs": [],
   "source": [
    "soil_df = pd.DataFrame()\n",
    "for i in greene_soils_list:\n",
    "    soil_query = '''select * from api.get_soil_properties( array[{}]::text[] )'''.format( i )\n",
    "    soil_i_df = pd.read_sql( soil_query, dbconn )\n",
    "    if soil_i_df.empty:\n",
    "        continue\n",
    "    else:\n",
    "        soil_df = soil_df.append(soil_i_df)"
   ]
  },
  {
   "cell_type": "code",
   "execution_count": null,
   "metadata": {},
   "outputs": [],
   "source": [
    "soil_df"
   ]
  },
  {
   "cell_type": "code",
   "execution_count": null,
   "metadata": {},
   "outputs": [],
   "source": [
    "db_schema = 'raccoon'\n",
    "db_table = 'greene_soils' \n",
    "soil_df.to_sql(\n",
    "con = dbconn,\n",
    "name = db_table,\n",
    "schema = db_schema,\n",
    "if_exists = 'replace',\n",
    "index = False,\n",
    "chunksize=1000,\n",
    "method='multi' )"
   ]
  },
  {
   "cell_type": "code",
   "execution_count": null,
   "metadata": {},
   "outputs": [],
   "source": [
    "create_mukey_county_runs(greene_soils_list, dbconn, 'sfc', 'Greene', 'IA073')\n",
    "create_mukey_county_runs(greene_soils_list, dbconn, 'cc', 'Greene', 'IA073')\n",
    "create_mukey_county_runs(greene_soils_list, dbconn, 'cfs', 'Greene', 'IA073')"
   ]
  },
  {
   "cell_type": "code",
   "execution_count": null,
   "metadata": {},
   "outputs": [],
   "source": [
    "all_output = parse_all_output(\"C:\\\\Users\\\\mnowatz\\\\Documents\\\\Dev\\\\aepe\\\\analyses\\\\apsim_files\\\\Greene\")"
   ]
  },
  {
   "cell_type": "code",
   "execution_count": null,
   "metadata": {},
   "outputs": [],
   "source": [
    "summary_output = parse_summary_output(\"C:\\\\Users\\\\mnowatz\\\\Documents\\\\Dev\\\\aepe\\\\analyses\\\\apsim_files\\\\Greene\")"
   ]
  },
  {
   "cell_type": "code",
   "execution_count": null,
   "metadata": {},
   "outputs": [],
   "source": [
    "db_schema = 'raccoon'\n",
    "db_table = 'apsim_output_summary' \n",
    "summary_output.to_sql(\n",
    "con = dbconn,\n",
    "name = db_table,\n",
    "schema = db_schema,\n",
    "if_exists = 'replace',\n",
    "index = False,\n",
    "chunksize=1000,\n",
    "method='multi' )"
   ]
  },
  {
   "cell_type": "code",
   "execution_count": null,
   "metadata": {},
   "outputs": [],
   "source": [
    "db_schema = 'raccoon'\n",
    "db_table = 'apsim_output_all'\n",
    "all_output.to_sql(\n",
    "con = dbconn,\n",
    "name = db_table,\n",
    "schema = db_schema,\n",
    "if_exists = 'replace',\n",
    "index = False,\n",
    "chunksize=1000,\n",
    "method='multi' )"
   ]
  },
  {
   "cell_type": "code",
   "execution_count": null,
   "metadata": {},
   "outputs": [],
   "source": [
    "#group by clukeys\n",
    "#get clukey rotation\n",
    "#look up yield for each mukey within clukey\n",
    "#calculate profit\n",
    "#append profit to clukey df"
   ]
  },
  {
   "cell_type": "code",
   "execution_count": null,
   "metadata": {},
   "outputs": [],
   "source": [
    "output_table = 'raccoon.apsim_output_summary'\n",
    "county = 'Greene'\n",
    "#county_df = pd.read_sql(f\"SELECT * FROM raccoon.raccoon_clu_ssurgo_2018 WHERE county = '{county}';\", dbconn)\n",
    "county_df = gpd.read_postgis(f\"SELECT * FROM raccoon.raccoon_clu_ssurgo_2018 WHERE county = '{county}' LIMIT 10;\", dbconn, geom_col='wkb_geometry')"
   ]
  },
  {
   "cell_type": "code",
   "execution_count": null,
   "metadata": {},
   "outputs": [],
   "source": [
    "clukeys = list(county_df['clukey'].drop_duplicates())\n",
    "#clukey_df = county_df.loc[county_df['clukey'] == 2516788]\n",
    "#clukey_df.head()"
   ]
  },
  {
   "cell_type": "code",
   "execution_count": null,
   "metadata": {},
   "outputs": [],
   "source": [
    "costs = pd.read_sql(f\"SELECT * FROM public.crop_prod_costs WHERE year = '2018'\", dbconn)"
   ]
  },
  {
   "cell_type": "code",
   "execution_count": null,
   "metadata": {},
   "outputs": [],
   "source": [
    "def calc_subfield_profit(clukey_list, county_df, year, cfs_mgmt, sfc_mgmt, cc_mgmt, rent=False, labor=0, labor_payrate=0):\n",
    "    df_rows = []\n",
    "    total_clukeys = len(clukey_list)\n",
    "    mukey_counter = 0\n",
    "    clukey_counter = 0\n",
    "    #get commodity prices\n",
    "    comm_price_df = pd.read_sql(f\"SELECT * from public.hist_comm_prices WHERE year = '{year}';\", dbconn)\n",
    "    corn_price = float(comm_price_df.loc[comm_price_df['commodity'] == 'corn', 'mrkt_avg'].iloc[0])\n",
    "    soy_price = float(comm_price_df.loc[comm_price_df['commodity'] == 'soybean', 'mrkt_avg'].iloc[0])\n",
    "    #get input costs\n",
    "    costs = pd.read_sql(f\"SELECT * FROM public.crop_prod_costs WHERE year = '{year}'\", dbconn)\n",
    "    corn_seed_price = float(costs.loc[costs['input'] == 'corn_seed', 'fixed-cost'].iloc[0])\n",
    "    soy_seed_price = float(costs.loc[costs['input'] == 'soy_seed', 'fixed-cost'].iloc[0])\n",
    "    n_price = float(costs.loc[costs['input'] == 'nitrogen', 'fixed-cost'].iloc[0])\n",
    "    phos_price = float(costs.loc[costs['input'] == 'phosphorous', 'fixed-cost'].iloc[0])\n",
    "    potash_price = float(costs.loc[costs['input'] == 'phosphorous', 'fixed-cost'].iloc[0])\n",
    "    fix_chisel = float(costs.loc[costs['input'] == 'chisel_plow', 'fixed-cost'].iloc[0])\n",
    "    var_chisel = float(costs.loc[costs['input'] == 'chisel_plow', 'variable-cost'].iloc[0])\n",
    "    fix_disk = float(costs.loc[costs['input'] == 'disk_field_cultivator', 'fixed-cost'].iloc[0])\n",
    "    var_disk = float(costs.loc[costs['input'] == 'disk_field_cultivator', 'variable-cost'].iloc[0])\n",
    "    fix_applicator = float(costs.loc[costs['input'] == 'nh3_applicator', 'fixed-cost'].iloc[0])\n",
    "    var_applicator = float(costs.loc[costs['input'] == 'nh3_applicator', 'variable-cost'].iloc[0])\n",
    "    fix_cultivator = float(costs.loc[costs['input'] == 'field_cultivator', 'fixed-cost'].iloc[0])\n",
    "    var_cultivator = float(costs.loc[costs['input'] == 'field_cultivator', 'variable-cost'].iloc[0])\n",
    "    fix_planter = float(costs.loc[costs['input'] == 'planter', 'fixed-cost'].iloc[0])\n",
    "    var_planter = float(costs.loc[costs['input'] == 'planter', 'variable-cost'].iloc[0])\n",
    "    fix_sprayer = float(costs.loc[costs['input'] == 'sprayer', 'fixed-cost'].iloc[0])\n",
    "    var_sprayer = float(costs.loc[costs['input'] == 'sprayer', 'variable-cost'].iloc[0])\n",
    "    fix_corn_combine = float(costs.loc[costs['input'] == 'combine_corn', 'fixed-cost'].iloc[0])\n",
    "    var_corn_combine = float(costs.loc[costs['input'] == 'combine_corn', 'variable-cost'].iloc[0])\n",
    "    fix_soy_combine = float(costs.loc[costs['input'] == 'combine_soybeans', 'fixed-cost'].iloc[0])\n",
    "    var_soy_combine = float(costs.loc[costs['input'] == 'combine_soybeans', 'variable-cost'].iloc[0])\n",
    "    fix_wagon = float(costs.loc[costs['input'] == 'grain_cart', 'fixed-cost'].iloc[0])\n",
    "    var_wagon = float(costs.loc[costs['input'] == 'grain_cart', 'variable-cost'].iloc[0])\n",
    "    fix_hauling = float(costs.loc[costs['input'] == 'haul_grain', 'fixed-cost'].iloc[0])\n",
    "    var_hauling = float(costs.loc[costs['input'] == 'haul_grain', 'variable-cost'].iloc[0])\n",
    "    fix_drying = float(costs.loc[costs['input'] == 'dry_grain', 'fixed-cost'].iloc[0])\n",
    "    var_drying = float(costs.loc[costs['input'] == 'dry_grain', 'variable-cost'].iloc[0])\n",
    "    fix_handle = float(costs.loc[costs['input'] == 'auger_store_grain', 'fixed-cost'].iloc[0])\n",
    "    var_handle = float(costs.loc[costs['input'] == 'auger_store_grain', 'variable-cost'].iloc[0])\n",
    "    soy_herb_cost = float(costs.loc[(costs['crop'] == 'soy') & (costs['input'] == 'herbicide'), 'fixed-cost'].iloc[0])\n",
    "    corn_herb_cost = float(costs.loc[(costs['crop'] == 'corn') & (costs['input'] == 'herbicide'), 'fixed-cost'].iloc[0])\n",
    "    insect_cost = float(costs.loc[costs['input'] == 'insecticide', 'fixed-cost'].iloc[0])\n",
    "    corn_crop_insurance = float(costs.loc[(costs['crop'] == 'corn') & (costs['input'] == 'crop_insurance'), 'variable-cost'].iloc[0])\n",
    "    soy_crop_insurance = float(costs.loc[(costs['crop'] == 'soy') & (costs['input'] == 'crop_insurance'), 'variable-cost'].iloc[0])\n",
    "    rent_cost = float(costs.loc[costs['input'] == 'rent', 'fixed-cost'].iloc[0])\n",
    "    misc_cost = float(costs.loc[costs['input'] == 'miscellaneous', 'variable-cost'].iloc[0])\n",
    "    for i in clukey_list:\n",
    "        try:\n",
    "            print(f'Getting data for clukey {i}')\n",
    "            clukey_counter += 1\n",
    "            rot_df = pd.read_sql(f\"SELECT * FROM raccoon.raccoon_rots WHERE clukey = {i};\", dbconn)\n",
    "            clukey_df = county_df.loc[county_df['clukey'] == i].reset_index(drop=True)\n",
    "            rotation = get_rotation(rot_df, 'crop')\n",
    "            for i in clukey_df.index:\n",
    "                try:\n",
    "                    state = clukey_df.loc[i, 'state']\n",
    "                    fips = clukey_df.loc[i, 'fips']\n",
    "                    huc8 = clukey_df.loc[i, 'huc8']\n",
    "                    county = clukey_df.loc[i, 'county']\n",
    "                    geom = clukey_df.loc[i, 'wkb_geometry']\n",
    "                    mukey = clukey_df.loc[i, 'mukey']\n",
    "                    musym = clukey_df.loc[i, 'musym']\n",
    "                    try:\n",
    "                        mukey_summary = pd.read_sql(f\"SELECT * FROM raccoon.apsim_output_summary WHERE county = '{county}' AND mukey = {mukey} AND rotation = '{rotation}';\", dbconn)\n",
    "                        if mukey_summary.empty:\n",
    "                            continue\n",
    "                    except Exception:\n",
    "                        traceback.print_exc()\n",
    "                        continue\n",
    "                    acreage = float(clukey_df.loc[i, 'acres'])\n",
    "                    no3_loss = float((mukey_summary.iloc[0]['leach_no3']/2.471)*acreage)\n",
    "                    clukey = clukey_df.loc[i, 'clukey']\n",
    "                    if rotation == 'cc':\n",
    "                        current_crop = 'corn'\n",
    "                        buac = float(mukey_summary.iloc[0]['corn_buac'])\n",
    "                        n_lbs = float(mukey_summary.iloc[0]['fertiliser'])*0.892\n",
    "                        #calculate how much phos and potash to add based on yield\n",
    "                        phos_lbs = buac*0.37\n",
    "                        potash_lbs = buac*0.37\n",
    "                        #plant density is in m2 in apsim -- 10000 sq meters in hectare, 2.47 acres in hectare -- seeding rate = plant density * 10000 / 2.47\n",
    "                        sowing_density = (int(cc_mgmt['sowing_density'])*10000)/2.47\n",
    "                        cc_budget = Budget(rotation, current_crop, buac, acreage, year)\n",
    "                        fert_cost = cc_budget.fert_cost(n_lbs, n_price, phos_lbs, phos_price, potash_lbs, potash_price)\n",
    "                        seed_cost = cc_budget.seed_cost(sowing_density, corn_seed_price)\n",
    "                        preharvest_machinery_cost = cc_budget.preharvest_machinery_cost(\n",
    "                            fix_chisel=fix_chisel,\n",
    "                            var_chisel=var_chisel,\n",
    "                            fix_disk=fix_disk,\n",
    "                            var_disk=var_disk,\n",
    "                            fix_applicator=fix_applicator,\n",
    "                            var_applicator=var_applicator,\n",
    "                            fix_planter=fix_planter,\n",
    "                            var_planter=var_planter,\n",
    "                            fix_sprayer=fix_sprayer,\n",
    "                            var_sprayer=var_sprayer)\n",
    "                        harvest_machinery_cost = cc_budget.harvest_machinery_cost(fix_corn_combine, var_corn_combine, fix_wagon, var_wagon)\n",
    "                        processing_cost = cc_budget.processing_cost(fix_hauling, var_hauling, fix_drying, var_drying, fix_handle, var_handle)\n",
    "                        chemicals_cost = cc_budget.chemicals_cost(corn_herb_cost, insect_cost)\n",
    "                        extra_costs = cc_budget.extra_costs(misc_cost, corn_crop_insurance)\n",
    "                        labor_cost = cc_budget.labor_cost()\n",
    "                        revenue = cc_budget.calc_revenue(corn_price)\n",
    "                        expenses = cc_budget.sum_expenses()\n",
    "                        profit = cc_budget.calc_profit()\n",
    "                        df_rows.append((\n",
    "                            state,\n",
    "                            huc8,\n",
    "                            fips,\n",
    "                            county,\n",
    "                            clukey,\n",
    "                            mukey,\n",
    "                            musym,\n",
    "                            acreage,\n",
    "                            rotation,\n",
    "                            current_crop,\n",
    "                            buac,\n",
    "                            no3_loss,\n",
    "                            n_lbs,\n",
    "                            phos_lbs,\n",
    "                            potash_lbs,\n",
    "                            sowing_density,\n",
    "                            fert_cost,\n",
    "                            seed_cost,\n",
    "                            preharvest_machinery_cost,\n",
    "                            harvest_machinery_cost,\n",
    "                            processing_cost,\n",
    "                            chemicals_cost,\n",
    "                            extra_costs,\n",
    "                            labor_cost,\n",
    "                            revenue,\n",
    "                            expenses,\n",
    "                            profit,\n",
    "                            geom)\n",
    "                        )\n",
    "                    elif rotation == 'cfs':\n",
    "                        current_crop = 'corn'\n",
    "                        buac = float(mukey_summary.iloc[0]['corn_buac'])\n",
    "                        n_lbs = float(mukey_summary.iloc[0]['fertiliser'])*0.892\n",
    "                        #calculate how much phos and potash to add based on yield\n",
    "                        phos_lbs = buac*0.375\n",
    "                        potash_lbs = buac*0.3\n",
    "                        sowing_density = (int(cfs_mgmt['sowing_density'])*10000)/2.47\n",
    "                        cfs_budget = Budget(rotation, current_crop, buac, acreage, year)\n",
    "                        fert_cost = cfs_budget.fert_cost(n_lbs, n_price, phos_lbs, phos_price, potash_lbs, potash_price)\n",
    "                        seed_cost = cfs_budget.seed_cost(sowing_density, corn_seed_price)\n",
    "                        preharvest_machinery_cost = cfs_budget.preharvest_machinery_cost(\n",
    "                            fix_chisel=fix_chisel,\n",
    "                            var_chisel=var_chisel,\n",
    "                            fix_disk=fix_disk,\n",
    "                            var_disk=var_disk,\n",
    "                            fix_applicator=fix_applicator,\n",
    "                            var_applicator=var_applicator,\n",
    "                            fix_planter=fix_planter,\n",
    "                            var_planter=var_planter,\n",
    "                            fix_sprayer=fix_sprayer,\n",
    "                            var_sprayer=var_sprayer)\n",
    "                        harvest_machinery_cost = cfs_budget.harvest_machinery_cost(fix_corn_combine, var_corn_combine, fix_wagon, var_wagon)\n",
    "                        processing_cost = cfs_budget.processing_cost(fix_hauling, var_hauling, fix_drying, var_drying, fix_handle, var_handle)\n",
    "                        chemicals_cost = cfs_budget.chemicals_cost(corn_herb_cost)\n",
    "                        extra_costs = cfs_budget.extra_costs(misc_cost, corn_crop_insurance)\n",
    "                        labor_cost = cfs_budget.labor_cost()\n",
    "                        revenue = cfs_budget.calc_revenue(corn_price)\n",
    "                        expenses = cfs_budget.sum_expenses()\n",
    "                        profit = cfs_budget.calc_profit()\n",
    "                        df_rows.append((\n",
    "                            state,\n",
    "                            huc8,\n",
    "                            fips,\n",
    "                            county,\n",
    "                            clukey,\n",
    "                            mukey,\n",
    "                            musym,\n",
    "                            acreage,\n",
    "                            rotation,\n",
    "                            current_crop,\n",
    "                            buac,\n",
    "                            no3_loss,\n",
    "                            n_lbs,\n",
    "                            phos_lbs,\n",
    "                            potash_lbs,\n",
    "                            sowing_density,\n",
    "                            fert_cost,\n",
    "                            seed_cost,\n",
    "                            preharvest_machinery_cost,\n",
    "                            harvest_machinery_cost,\n",
    "                            processing_cost,\n",
    "                            chemicals_cost,\n",
    "                            extra_costs,\n",
    "                            labor_cost,\n",
    "                            revenue,\n",
    "                            expenses,\n",
    "                            profit,\n",
    "                            geom)\n",
    "                        )\n",
    "                    elif rotation == 'sfc':\n",
    "                        current_crop = 'soybean'\n",
    "                        buac = float(mukey_summary.iloc[0]['soy_buac'])\n",
    "                        #calculate how much phos and potash to add based on yield\n",
    "                        phos_lbs = buac*0.8\n",
    "                        potash_lbs = buac*1.51\n",
    "                        n_lbs = 0\n",
    "                        sowing_density = (int(sfc_mgmt['sowing_density'])*10000)/2.47\n",
    "                        spray_fix = fix_sprayer*2\n",
    "                        spray_var = var_sprayer*2\n",
    "                        sfc_budget = Budget(rotation, current_crop, buac, acreage, year)\n",
    "                        fert_cost = sfc_budget.fert_cost(n_lbs, n_price, phos_lbs, phos_price, potash_lbs, potash_price)\n",
    "                        seed_cost = sfc_budget.seed_cost(sowing_density, soy_seed_price)\n",
    "                        preharvest_machinery_cost = sfc_budget.preharvest_machinery_cost(\n",
    "                            fix_chisel=fix_chisel,\n",
    "                            var_chisel=var_chisel,\n",
    "                            fix_disk=fix_disk,\n",
    "                            var_disk=var_disk,\n",
    "                            fix_applicator=fix_applicator,\n",
    "                            var_applicator=var_applicator,\n",
    "                            fix_planter=fix_planter,\n",
    "                            var_planter=var_planter,\n",
    "                            fix_sprayer=spray_fix,\n",
    "                            var_sprayer=spray_var)\n",
    "                        harvest_machinery_cost = sfc_budget.harvest_machinery_cost(fix_soy_combine, var_soy_combine, fix_wagon, var_wagon)\n",
    "                        processing_cost = sfc_budget.processing_cost(fix_hauling, var_hauling, fix_drying, var_drying, fix_handle, var_handle)\n",
    "                        chemicals_cost = sfc_budget.chemicals_cost(soy_herb_cost)\n",
    "                        extra_costs = sfc_budget.extra_costs(misc_cost, soy_crop_insurance)\n",
    "                        labor_cost = sfc_budget.labor_cost()\n",
    "                        revenue = sfc_budget.calc_revenue(soy_price)\n",
    "                        expenses = sfc_budget.sum_expenses()\n",
    "                        profit = sfc_budget.calc_profit()\n",
    "                        df_rows.append((\n",
    "                            state,\n",
    "                            huc8,\n",
    "                            fips,\n",
    "                            county,\n",
    "                            clukey,\n",
    "                            mukey,\n",
    "                            musym,\n",
    "                            acreage,\n",
    "                            rotation,\n",
    "                            current_crop,\n",
    "                            buac,\n",
    "                            no3_loss,\n",
    "                            n_lbs,\n",
    "                            phos_lbs,\n",
    "                            potash_lbs,\n",
    "                            sowing_density,\n",
    "                            fert_cost,\n",
    "                            seed_cost,\n",
    "                            preharvest_machinery_cost,\n",
    "                            harvest_machinery_cost,\n",
    "                            processing_cost,\n",
    "                            chemicals_cost,\n",
    "                            extra_costs,\n",
    "                            labor_cost,\n",
    "                            revenue,\n",
    "                            expenses,\n",
    "                            profit,\n",
    "                            geom)\n",
    "                        )\n",
    "                    else:\n",
    "                        print('Not a corn or soybean rotation.')\n",
    "                        continue\n",
    "                    mukey_counter += 1\n",
    "                    if mukey_counter % 50 == 0:\n",
    "                        print(f\"Finished with {mukey_counter} mukeys\")\n",
    "                    if clukey_counter == total_clukeys:\n",
    "                        print(\"All done\")\n",
    "                except Exception:\n",
    "                    traceback.print_exc()\n",
    "                    print(f'failed on mukey {mukey}')\n",
    "                    mukey_counter +=1\n",
    "                    if mukey_counter % 50 == 0:\n",
    "                        print(f\"Finished with {mukey_counter} mukeys\")\n",
    "                    if clukey_counter == total_clukeys:\n",
    "                        print(\"All done\")\n",
    "                    continue\n",
    "        except Exception:\n",
    "            traceback.print_exc()\n",
    "            continue\n",
    "    return gpd.GeoDataFrame(df_rows,\n",
    "    #return pd.DataFrame(df_rows,\n",
    "                        columns=(\n",
    "                            \"state\",\n",
    "                            \"huc8\",\n",
    "                            \"fips\",\n",
    "                            \"county\",\n",
    "                            \"clukey\",\n",
    "                            \"mukey\",\n",
    "                            \"musym\",\n",
    "                            \"acreage\",\n",
    "                            \"rotation\",\n",
    "                            \"crop\",\n",
    "                            \"buac\",\n",
    "                            \"no3_loss\",\n",
    "                            \"n_lbs\",\n",
    "                            \"phos_lbs\",\n",
    "                            \"potash_lbs\",\n",
    "                            \"sowing_density\",\n",
    "                            \"fert_cost\",\n",
    "                            \"seed_cost\",\n",
    "                            \"preharv_machinery\",\n",
    "                            \"harv_machinery\",\n",
    "                            \"processing\",\n",
    "                            \"chemicals\",\n",
    "                            \"extra_costs\",\n",
    "                            \"labor_cost\",\n",
    "                            \"revenue\",\n",
    "                            \"expenses\",\n",
    "                            \"profit\",\n",
    "                            \"wkb_geometry\"\n",
    "                        ), geometry=\"wkb_geometry\")"
   ]
  },
  {
   "cell_type": "code",
   "execution_count": null,
   "metadata": {},
   "outputs": [],
   "source": [
    "greene_profit = calc_subfield_profit(clukeys, county_df, 2018, cfs_mgmt=cfs_mgmt, sfc_mgmt=sfc_mgmt, cc_mgmt=cc_mgmt, rent=False):"
   ]
  },
  {
   "cell_type": "code",
   "execution_count": null,
   "metadata": {},
   "outputs": [],
   "source": [
    "greene_profit.to_file(\"greene_profit.json\", driver=\"GeoJSON\")\n",
    "#.from_postgis(\"SELECT * FROM raccoon.subfield_profit;\", dbconn, geom_col='wkb_geometry')"
   ]
  },
  {
   "cell_type": "code",
   "execution_count": null,
   "metadata": {},
   "outputs": [],
   "source": [
    "# db_schema = 'raccoon'\n",
    "# db_table = 'subfield_profit'\n",
    "# greene_profit.to_sql(\n",
    "# con = dbconn,\n",
    "# name = db_table,\n",
    "# schema = db_schema,\n",
    "# if_exists = 'replace',\n",
    "# index = False,\n",
    "# chunksize=1000,\n",
    "# method='multi' )"
   ]
  },
  {
   "cell_type": "code",
   "execution_count": null,
   "metadata": {},
   "outputs": [],
   "source": [
    "profit_df = gpd.read_file(\"greene_profit.json\")\n",
    "#profit_df.head()"
   ]
  },
  {
   "cell_type": "code",
   "execution_count": null,
   "metadata": {},
   "outputs": [],
   "source": [
    "profit_df = profit_df[['clukey','mukey','rotation','acreage','buac','profit','no3_loss','geometry']]\n",
    "profit_df['mukey'] = profit_df.mukey.astype(int)"
   ]
  },
  {
   "cell_type": "code",
   "execution_count": null,
   "metadata": {},
   "outputs": [],
   "source": [
    "cfs_profit_df = profit_df.loc[profit_df['rotation'] == 'cfs']\n",
    "cc_profit_df = profit_df.loc[profit_df['rotation'] == 'cc']\n",
    "sfc_profit_df = profit_df.loc[profit_df['rotation'] == 'sfc']"
   ]
  },
  {
   "cell_type": "code",
   "execution_count": null,
   "metadata": {},
   "outputs": [],
   "source": [
    "cfs_lower = cfs_profit_df[\"profit\"].quantile(0.01)\n",
    "cfs_upper = cfs_profit_df[\"profit\"].quantile(0.99)"
   ]
  },
  {
   "cell_type": "code",
   "execution_count": null,
   "metadata": {},
   "outputs": [],
   "source": [
    "cfs_filtered = cfs_profit_df[(cfs_profit_df[\"profit\"] < cfs_upper) & (cfs_profit_df[\"profit\"] > cfs_lower)]"
   ]
  },
  {
   "cell_type": "code",
   "execution_count": null,
   "metadata": {},
   "outputs": [],
   "source": [
    "#sns.distplot(cfs_filtered['profit'], hist=True, kde=False, bins=30, color = 'blue', hist_kws={'edgecolor':'black'})"
   ]
  },
  {
   "cell_type": "code",
   "execution_count": null,
   "metadata": {},
   "outputs": [],
   "source": [
    "x_coord = profit_df.centroid.x.mean()\n",
    "y_coord = profit_df.centroid.y.mean()\n",
    "print(x_coord, y_coord)"
   ]
  },
  {
   "cell_type": "code",
   "execution_count": null,
   "metadata": {},
   "outputs": [],
   "source": [
    "#greene county lat long\n",
    "greene_coords = (y_coord, x_coord)\n",
    "greene_map = folium.Map(greene_coords, zoom_start=12)"
   ]
  },
  {
   "cell_type": "code",
   "execution_count": null,
   "metadata": {},
   "outputs": [],
   "source": [
    "myscale = (cfs_filtered['profit'].quantile((0,0.1,0.25,0.5,0.75,0.9,0.98,1))).tolist()\n",
    "folium.features.Choropleth(\n",
    "    geo_data=cfs_filtered,\n",
    "    name=\"Corn following soy profitability (acres owned)\",\n",
    "    data=cfs_filtered,\n",
    "    columns=('mukey', 'profit'),\n",
    "    key_on='feature.properties.mukey',\n",
    "    threshold_scale=myscale,\n",
    "    legend_name='Field profitability given soil'\n",
    "\n",
    ").add_to(greene_map)\n",
    "# no3_bins = list(cfs_filtered['no3_loss'].quantile((0,0.1,0.25,0.5,0.75,0.9,0.98,1)))\n",
    "# folium.features.Choropleth(\n",
    "#     geo_data=cfs_filtered,\n",
    "#     name=\"NO3 leaching\",\n",
    "#     data=cfs_filtered,\n",
    "#     columns=('mukey', 'no3_loss'),\n",
    "#     legend_name='Nitrate-nitrogen loss',\n",
    "#     key_on='feature.properties.mukey'\n",
    "\n",
    "# ).add_to(greene_map)\n",
    "folium.LayerControl().add_to(greene_map)"
   ]
  },
  {
   "cell_type": "code",
   "execution_count": null,
   "metadata": {},
   "outputs": [],
   "source": []
  }
 ],
 "metadata": {
  "file_extension": ".py",
  "kernelspec": {
   "display_name": "gis",
   "language": "python",
   "name": "gis"
  },
  "language_info": {
   "codemirror_mode": {
    "name": "ipython",
    "version": 3
   },
   "file_extension": ".py",
   "mimetype": "text/x-python",
   "name": "python",
   "nbconvert_exporter": "python",
   "pygments_lexer": "ipython3",
   "version": "3.8.2-final"
  },
  "mimetype": "text/x-python",
  "name": "python",
  "npconvert_exporter": "python",
  "pygments_lexer": "ipython3",
  "version": 3
 },
 "nbformat": 4,
 "nbformat_minor": 4
}