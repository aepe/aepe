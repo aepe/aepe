{
 "cells": [
  {
   "cell_type": "markdown",
   "metadata": {},
   "source": [
    "### Notebook for analyzing BioCentury Research Farm Accola field site - author @ Matt Nowatzke"
   ]
  },
  {
   "cell_type": "code",
   "execution_count": 8,
   "metadata": {},
   "outputs": [],
   "source": [
    "import json\n",
    "import pandas as pd\n",
    "import geopandas as gpd\n",
    "import numpy as np\n",
    "import database as db\n",
    "import gdal\n",
    "import rasterio as rio\n",
    "from rasterio.plot import plotting_extent\n",
    "import analyses.run_apsim\n",
    "import earthpy as et\n",
    "import earthpy.plot as ep\n",
    "import rasterstats as rs\n",
    "import statsmodels.api as sm\n",
    "from sklearn.metrics import mean_squared_error, r2_score\n",
    "from math import sqrt\n",
    "from rasterstats import zonal_stats\n",
    "from analyses.munging import get_centroid\n",
    "from apsim.daymet import create_excel_met\n",
    "from apsim.apsim_input_writer import create_mukey_runs\n",
    "from apsim.apsim_output_parser import parse_all_output_field, parse_summary_output_field\n",
    "import matplotlib.pyplot as plt"
   ]
  },
  {
   "cell_type": "markdown",
   "metadata": {},
   "source": [
    "### Load management data for 2018 soybeans following corn and 2019 corn following soybeans."
   ]
  },
  {
   "cell_type": "code",
   "execution_count": 2,
   "metadata": {},
   "outputs": [],
   "source": [
    "#Load the management data\n",
    "accola_soy_mgmt_2018 = json.loads( open( 'crop_jsons/accola_sfc_2018.json', 'r' ).read() )\n",
    "accola_corn_mgmt_2019 = json.loads( open( 'crop_jsons/accola_cfs_2019.json', 'r' ).read() )"
   ]
  },
  {
   "cell_type": "markdown",
   "metadata": {},
   "source": [
    "Create database connection and get a list of all the unique soils (mukeys) for the field."
   ]
  },
  {
   "cell_type": "code",
   "execution_count": 3,
   "metadata": {},
   "outputs": [],
   "source": [
    "dbconn = db.connect_to_db('database.ini')"
   ]
  },
  {
   "cell_type": "code",
   "execution_count": 4,
   "metadata": {},
   "outputs": [
    {
     "output_type": "execute_result",
     "data": {
      "text/plain": "['2765537', '2800480', '2835021', '2835194', '2922031', '411333']"
     },
     "metadata": {},
     "execution_count": 4
    }
   ],
   "source": [
    "accola_soils = gpd.read_postgis('SELECT * FROM biocent_farms.accola_ssurgo;', dbconn, geom_col='wkb_geometry')\n",
    "accola_mukeys = list(np.unique(accola_soils['mukey']))\n",
    "#accola_soils = pd.read_sql('SELECT * FROM biocent_farms.accola_ssurgo;', dbconn)\n",
    "accola_mukeys"
   ]
  },
  {
   "cell_type": "markdown",
   "metadata": {},
   "source": [
    "### Get the centroid of the field and create met file.\n",
    "This met file--if created on a Windows machine--is a an Excel file that should be saved afterwards as a Formatted Text file (*.prn)  \n",
    "See: https://www.apsim.info/support/apsim-training-manuals/creating-an-apsim-met-file-using-excel/  \n",
    "This is a known problem with Pandas on Windows. If creating the met file on Mac or Linux, feel free to use the daymet.create_met function instead."
   ]
  },
  {
   "cell_type": "code",
   "execution_count": null,
   "metadata": {},
   "outputs": [],
   "source": [
    "#accola_centroid = get_centroid(accola_soils, 'areasymbol', 'wkb_geometry')\n",
    "#create_excel_met(accola_centroid[0], accola_centroid[1], 2012, 2019, 'accola')"
   ]
  },
  {
   "cell_type": "markdown",
   "metadata": {},
   "source": [
    "Create runs using the default soil calcs or Saxton Rawls"
   ]
  },
  {
   "cell_type": "code",
   "execution_count": 5,
   "metadata": {
    "tags": []
   },
   "outputs": [
    {
     "output_type": "stream",
     "name": "stdout",
     "text": "Finished! All files created!\nFinished! All files created!\n"
    }
   ],
   "source": [
    "create_mukey_runs(accola_mukeys, dbconn, 'cfs', 'accola.met', 'AccolaDefaultOld', start_year=2017, end_year=2019, sfc_mgmt=accola_soy_mgmt_2018, cfs_mgmt=accola_corn_mgmt_2019)\n",
    "create_mukey_runs(accola_mukeys, dbconn, 'cfs', 'accola.met', 'AccolaSaxtonOld', start_year=2017, end_year=2019, sfc_mgmt=accola_soy_mgmt_2018, cfs_mgmt=accola_corn_mgmt_2019, saxton=True)"
   ]
  },
  {
   "cell_type": "markdown",
   "metadata": {},
   "source": [
    "Run simulations"
   ]
  },
  {
   "cell_type": "code",
   "execution_count": 6,
   "metadata": {
    "tags": []
   },
   "outputs": [
    {
     "output_type": "stream",
     "name": "stdout",
     "text": "Running on 62 cores\nConverting 6 .apsim files to .sim files.\nRunning Apsim for 6 .sim files...\nRuns completed.\nProcessing time: 2.1175 seconds\nRunning on 62 cores\nConverting 6 .apsim files to .sim files.\nRunning Apsim for 6 .sim files...\nRuns completed.\nProcessing time: 2.1165 seconds\n"
    }
   ],
   "source": [
    "run_apsim.run_all_simulations(apsim_files_path=\"apsim_files\\\\AccolaSaxton\\\\*.apsim\", sim_files_path=\"apsim_files\\\\AccolaSaxton\\\\*.sim\")\n",
    "run_apsim.run_all_simulations(apsim_files_path=\"apsim_files\\\\AccolaSaxtonOld\\\\*.apsim\", sim_files_path=\"apsim_files\\\\AccolaSaxtonOld\\\\*.sim\")"
   ]
  },
  {
   "cell_type": "code",
   "execution_count": 7,
   "metadata": {
    "tags": []
   },
   "outputs": [
    {
     "output_type": "stream",
     "name": "stdout",
     "text": "Running on 62 cores\nConverting 6 .apsim files to .sim files.\nRunning Apsim for 6 .sim files...\nRuns completed.\nProcessing time: 2.1084 seconds\nRunning on 62 cores\nConverting 6 .apsim files to .sim files.\nRunning Apsim for 6 .sim files...\nRuns completed.\nProcessing time: 2.1173 seconds\n"
    }
   ],
   "source": [
    "run_apsim.run_all_simulations(apsim_files_path=\"apsim_files\\\\AccolaDefault\\\\*.apsim\", sim_files_path=\"apsim_files\\\\AccolaDefault\\\\*.sim\")\n",
    "run_apsim.run_all_simulations(apsim_files_path=\"apsim_files\\\\AccolaDefaultOld\\\\*.apsim\", sim_files_path=\"apsim_files\\\\AccolaDefaultOld\\\\*.sim\")"
   ]
  },
  {
   "cell_type": "code",
   "execution_count": 8,
   "metadata": {},
   "outputs": [],
   "source": [
    "accola_maize_output_2019_saxton = parse_summary_output_field(\"apsim_files/AccolaSaxton/\", year=2019)\n",
    "accola_maize_output_2019_saxton_old = parse_summary_output_field(\"apsim_files/AccolaSaxtonOld/\", year=2019)"
   ]
  },
  {
   "cell_type": "code",
   "execution_count": 9,
   "metadata": {},
   "outputs": [],
   "source": [
    "accola_maize_output_2019_default = parse_summary_output_field(\"apsim_files/AccolaDefault/\", year=2019)\n",
    "accola_maize_output_2019_default_old = parse_summary_output_field(\"apsim_files/AccolaDefaultOld/\", year=2019)"
   ]
  },
  {
   "cell_type": "code",
   "execution_count": null,
   "metadata": {},
   "outputs": [],
   "source": [
    "# accola_maize_output_2019_saxton.to_csv('accola_saxton_maize_2019.csv', index=False)\n",
    "# accola_maize_output_2019_default.to_csv('accola_default_maize_2019.csv', index=False)"
   ]
  },
  {
   "cell_type": "code",
   "execution_count": 10,
   "metadata": {},
   "outputs": [
    {
     "output_type": "execute_result",
     "data": {
      "text/plain": "     mukey  corn_buac\n0  2765537  199.89569\n1  2800480  201.67325\n2  2835021  205.76308\n3  2835194  207.95270\n4  2922031  203.81483\n5   411333  210.01071",
      "text/html": "<div>\n<style scoped>\n    .dataframe tbody tr th:only-of-type {\n        vertical-align: middle;\n    }\n\n    .dataframe tbody tr th {\n        vertical-align: top;\n    }\n\n    .dataframe thead th {\n        text-align: right;\n    }\n</style>\n<table border=\"1\" class=\"dataframe\">\n  <thead>\n    <tr style=\"text-align: right;\">\n      <th></th>\n      <th>mukey</th>\n      <th>corn_buac</th>\n    </tr>\n  </thead>\n  <tbody>\n    <tr>\n      <th>0</th>\n      <td>2765537</td>\n      <td>199.89569</td>\n    </tr>\n    <tr>\n      <th>1</th>\n      <td>2800480</td>\n      <td>201.67325</td>\n    </tr>\n    <tr>\n      <th>2</th>\n      <td>2835021</td>\n      <td>205.76308</td>\n    </tr>\n    <tr>\n      <th>3</th>\n      <td>2835194</td>\n      <td>207.95270</td>\n    </tr>\n    <tr>\n      <th>4</th>\n      <td>2922031</td>\n      <td>203.81483</td>\n    </tr>\n    <tr>\n      <th>5</th>\n      <td>411333</td>\n      <td>210.01071</td>\n    </tr>\n  </tbody>\n</table>\n</div>"
     },
     "metadata": {},
     "execution_count": 10
    }
   ],
   "source": [
    "accola_apsim_yield_2019_saxton = accola_maize_output_2019_saxton[['mukey', 'corn_buac']]\n",
    "accola_apsim_yield_2019_saxton"
   ]
  },
  {
   "cell_type": "code",
   "execution_count": 11,
   "metadata": {},
   "outputs": [
    {
     "output_type": "execute_result",
     "data": {
      "text/plain": "     mukey  corn_buac\n0  2765537  144.91823\n1  2800480  134.41357\n2  2835021  176.60591\n3  2835194  188.40086\n4  2922031  163.13495\n5   411333  184.84686",
      "text/html": "<div>\n<style scoped>\n    .dataframe tbody tr th:only-of-type {\n        vertical-align: middle;\n    }\n\n    .dataframe tbody tr th {\n        vertical-align: top;\n    }\n\n    .dataframe thead th {\n        text-align: right;\n    }\n</style>\n<table border=\"1\" class=\"dataframe\">\n  <thead>\n    <tr style=\"text-align: right;\">\n      <th></th>\n      <th>mukey</th>\n      <th>corn_buac</th>\n    </tr>\n  </thead>\n  <tbody>\n    <tr>\n      <th>0</th>\n      <td>2765537</td>\n      <td>144.91823</td>\n    </tr>\n    <tr>\n      <th>1</th>\n      <td>2800480</td>\n      <td>134.41357</td>\n    </tr>\n    <tr>\n      <th>2</th>\n      <td>2835021</td>\n      <td>176.60591</td>\n    </tr>\n    <tr>\n      <th>3</th>\n      <td>2835194</td>\n      <td>188.40086</td>\n    </tr>\n    <tr>\n      <th>4</th>\n      <td>2922031</td>\n      <td>163.13495</td>\n    </tr>\n    <tr>\n      <th>5</th>\n      <td>411333</td>\n      <td>184.84686</td>\n    </tr>\n  </tbody>\n</table>\n</div>"
     },
     "metadata": {},
     "execution_count": 11
    }
   ],
   "source": [
    "accola_apsim_yield_2019_saxton_old = accola_maize_output_2019_saxton_old[['mukey', 'corn_buac']]\n",
    "accola_apsim_yield_2019_saxton_old"
   ]
  },
  {
   "cell_type": "code",
   "execution_count": 12,
   "metadata": {},
   "outputs": [
    {
     "output_type": "execute_result",
     "data": {
      "text/plain": "     mukey  corn_buac\n0  2765537  206.29016\n1  2800480  205.90283\n2  2835021  205.93431\n3  2835194  207.34471\n4  2922031  205.66007\n5   411333  200.76477",
      "text/html": "<div>\n<style scoped>\n    .dataframe tbody tr th:only-of-type {\n        vertical-align: middle;\n    }\n\n    .dataframe tbody tr th {\n        vertical-align: top;\n    }\n\n    .dataframe thead th {\n        text-align: right;\n    }\n</style>\n<table border=\"1\" class=\"dataframe\">\n  <thead>\n    <tr style=\"text-align: right;\">\n      <th></th>\n      <th>mukey</th>\n      <th>corn_buac</th>\n    </tr>\n  </thead>\n  <tbody>\n    <tr>\n      <th>0</th>\n      <td>2765537</td>\n      <td>206.29016</td>\n    </tr>\n    <tr>\n      <th>1</th>\n      <td>2800480</td>\n      <td>205.90283</td>\n    </tr>\n    <tr>\n      <th>2</th>\n      <td>2835021</td>\n      <td>205.93431</td>\n    </tr>\n    <tr>\n      <th>3</th>\n      <td>2835194</td>\n      <td>207.34471</td>\n    </tr>\n    <tr>\n      <th>4</th>\n      <td>2922031</td>\n      <td>205.66007</td>\n    </tr>\n    <tr>\n      <th>5</th>\n      <td>411333</td>\n      <td>200.76477</td>\n    </tr>\n  </tbody>\n</table>\n</div>"
     },
     "metadata": {},
     "execution_count": 12
    }
   ],
   "source": [
    "accola_apsim_yield_2019_default = accola_maize_output_2019_default[['mukey', 'corn_buac']]\n",
    "accola_apsim_yield_2019_default"
   ]
  },
  {
   "cell_type": "code",
   "execution_count": 13,
   "metadata": {},
   "outputs": [
    {
     "output_type": "execute_result",
     "data": {
      "text/plain": "     mukey  corn_buac\n0  2765537  173.01106\n1  2800480  145.71753\n2  2835021  169.79439\n3  2835194  192.79851\n4  2922031  164.62152\n5   411333  147.62572",
      "text/html": "<div>\n<style scoped>\n    .dataframe tbody tr th:only-of-type {\n        vertical-align: middle;\n    }\n\n    .dataframe tbody tr th {\n        vertical-align: top;\n    }\n\n    .dataframe thead th {\n        text-align: right;\n    }\n</style>\n<table border=\"1\" class=\"dataframe\">\n  <thead>\n    <tr style=\"text-align: right;\">\n      <th></th>\n      <th>mukey</th>\n      <th>corn_buac</th>\n    </tr>\n  </thead>\n  <tbody>\n    <tr>\n      <th>0</th>\n      <td>2765537</td>\n      <td>173.01106</td>\n    </tr>\n    <tr>\n      <th>1</th>\n      <td>2800480</td>\n      <td>145.71753</td>\n    </tr>\n    <tr>\n      <th>2</th>\n      <td>2835021</td>\n      <td>169.79439</td>\n    </tr>\n    <tr>\n      <th>3</th>\n      <td>2835194</td>\n      <td>192.79851</td>\n    </tr>\n    <tr>\n      <th>4</th>\n      <td>2922031</td>\n      <td>164.62152</td>\n    </tr>\n    <tr>\n      <th>5</th>\n      <td>411333</td>\n      <td>147.62572</td>\n    </tr>\n  </tbody>\n</table>\n</div>"
     },
     "metadata": {},
     "execution_count": 13
    }
   ],
   "source": [
    "accola_apsim_yield_2019_default_old = accola_maize_output_2019_default_old[['mukey', 'corn_buac']]\n",
    "accola_apsim_yield_2019_default_old"
   ]
  },
  {
   "cell_type": "code",
   "execution_count": null,
   "metadata": {},
   "outputs": [],
   "source": [
    "#accola_yield = gpd.read_file(\"yield_monitor/Accola2019YieldwGeom.dbf\")\n",
    "#accola_yield_clean = accola_yield[['Yld_Vol_Dr','geometry']]\n",
    "#accola_yield_clean['Yld_Vol_Dr'].describe()"
   ]
  },
  {
   "cell_type": "code",
   "execution_count": null,
   "metadata": {},
   "outputs": [],
   "source": [
    "#YM data with turn rows\n",
    "#accola_ssurgo_geojson = 'C:/Users/mjn/Documents/Foresite/yield_monitor_data/analyses/accola/accola_ssurgo.geojson'\n",
    "#accola_raster_yield = \"C:\\\\Users\\\\mjn\\\\Documents\\\\Foresite\\\\yield_monitor_data\\\\analyses\\\\accola\\\\accola_maize_2019_raster_30.tif\"\n",
    "\n",
    "#YM data without turn rows\n",
    "accola_ssurgo_geojson = \"C:\\\\Users\\\\mjn\\\\Documents\\\\Foresite\\\\yield_monitor_data\\\\analyses\\\\accola\\\\ssurgo\\\\accola_ssurgo_noturnrows.geojson\"\n",
    "accola_raster_yield = \"C:\\\\Users\\\\mjn\\\\Documents\\\\Foresite\\\\yield_monitor_data\\\\analyses\\\\accola\\\\yield_monitor\\\\no_turnrow\\\\accola_maize_noturn_ym_raster_2019.tif\""
   ]
  },
  {
   "cell_type": "code",
   "execution_count": null,
   "metadata": {},
   "outputs": [],
   "source": [
    "stats = zonal_stats(accola_ssurgo_geojson, accola_raster_yield, geojson_out=True, stats=['min', 'max', 'median', 'mean', 'std', 'range'])"
   ]
  },
  {
   "cell_type": "code",
   "execution_count": null,
   "metadata": {},
   "outputs": [],
   "source": [
    "accola_maize_2019 = gpd.GeoDataFrame.from_features(stats)"
   ]
  },
  {
   "cell_type": "code",
   "execution_count": null,
   "metadata": {},
   "outputs": [],
   "source": [
    "accola_maize_2019['Field'] = 'Accola'"
   ]
  },
  {
   "cell_type": "code",
   "execution_count": null,
   "metadata": {},
   "outputs": [],
   "source": [
    "accola_maize_2019 = accola_maize_2019[['geometry', 'Field', 'objectid', 'areasymbol', 'musym', 'mukey', 'shape_area', 'mean', 'median', 'min', 'max', 'std', 'range']]"
   ]
  },
  {
   "cell_type": "code",
   "execution_count": null,
   "metadata": {},
   "outputs": [],
   "source": [
    "accola_maize_2019 = accola_maize_2019.round({'mean':2,'median':2, 'min':2, 'max':2, 'std':2, 'range':2})"
   ]
  },
  {
   "cell_type": "code",
   "execution_count": null,
   "metadata": {},
   "outputs": [],
   "source": [
    "accola_maize_2019.to_file('accola_maize_2019_stats.geojson', driver='GeoJSON')"
   ]
  },
  {
   "cell_type": "code",
   "execution_count": null,
   "metadata": {},
   "outputs": [],
   "source": [
    "accola_maize_2019 = gpd.read_file(\"accola_maize_2019_stats.geojson\")"
   ]
  },
  {
   "cell_type": "code",
   "execution_count": null,
   "metadata": {},
   "outputs": [],
   "source": [
    "def wkb_hexer(line):\n",
    "    return line.wkb_hex"
   ]
  },
  {
   "cell_type": "code",
   "execution_count": null,
   "metadata": {},
   "outputs": [],
   "source": [
    "accola_maize_2019['geometry'] = accola_maize_2019['geometry'].apply(wkb_hexer)"
   ]
  },
  {
   "cell_type": "code",
   "execution_count": null,
   "metadata": {},
   "outputs": [],
   "source": [
    "accola_maize_df = pd.DataFrame(accola_maize_2019)"
   ]
  },
  {
   "cell_type": "code",
   "execution_count": null,
   "metadata": {},
   "outputs": [],
   "source": [
    "db_schema = 'biocent_farms'\n",
    "db_table = 'accola_maize_2019_yield_zonal_stats' \n",
    "accola_maize_df.to_sql(\n",
    "con = dbconn,\n",
    "name = db_table,\n",
    "schema = db_schema,\n",
    "if_exists = 'replace',\n",
    "index = False,\n",
    "chunksize=1000,\n",
    "method='multi' )"
   ]
  },
  {
   "cell_type": "code",
   "execution_count": null,
   "metadata": {},
   "outputs": [],
   "source": [
    "accola_maize_2019 = accola_maize_2019[['objectid', 'mukey', 'mean']]\n",
    "accola_maize_2019.sort_values('mukey')"
   ]
  },
  {
   "cell_type": "code",
   "execution_count": null,
   "metadata": {},
   "outputs": [],
   "source": [
    "with rio.open(accola_raster_yield) as src:\n",
    "    accola_raster_array = src.read(1, masked=True)\n",
    "accola_raster_array = accola_raster_array.ravel()"
   ]
  },
  {
   "cell_type": "code",
   "execution_count": null,
   "metadata": {},
   "outputs": [],
   "source": [
    "plt.hist(accola_raster_array,\n",
    "        color='purple')\n",
    "plt.xlabel('Maize yield')\n",
    "plt.ylabel('Frequency')\n",
    "plt.title('Accola 2019 Maize Yield')\n",
    "plt.show()"
   ]
  },
  {
   "cell_type": "markdown",
   "metadata": {},
   "source": [
    "![SSURGO soils with raster yield overlay](images/accola_ssurgo_rasteryield_2019.png \"Accola SSURGO soils with yield overlay\")  "
   ]
  },
  {
   "cell_type": "code",
   "execution_count": null,
   "metadata": {},
   "outputs": [],
   "source": [
    "pred_vs_obs_def = accola_maize_2019.merge(accola_apsim_yield_2019_default, on='mukey', how='left')\n",
    "pred_vs_obs_def.columns = ['objectid', 'mukey', 'observed', 'predicted']\n",
    "pred_vs_obs_def['resid'] = pred_vs_obs_def['predicted'] - pred_vs_obs_def['observed']\n",
    "pred_vs_obs_def.sort_values('mukey')"
   ]
  },
  {
   "cell_type": "code",
   "execution_count": null,
   "metadata": {},
   "outputs": [],
   "source": [
    "yield_monitor = tuple(pred_vs_obs_def['observed'])\n",
    "yield_monitor = [round(num, 2) for num in yield_monitor]\n",
    "apsim_predicted_def = tuple(pred_vs_obs_def['predicted'])\n",
    "apsim_predicted_def = [round(num, 2) for num in apsim_predicted_def]"
   ]
  },
  {
   "cell_type": "code",
   "execution_count": null,
   "metadata": {},
   "outputs": [],
   "source": [
    "fig, ax = plt.subplots()\n",
    "ax.scatter(yield_monitor, apsim_predicted_def)\n",
    "ax.plot([100,250],[100,250])\n",
    "ax.set_xlabel('Measured')\n",
    "ax.set_ylabel('Predicted')\n",
    "plt.show()"
   ]
  },
  {
   "cell_type": "code",
   "execution_count": null,
   "metadata": {},
   "outputs": [],
   "source": [
    "rmse = mean_squared_error(yield_monitor, apsim_predicted_def, squared=False)\n",
    "rmse"
   ]
  },
  {
   "cell_type": "code",
   "execution_count": null,
   "metadata": {},
   "outputs": [],
   "source": [
    "r_sq = r2_score(yield_monitor, apsim_predicted_def)\n",
    "r_sq"
   ]
  },
  {
   "cell_type": "code",
   "execution_count": null,
   "metadata": {},
   "outputs": [],
   "source": [
    "corr_matrix = np.corrcoef(yield_monitor, apsim_predicted_def)\n",
    "corr_xy = corr_matrix[0,1]\n",
    "r_squared = corr_xy**2\n",
    "r_squared"
   ]
  },
  {
   "cell_type": "code",
   "execution_count": null,
   "metadata": {},
   "outputs": [],
   "source": [
    "corr_matrix"
   ]
  },
  {
   "cell_type": "code",
   "execution_count": null,
   "metadata": {},
   "outputs": [],
   "source": [
    "#gdal.Grid('yield_avg.tif', 'accola_yield_basic.csv')"
   ]
  },
  {
   "cell_type": "code",
   "execution_count": null,
   "metadata": {},
   "outputs": [],
   "source": [
    "def reproject(vector_gpd, raster):\n",
    "    proj = raster.crs.to_epsg()\n",
    "    print(\"Original vector layer projection: \", vector_gpd.crs)\n",
    "    reproj = vector_gpd.to_crs(proj)\n",
    "    print(\"New vector layer projection (PROJ4): \", reproj.crs)\n",
    "    return reproj"
   ]
  },
  {
   "cell_type": "code",
   "execution_count": null,
   "metadata": {},
   "outputs": [],
   "source": [
    "yield_with_dem_path = \"C:\\\\Users\\\\mjn\\\\Documents\\\\Foresite\\\\yield_monitor_data\\\\analyses\\\\accola\\\\accola_maize_2019_yield_w_elev_noturnrows.geojson\""
   ]
  },
  {
   "cell_type": "code",
   "execution_count": null,
   "metadata": {},
   "outputs": [],
   "source": [
    "yld_with_dem = gpd.read_file(yield_with_dem_path)"
   ]
  },
  {
   "cell_type": "code",
   "execution_count": null,
   "metadata": {},
   "outputs": [],
   "source": [
    "yld_with_dem.head()"
   ]
  },
  {
   "cell_type": "code",
   "execution_count": null,
   "metadata": {},
   "outputs": [],
   "source": [
    "yld_with_dem = yld_with_dem.round({'Yld_Vol_Dr':2})\n",
    "yld_with_dem = yld_with_dem.astype({'Obj__Id':'int32'})"
   ]
  },
  {
   "cell_type": "code",
   "execution_count": null,
   "metadata": {},
   "outputs": [],
   "source": [
    "yld_with_dem.head()"
   ]
  },
  {
   "cell_type": "code",
   "execution_count": null,
   "metadata": {},
   "outputs": [],
   "source": [
    "fig, ax = plt.subplots()\n",
    "ax.scatter(yld_with_dem['Yld_Vol_Dr'], yld_with_dem['rvalue_1'], alpha=0.2)\n",
    "ax.set_xlabel('Yield Monitor (bu/ac')\n",
    "ax.set_ylabel('DEM (elevation)')\n",
    "plt.show()"
   ]
  },
  {
   "cell_type": "code",
   "execution_count": null,
   "metadata": {},
   "outputs": [],
   "source": [
    "len(yld_with_dem['Yld_Vol_Dr'])"
   ]
  },
  {
   "cell_type": "code",
   "execution_count": null,
   "metadata": {},
   "outputs": [],
   "source": [
    "dem_pred = tuple(yld_with_dem['rvalue_1'])\n",
    "yld_obsv = tuple(yld_with_dem['Yld_Vol_Dr'])"
   ]
  },
  {
   "cell_type": "code",
   "execution_count": null,
   "metadata": {},
   "outputs": [],
   "source": [
    "corr_matrix = np.corrcoef(yld_obsv, dem_pred)\n",
    "corr_xy = corr_matrix[0,1]\n",
    "corr_xy"
   ]
  },
  {
   "cell_type": "code",
   "execution_count": null,
   "metadata": {},
   "outputs": [],
   "source": [
    "yield_with_ym_elev_path = \"C:\\\\Users\\\\mjn\\\\Documents\\\\Foresite\\\\yield_monitor_data\\\\analyses\\\\accola\\\\accola_maize_2019_noturn_ym_elev.geojson\"\n",
    "yield_with_ym_elev_path = gpd.read_file(yield_with_ym_elev_path)"
   ]
  },
  {
   "cell_type": "code",
   "execution_count": null,
   "metadata": {},
   "outputs": [],
   "source": [
    "yield_with_ym_elev_path.head()"
   ]
  },
  {
   "cell_type": "code",
   "execution_count": null,
   "metadata": {},
   "outputs": [],
   "source": [
    "yield_with_ym_elev_path = yield_with_ym_elev_path.round({'Yld_Vol_Dr':2})\n",
    "yield_with_ym_elev_path = yield_with_ym_elev_path.astype({'Obj__Id':'int32'})"
   ]
  },
  {
   "cell_type": "code",
   "execution_count": null,
   "metadata": {},
   "outputs": [],
   "source": [
    "yield_with_ym_elev_path.head()"
   ]
  },
  {
   "cell_type": "code",
   "execution_count": null,
   "metadata": {},
   "outputs": [],
   "source": [
    "fig, ax = plt.subplots()\n",
    "ax.scatter(yield_with_ym_elev_path['Yld_Vol_Dr'], yield_with_ym_elev_path['Elevation_'], alpha=0.2)\n",
    "ax.set_xlabel('Yield Monitor (bu/ac')\n",
    "ax.set_ylabel('Yield Monitor Elevation')\n",
    "plt.show()"
   ]
  },
  {
   "cell_type": "code",
   "execution_count": null,
   "metadata": {},
   "outputs": [],
   "source": [
    "ym_elev = tuple(yield_with_ym_elev_path['Elevation_'])\n",
    "yld_obsv = tuple(yield_with_ym_elev_path['Yld_Vol_Dr'])"
   ]
  },
  {
   "cell_type": "code",
   "execution_count": null,
   "metadata": {},
   "outputs": [],
   "source": [
    "corr_matrix = np.corrcoef(yld_obsv, ym_elev)\n",
    "corr_xy = corr_matrix[0,1]\n",
    "corr_xy"
   ]
  },
  {
   "cell_type": "code",
   "execution_count": null,
   "metadata": {},
   "outputs": [],
   "source": []
  }
 ],
 "metadata": {
  "kernelspec": {
   "display_name": "Python 3",
   "language": "python",
   "name": "python3"
  },
  "language_info": {
   "codemirror_mode": {
    "name": "ipython",
    "version": 3
   },
   "file_extension": ".py",
   "mimetype": "text/x-python",
   "name": "python",
   "nbconvert_exporter": "python",
   "pygments_lexer": "ipython3",
   "version": "3.8.2"
  }
 },
 "nbformat": 4,
 "nbformat_minor": 4
}