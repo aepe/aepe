{
 "cells": [
  {
   "cell_type": "markdown",
   "metadata": {},
   "source": [
    "### Notebook for analyzing BioCentury Research Farm East Bilsland field site - author @ Matt Nowatzke"
   ]
  },
  {
   "cell_type": "code",
   "execution_count": 2,
   "metadata": {},
   "outputs": [],
   "source": [
    "import json\n",
    "import pandas as pd\n",
    "import geopandas as gpd\n",
    "import numpy as np\n",
    "import matplotlib.pyplot as plt\n",
    "import seaborn as sns\n",
    "import database as db\n",
    "import gdal\n",
    "import rasterio as rio\n",
    "import run_apsim\n",
    "from sklearn.metrics import mean_squared_error, r2_score\n",
    "from math import sqrt\n",
    "from rasterstats import zonal_stats\n",
    "from munging import get_centroid\n",
    "from apsim.daymet import create_excel_met\n",
    "from apsim.apsim_input_writer import create_mukey_runs\n",
    "from apsim.apsim_output_parser import parse_all_output_field, parse_summary_output_field"
   ]
  },
  {
   "cell_type": "markdown",
   "metadata": {},
   "source": [
    "### Load management data for 2018 soybeans following corn and 2019 corn following soybeans."
   ]
  },
  {
   "cell_type": "code",
   "execution_count": null,
   "metadata": {},
   "outputs": [],
   "source": [
    "ebilsland_corn_mgmt_2018 = json.loads( open( 'crop_jsons/ebilsland_cfs_2018.json', 'r' ).read() )\n",
    "ebilsland_soy_mgmt_2019 = json.loads( open( 'crop_jsons/ebilsland_sfc_2019.json', 'r' ).read() )"
   ]
  },
  {
   "cell_type": "code",
   "execution_count": null,
   "metadata": {},
   "outputs": [],
   "source": [
    "ebilsland_soy_mgmt_2019"
   ]
  },
  {
   "cell_type": "markdown",
   "metadata": {},
   "source": [
    "### Create database connection and get a list of all the unique soils (mukeys) for the field.  \n",
    "Each soil mapunit has unique musym identifier and a mapunit key (mukey) which relates to soil properties."
   ]
  },
  {
   "cell_type": "code",
   "execution_count": 3,
   "metadata": {},
   "outputs": [],
   "source": [
    "dbconn = db.connect_to_db('database.ini')"
   ]
  },
  {
   "cell_type": "code",
   "execution_count": null,
   "metadata": {},
   "outputs": [],
   "source": [
    "ebilsland_ssurgo = gpd.read_file(\"C:/Users/mjn/Documents/Foresite/yield_monitor_data/analyses/ebilsland/ebilsland_ssurgo_2019.geojson\")\n",
    "ebilsland_mukeys = list(np.unique(ebilsland_ssurgo['mukey']))\n",
    "ebilsland_mukeys"
   ]
  },
  {
   "cell_type": "markdown",
   "metadata": {},
   "source": [
    "### Get the centroid of the field and create met file.\n",
    "This met file--if created on a Windows machine--is a an Excel file that should be saved afterwards as a Formatted Text file (*.prn)  \n",
    "See: https://www.apsim.info/support/apsim-training-manuals/creating-an-apsim-met-file-using-excel/  \n",
    "This is a known problem with Pandas on Windows. If creating the met file on Mac or Linux, feel free to use the daymet.create_met function instead."
   ]
  },
  {
   "cell_type": "code",
   "execution_count": null,
   "metadata": {
    "tags": []
   },
   "outputs": [],
   "source": [
    "ebilsland_centroid = get_centroid(ebilsland_ssurgo, 'areasymbol', 'geometry')\n",
    "create_excel_met(ebilsland_centroid[0], ebilsland_centroid[1], 2012, 2019, 'Ebilsland')\n",
    "print(f'East Bilsland centroid located at {ebilsland_centroid}')"
   ]
  },
  {
   "cell_type": "markdown",
   "metadata": {},
   "source": [
    "### Create runs using the default soil calcs or Saxton Rawls"
   ]
  },
  {
   "cell_type": "code",
   "execution_count": null,
   "metadata": {
    "tags": []
   },
   "outputs": [],
   "source": [
    "create_mukey_runs(ebilsland_mukeys, dbconn, 'sfc', 'Ebilsland.met', 'EbilslandDefault', start_year=2017, end_year=2019, sfc_mgmt=ebilsland_soy_mgmt_2019, cfs_mgmt=ebilsland_corn_mgmt_2018)\n",
    "create_mukey_runs(ebilsland_mukeys, dbconn, 'sfc', 'Ebilsland.met', 'EbilslandSaxton', start_year=2017, end_year=2019, sfc_mgmt=ebilsland_soy_mgmt_2019, cfs_mgmt=ebilsland_corn_mgmt_2018, saxton=True)"
   ]
  },
  {
   "cell_type": "markdown",
   "metadata": {},
   "source": [
    "### Run simulations"
   ]
  },
  {
   "cell_type": "code",
   "execution_count": null,
   "metadata": {
    "tags": []
   },
   "outputs": [],
   "source": [
    "run_apsim.run_all_simulations(apsim_files_path=\"apsim_files\\\\EbilslandSaxton\\\\*.apsim\", sim_files_path=\"apsim_files\\\\EbilslandSaxton\\\\*.sim\")"
   ]
  },
  {
   "cell_type": "code",
   "execution_count": null,
   "metadata": {
    "tags": []
   },
   "outputs": [],
   "source": [
    "run_apsim.run_all_simulations(apsim_files_path=\"apsim_files\\\\EbilslandDefault\\\\*.apsim\", sim_files_path=\"apsim_files\\\\EbilslandDefault\\\\*.sim\")"
   ]
  },
  {
   "cell_type": "markdown",
   "metadata": {},
   "source": [
    "### View output from APSIM runs for default soil profiles and saxton soil profiles."
   ]
  },
  {
   "cell_type": "code",
   "execution_count": null,
   "metadata": {},
   "outputs": [],
   "source": [
    "ebilsland_soy_output_2019_saxton = parse_summary_output_field(\"apsim_files/EbilslandSaxton/\", year=2019)\n",
    "ebilsland_soy_output_2019_saxton"
   ]
  },
  {
   "cell_type": "code",
   "execution_count": null,
   "metadata": {},
   "outputs": [],
   "source": [
    "ebilsland_soy_output_2019_default = parse_summary_output_field(\"apsim_files/EbilslandDefault/\", year=2019)\n",
    "ebilsland_soy_output_2019_default"
   ]
  },
  {
   "cell_type": "markdown",
   "metadata": {},
   "source": [
    "Get zonal stats from yield monitor data to compare to simulated yields"
   ]
  },
  {
   "cell_type": "code",
   "execution_count": 4,
   "metadata": {},
   "outputs": [],
   "source": [
    "ebilsland_raster = \"C:\\\\Users\\\\mjn\\\\Documents\\\\Foresite\\\\yield_monitor_data\\\\analyses\\\\ebilsland\\\\ebilsland_soy_2019_raster_30.tif\"\n",
    "ebilsland_ssurgo_geojson = 'C:/Users/mjn/Documents/Foresite/yield_monitor_data/analyses/ebilsland/ebilsland_ssurgo_2019.geojson'"
   ]
  },
  {
   "cell_type": "code",
   "execution_count": 30,
   "metadata": {},
   "outputs": [],
   "source": [
    "stats = zonal_stats(ebilsland_ssurgo_geojson, ebilsland_raster, geojson_out=True, stats=['min', 'max', 'median', 'mean', 'std', 'range'])"
   ]
  },
  {
   "cell_type": "code",
   "execution_count": 7,
   "metadata": {},
   "outputs": [],
   "source": [
    "ebilsland_soy_2019_stats = gpd.GeoDataFrame.from_features(stats)"
   ]
  },
  {
   "cell_type": "code",
   "execution_count": 8,
   "metadata": {},
   "outputs": [
    {
     "output_type": "execute_result",
     "data": {
      "text/plain": "                                             geometry  fid          Field  \\\n0   MULTIPOLYGON (((-93.79891 41.90873, -93.79898 ...    1  East Bilsland   \n1   MULTIPOLYGON (((-93.80268 41.90737, -93.80269 ...    2  East Bilsland   \n2   MULTIPOLYGON (((-93.80271 41.91005, -93.80273 ...    3  East Bilsland   \n3   MULTIPOLYGON (((-93.79608 41.90707, -93.79712 ...    4  East Bilsland   \n4   MULTIPOLYGON (((-93.80013 41.90708, -93.80020 ...    5  East Bilsland   \n5   MULTIPOLYGON (((-93.80182 41.91232, -93.80183 ...    6  East Bilsland   \n6   MULTIPOLYGON (((-93.79722 41.91455, -93.79583 ...    7  East Bilsland   \n7   MULTIPOLYGON (((-93.79568 41.90998, -93.79569 ...    8  East Bilsland   \n8   MULTIPOLYGON (((-93.80178 41.91389, -93.80179 ...    9  East Bilsland   \n9   MULTIPOLYGON (((-93.79759 41.91050, -93.79773 ...   10  East Bilsland   \n10  MULTIPOLYGON (((-93.79567 41.91056, -93.79567 ...   11  East Bilsland   \n11  MULTIPOLYGON (((-93.80269 41.90877, -93.80268 ...   12  East Bilsland   \n12  MULTIPOLYGON (((-93.79712 41.90707, -93.79801 ...   13  East Bilsland   \n13  MULTIPOLYGON (((-93.80104 41.91455, -93.80087 ...   14  East Bilsland   \n14  MULTIPOLYGON (((-93.80036 41.91058, -93.80036 ...   15  East Bilsland   \n\n    Obj__Id       Bnd_Name  objectid areasymbol  spatialver  musym    mukey  \\\n0       1.0  East Bilsland  13447276      IA015        10.0      6  2550285   \n1       1.0  East Bilsland  13449079      IA015        10.0   L107  2835012   \n2       1.0  East Bilsland  13455246      IA015        10.0  L138B  2765522   \n3       1.0  East Bilsland  13455735      IA015        10.0  L138B  2765522   \n4       1.0  East Bilsland  13458179      IA015        10.0  L138B  2765522   \n5       1.0  East Bilsland  13458216      IA015        10.0  L138B  2765522   \n6       1.0  East Bilsland  13458451      IA015        10.0  L138B  2765522   \n7       1.0  East Bilsland  13461421      IA015        10.0  L138B  2765522   \n8       1.0  East Bilsland  13461925      IA015        10.0  L138B  2765522   \n9       1.0  East Bilsland  13466907      IA015        10.0   L507  2922007   \n10      1.0  East Bilsland  13467687      IA015        10.0   L507  2922007   \n11      1.0  East Bilsland  13470727      IA015        10.0    L55  2834849   \n12      1.0  East Bilsland  13471951      IA015        10.0    L55  2834849   \n13      1.0  East Bilsland  13472028      IA015        10.0    L55  2834849   \n14      1.0  East Bilsland  13473439      IA015        10.0    L95  2835146   \n\n    shape_length     shape_area        min        max       mean        std  \\\n0     400.644320    7114.270891  15.034800  68.904800  57.189427  14.771053   \n1     523.917874    3154.015393  60.053600  65.421501  62.475149   1.728630   \n2     349.123249    1190.190208  20.321899  28.609301  24.465599   4.143701   \n3    1484.287985   26235.367905  15.305000  69.767303  54.350890  13.771772   \n4    8373.176363   40329.439255  15.566300  71.133904  55.358508  11.611535   \n5     383.083178    6525.337137  16.549999  58.070099  35.492076  15.213239   \n6    1702.878158    7290.170439  15.357500  96.371201  52.391959  23.342302   \n7    2247.863067   78396.541986  15.285800  78.290497  60.465893   8.377456   \n8     675.417138    2582.220504  18.304600  67.944099  39.065453  18.427182   \n9     724.117501   15066.090284  43.532799  74.706596  62.121024   5.835248   \n10  46260.305197  104284.783859  15.191600  92.757599  56.729234  13.153336   \n11   1908.996222   23762.476705  15.333300  73.863197  48.127396  19.131288   \n12   5144.552516    6253.694122  16.247299  63.756901  46.154128  16.312921   \n13   3175.368296    7742.687773  15.090100  60.602798  45.575423  14.757580   \n14   3024.831186  100139.062303  15.467400  84.333603  58.525228  10.819704   \n\n       median      range  \n0   60.132149  53.870001  \n1   62.727150   5.367901  \n2   24.465599   8.287401  \n3   59.078602  54.462303  \n4   59.536148  55.567603  \n5   33.372849  41.520100  \n6   54.447548  81.013700  \n7   62.115501  63.004697  \n8   35.006550  49.639500  \n9   63.057098  31.173798  \n10  60.528301  77.565999  \n11  55.365799  58.529898  \n12  50.864498  47.509602  \n13  50.774799  45.512698  \n14  60.622803  68.866203  ",
      "text/html": "<div>\n<style scoped>\n    .dataframe tbody tr th:only-of-type {\n        vertical-align: middle;\n    }\n\n    .dataframe tbody tr th {\n        vertical-align: top;\n    }\n\n    .dataframe thead th {\n        text-align: right;\n    }\n</style>\n<table border=\"1\" class=\"dataframe\">\n  <thead>\n    <tr style=\"text-align: right;\">\n      <th></th>\n      <th>geometry</th>\n      <th>fid</th>\n      <th>Field</th>\n      <th>Obj__Id</th>\n      <th>Bnd_Name</th>\n      <th>objectid</th>\n      <th>areasymbol</th>\n      <th>spatialver</th>\n      <th>musym</th>\n      <th>mukey</th>\n      <th>shape_length</th>\n      <th>shape_area</th>\n      <th>min</th>\n      <th>max</th>\n      <th>mean</th>\n      <th>std</th>\n      <th>median</th>\n      <th>range</th>\n    </tr>\n  </thead>\n  <tbody>\n    <tr>\n      <th>0</th>\n      <td>MULTIPOLYGON (((-93.79891 41.90873, -93.79898 ...</td>\n      <td>1</td>\n      <td>East Bilsland</td>\n      <td>1.0</td>\n      <td>East Bilsland</td>\n      <td>13447276</td>\n      <td>IA015</td>\n      <td>10.0</td>\n      <td>6</td>\n      <td>2550285</td>\n      <td>400.644320</td>\n      <td>7114.270891</td>\n      <td>15.034800</td>\n      <td>68.904800</td>\n      <td>57.189427</td>\n      <td>14.771053</td>\n      <td>60.132149</td>\n      <td>53.870001</td>\n    </tr>\n    <tr>\n      <th>1</th>\n      <td>MULTIPOLYGON (((-93.80268 41.90737, -93.80269 ...</td>\n      <td>2</td>\n      <td>East Bilsland</td>\n      <td>1.0</td>\n      <td>East Bilsland</td>\n      <td>13449079</td>\n      <td>IA015</td>\n      <td>10.0</td>\n      <td>L107</td>\n      <td>2835012</td>\n      <td>523.917874</td>\n      <td>3154.015393</td>\n      <td>60.053600</td>\n      <td>65.421501</td>\n      <td>62.475149</td>\n      <td>1.728630</td>\n      <td>62.727150</td>\n      <td>5.367901</td>\n    </tr>\n    <tr>\n      <th>2</th>\n      <td>MULTIPOLYGON (((-93.80271 41.91005, -93.80273 ...</td>\n      <td>3</td>\n      <td>East Bilsland</td>\n      <td>1.0</td>\n      <td>East Bilsland</td>\n      <td>13455246</td>\n      <td>IA015</td>\n      <td>10.0</td>\n      <td>L138B</td>\n      <td>2765522</td>\n      <td>349.123249</td>\n      <td>1190.190208</td>\n      <td>20.321899</td>\n      <td>28.609301</td>\n      <td>24.465599</td>\n      <td>4.143701</td>\n      <td>24.465599</td>\n      <td>8.287401</td>\n    </tr>\n    <tr>\n      <th>3</th>\n      <td>MULTIPOLYGON (((-93.79608 41.90707, -93.79712 ...</td>\n      <td>4</td>\n      <td>East Bilsland</td>\n      <td>1.0</td>\n      <td>East Bilsland</td>\n      <td>13455735</td>\n      <td>IA015</td>\n      <td>10.0</td>\n      <td>L138B</td>\n      <td>2765522</td>\n      <td>1484.287985</td>\n      <td>26235.367905</td>\n      <td>15.305000</td>\n      <td>69.767303</td>\n      <td>54.350890</td>\n      <td>13.771772</td>\n      <td>59.078602</td>\n      <td>54.462303</td>\n    </tr>\n    <tr>\n      <th>4</th>\n      <td>MULTIPOLYGON (((-93.80013 41.90708, -93.80020 ...</td>\n      <td>5</td>\n      <td>East Bilsland</td>\n      <td>1.0</td>\n      <td>East Bilsland</td>\n      <td>13458179</td>\n      <td>IA015</td>\n      <td>10.0</td>\n      <td>L138B</td>\n      <td>2765522</td>\n      <td>8373.176363</td>\n      <td>40329.439255</td>\n      <td>15.566300</td>\n      <td>71.133904</td>\n      <td>55.358508</td>\n      <td>11.611535</td>\n      <td>59.536148</td>\n      <td>55.567603</td>\n    </tr>\n    <tr>\n      <th>5</th>\n      <td>MULTIPOLYGON (((-93.80182 41.91232, -93.80183 ...</td>\n      <td>6</td>\n      <td>East Bilsland</td>\n      <td>1.0</td>\n      <td>East Bilsland</td>\n      <td>13458216</td>\n      <td>IA015</td>\n      <td>10.0</td>\n      <td>L138B</td>\n      <td>2765522</td>\n      <td>383.083178</td>\n      <td>6525.337137</td>\n      <td>16.549999</td>\n      <td>58.070099</td>\n      <td>35.492076</td>\n      <td>15.213239</td>\n      <td>33.372849</td>\n      <td>41.520100</td>\n    </tr>\n    <tr>\n      <th>6</th>\n      <td>MULTIPOLYGON (((-93.79722 41.91455, -93.79583 ...</td>\n      <td>7</td>\n      <td>East Bilsland</td>\n      <td>1.0</td>\n      <td>East Bilsland</td>\n      <td>13458451</td>\n      <td>IA015</td>\n      <td>10.0</td>\n      <td>L138B</td>\n      <td>2765522</td>\n      <td>1702.878158</td>\n      <td>7290.170439</td>\n      <td>15.357500</td>\n      <td>96.371201</td>\n      <td>52.391959</td>\n      <td>23.342302</td>\n      <td>54.447548</td>\n      <td>81.013700</td>\n    </tr>\n    <tr>\n      <th>7</th>\n      <td>MULTIPOLYGON (((-93.79568 41.90998, -93.79569 ...</td>\n      <td>8</td>\n      <td>East Bilsland</td>\n      <td>1.0</td>\n      <td>East Bilsland</td>\n      <td>13461421</td>\n      <td>IA015</td>\n      <td>10.0</td>\n      <td>L138B</td>\n      <td>2765522</td>\n      <td>2247.863067</td>\n      <td>78396.541986</td>\n      <td>15.285800</td>\n      <td>78.290497</td>\n      <td>60.465893</td>\n      <td>8.377456</td>\n      <td>62.115501</td>\n      <td>63.004697</td>\n    </tr>\n    <tr>\n      <th>8</th>\n      <td>MULTIPOLYGON (((-93.80178 41.91389, -93.80179 ...</td>\n      <td>9</td>\n      <td>East Bilsland</td>\n      <td>1.0</td>\n      <td>East Bilsland</td>\n      <td>13461925</td>\n      <td>IA015</td>\n      <td>10.0</td>\n      <td>L138B</td>\n      <td>2765522</td>\n      <td>675.417138</td>\n      <td>2582.220504</td>\n      <td>18.304600</td>\n      <td>67.944099</td>\n      <td>39.065453</td>\n      <td>18.427182</td>\n      <td>35.006550</td>\n      <td>49.639500</td>\n    </tr>\n    <tr>\n      <th>9</th>\n      <td>MULTIPOLYGON (((-93.79759 41.91050, -93.79773 ...</td>\n      <td>10</td>\n      <td>East Bilsland</td>\n      <td>1.0</td>\n      <td>East Bilsland</td>\n      <td>13466907</td>\n      <td>IA015</td>\n      <td>10.0</td>\n      <td>L507</td>\n      <td>2922007</td>\n      <td>724.117501</td>\n      <td>15066.090284</td>\n      <td>43.532799</td>\n      <td>74.706596</td>\n      <td>62.121024</td>\n      <td>5.835248</td>\n      <td>63.057098</td>\n      <td>31.173798</td>\n    </tr>\n    <tr>\n      <th>10</th>\n      <td>MULTIPOLYGON (((-93.79567 41.91056, -93.79567 ...</td>\n      <td>11</td>\n      <td>East Bilsland</td>\n      <td>1.0</td>\n      <td>East Bilsland</td>\n      <td>13467687</td>\n      <td>IA015</td>\n      <td>10.0</td>\n      <td>L507</td>\n      <td>2922007</td>\n      <td>46260.305197</td>\n      <td>104284.783859</td>\n      <td>15.191600</td>\n      <td>92.757599</td>\n      <td>56.729234</td>\n      <td>13.153336</td>\n      <td>60.528301</td>\n      <td>77.565999</td>\n    </tr>\n    <tr>\n      <th>11</th>\n      <td>MULTIPOLYGON (((-93.80269 41.90877, -93.80268 ...</td>\n      <td>12</td>\n      <td>East Bilsland</td>\n      <td>1.0</td>\n      <td>East Bilsland</td>\n      <td>13470727</td>\n      <td>IA015</td>\n      <td>10.0</td>\n      <td>L55</td>\n      <td>2834849</td>\n      <td>1908.996222</td>\n      <td>23762.476705</td>\n      <td>15.333300</td>\n      <td>73.863197</td>\n      <td>48.127396</td>\n      <td>19.131288</td>\n      <td>55.365799</td>\n      <td>58.529898</td>\n    </tr>\n    <tr>\n      <th>12</th>\n      <td>MULTIPOLYGON (((-93.79712 41.90707, -93.79801 ...</td>\n      <td>13</td>\n      <td>East Bilsland</td>\n      <td>1.0</td>\n      <td>East Bilsland</td>\n      <td>13471951</td>\n      <td>IA015</td>\n      <td>10.0</td>\n      <td>L55</td>\n      <td>2834849</td>\n      <td>5144.552516</td>\n      <td>6253.694122</td>\n      <td>16.247299</td>\n      <td>63.756901</td>\n      <td>46.154128</td>\n      <td>16.312921</td>\n      <td>50.864498</td>\n      <td>47.509602</td>\n    </tr>\n    <tr>\n      <th>13</th>\n      <td>MULTIPOLYGON (((-93.80104 41.91455, -93.80087 ...</td>\n      <td>14</td>\n      <td>East Bilsland</td>\n      <td>1.0</td>\n      <td>East Bilsland</td>\n      <td>13472028</td>\n      <td>IA015</td>\n      <td>10.0</td>\n      <td>L55</td>\n      <td>2834849</td>\n      <td>3175.368296</td>\n      <td>7742.687773</td>\n      <td>15.090100</td>\n      <td>60.602798</td>\n      <td>45.575423</td>\n      <td>14.757580</td>\n      <td>50.774799</td>\n      <td>45.512698</td>\n    </tr>\n    <tr>\n      <th>14</th>\n      <td>MULTIPOLYGON (((-93.80036 41.91058, -93.80036 ...</td>\n      <td>15</td>\n      <td>East Bilsland</td>\n      <td>1.0</td>\n      <td>East Bilsland</td>\n      <td>13473439</td>\n      <td>IA015</td>\n      <td>10.0</td>\n      <td>L95</td>\n      <td>2835146</td>\n      <td>3024.831186</td>\n      <td>100139.062303</td>\n      <td>15.467400</td>\n      <td>84.333603</td>\n      <td>58.525228</td>\n      <td>10.819704</td>\n      <td>60.622803</td>\n      <td>68.866203</td>\n    </tr>\n  </tbody>\n</table>\n</div>"
     },
     "metadata": {},
     "execution_count": 8
    }
   ],
   "source": [
    "ebilsland_soy_2019_stats"
   ]
  },
  {
   "cell_type": "code",
   "execution_count": 19,
   "metadata": {},
   "outputs": [],
   "source": [
    "def wkb_hexer(line):\n",
    "    return line.wkb_hex"
   ]
  },
  {
   "cell_type": "code",
   "execution_count": 46,
   "metadata": {},
   "outputs": [
    {
     "output_type": "execute_result",
     "data": {
      "text/plain": "                                             geometry          Field  \\\n0   MULTIPOLYGON (((-93.79891 41.90873, -93.79898 ...  East Bilsland   \n2   MULTIPOLYGON (((-93.80271 41.91005, -93.80273 ...  East Bilsland   \n3   MULTIPOLYGON (((-93.79608 41.90707, -93.79712 ...  East Bilsland   \n4   MULTIPOLYGON (((-93.80013 41.90708, -93.80020 ...  East Bilsland   \n5   MULTIPOLYGON (((-93.80182 41.91232, -93.80183 ...  East Bilsland   \n6   MULTIPOLYGON (((-93.79722 41.91455, -93.79583 ...  East Bilsland   \n7   MULTIPOLYGON (((-93.79568 41.90998, -93.79569 ...  East Bilsland   \n8   MULTIPOLYGON (((-93.80178 41.91389, -93.80179 ...  East Bilsland   \n11  MULTIPOLYGON (((-93.80269 41.90877, -93.80268 ...  East Bilsland   \n12  MULTIPOLYGON (((-93.79712 41.90707, -93.79801 ...  East Bilsland   \n13  MULTIPOLYGON (((-93.80104 41.91455, -93.80087 ...  East Bilsland   \n1   MULTIPOLYGON (((-93.80268 41.90737, -93.80269 ...  East Bilsland   \n14  MULTIPOLYGON (((-93.80036 41.91058, -93.80036 ...  East Bilsland   \n9   MULTIPOLYGON (((-93.79759 41.91050, -93.79773 ...  East Bilsland   \n10  MULTIPOLYGON (((-93.79567 41.91056, -93.79567 ...  East Bilsland   \n\n    objectid areasymbol  musym    mukey     shape_area       mean     median  \\\n0   13447276      IA015      6  2550285    7114.270891  57.189427  60.132149   \n2   13455246      IA015  L138B  2765522    1190.190208  24.465599  24.465599   \n3   13455735      IA015  L138B  2765522   26235.367905  54.350890  59.078602   \n4   13458179      IA015  L138B  2765522   40329.439255  55.358508  59.536148   \n5   13458216      IA015  L138B  2765522    6525.337137  35.492076  33.372849   \n6   13458451      IA015  L138B  2765522    7290.170439  52.391959  54.447548   \n7   13461421      IA015  L138B  2765522   78396.541986  60.465893  62.115501   \n8   13461925      IA015  L138B  2765522    2582.220504  39.065453  35.006550   \n11  13470727      IA015    L55  2834849   23762.476705  48.127396  55.365799   \n12  13471951      IA015    L55  2834849    6253.694122  46.154128  50.864498   \n13  13472028      IA015    L55  2834849    7742.687773  45.575423  50.774799   \n1   13449079      IA015   L107  2835012    3154.015393  62.475149  62.727150   \n14  13473439      IA015    L95  2835146  100139.062303  58.525228  60.622803   \n9   13466907      IA015   L507  2922007   15066.090284  62.121024  63.057098   \n10  13467687      IA015   L507  2922007  104284.783859  56.729234  60.528301   \n\n          min        max        std      range  \n0   15.034800  68.904800  14.771053  53.870001  \n2   20.321899  28.609301   4.143701   8.287401  \n3   15.305000  69.767303  13.771772  54.462303  \n4   15.566300  71.133904  11.611535  55.567603  \n5   16.549999  58.070099  15.213239  41.520100  \n6   15.357500  96.371201  23.342302  81.013700  \n7   15.285800  78.290497   8.377456  63.004697  \n8   18.304600  67.944099  18.427182  49.639500  \n11  15.333300  73.863197  19.131288  58.529898  \n12  16.247299  63.756901  16.312921  47.509602  \n13  15.090100  60.602798  14.757580  45.512698  \n1   60.053600  65.421501   1.728630   5.367901  \n14  15.467400  84.333603  10.819704  68.866203  \n9   43.532799  74.706596   5.835248  31.173798  \n10  15.191600  92.757599  13.153336  77.565999  ",
      "text/html": "<div>\n<style scoped>\n    .dataframe tbody tr th:only-of-type {\n        vertical-align: middle;\n    }\n\n    .dataframe tbody tr th {\n        vertical-align: top;\n    }\n\n    .dataframe thead th {\n        text-align: right;\n    }\n</style>\n<table border=\"1\" class=\"dataframe\">\n  <thead>\n    <tr style=\"text-align: right;\">\n      <th></th>\n      <th>geometry</th>\n      <th>Field</th>\n      <th>objectid</th>\n      <th>areasymbol</th>\n      <th>musym</th>\n      <th>mukey</th>\n      <th>shape_area</th>\n      <th>mean</th>\n      <th>median</th>\n      <th>min</th>\n      <th>max</th>\n      <th>std</th>\n      <th>range</th>\n    </tr>\n  </thead>\n  <tbody>\n    <tr>\n      <th>0</th>\n      <td>MULTIPOLYGON (((-93.79891 41.90873, -93.79898 ...</td>\n      <td>East Bilsland</td>\n      <td>13447276</td>\n      <td>IA015</td>\n      <td>6</td>\n      <td>2550285</td>\n      <td>7114.270891</td>\n      <td>57.189427</td>\n      <td>60.132149</td>\n      <td>15.034800</td>\n      <td>68.904800</td>\n      <td>14.771053</td>\n      <td>53.870001</td>\n    </tr>\n    <tr>\n      <th>2</th>\n      <td>MULTIPOLYGON (((-93.80271 41.91005, -93.80273 ...</td>\n      <td>East Bilsland</td>\n      <td>13455246</td>\n      <td>IA015</td>\n      <td>L138B</td>\n      <td>2765522</td>\n      <td>1190.190208</td>\n      <td>24.465599</td>\n      <td>24.465599</td>\n      <td>20.321899</td>\n      <td>28.609301</td>\n      <td>4.143701</td>\n      <td>8.287401</td>\n    </tr>\n    <tr>\n      <th>3</th>\n      <td>MULTIPOLYGON (((-93.79608 41.90707, -93.79712 ...</td>\n      <td>East Bilsland</td>\n      <td>13455735</td>\n      <td>IA015</td>\n      <td>L138B</td>\n      <td>2765522</td>\n      <td>26235.367905</td>\n      <td>54.350890</td>\n      <td>59.078602</td>\n      <td>15.305000</td>\n      <td>69.767303</td>\n      <td>13.771772</td>\n      <td>54.462303</td>\n    </tr>\n    <tr>\n      <th>4</th>\n      <td>MULTIPOLYGON (((-93.80013 41.90708, -93.80020 ...</td>\n      <td>East Bilsland</td>\n      <td>13458179</td>\n      <td>IA015</td>\n      <td>L138B</td>\n      <td>2765522</td>\n      <td>40329.439255</td>\n      <td>55.358508</td>\n      <td>59.536148</td>\n      <td>15.566300</td>\n      <td>71.133904</td>\n      <td>11.611535</td>\n      <td>55.567603</td>\n    </tr>\n    <tr>\n      <th>5</th>\n      <td>MULTIPOLYGON (((-93.80182 41.91232, -93.80183 ...</td>\n      <td>East Bilsland</td>\n      <td>13458216</td>\n      <td>IA015</td>\n      <td>L138B</td>\n      <td>2765522</td>\n      <td>6525.337137</td>\n      <td>35.492076</td>\n      <td>33.372849</td>\n      <td>16.549999</td>\n      <td>58.070099</td>\n      <td>15.213239</td>\n      <td>41.520100</td>\n    </tr>\n    <tr>\n      <th>6</th>\n      <td>MULTIPOLYGON (((-93.79722 41.91455, -93.79583 ...</td>\n      <td>East Bilsland</td>\n      <td>13458451</td>\n      <td>IA015</td>\n      <td>L138B</td>\n      <td>2765522</td>\n      <td>7290.170439</td>\n      <td>52.391959</td>\n      <td>54.447548</td>\n      <td>15.357500</td>\n      <td>96.371201</td>\n      <td>23.342302</td>\n      <td>81.013700</td>\n    </tr>\n    <tr>\n      <th>7</th>\n      <td>MULTIPOLYGON (((-93.79568 41.90998, -93.79569 ...</td>\n      <td>East Bilsland</td>\n      <td>13461421</td>\n      <td>IA015</td>\n      <td>L138B</td>\n      <td>2765522</td>\n      <td>78396.541986</td>\n      <td>60.465893</td>\n      <td>62.115501</td>\n      <td>15.285800</td>\n      <td>78.290497</td>\n      <td>8.377456</td>\n      <td>63.004697</td>\n    </tr>\n    <tr>\n      <th>8</th>\n      <td>MULTIPOLYGON (((-93.80178 41.91389, -93.80179 ...</td>\n      <td>East Bilsland</td>\n      <td>13461925</td>\n      <td>IA015</td>\n      <td>L138B</td>\n      <td>2765522</td>\n      <td>2582.220504</td>\n      <td>39.065453</td>\n      <td>35.006550</td>\n      <td>18.304600</td>\n      <td>67.944099</td>\n      <td>18.427182</td>\n      <td>49.639500</td>\n    </tr>\n    <tr>\n      <th>11</th>\n      <td>MULTIPOLYGON (((-93.80269 41.90877, -93.80268 ...</td>\n      <td>East Bilsland</td>\n      <td>13470727</td>\n      <td>IA015</td>\n      <td>L55</td>\n      <td>2834849</td>\n      <td>23762.476705</td>\n      <td>48.127396</td>\n      <td>55.365799</td>\n      <td>15.333300</td>\n      <td>73.863197</td>\n      <td>19.131288</td>\n      <td>58.529898</td>\n    </tr>\n    <tr>\n      <th>12</th>\n      <td>MULTIPOLYGON (((-93.79712 41.90707, -93.79801 ...</td>\n      <td>East Bilsland</td>\n      <td>13471951</td>\n      <td>IA015</td>\n      <td>L55</td>\n      <td>2834849</td>\n      <td>6253.694122</td>\n      <td>46.154128</td>\n      <td>50.864498</td>\n      <td>16.247299</td>\n      <td>63.756901</td>\n      <td>16.312921</td>\n      <td>47.509602</td>\n    </tr>\n    <tr>\n      <th>13</th>\n      <td>MULTIPOLYGON (((-93.80104 41.91455, -93.80087 ...</td>\n      <td>East Bilsland</td>\n      <td>13472028</td>\n      <td>IA015</td>\n      <td>L55</td>\n      <td>2834849</td>\n      <td>7742.687773</td>\n      <td>45.575423</td>\n      <td>50.774799</td>\n      <td>15.090100</td>\n      <td>60.602798</td>\n      <td>14.757580</td>\n      <td>45.512698</td>\n    </tr>\n    <tr>\n      <th>1</th>\n      <td>MULTIPOLYGON (((-93.80268 41.90737, -93.80269 ...</td>\n      <td>East Bilsland</td>\n      <td>13449079</td>\n      <td>IA015</td>\n      <td>L107</td>\n      <td>2835012</td>\n      <td>3154.015393</td>\n      <td>62.475149</td>\n      <td>62.727150</td>\n      <td>60.053600</td>\n      <td>65.421501</td>\n      <td>1.728630</td>\n      <td>5.367901</td>\n    </tr>\n    <tr>\n      <th>14</th>\n      <td>MULTIPOLYGON (((-93.80036 41.91058, -93.80036 ...</td>\n      <td>East Bilsland</td>\n      <td>13473439</td>\n      <td>IA015</td>\n      <td>L95</td>\n      <td>2835146</td>\n      <td>100139.062303</td>\n      <td>58.525228</td>\n      <td>60.622803</td>\n      <td>15.467400</td>\n      <td>84.333603</td>\n      <td>10.819704</td>\n      <td>68.866203</td>\n    </tr>\n    <tr>\n      <th>9</th>\n      <td>MULTIPOLYGON (((-93.79759 41.91050, -93.79773 ...</td>\n      <td>East Bilsland</td>\n      <td>13466907</td>\n      <td>IA015</td>\n      <td>L507</td>\n      <td>2922007</td>\n      <td>15066.090284</td>\n      <td>62.121024</td>\n      <td>63.057098</td>\n      <td>43.532799</td>\n      <td>74.706596</td>\n      <td>5.835248</td>\n      <td>31.173798</td>\n    </tr>\n    <tr>\n      <th>10</th>\n      <td>MULTIPOLYGON (((-93.79567 41.91056, -93.79567 ...</td>\n      <td>East Bilsland</td>\n      <td>13467687</td>\n      <td>IA015</td>\n      <td>L507</td>\n      <td>2922007</td>\n      <td>104284.783859</td>\n      <td>56.729234</td>\n      <td>60.528301</td>\n      <td>15.191600</td>\n      <td>92.757599</td>\n      <td>13.153336</td>\n      <td>77.565999</td>\n    </tr>\n  </tbody>\n</table>\n</div>"
     },
     "metadata": {},
     "execution_count": 46
    }
   ],
   "source": [
    "ebilsland_soy_ym = ebilsland_soy_2019_stats[['geometry', 'Field', 'objectid', 'areasymbol', 'musym', 'mukey', 'shape_area', 'mean', 'median', 'min', 'max', 'std', 'range']]\n",
    "ebilsland_soy_ym.sort_values('mukey')"
   ]
  },
  {
   "cell_type": "code",
   "execution_count": 47,
   "metadata": {},
   "outputs": [],
   "source": [
    "ebilsland_soy_ym = ebilsland_soy_ym.round({'mean':2,'median':2, 'min':2, 'max':2, 'std':2, 'range':2})"
   ]
  },
  {
   "cell_type": "code",
   "execution_count": 48,
   "metadata": {},
   "outputs": [
    {
     "output_type": "execute_result",
     "data": {
      "text/plain": "                                             geometry          Field  \\\n0   MULTIPOLYGON (((-93.79891 41.90873, -93.79898 ...  East Bilsland   \n1   MULTIPOLYGON (((-93.80268 41.90737, -93.80269 ...  East Bilsland   \n2   MULTIPOLYGON (((-93.80271 41.91005, -93.80273 ...  East Bilsland   \n3   MULTIPOLYGON (((-93.79608 41.90707, -93.79712 ...  East Bilsland   \n4   MULTIPOLYGON (((-93.80013 41.90708, -93.80020 ...  East Bilsland   \n5   MULTIPOLYGON (((-93.80182 41.91232, -93.80183 ...  East Bilsland   \n6   MULTIPOLYGON (((-93.79722 41.91455, -93.79583 ...  East Bilsland   \n7   MULTIPOLYGON (((-93.79568 41.90998, -93.79569 ...  East Bilsland   \n8   MULTIPOLYGON (((-93.80178 41.91389, -93.80179 ...  East Bilsland   \n9   MULTIPOLYGON (((-93.79759 41.91050, -93.79773 ...  East Bilsland   \n10  MULTIPOLYGON (((-93.79567 41.91056, -93.79567 ...  East Bilsland   \n11  MULTIPOLYGON (((-93.80269 41.90877, -93.80268 ...  East Bilsland   \n12  MULTIPOLYGON (((-93.79712 41.90707, -93.79801 ...  East Bilsland   \n13  MULTIPOLYGON (((-93.80104 41.91455, -93.80087 ...  East Bilsland   \n14  MULTIPOLYGON (((-93.80036 41.91058, -93.80036 ...  East Bilsland   \n\n    objectid areasymbol  musym    mukey     shape_area   mean  median    min  \\\n0   13447276      IA015      6  2550285    7114.270891  57.19   60.13  15.03   \n1   13449079      IA015   L107  2835012    3154.015393  62.48   62.73  60.05   \n2   13455246      IA015  L138B  2765522    1190.190208  24.47   24.47  20.32   \n3   13455735      IA015  L138B  2765522   26235.367905  54.35   59.08  15.31   \n4   13458179      IA015  L138B  2765522   40329.439255  55.36   59.54  15.57   \n5   13458216      IA015  L138B  2765522    6525.337137  35.49   33.37  16.55   \n6   13458451      IA015  L138B  2765522    7290.170439  52.39   54.45  15.36   \n7   13461421      IA015  L138B  2765522   78396.541986  60.47   62.12  15.29   \n8   13461925      IA015  L138B  2765522    2582.220504  39.07   35.01  18.30   \n9   13466907      IA015   L507  2922007   15066.090284  62.12   63.06  43.53   \n10  13467687      IA015   L507  2922007  104284.783859  56.73   60.53  15.19   \n11  13470727      IA015    L55  2834849   23762.476705  48.13   55.37  15.33   \n12  13471951      IA015    L55  2834849    6253.694122  46.15   50.86  16.25   \n13  13472028      IA015    L55  2834849    7742.687773  45.58   50.77  15.09   \n14  13473439      IA015    L95  2835146  100139.062303  58.53   60.62  15.47   \n\n      max    std  range  \n0   68.90  14.77  53.87  \n1   65.42   1.73   5.37  \n2   28.61   4.14   8.29  \n3   69.77  13.77  54.46  \n4   71.13  11.61  55.57  \n5   58.07  15.21  41.52  \n6   96.37  23.34  81.01  \n7   78.29   8.38  63.00  \n8   67.94  18.43  49.64  \n9   74.71   5.84  31.17  \n10  92.76  13.15  77.57  \n11  73.86  19.13  58.53  \n12  63.76  16.31  47.51  \n13  60.60  14.76  45.51  \n14  84.33  10.82  68.87  ",
      "text/html": "<div>\n<style scoped>\n    .dataframe tbody tr th:only-of-type {\n        vertical-align: middle;\n    }\n\n    .dataframe tbody tr th {\n        vertical-align: top;\n    }\n\n    .dataframe thead th {\n        text-align: right;\n    }\n</style>\n<table border=\"1\" class=\"dataframe\">\n  <thead>\n    <tr style=\"text-align: right;\">\n      <th></th>\n      <th>geometry</th>\n      <th>Field</th>\n      <th>objectid</th>\n      <th>areasymbol</th>\n      <th>musym</th>\n      <th>mukey</th>\n      <th>shape_area</th>\n      <th>mean</th>\n      <th>median</th>\n      <th>min</th>\n      <th>max</th>\n      <th>std</th>\n      <th>range</th>\n    </tr>\n  </thead>\n  <tbody>\n    <tr>\n      <th>0</th>\n      <td>MULTIPOLYGON (((-93.79891 41.90873, -93.79898 ...</td>\n      <td>East Bilsland</td>\n      <td>13447276</td>\n      <td>IA015</td>\n      <td>6</td>\n      <td>2550285</td>\n      <td>7114.270891</td>\n      <td>57.19</td>\n      <td>60.13</td>\n      <td>15.03</td>\n      <td>68.90</td>\n      <td>14.77</td>\n      <td>53.87</td>\n    </tr>\n    <tr>\n      <th>1</th>\n      <td>MULTIPOLYGON (((-93.80268 41.90737, -93.80269 ...</td>\n      <td>East Bilsland</td>\n      <td>13449079</td>\n      <td>IA015</td>\n      <td>L107</td>\n      <td>2835012</td>\n      <td>3154.015393</td>\n      <td>62.48</td>\n      <td>62.73</td>\n      <td>60.05</td>\n      <td>65.42</td>\n      <td>1.73</td>\n      <td>5.37</td>\n    </tr>\n    <tr>\n      <th>2</th>\n      <td>MULTIPOLYGON (((-93.80271 41.91005, -93.80273 ...</td>\n      <td>East Bilsland</td>\n      <td>13455246</td>\n      <td>IA015</td>\n      <td>L138B</td>\n      <td>2765522</td>\n      <td>1190.190208</td>\n      <td>24.47</td>\n      <td>24.47</td>\n      <td>20.32</td>\n      <td>28.61</td>\n      <td>4.14</td>\n      <td>8.29</td>\n    </tr>\n    <tr>\n      <th>3</th>\n      <td>MULTIPOLYGON (((-93.79608 41.90707, -93.79712 ...</td>\n      <td>East Bilsland</td>\n      <td>13455735</td>\n      <td>IA015</td>\n      <td>L138B</td>\n      <td>2765522</td>\n      <td>26235.367905</td>\n      <td>54.35</td>\n      <td>59.08</td>\n      <td>15.31</td>\n      <td>69.77</td>\n      <td>13.77</td>\n      <td>54.46</td>\n    </tr>\n    <tr>\n      <th>4</th>\n      <td>MULTIPOLYGON (((-93.80013 41.90708, -93.80020 ...</td>\n      <td>East Bilsland</td>\n      <td>13458179</td>\n      <td>IA015</td>\n      <td>L138B</td>\n      <td>2765522</td>\n      <td>40329.439255</td>\n      <td>55.36</td>\n      <td>59.54</td>\n      <td>15.57</td>\n      <td>71.13</td>\n      <td>11.61</td>\n      <td>55.57</td>\n    </tr>\n    <tr>\n      <th>5</th>\n      <td>MULTIPOLYGON (((-93.80182 41.91232, -93.80183 ...</td>\n      <td>East Bilsland</td>\n      <td>13458216</td>\n      <td>IA015</td>\n      <td>L138B</td>\n      <td>2765522</td>\n      <td>6525.337137</td>\n      <td>35.49</td>\n      <td>33.37</td>\n      <td>16.55</td>\n      <td>58.07</td>\n      <td>15.21</td>\n      <td>41.52</td>\n    </tr>\n    <tr>\n      <th>6</th>\n      <td>MULTIPOLYGON (((-93.79722 41.91455, -93.79583 ...</td>\n      <td>East Bilsland</td>\n      <td>13458451</td>\n      <td>IA015</td>\n      <td>L138B</td>\n      <td>2765522</td>\n      <td>7290.170439</td>\n      <td>52.39</td>\n      <td>54.45</td>\n      <td>15.36</td>\n      <td>96.37</td>\n      <td>23.34</td>\n      <td>81.01</td>\n    </tr>\n    <tr>\n      <th>7</th>\n      <td>MULTIPOLYGON (((-93.79568 41.90998, -93.79569 ...</td>\n      <td>East Bilsland</td>\n      <td>13461421</td>\n      <td>IA015</td>\n      <td>L138B</td>\n      <td>2765522</td>\n      <td>78396.541986</td>\n      <td>60.47</td>\n      <td>62.12</td>\n      <td>15.29</td>\n      <td>78.29</td>\n      <td>8.38</td>\n      <td>63.00</td>\n    </tr>\n    <tr>\n      <th>8</th>\n      <td>MULTIPOLYGON (((-93.80178 41.91389, -93.80179 ...</td>\n      <td>East Bilsland</td>\n      <td>13461925</td>\n      <td>IA015</td>\n      <td>L138B</td>\n      <td>2765522</td>\n      <td>2582.220504</td>\n      <td>39.07</td>\n      <td>35.01</td>\n      <td>18.30</td>\n      <td>67.94</td>\n      <td>18.43</td>\n      <td>49.64</td>\n    </tr>\n    <tr>\n      <th>9</th>\n      <td>MULTIPOLYGON (((-93.79759 41.91050, -93.79773 ...</td>\n      <td>East Bilsland</td>\n      <td>13466907</td>\n      <td>IA015</td>\n      <td>L507</td>\n      <td>2922007</td>\n      <td>15066.090284</td>\n      <td>62.12</td>\n      <td>63.06</td>\n      <td>43.53</td>\n      <td>74.71</td>\n      <td>5.84</td>\n      <td>31.17</td>\n    </tr>\n    <tr>\n      <th>10</th>\n      <td>MULTIPOLYGON (((-93.79567 41.91056, -93.79567 ...</td>\n      <td>East Bilsland</td>\n      <td>13467687</td>\n      <td>IA015</td>\n      <td>L507</td>\n      <td>2922007</td>\n      <td>104284.783859</td>\n      <td>56.73</td>\n      <td>60.53</td>\n      <td>15.19</td>\n      <td>92.76</td>\n      <td>13.15</td>\n      <td>77.57</td>\n    </tr>\n    <tr>\n      <th>11</th>\n      <td>MULTIPOLYGON (((-93.80269 41.90877, -93.80268 ...</td>\n      <td>East Bilsland</td>\n      <td>13470727</td>\n      <td>IA015</td>\n      <td>L55</td>\n      <td>2834849</td>\n      <td>23762.476705</td>\n      <td>48.13</td>\n      <td>55.37</td>\n      <td>15.33</td>\n      <td>73.86</td>\n      <td>19.13</td>\n      <td>58.53</td>\n    </tr>\n    <tr>\n      <th>12</th>\n      <td>MULTIPOLYGON (((-93.79712 41.90707, -93.79801 ...</td>\n      <td>East Bilsland</td>\n      <td>13471951</td>\n      <td>IA015</td>\n      <td>L55</td>\n      <td>2834849</td>\n      <td>6253.694122</td>\n      <td>46.15</td>\n      <td>50.86</td>\n      <td>16.25</td>\n      <td>63.76</td>\n      <td>16.31</td>\n      <td>47.51</td>\n    </tr>\n    <tr>\n      <th>13</th>\n      <td>MULTIPOLYGON (((-93.80104 41.91455, -93.80087 ...</td>\n      <td>East Bilsland</td>\n      <td>13472028</td>\n      <td>IA015</td>\n      <td>L55</td>\n      <td>2834849</td>\n      <td>7742.687773</td>\n      <td>45.58</td>\n      <td>50.77</td>\n      <td>15.09</td>\n      <td>60.60</td>\n      <td>14.76</td>\n      <td>45.51</td>\n    </tr>\n    <tr>\n      <th>14</th>\n      <td>MULTIPOLYGON (((-93.80036 41.91058, -93.80036 ...</td>\n      <td>East Bilsland</td>\n      <td>13473439</td>\n      <td>IA015</td>\n      <td>L95</td>\n      <td>2835146</td>\n      <td>100139.062303</td>\n      <td>58.53</td>\n      <td>60.62</td>\n      <td>15.47</td>\n      <td>84.33</td>\n      <td>10.82</td>\n      <td>68.87</td>\n    </tr>\n  </tbody>\n</table>\n</div>"
     },
     "metadata": {},
     "execution_count": 48
    }
   ],
   "source": [
    "ebilsland_soy_ym"
   ]
  },
  {
   "cell_type": "code",
   "execution_count": 49,
   "metadata": {},
   "outputs": [],
   "source": [
    "ebilsland_soy_ym.to_file(\"ebilsland_stats.geojson\", driver='GeoJSON')"
   ]
  },
  {
   "cell_type": "code",
   "execution_count": 50,
   "metadata": {},
   "outputs": [],
   "source": [
    "ebilsland_soy_ym['geometry'] = ebilsland_soy_ym['geometry'].apply(wkb_hexer)"
   ]
  },
  {
   "cell_type": "code",
   "execution_count": 51,
   "metadata": {},
   "outputs": [],
   "source": [
    "ebilsland_pd = pd.DataFrame(ebilsland_soy_ym)"
   ]
  },
  {
   "cell_type": "code",
   "execution_count": 55,
   "metadata": {},
   "outputs": [],
   "source": [
    "db_schema = 'biocent_farms'\n",
    "db_table = 'ebilsland_soy_2019_yield_zonal_stats' \n",
    "ebilsland_pd.to_sql(\n",
    "con = dbconn,\n",
    "name = db_table,\n",
    "schema = db_schema,\n",
    "if_exists = 'replace',\n",
    "index = False,\n",
    "chunksize=1000,\n",
    "method='multi' )"
   ]
  },
  {
   "cell_type": "code",
   "execution_count": null,
   "metadata": {},
   "outputs": [],
   "source": []
  },
  {
   "cell_type": "markdown",
   "metadata": {},
   "source": [
    "#### Get distribution of observed yields"
   ]
  },
  {
   "cell_type": "code",
   "execution_count": null,
   "metadata": {},
   "outputs": [],
   "source": [
    "with rio.open(ebilsland_raster) as src:\n",
    "    ebilsland_raster_hist = src.read(1, masked=True)\n",
    "ebilsland_raster_hist = ebilsland_raster_hist.ravel()"
   ]
  },
  {
   "cell_type": "code",
   "execution_count": null,
   "metadata": {},
   "outputs": [],
   "source": [
    "plt.hist(ebilsland_raster_hist,\n",
    "        bins=[10,20,30,40,50,60,70,80,90,100],\n",
    "        color='purple')\n",
    "plt.xlabel('Soybean yield')\n",
    "plt.ylabel('Frequency')\n",
    "plt.title('East Bilsland 2019 Soybean Yield')\n",
    "plt.show()"
   ]
  },
  {
   "cell_type": "markdown",
   "metadata": {},
   "source": [
    "![SSURGO soils with raster yield overlay](images/ebilsland_ssurgo_w_rasteryield.png \"East Bilsland SSURGO soils with yield overlay\")  "
   ]
  },
  {
   "cell_type": "markdown",
   "metadata": {},
   "source": [
    "## Get predicted vs observed  \n",
    "Filter the data and left join to get df of default soil prediction vs. observed mean and Saxton soil bs observed mean."
   ]
  },
  {
   "cell_type": "code",
   "execution_count": null,
   "metadata": {},
   "outputs": [],
   "source": [
    "#get yield monitor data\n",
    "ebilsland_soy_ym = ebilsland_soy_2019_stats[['objectid', 'mukey', 'mean']]"
   ]
  },
  {
   "cell_type": "code",
   "execution_count": null,
   "metadata": {},
   "outputs": [],
   "source": [
    "#get predictions\n",
    "default_apsim_pred = ebilsland_soy_output_2019_default[['mukey', 'soy_buac']]\n",
    "saxton_apsim_pred = ebilsland_soy_output_2019_saxton[['mukey', 'soy_buac']]"
   ]
  },
  {
   "cell_type": "code",
   "execution_count": null,
   "metadata": {},
   "outputs": [],
   "source": [
    "#merge to compare\n",
    "pred_vs_obs_default = ebilsland_soy_ym.merge(default_apsim_pred, on='mukey', how='left')\n",
    "pred_vs_obs_default.columns = ['objectid', 'mukey', 'observed', 'predicted']\n",
    "pred_vs_obs_default['resid'] = pred_vs_obs_default['predicted'] - pred_vs_obs_default['observed']\n",
    "pred_vs_obs_saxton = ebilsland_soy_ym.merge(saxton_apsim_pred, on='mukey', how='left')\n",
    "pred_vs_obs_saxton.columns = ['objectid', 'mukey', 'observed', 'predicted']\n",
    "pred_vs_obs_saxton['resid'] = pred_vs_obs_saxton['predicted'] - pred_vs_obs_saxton['observed']"
   ]
  },
  {
   "cell_type": "code",
   "execution_count": null,
   "metadata": {},
   "outputs": [],
   "source": [
    "pred_vs_obs_default"
   ]
  },
  {
   "cell_type": "code",
   "execution_count": null,
   "metadata": {},
   "outputs": [],
   "source": [
    "pred_vs_obs_saxton"
   ]
  },
  {
   "cell_type": "markdown",
   "metadata": {},
   "source": [
    "## Results from 'default' soil calculations"
   ]
  },
  {
   "cell_type": "markdown",
   "metadata": {},
   "source": [
    "Round the buac and store in tuples to preserve order for comparison."
   ]
  },
  {
   "cell_type": "code",
   "execution_count": null,
   "metadata": {},
   "outputs": [],
   "source": [
    "yield_monitor = tuple(pred_vs_obs_default['observed'])\n",
    "yield_monitor = [round(num, 2) for num in yield_monitor]\n",
    "def_apsim_predicted = tuple(pred_vs_obs_default['predicted'])\n",
    "def_apsim_predicted = [round(num, 2) for num in def_apsim_predicted]"
   ]
  },
  {
   "cell_type": "code",
   "execution_count": null,
   "metadata": {},
   "outputs": [],
   "source": [
    "fig, ax = plt.subplots()\n",
    "ax.scatter(yield_monitor, def_apsim_predicted)\n",
    "ax.plot([30,80],[30,80])\n",
    "ax.set_xlabel('Measured')\n",
    "ax.set_ylabel('Predicted')\n",
    "plt.show()"
   ]
  },
  {
   "cell_type": "code",
   "execution_count": null,
   "metadata": {},
   "outputs": [],
   "source": [
    "sns.set(style=\"whitegrid\")\n",
    "sns.residplot(def_apsim_predicted, yield_monitor)"
   ]
  },
  {
   "cell_type": "code",
   "execution_count": null,
   "metadata": {},
   "outputs": [],
   "source": [
    "rmse = mean_squared_error(yield_monitor, def_apsim_predicted, squared=False)\n",
    "rmse"
   ]
  },
  {
   "cell_type": "code",
   "execution_count": null,
   "metadata": {},
   "outputs": [],
   "source": [
    "r_sq = r2_score(yield_monitor, def_apsim_predicted)\n",
    "r_sq"
   ]
  },
  {
   "cell_type": "code",
   "execution_count": null,
   "metadata": {},
   "outputs": [],
   "source": [
    "corr_matrix = np.corrcoef(yield_monitor, def_apsim_predicted)\n",
    "corr_xy = corr_matrix[0,1]\n",
    "r_squared = corr_xy**2\n",
    "r_squared"
   ]
  },
  {
   "cell_type": "markdown",
   "metadata": {},
   "source": [
    "### Saxton results"
   ]
  },
  {
   "cell_type": "code",
   "execution_count": null,
   "metadata": {},
   "outputs": [],
   "source": [
    "yield_monitor = tuple(pred_vs_obs_saxton['observed'])\n",
    "yield_monitor = [round(num, 2) for num in yield_monitor]\n",
    "sax_apsim_predicted = tuple(pred_vs_obs_saxton['predicted'])\n",
    "sax_apsim_predicted = [round(num, 2) for num in sax_apsim_predicted]"
   ]
  },
  {
   "cell_type": "code",
   "execution_count": null,
   "metadata": {},
   "outputs": [],
   "source": [
    "fig, ax = plt.subplots()\n",
    "ax.scatter(yield_monitor, sax_apsim_predicted)\n",
    "ax.plot([30,80],[30,80])\n",
    "ax.set_xlabel('Measured')\n",
    "ax.set_ylabel('Predicted')\n",
    "plt.show()"
   ]
  },
  {
   "cell_type": "code",
   "execution_count": null,
   "metadata": {},
   "outputs": [],
   "source": [
    "rmse = mean_squared_error(yield_monitor, sax_apsim_predicted, squared=False)\n",
    "rmse"
   ]
  },
  {
   "cell_type": "code",
   "execution_count": null,
   "metadata": {},
   "outputs": [],
   "source": [
    "r_sq = r2_score(yield_monitor, sax_apsim_predicted)\n",
    "r_sq"
   ]
  },
  {
   "cell_type": "code",
   "execution_count": null,
   "metadata": {},
   "outputs": [],
   "source": [
    "corr_matrix = np.corrcoef(yield_monitor, sax_apsim_predicted)\n",
    "corr_xy = corr_matrix[0,1]\n",
    "r_squared = corr_xy**2\n",
    "r_squared"
   ]
  },
  {
   "cell_type": "code",
   "execution_count": null,
   "metadata": {},
   "outputs": [],
   "source": [
    "dem_path =\n",
    "dem = rio.open()"
   ]
  }
 ],
 "metadata": {
  "kernelspec": {
   "display_name": "Python 3",
   "language": "python",
   "name": "python3"
  },
  "language_info": {
   "codemirror_mode": {
    "name": "ipython",
    "version": 3
   },
   "file_extension": ".py",
   "mimetype": "text/x-python",
   "name": "python",
   "nbconvert_exporter": "python",
   "pygments_lexer": "ipython3",
   "version": "3.8.2"
  }
 },
 "nbformat": 4,
 "nbformat_minor": 4
}