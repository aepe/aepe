{
 "metadata": {
  "language_info": {
   "codemirror_mode": {
    "name": "ipython",
    "version": 3
   },
   "file_extension": ".py",
   "mimetype": "text/x-python",
   "name": "python",
   "nbconvert_exporter": "python",
   "pygments_lexer": "ipython3",
   "version": "3.8.2-final"
  },
  "orig_nbformat": 2,
  "kernelspec": {
   "name": "python_defaultSpec_1598233549469",
   "display_name": "Python 3.8.2 64-bit"
  }
 },
 "nbformat": 4,
 "nbformat_minor": 2,
 "cells": [
  {
   "cell_type": "code",
   "execution_count": 7,
   "metadata": {},
   "outputs": [],
   "source": [
    "import json\n",
    "import analyses.run_apsim\n",
    "import pandas as pd\n",
    "import database as db\n",
    "import geopandas as gpd\n",
    "import numpy as np\n",
    "from xml.etree import ElementTree\n",
    "import analyses.run_apsim\n",
    "from apsim.apsim_input_writer import create_mukey_runs\n",
    "from apsim.apsim_output_parser import parse_all_output_field, parse_summary_output_field"
   ]
  },
  {
   "cell_type": "code",
   "execution_count": 2,
   "metadata": {},
   "outputs": [],
   "source": [
    "dbconn = db.connect_to_db('database.ini')"
   ]
  },
  {
   "cell_type": "code",
   "execution_count": 3,
   "metadata": {},
   "outputs": [],
   "source": [
    "sfc_mgmt = json.loads( open( 'crop_jsons/basswood_sfc_2017.json', 'r' ).read() )\n",
    "cfs_mgmt = json.loads( open( 'crop_jsons/basswood_cfs_2018.json', 'r' ).read() )"
   ]
  },
  {
   "cell_type": "code",
   "execution_count": 4,
   "metadata": {},
   "outputs": [
    {
     "output_type": "execute_result",
     "data": {
      "text/plain": "{'sow_crop': 'soybean',\n 'cultivar': 'MG_2',\n 'planting_date': '06-may',\n 'sowing_density': 41,\n 'sowing_depth': 51,\n 'row_spacing': 254,\n 'harvest': 'soybean',\n 'harvest_date': '28-sep'}"
     },
     "metadata": {},
     "execution_count": 4
    }
   ],
   "source": [
    "sfc_mgmt"
   ]
  },
  {
   "cell_type": "code",
   "execution_count": 5,
   "metadata": {},
   "outputs": [
    {
     "output_type": "execute_result",
     "data": {
      "text/plain": "['407624', '407671', '407690', '407691', '407698', '407707']"
     },
     "metadata": {},
     "execution_count": 5
    }
   ],
   "source": [
    "basswood_ssurgo = gpd.read_file(\"C:\\\\Users\\\\mjn\\\\Documents\\\\Foresite\\\\yield_monitor_data\\\\analyses\\\\strips\\\\basswood\\\\basswood_ssurgo.geojson\")\n",
    "basswood_mukeys = list(np.unique(basswood_ssurgo['mukey']))\n",
    "basswood_mukeys"
   ]
  },
  {
   "cell_type": "code",
   "execution_count": 6,
   "metadata": {
    "tags": []
   },
   "outputs": [
    {
     "output_type": "stream",
     "name": "stdout",
     "text": "Finished! All files created!\nFinished! All files created!\n"
    }
   ],
   "source": [
    "create_mukey_runs(basswood_mukeys, dbconn, 'sfc', 'basswood.met', 'BasswoodDefault', start_year=2015, end_year=2017, sfc_mgmt=sfc_mgmt, cfs_mgmt=cfs_mgmt)\n",
    "create_mukey_runs(basswood_mukeys, dbconn, 'sfc', 'basswood.met', 'BasswoodSaxton', start_year=2015, end_year=2017, sfc_mgmt=sfc_mgmt, cfs_mgmt=cfs_mgmt, saxton=True)"
   ]
  },
  {
   "cell_type": "code",
   "execution_count": 8,
   "metadata": {
    "tags": []
   },
   "outputs": [
    {
     "output_type": "stream",
     "name": "stdout",
     "text": "Finished! All files created!\nFinished! All files created!\n"
    }
   ],
   "source": [
    "create_mukey_runs(basswood_mukeys, dbconn, 'cfs', 'basswood.met', 'BasswoodDefault', start_year=2016, end_year=2018, sfc_mgmt=sfc_mgmt, cfs_mgmt=cfs_mgmt)\n",
    "create_mukey_runs(basswood_mukeys, dbconn, 'cfs', 'basswood.met', 'BasswoodSaxton', start_year=2016, end_year=2018, sfc_mgmt=sfc_mgmt, cfs_mgmt=cfs_mgmt, saxton=True)"
   ]
  },
  {
   "cell_type": "code",
   "execution_count": 9,
   "metadata": {
    "tags": []
   },
   "outputs": [
    {
     "output_type": "stream",
     "name": "stdout",
     "text": "Running on 62 cores\nConverting 6 .apsim files to .sim files.\nRunning Apsim for 6 .sim files...\nRuns completed.\nProcessing time: 3.5632 seconds\nRunning on 62 cores\nConverting 6 .apsim files to .sim files.\nRunning Apsim for 6 .sim files...\nRuns completed.\nProcessing time: 1.0987 seconds\n"
    }
   ],
   "source": [
    "analyses.run_apsim.run_all_simulations(apsim_files_path=\"apsim_files\\\\BasswoodDefault\\\\2017\\\\sfc\\\\*.apsim\", sim_files_path=\"apsim_files\\\\BasswoodDefault\\\\2017\\\\sfc\\\\*.sim\")\n",
    "analyses.run_apsim.run_all_simulations(apsim_files_path=\"apsim_files\\\\BasswoodDefault\\\\2018\\\\cfs\\\\*.apsim\", sim_files_path=\"apsim_files\\\\BasswoodDefault\\\\2018\\\\cfs\\\\*.sim\")"
   ]
  },
  {
   "cell_type": "code",
   "execution_count": 10,
   "metadata": {
    "tags": []
   },
   "outputs": [
    {
     "output_type": "stream",
     "name": "stdout",
     "text": "Running on 62 cores\nConverting 6 .apsim files to .sim files.\nRunning Apsim for 6 .sim files...\nRuns completed.\nProcessing time: 2.1010 seconds\nRunning on 62 cores\nConverting 6 .apsim files to .sim files.\nRunning Apsim for 6 .sim files...\nRuns completed.\nProcessing time: 1.0970 seconds\n"
    }
   ],
   "source": [
    "analyses.run_apsim.run_all_simulations(apsim_files_path=\"apsim_files\\\\BasswoodSaxton\\\\2017\\\\sfc\\\\*.apsim\", sim_files_path=\"apsim_files\\\\BasswoodSaxton\\\\2017\\\\sfc\\\\*.sim\")\n",
    "analyses.run_apsim.run_all_simulations(apsim_files_path=\"apsim_files\\\\BasswoodSaxton\\\\2018\\\\cfs\\\\*.apsim\", sim_files_path=\"apsim_files\\\\BasswoodSaxton\\\\2018\\\\cfs\\\\*.sim\")"
   ]
  },
  {
   "cell_type": "code",
   "execution_count": null,
   "metadata": {},
   "outputs": [],
   "source": []
  }
 ]
}