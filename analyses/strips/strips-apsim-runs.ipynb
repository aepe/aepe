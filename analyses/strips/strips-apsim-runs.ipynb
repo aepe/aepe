{
 "metadata": {
  "language_info": {
   "codemirror_mode": {
    "name": "ipython",
    "version": 3
   },
   "file_extension": ".py",
   "mimetype": "text/x-python",
   "name": "python",
   "nbconvert_exporter": "python",
   "pygments_lexer": "ipython3",
   "version": "3.8.2-final"
  },
  "orig_nbformat": 2,
  "kernelspec": {
   "name": "Python 3.8.2 64-bit",
   "display_name": "Python 3.8.2 64-bit",
   "metadata": {
    "interpreter": {
     "hash": "105ff0aaf530955537e1147328ef295aa52b0200f6f7ec5c3e3699f7f739eb29"
    }
   }
  }
 },
 "nbformat": 4,
 "nbformat_minor": 2,
 "cells": [
  {
   "cell_type": "code",
   "execution_count": 1,
   "metadata": {},
   "outputs": [],
   "source": [
    "import json\n",
    "import analyses.run_apsim\n",
    "import pandas as pd\n",
    "import database as db\n",
    "import geopandas as gpd\n",
    "import numpy as np\n",
    "from xml.etree import ElementTree\n",
    "import analyses.run_apsim\n",
    "import shutil\n",
    "from analyses.munging import get_centroid\n",
    "from apsim.apsim_input_writer import create_mukey_runs\n",
    "from apsim.apsim_output_parser import parse_all_output_field, parse_summary_output_field"
   ]
  },
  {
   "cell_type": "code",
   "execution_count": 2,
   "metadata": {},
   "outputs": [],
   "source": [
    "dbconn = db.connect_to_db('database.ini')"
   ]
  },
  {
   "source": [
    "### Basswood"
   ],
   "cell_type": "markdown",
   "metadata": {}
  },
  {
   "cell_type": "code",
   "execution_count": 3,
   "metadata": {},
   "outputs": [
    {
     "output_type": "stream",
     "name": "stdout",
     "text": [
      "['407624', '407671', '407690', '407691', '407698', '407707']\n['407623', '407624', '407636', '407649', '407650', '407651', '407671', '407690', '407703']\n['407623', '407651', '407691']\n['407650', '407651', '407671', '407691']\n"
     ]
    }
   ],
   "source": [
    "basswood_ssurgo = gpd.read_file(\"C:\\\\Users\\\\mjn\\\\Documents\\\\Foresite\\\\yield_monitor_data\\\\analyses\\\\strips\\\\basswood\\\\basswood_ssurgo.geojson\")\n",
    "basswood_mukeys = list(np.unique(basswood_ssurgo['mukey']))\n",
    "print(basswood_mukeys)\n",
    "interim_ssurgo = gpd.read_file(\"C:\\\\Users\\\\mjn\\\\Documents\\\\Foresite\\\\yield_monitor_data\\\\analyses\\\\strips\\\\interim\\\\interim_ssurgo.geojson\")\n",
    "interim_mukeys = list(np.unique(interim_ssurgo['mukey']))\n",
    "print(interim_mukeys)\n",
    "orbweaversouth_ssurgo = gpd.read_file(\"C:\\\\Users\\\\mjn\\\\Documents\\\\Foresite\\\\yield_monitor_data\\\\analyses\\\\strips\\\\orbweaver-south\\\\orbweaver_south_ssurgo.geojson\")\n",
    "orbweaversouth_mukeys = list(np.unique(orbweaversouth_ssurgo['mukey']))\n",
    "print(orbweaversouth_mukeys)\n",
    "orbweavernorth_ssurgo = gpd.read_file(\"C:\\\\Users\\\\mjn\\\\Documents\\\\Foresite\\\\yield_monitor_data\\\\analyses\\\\strips\\\\orbweaver-north\\\\orbweaver_north_ssurgo.geojson\")\n",
    "orbweavernorth_mukeys = list(np.unique(orbweavernorth_ssurgo['mukey']))\n",
    "print(orbweavernorth_mukeys)"
   ]
  },
  {
   "cell_type": "code",
   "execution_count": 16,
   "metadata": {},
   "outputs": [
    {
     "output_type": "execute_result",
     "data": {
      "text/plain": [
       "array([ 41.54982834, -93.2736912 ])"
      ]
     },
     "metadata": {},
     "execution_count": 16
    }
   ],
   "source": [
    "ssurgo_centroid = get_centroid(orbweavernorth_ssurgo, 'areasymbol', \"geometry\")\n",
    "ssurgo_centroid"
   ]
  },
  {
   "source": [
    "### Soybean runs 2007, 2009, 2011, 2013, 2015"
   ],
   "cell_type": "markdown",
   "metadata": {}
  },
  {
   "cell_type": "code",
   "execution_count": 13,
   "metadata": {},
   "outputs": [],
   "source": [
    "soybean_years = [2007, 2009, 2011, 2013, 2015]\n",
    "corn_years = [2008, 2010, 2012, 2014, 2018]"
   ]
  },
  {
   "cell_type": "code",
   "execution_count": 6,
   "metadata": {},
   "outputs": [],
   "source": [
    "def create_and_run_strips_apsim_files(field_name, mukeys, rotation, met_name, year_list, sfc_mgmt=None, cfs_mgmt=None):\n",
    "    for i in year_list:\n",
    "        end_year = i\n",
    "        start_year = end_year - 3\n",
    "        prior_year = end_year - 1\n",
    "        if rotation == 'sfc':\n",
    "            sfc_mgmt = json.loads( open( f'crop_jsons/strips_sfc_{end_year}.json', 'r' ).read() )\n",
    "            cfs_mgmt = json.loads( open( f'crop_jsons/strips_cfs_{prior_year}.json', 'r' ).read() )\n",
    "            create_mukey_runs(mukeys, dbconn, 'sfc', f'{met_name}.met', f'{field_name}Default', start_year=start_year, end_year=end_year, sfc_mgmt=sfc_mgmt, cfs_mgmt=cfs_mgmt)\n",
    "            create_mukey_runs(mukeys, dbconn, 'sfc', f'{met_name}.met', f'{field_name}Saxton', start_year=start_year, end_year=end_year, sfc_mgmt=sfc_mgmt, cfs_mgmt=cfs_mgmt, saxton=True)\n",
    "            original = f'met_files/{met_name}.met'\n",
    "            target = f'apsim_files/{field_name}Default/{end_year}/sfc/met_files/{met_name}.met'\n",
    "            shutil.copyfile(original, target)\n",
    "            target = f'apsim_files/{field_name}Saxton/{end_year}/sfc/met_files/{met_name}.met'\n",
    "            shutil.copyfile(original, target)\n",
    "            analyses.run_apsim.run_all_simulations(apsim_files_path=f\"apsim_files\\\\{field_name}Default\\\\{end_year}\\\\sfc\\\\*.apsim\", sim_files_path=f\"apsim_files\\\\{field_name}Default\\\\{end_year}\\\\sfc\\\\*.sim\")\n",
    "            analyses.run_apsim.run_all_simulations(apsim_files_path=f\"apsim_files\\\\{field_name}Saxton\\\\{end_year}\\\\sfc\\\\*.apsim\", sim_files_path=f\"apsim_files\\\\{field_name}Saxton\\\\{end_year}\\\\sfc\\\\*.sim\")\n",
    "        elif rotation == 'cfs':\n",
    "            sfc_mgmt = json.loads( open( f'crop_jsons/strips_sfc_{prior_year}.json', 'r' ).read() )\n",
    "            cfs_mgmt = json.loads( open( f'crop_jsons/strips_cfs_{end_year}.json', 'r' ).read() )\n",
    "            create_mukey_runs(mukeys, dbconn, 'cfs', f'{met_name}.met', f'{field_name}Default', start_year=start_year, end_year=end_year, sfc_mgmt=sfc_mgmt, cfs_mgmt=cfs_mgmt)\n",
    "            create_mukey_runs(mukeys, dbconn, 'cfs', f'{met_name}.met', f'{field_name}Saxton', start_year=start_year, end_year=end_year, sfc_mgmt=sfc_mgmt, cfs_mgmt=cfs_mgmt, saxton=True)\n",
    "            original = f'met_files/{met_name}.met'\n",
    "            target = f'apsim_files/{field_name}Default/{end_year}/cfs/met_files/{met_name}.met'\n",
    "            shutil.copyfile(original, target)\n",
    "            target = f'apsim_files/{field_name}Saxton/{end_year}/cfs/met_files/{met_name}.met'\n",
    "            shutil.copyfile(original, target)\n",
    "            analyses.run_apsim.run_all_simulations(apsim_files_path=f\"apsim_files\\\\{field_name}Default\\\\{end_year}\\\\cfs\\\\*.apsim\", sim_files_path=f\"apsim_files\\\\{field_name}Default\\\\{end_year}\\\\cfs\\\\*.sim\")\n",
    "            analyses.run_apsim.run_all_simulations(apsim_files_path=f\"apsim_files\\\\{field_name}Saxton\\\\{end_year}\\\\cfs\\\\*.apsim\", sim_files_path=f\"apsim_files\\\\{field_name}Saxton\\\\{end_year}\\\\cfs\\\\*.sim\")\n",
    "        else:\n",
    "            print(\"That rotation is not currently set up\")"
   ]
  },
  {
   "cell_type": "code",
   "execution_count": null,
   "metadata": {},
   "outputs": [],
   "source": []
  },
  {
   "cell_type": "code",
   "execution_count": 14,
   "metadata": {},
   "outputs": [
    {
     "output_type": "stream",
     "name": "stdout",
     "text": [
      "Finished! All files created!\n",
      "Finished! All files created!\n",
      "Running on 62 cores\n",
      "Converting 3 .apsim files to .sim files.\n",
      "Running Apsim for 3 .sim files...\n",
      "Runs completed.\n",
      "Processing time: 2.5577 seconds\n",
      "Running on 62 cores\n",
      "Converting 3 .apsim files to .sim files.\n",
      "Running Apsim for 3 .sim files...\n",
      "Runs completed.\n",
      "Processing time: 2.5569 seconds\n",
      "Finished! All files created!\n",
      "Finished! All files created!\n",
      "Running on 62 cores\n",
      "Converting 3 .apsim files to .sim files.\n",
      "Running Apsim for 3 .sim files...\n",
      "Runs completed.\n",
      "Processing time: 2.5582 seconds\n",
      "Running on 62 cores\n",
      "Converting 3 .apsim files to .sim files.\n",
      "Running Apsim for 3 .sim files...\n",
      "Runs completed.\n",
      "Processing time: 2.5518 seconds\n",
      "Finished! All files created!\n",
      "Finished! All files created!\n",
      "Running on 62 cores\n",
      "Converting 3 .apsim files to .sim files.\n",
      "Running Apsim for 3 .sim files...\n",
      "Runs completed.\n",
      "Processing time: 2.5567 seconds\n",
      "Running on 62 cores\n",
      "Converting 3 .apsim files to .sim files.\n",
      "Running Apsim for 3 .sim files...\n",
      "Runs completed.\n",
      "Processing time: 2.5522 seconds\n",
      "Finished! All files created!\n",
      "Finished! All files created!\n",
      "Running on 62 cores\n",
      "Converting 3 .apsim files to .sim files.\n",
      "Running Apsim for 3 .sim files...\n",
      "Runs completed.\n",
      "Processing time: 2.5552 seconds\n",
      "Running on 62 cores\n",
      "Converting 3 .apsim files to .sim files.\n",
      "Running Apsim for 3 .sim files...\n",
      "Runs completed.\n",
      "Processing time: 2.5502 seconds\n",
      "Finished! All files created!\n",
      "Finished! All files created!\n",
      "Running on 62 cores\n",
      "Converting 3 .apsim files to .sim files.\n",
      "Running Apsim for 3 .sim files...\n",
      "Runs completed.\n",
      "Processing time: 2.5580 seconds\n",
      "Running on 62 cores\n",
      "Converting 3 .apsim files to .sim files.\n",
      "Running Apsim for 3 .sim files...\n",
      "Runs completed.\n",
      "Processing time: 2.5575 seconds\n",
      "Finished! All files created!\n",
      "Finished! All files created!\n",
      "Running on 62 cores\n",
      "Converting 3 .apsim files to .sim files.\n",
      "Running Apsim for 3 .sim files...\n",
      "Runs completed.\n",
      "Processing time: 2.5562 seconds\n",
      "Running on 62 cores\n",
      "Converting 3 .apsim files to .sim files.\n",
      "Running Apsim for 3 .sim files...\n",
      "Runs completed.\n",
      "Processing time: 2.5548 seconds\n",
      "Finished! All files created!\n",
      "Finished! All files created!\n",
      "Running on 62 cores\n",
      "Converting 3 .apsim files to .sim files.\n",
      "Running Apsim for 3 .sim files...\n",
      "Runs completed.\n",
      "Processing time: 2.5536 seconds\n",
      "Running on 62 cores\n",
      "Converting 3 .apsim files to .sim files.\n",
      "Running Apsim for 3 .sim files...\n",
      "Runs completed.\n",
      "Processing time: 2.5524 seconds\n",
      "Finished! All files created!\n",
      "Finished! All files created!\n",
      "Running on 62 cores\n",
      "Converting 3 .apsim files to .sim files.\n",
      "Running Apsim for 3 .sim files...\n",
      "Runs completed.\n",
      "Processing time: 2.5678 seconds\n",
      "Running on 62 cores\n",
      "Converting 3 .apsim files to .sim files.\n",
      "Running Apsim for 3 .sim files...\n",
      "Runs completed.\n",
      "Processing time: 2.5594 seconds\n",
      "Finished! All files created!\n",
      "Finished! All files created!\n",
      "Running on 62 cores\n",
      "Converting 3 .apsim files to .sim files.\n",
      "Running Apsim for 3 .sim files...\n",
      "Runs completed.\n",
      "Processing time: 2.5606 seconds\n",
      "Running on 62 cores\n",
      "Converting 3 .apsim files to .sim files.\n",
      "Running Apsim for 3 .sim files...\n",
      "Runs completed.\n",
      "Processing time: 2.5599 seconds\n",
      "Finished! All files created!\n",
      "Finished! All files created!\n",
      "Running on 62 cores\n",
      "Converting 3 .apsim files to .sim files.\n",
      "Running Apsim for 3 .sim files...\n",
      "Runs completed.\n",
      "Processing time: 2.5531 seconds\n",
      "Running on 62 cores\n",
      "Converting 3 .apsim files to .sim files.\n",
      "Running Apsim for 3 .sim files...\n",
      "Runs completed.\n",
      "Processing time: 2.5545 seconds\n"
     ]
    }
   ],
   "source": [
    "create_and_run_apsim_files('OrbweaverSouth', orbweaversouth_mukeys, 'cfs', 'orbweaversouth', corn_years, sfc_mgmt=None, cfs_mgmt=None)\n",
    "create_and_run_apsim_files('OrbweaverSouth', orbweaversouth_mukeys, 'sfc', 'orbweaversouth', soybean_years, sfc_mgmt=None, cfs_mgmt=None)"
   ]
  },
  {
   "cell_type": "code",
   "execution_count": 15,
   "metadata": {},
   "outputs": [
    {
     "output_type": "stream",
     "name": "stdout",
     "text": [
      "Finished! All files created!\n",
      "Finished! All files created!\n",
      "Running on 62 cores\n",
      "Converting 4 .apsim files to .sim files.\n",
      "Running Apsim for 4 .sim files...\n",
      "Runs completed.\n",
      "Processing time: 2.5755 seconds\n",
      "Running on 62 cores\n",
      "Converting 4 .apsim files to .sim files.\n",
      "Running Apsim for 4 .sim files...\n",
      "Runs completed.\n",
      "Processing time: 2.5676 seconds\n",
      "Finished! All files created!\n",
      "Finished! All files created!\n",
      "Running on 62 cores\n",
      "Converting 4 .apsim files to .sim files.\n",
      "Running Apsim for 4 .sim files...\n",
      "Runs completed.\n",
      "Processing time: 2.5651 seconds\n",
      "Running on 62 cores\n",
      "Converting 4 .apsim files to .sim files.\n",
      "Running Apsim for 4 .sim files...\n",
      "Runs completed.\n",
      "Processing time: 2.5742 seconds\n",
      "Finished! All files created!\n",
      "Finished! All files created!\n",
      "Running on 62 cores\n",
      "Converting 4 .apsim files to .sim files.\n",
      "Running Apsim for 4 .sim files...\n",
      "Runs completed.\n",
      "Processing time: 2.5713 seconds\n",
      "Running on 62 cores\n",
      "Converting 4 .apsim files to .sim files.\n",
      "Running Apsim for 4 .sim files...\n",
      "Runs completed.\n",
      "Processing time: 2.5743 seconds\n",
      "Finished! All files created!\n",
      "Finished! All files created!\n",
      "Running on 62 cores\n",
      "Converting 4 .apsim files to .sim files.\n",
      "Running Apsim for 4 .sim files...\n",
      "Runs completed.\n",
      "Processing time: 2.5827 seconds\n",
      "Running on 62 cores\n",
      "Converting 4 .apsim files to .sim files.\n",
      "Running Apsim for 4 .sim files...\n",
      "Runs completed.\n",
      "Processing time: 2.5791 seconds\n",
      "Finished! All files created!\n",
      "Finished! All files created!\n",
      "Running on 62 cores\n",
      "Converting 4 .apsim files to .sim files.\n",
      "Running Apsim for 4 .sim files...\n",
      "Runs completed.\n",
      "Processing time: 2.5798 seconds\n",
      "Running on 62 cores\n",
      "Converting 4 .apsim files to .sim files.\n",
      "Running Apsim for 4 .sim files...\n",
      "Runs completed.\n",
      "Processing time: 2.5806 seconds\n",
      "Finished! All files created!\n",
      "Finished! All files created!\n",
      "Running on 62 cores\n",
      "Converting 4 .apsim files to .sim files.\n",
      "Running Apsim for 4 .sim files...\n",
      "Runs completed.\n",
      "Processing time: 2.5899 seconds\n",
      "Running on 62 cores\n",
      "Converting 4 .apsim files to .sim files.\n",
      "Running Apsim for 4 .sim files...\n",
      "Runs completed.\n",
      "Processing time: 2.5727 seconds\n",
      "Finished! All files created!\n",
      "Finished! All files created!\n",
      "Running on 62 cores\n",
      "Converting 4 .apsim files to .sim files.\n",
      "Running Apsim for 4 .sim files...\n",
      "Runs completed.\n",
      "Processing time: 2.5760 seconds\n",
      "Running on 62 cores\n",
      "Converting 4 .apsim files to .sim files.\n",
      "Running Apsim for 4 .sim files...\n",
      "Runs completed.\n",
      "Processing time: 2.5777 seconds\n",
      "Finished! All files created!\n",
      "Finished! All files created!\n",
      "Running on 62 cores\n",
      "Converting 4 .apsim files to .sim files.\n",
      "Running Apsim for 4 .sim files...\n",
      "Runs completed.\n",
      "Processing time: 2.5775 seconds\n",
      "Running on 62 cores\n",
      "Converting 4 .apsim files to .sim files.\n",
      "Running Apsim for 4 .sim files...\n",
      "Runs completed.\n",
      "Processing time: 2.5700 seconds\n",
      "Finished! All files created!\n",
      "Finished! All files created!\n",
      "Running on 62 cores\n",
      "Converting 4 .apsim files to .sim files.\n",
      "Running Apsim for 4 .sim files...\n",
      "Runs completed.\n",
      "Processing time: 2.5687 seconds\n",
      "Running on 62 cores\n",
      "Converting 4 .apsim files to .sim files.\n",
      "Running Apsim for 4 .sim files...\n",
      "Runs completed.\n",
      "Processing time: 2.5685 seconds\n",
      "Finished! All files created!\n",
      "Finished! All files created!\n",
      "Running on 62 cores\n",
      "Converting 4 .apsim files to .sim files.\n",
      "Running Apsim for 4 .sim files...\n",
      "Runs completed.\n",
      "Processing time: 2.5744 seconds\n",
      "Running on 62 cores\n",
      "Converting 4 .apsim files to .sim files.\n",
      "Running Apsim for 4 .sim files...\n",
      "Runs completed.\n",
      "Processing time: 2.5700 seconds\n"
     ]
    }
   ],
   "source": [
    "create_and_run_apsim_files('OrbweaverNorth', orbweavernorth_mukeys, 'cfs', 'orbweavernorth', corn_years, sfc_mgmt=None, cfs_mgmt=None)\n",
    "create_and_run_apsim_files('OrbweaverNorth', orbweavernorth_mukeys, 'sfc', 'orbweavernorth', soybean_years, sfc_mgmt=None, cfs_mgmt=None)"
   ]
  },
  {
   "cell_type": "code",
   "execution_count": null,
   "metadata": {},
   "outputs": [],
   "source": [
    "field_name = 'OrbweaverSouth'\n",
    "met_name = 'orbweaversouth'"
   ]
  },
  {
   "cell_type": "code",
   "execution_count": null,
   "metadata": {},
   "outputs": [],
   "source": [
    "startYear = 2012\n",
    "priorYear = 2014\n",
    "endYear = 2015"
   ]
  },
  {
   "cell_type": "code",
   "execution_count": null,
   "metadata": {},
   "outputs": [],
   "source": [
    "sfc_mgmt = json.loads( open( f'crop_jsons/strips_sfc_{endYear}.json', 'r' ).read() )\n",
    "cfs_mgmt = json.loads( open( f'crop_jsons/strips_cfs_{priorYear}.json', 'r' ).read() )"
   ]
  },
  {
   "cell_type": "code",
   "execution_count": null,
   "metadata": {},
   "outputs": [],
   "source": [
    "print(sfc_mgmt)"
   ]
  },
  {
   "cell_type": "code",
   "execution_count": null,
   "metadata": {},
   "outputs": [],
   "source": [
    "create_mukey_runs(mukeys, dbconn, 'sfc', f'{met_name}.met', f'{field_name}Default', start_year=startYear, end_year=endYear, sfc_mgmt=sfc_mgmt, cfs_mgmt=cfs_mgmt)\n",
    "create_mukey_runs(mukeys, dbconn, 'sfc', f'{met_name}.met', f'{field_name}Saxton', start_year=startYear, end_year=endYear, sfc_mgmt=sfc_mgmt, cfs_mgmt=cfs_mgmt, saxton=True)"
   ]
  },
  {
   "cell_type": "code",
   "execution_count": null,
   "metadata": {},
   "outputs": [],
   "source": [
    "original = f'met_files/{met_name}.met'\n",
    "target = f'apsim_files/{field_name}Default/{endYear}/sfc/met_files/{met_name}.met'\n",
    "shutil.copyfile(original, target)\n",
    "target = f'apsim_files/{field_name}Saxton/{endYear}/sfc/met_files/{met_name}.met'\n",
    "shutil.copyfile(original, target)"
   ]
  },
  {
   "cell_type": "code",
   "execution_count": null,
   "metadata": {},
   "outputs": [],
   "source": [
    "analyses.run_apsim.run_all_simulations(apsim_files_path=f\"apsim_files\\\\{field_name}Default\\\\{endYear}\\\\sfc\\\\*.apsim\", sim_files_path=f\"apsim_files\\\\{field_name}Default\\\\{endYear}\\\\sfc\\\\*.sim\")\n",
    "analyses.run_apsim.run_all_simulations(apsim_files_path=f\"apsim_files\\\\{field_name}Saxton\\\\{endYear}\\\\sfc\\\\*.apsim\", sim_files_path=f\"apsim_files\\\\{field_name}Saxton\\\\{endYear}\\\\sfc\\\\*.sim\")"
   ]
  },
  {
   "source": [
    "### Maize runs 2008, 2010, 2012, 2014, 2018"
   ],
   "cell_type": "markdown",
   "metadata": {}
  },
  {
   "cell_type": "code",
   "execution_count": null,
   "metadata": {},
   "outputs": [],
   "source": [
    "startYear = 2015\n",
    "priorYear = 2017\n",
    "endYear = 2018"
   ]
  },
  {
   "cell_type": "code",
   "execution_count": null,
   "metadata": {},
   "outputs": [],
   "source": [
    "sfc_mgmt = json.loads( open( f'crop_jsons/strips_sfc_{priorYear}.json', 'r' ).read() )\n",
    "cfs_mgmt = json.loads( open( f'crop_jsons/strips_cfs_{endYear}.json', 'r' ).read() )"
   ]
  },
  {
   "cell_type": "code",
   "execution_count": null,
   "metadata": {},
   "outputs": [],
   "source": [
    "print(cfs_mgmt)"
   ]
  },
  {
   "cell_type": "code",
   "execution_count": null,
   "metadata": {},
   "outputs": [],
   "source": [
    "create_mukey_runs(mukeys, dbconn, 'cfs', f'{met_name}.met', f'{field_name}Default', start_year=startYear, end_year=endYear, sfc_mgmt=sfc_mgmt, cfs_mgmt=cfs_mgmt)\n",
    "create_mukey_runs(mukeys, dbconn, 'cfs', f'{met_name}.met', f'{field_name}Saxton', start_year=startYear, end_year=endYear, sfc_mgmt=sfc_mgmt, cfs_mgmt=cfs_mgmt, saxton=True)"
   ]
  },
  {
   "cell_type": "code",
   "execution_count": null,
   "metadata": {},
   "outputs": [],
   "source": [
    "original = f'met_files/{met_name}.met'\n",
    "target = f'apsim_files/{field_name}Default/{endYear}/cfs/met_files/{met_name}.met'\n",
    "shutil.copyfile(original, target)\n",
    "target = f'apsim_files/{field_name}Saxton/{endYear}/cfs/met_files/{met_name}.met'\n",
    "shutil.copyfile(original, target)"
   ]
  },
  {
   "cell_type": "code",
   "execution_count": null,
   "metadata": {},
   "outputs": [],
   "source": [
    "analyses.run_apsim.run_all_simulations(apsim_files_path=f\"apsim_files\\\\{field_name}Default\\\\{endYear}\\\\cfs\\\\*.apsim\", sim_files_path=f\"apsim_files\\\\{field_name}Default\\\\{endYear}\\\\cfs\\\\*.sim\")\n",
    "analyses.run_apsim.run_all_simulations(apsim_files_path=f\"apsim_files\\\\{field_name}Saxton\\\\{endYear}\\\\cfs\\\\*.apsim\", sim_files_path=f\"apsim_files\\\\{field_name}Saxton\\\\{endYear}\\\\cfs\\\\*.sim\")"
   ]
  },
  {
   "cell_type": "code",
   "execution_count": null,
   "metadata": {},
   "outputs": [],
   "source": []
  }
 ]
}