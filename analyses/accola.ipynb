{
 "cells": [
  {
   "cell_type": "code",
   "execution_count": 2,
   "metadata": {},
   "outputs": [],
   "source": [
    "import json\n",
    "import pandas as pd\n",
    "import geopandas as gpd\n",
    "import numpy as np\n",
    "import database as db\n",
    "import gdal\n",
    "import rasterio\n",
    "from rasterstats import zonal_stats\n",
    "from munging import get_centroid\n",
    "from apsim.daymet import create_excel_met\n",
    "from apsim.apsim_input_writer import create_mukey_runs\n",
    "import matplotlib.pyplot as plt\n",
    "#ogr2ogr -f \"PostgreSQL\" PG:\"dbname=aepe port=5432 user=mjn password=KBlhsab7618 host=10.24.18.212\" \"accola_yield.geojson\" -skip-failures"
   ]
  },
  {
   "cell_type": "code",
   "execution_count": 3,
   "metadata": {},
   "outputs": [],
   "source": [
    "dbconn = db.connect_to_db('database.ini')"
   ]
  },
  {
   "cell_type": "code",
   "execution_count": 3,
   "metadata": {},
   "outputs": [],
   "source": [
    "accola_soy_mgmt_2018 = json.loads( open( 'crop_jsons/accola_sfc_2018.json', 'r' ).read() )\n",
    "accola_corn_mgmt_2019 = json.loads( open( 'crop_jsons/accola_cfs_2019.json', 'r' ).read() )"
   ]
  },
  {
   "cell_type": "code",
   "execution_count": 5,
   "metadata": {},
   "outputs": [],
   "source": [
    "accola_soils = gpd.read_postgis('SELECT * FROM biocent_farms.accola_ssurgo;', dbconn, geom_col='wkb_geometry')\n",
    "accola_mukeys = list(np.unique(accola_soils['mukey']))\n",
    "#accola_soils = pd.read_sql('SELECT * FROM biocent_farms.accola_ssurgo;', dbconn)\n",
    "#### Get centroid and create met file\n",
    "#accola_centroid = get_centroid(accola_soils, 'areasymbol', 'wkb_geometry')\n",
    "#create_excel_met(accola_centroid[0], accola_centroid[1], 2012, 2019, 'accola')"
   ]
  },
  {
   "cell_type": "code",
   "execution_count": null,
   "metadata": {},
   "outputs": [],
   "source": [
    "create_mukey_runs(accola_mukeys, dbconn, 'sfc', 'accola.met', 'Accola', sfc_mgmt=accola_soy_mgmt_2018, cfs_mgmt=accola_corn_mgmt_2019)"
   ]
  },
  {
   "cell_type": "code",
   "execution_count": null,
   "metadata": {},
   "outputs": [],
   "source": [
    "#gdal Rasterize (vector to raster)\n",
    "#raster analysis > zonal statistics\n",
    "#user python rasterstats to calculate zonal statistics\n",
    "# from rasterstats import zonal_stats\n",
    "# stats = zonal_stats(\"tests/data/polygons.shp\", \"tests/data/elevation.tif\")\n",
    "# stats[1].keys()\n",
    "# ['count', 'min', 'max', 'mean']\n",
    "# [f['mean'] for f in stats]\n",
    "# [756.6057470703125, 114.660084635416666]"
   ]
  },
  {
   "cell_type": "code",
   "execution_count": 4,
   "metadata": {},
   "outputs": [],
   "source": [
    "accola_yield = gpd.read_file(\"yield_monitor/Accola2019YieldwGeom.dbf\")"
   ]
  },
  {
   "cell_type": "code",
   "execution_count": 5,
   "metadata": {},
   "outputs": [],
   "source": [
    "accola_yield_clean = accola_yield[['Yld_Vol_Dr','geometry']]\n",
    "#accola_yield_clean['Yld_Vol_Dr'].describe()"
   ]
  },
  {
   "cell_type": "code",
   "execution_count": null,
   "metadata": {},
   "outputs": [],
   "source": [
    "# For re-projecting input vector layer to raster projection\n",
    "def reproject(vector_gpd, raster):\n",
    "    proj = raster.crs.to_proj4()\n",
    "    print(\"Original vector layer projection: \", vector_gpd.crs)\n",
    "    reproj = vector_gpd.to_crs(proj)\n",
    "    print(\"New vector layer projection (PROJ4): \", reproj.crs)\n",
    "    fig, ax = plt.subplots(figsize=(15, 15))\n",
    "    rplt.show(raster, ax=ax)\n",
    "    reproj.plot(ax=ax, facecolor='none', edgecolor='red')\n",
    "    fig.show()\n",
    "    return reproj"
   ]
  },
  {
   "cell_type": "code",
   "execution_count": null,
   "metadata": {},
   "outputs": [],
   "source": [
    "#stats list: ['min', 'max', 'mean', 'count', 'sum', 'std', 'median', 'majority', 'minority', 'unique', 'range']\n",
    "def get_zonal_stats(vector, raster, stats):\n",
    "    # Run zonal statistics, store result in geopandas dataframe\n",
    "    result = zonal_stats(vector, raster, stats=stats, geojson_out=True)\n",
    "    geostats = gpd.GeoDataFrame.from_features(result)\n",
    "    return geostats"
   ]
  },
  {
   "cell_type": "code",
   "execution_count": null,
   "metadata": {},
   "outputs": [],
   "source": [
    "# For generating raster from zonal statistics result\n",
    "def stats_to_raster(zdf, raster, stats, out_raster, no_data='y'):\n",
    "    meta = raster.meta.copy()\n",
    "    out_shape = raster.shape\n",
    "    transform = raster.transform\n",
    "    dtype = raster.dtypes[0]\n",
    "    field_list = list_columns(stats)\n",
    "    index = int(input(\"Rasterize by which field? \"))\n",
    "    zone = zdf[field_list[index]]\n",
    "    shapes = ((geom,value) for geom, value in zip(zdf.geometry, zone))\n",
    "    burned = rasterize(shapes=shapes, fill=0, out_shape=out_shape, transform=transform)\n",
    "    show(burned)\n",
    "    meta.update(dtype=rasterio.float32, nodata=0)\n",
    "    # Optional to set nodata values to min of stat\n",
    "    if no_data == 'y':\n",
    "        cutoff = min(zone.values)\n",
    "        print(\"Setting nodata cutoff to: \", cutoff)\n",
    "        burned[burned < cutoff] = 0 \n",
    "    with rasterio.open(out_raster, 'w', **meta) as out:\n",
    "        out.write_band(1, burned)\n",
    "    print(\"Zonal Statistics Raster generated\")"
   ]
  },
  {
   "cell_type": "code",
   "execution_count": 8,
   "metadata": {},
   "outputs": [],
   "source": [
    "stats = zonal_stats('yield_monitor/accola_soils.shp', 'yield_monitor/accola_2019_yield_raster.tif', geojson_out=True)"
   ]
  },
  {
   "cell_type": "code",
   "execution_count": 9,
   "metadata": {},
   "outputs": [
    {
     "output_type": "execute_result",
     "data": {
      "text/plain": "                                             geometry  objectid areasymbol  \\\n0   MULTIPOLYGON (((-93.67114 41.97944, -93.67177 ...   1670419      IA169   \n1   POLYGON ((-93.67638 41.98140, -93.67645 41.981...   1699584      IA169   \n2   POLYGON ((-93.66838 41.98085, -93.66838 41.980...   1673500      IA169   \n3   POLYGON ((-93.67787 41.97963, -93.67787 41.979...   1674524      IA169   \n4   POLYGON ((-93.66838 41.97973, -93.66838 41.979...   1675300      IA169   \n5   POLYGON ((-93.67577 41.98026, -93.67571 41.980...   1679582      IA169   \n6   POLYGON ((-93.67305 41.98305, -93.67261 41.983...   1679975      IA169   \n7   POLYGON ((-93.67784 41.97951, -93.67786 41.979...   1689022      IA169   \n8   MULTIPOLYGON (((-93.66842 41.98255, -93.66840 ...   1689289      IA169   \n9   POLYGON ((-93.67227 41.97944, -93.67241 41.979...   1689439      IA169   \n10  POLYGON ((-93.67463 41.98305, -93.67452 41.983...   1689585      IA169   \n11  POLYGON ((-93.67554 41.97946, -93.67676 41.979...   1689765      IA169   \n12  MULTIPOLYGON (((-93.67793 41.98157, -93.67795 ...   1689892      IA169   \n13  POLYGON ((-93.66948 41.98285, -93.66927 41.982...   1689902      IA169   \n14  POLYGON ((-93.67110 41.98180, -93.67123 41.981...   1694527      IA169   \n15  POLYGON ((-93.67532 41.98064, -93.67548 41.980...   1694530      IA169   \n16  POLYGON ((-93.67501 41.98007, -93.67511 41.979...   1694874      IA169   \n17  POLYGON ((-93.67058 41.97988, -93.67064 41.979...   1694884      IA169   \n18  POLYGON ((-93.67603 41.98124, -93.67624 41.981...   1694915      IA169   \n\n    spatialver  musym    mukey    shape_leng     shape_area  _count  \\\n0          9.0   L107  2835021   4532.587964   17372.778909  1027.0   \n1          9.0    L95  2835194    427.132962    9608.816987   617.0   \n2          9.0  L138B  2765537   5151.993709   51175.383764  3105.0   \n3          9.0      6   411333    370.991947     422.984319    39.0   \n4          9.0   L107  2835021   3939.586786    3689.868249   226.0   \n5          9.0  L138B  2765537    550.387774   11041.134105   642.0   \n6          9.0  L138B  2765537   1300.434886    5963.292117   365.0   \n7          9.0   L507  2922031  42460.177496  131704.052460  7975.0   \n8          9.0    L55  2800480    922.446488    6182.684343   663.0   \n9          9.0    L55  2800480    524.713926    6250.414950   365.0   \n10         9.0    L55  2800480    781.549547    3737.180071   230.0   \n11         9.0    L55  2800480    586.205403    3210.474913   177.0   \n12         9.0    L55  2800480   1264.460711    3953.234576   334.0   \n13         9.0    L55  2800480    347.233677    7757.955881   461.0   \n14         9.0    L95  2835194    664.745938   16396.573543   701.0   \n15         9.0    L95  2835194    680.335861   14733.092212   733.0   \n16         9.0    L55  2800480    367.827886    6493.865639   359.0   \n17         9.0    L55  2800480    422.125769    9009.051049   484.0   \n18         9.0    L55  2800480    334.378569    6378.716829   333.0   \n\n            _sum  ...        _sum_1     _mean_1     _median     _stdev  \\\n0   1.876259e+05  ...  1.876259e+05  182.693177  186.720093  26.237834   \n1   1.001452e+05  ...  1.001452e+05  162.309815  175.093201  55.368015   \n2   6.888473e+05  ...  6.888473e+05  221.850985  223.410599  31.126392   \n3   5.831197e+03  ...  5.831197e+03  149.517880  157.001404  20.448641   \n4   3.998885e+04  ...  3.998885e+04  176.941802  187.816048  48.116209   \n5   1.279321e+05  ...  1.279321e+05  199.271186  201.629395  30.809508   \n6   7.641316e+04  ...  7.641316e+04  209.351127  210.781097  32.295120   \n7   1.570600e+06  ...  1.570600e+06  196.940452  203.940308  44.503792   \n8   1.145793e+05  ...  1.145793e+05  172.819454  182.495895  42.923843   \n9   5.170339e+04  ...  5.170339e+04  141.653134  141.478699  43.498758   \n10  4.931988e+04  ...  4.931988e+04  214.434256  211.061897  30.653533   \n11  3.150890e+04  ...  3.150890e+04  178.016366  177.343704  28.572569   \n12  6.734640e+04  ...  6.734640e+04  201.635929  208.489052  54.233565   \n13  1.021007e+05  ...  1.021007e+05  221.476569  226.560394  36.287657   \n14  1.234265e+05  ...  1.234265e+05  176.072105  183.030502  44.554332   \n15  1.396360e+05  ...  1.396360e+05  190.499258  194.564102  43.386314   \n16  7.587909e+04  ...  7.587909e+04  211.362374  228.815002  43.536147   \n17  9.551056e+04  ...  9.551056e+04  197.335860  203.335999  41.151690   \n18  7.325874e+04  ...  7.325874e+04  219.996218  223.655899  30.538035   \n\n          _min        _max         min         max        mean  count  \n0    66.781502  245.805603   66.781502  245.805603  182.693190   1027  \n1    40.117100  273.226410   40.117100  273.226410  162.309816    617  \n2    66.104897  348.802002   66.104897  348.802002  221.850986   3105  \n3   102.758202  179.421295  102.758202  179.421295  149.517879     39  \n4    42.994301  337.525299   42.994301  337.525299  176.941787    226  \n5    82.115501  282.751801   82.115501  282.751801  199.271174    642  \n6    69.628998  336.448303   69.628998  336.448303  209.351113    365  \n7    40.268799  346.724609   40.268799  346.724609  196.940470   7975  \n8    40.689999  311.745087   40.689999  311.745087  172.819452    663  \n9    53.092400  226.033203   53.092400  226.033203  141.653136    365  \n10  146.779099  325.676697  146.779099  325.676697  214.434256    230  \n11   73.173798  278.349915   73.173798  278.349915  178.016364    177  \n12   40.766300  308.498505   40.766300  308.498505  201.635923    334  \n13   85.121696  343.237000   85.121696  343.237000  221.476579    461  \n14   41.917702  284.057404   41.917702  284.057404  176.072107    701  \n15   40.748402  312.688293   40.748402  312.688293  190.499233    733  \n16   66.295799  271.796387   66.295799  271.796387  211.362378    359  \n17   40.177399  347.350891   40.177399  347.350891  197.335857    484  \n18   47.118301  330.420197   47.118301  330.420197  219.996199    333  \n\n[19 rows x 22 columns]",
      "text/html": "<div>\n<style scoped>\n    .dataframe tbody tr th:only-of-type {\n        vertical-align: middle;\n    }\n\n    .dataframe tbody tr th {\n        vertical-align: top;\n    }\n\n    .dataframe thead th {\n        text-align: right;\n    }\n</style>\n<table border=\"1\" class=\"dataframe\">\n  <thead>\n    <tr style=\"text-align: right;\">\n      <th></th>\n      <th>geometry</th>\n      <th>objectid</th>\n      <th>areasymbol</th>\n      <th>spatialver</th>\n      <th>musym</th>\n      <th>mukey</th>\n      <th>shape_leng</th>\n      <th>shape_area</th>\n      <th>_count</th>\n      <th>_sum</th>\n      <th>...</th>\n      <th>_sum_1</th>\n      <th>_mean_1</th>\n      <th>_median</th>\n      <th>_stdev</th>\n      <th>_min</th>\n      <th>_max</th>\n      <th>min</th>\n      <th>max</th>\n      <th>mean</th>\n      <th>count</th>\n    </tr>\n  </thead>\n  <tbody>\n    <tr>\n      <th>0</th>\n      <td>MULTIPOLYGON (((-93.67114 41.97944, -93.67177 ...</td>\n      <td>1670419</td>\n      <td>IA169</td>\n      <td>9.0</td>\n      <td>L107</td>\n      <td>2835021</td>\n      <td>4532.587964</td>\n      <td>17372.778909</td>\n      <td>1027.0</td>\n      <td>1.876259e+05</td>\n      <td>...</td>\n      <td>1.876259e+05</td>\n      <td>182.693177</td>\n      <td>186.720093</td>\n      <td>26.237834</td>\n      <td>66.781502</td>\n      <td>245.805603</td>\n      <td>66.781502</td>\n      <td>245.805603</td>\n      <td>182.693190</td>\n      <td>1027</td>\n    </tr>\n    <tr>\n      <th>1</th>\n      <td>POLYGON ((-93.67638 41.98140, -93.67645 41.981...</td>\n      <td>1699584</td>\n      <td>IA169</td>\n      <td>9.0</td>\n      <td>L95</td>\n      <td>2835194</td>\n      <td>427.132962</td>\n      <td>9608.816987</td>\n      <td>617.0</td>\n      <td>1.001452e+05</td>\n      <td>...</td>\n      <td>1.001452e+05</td>\n      <td>162.309815</td>\n      <td>175.093201</td>\n      <td>55.368015</td>\n      <td>40.117100</td>\n      <td>273.226410</td>\n      <td>40.117100</td>\n      <td>273.226410</td>\n      <td>162.309816</td>\n      <td>617</td>\n    </tr>\n    <tr>\n      <th>2</th>\n      <td>POLYGON ((-93.66838 41.98085, -93.66838 41.980...</td>\n      <td>1673500</td>\n      <td>IA169</td>\n      <td>9.0</td>\n      <td>L138B</td>\n      <td>2765537</td>\n      <td>5151.993709</td>\n      <td>51175.383764</td>\n      <td>3105.0</td>\n      <td>6.888473e+05</td>\n      <td>...</td>\n      <td>6.888473e+05</td>\n      <td>221.850985</td>\n      <td>223.410599</td>\n      <td>31.126392</td>\n      <td>66.104897</td>\n      <td>348.802002</td>\n      <td>66.104897</td>\n      <td>348.802002</td>\n      <td>221.850986</td>\n      <td>3105</td>\n    </tr>\n    <tr>\n      <th>3</th>\n      <td>POLYGON ((-93.67787 41.97963, -93.67787 41.979...</td>\n      <td>1674524</td>\n      <td>IA169</td>\n      <td>9.0</td>\n      <td>6</td>\n      <td>411333</td>\n      <td>370.991947</td>\n      <td>422.984319</td>\n      <td>39.0</td>\n      <td>5.831197e+03</td>\n      <td>...</td>\n      <td>5.831197e+03</td>\n      <td>149.517880</td>\n      <td>157.001404</td>\n      <td>20.448641</td>\n      <td>102.758202</td>\n      <td>179.421295</td>\n      <td>102.758202</td>\n      <td>179.421295</td>\n      <td>149.517879</td>\n      <td>39</td>\n    </tr>\n    <tr>\n      <th>4</th>\n      <td>POLYGON ((-93.66838 41.97973, -93.66838 41.979...</td>\n      <td>1675300</td>\n      <td>IA169</td>\n      <td>9.0</td>\n      <td>L107</td>\n      <td>2835021</td>\n      <td>3939.586786</td>\n      <td>3689.868249</td>\n      <td>226.0</td>\n      <td>3.998885e+04</td>\n      <td>...</td>\n      <td>3.998885e+04</td>\n      <td>176.941802</td>\n      <td>187.816048</td>\n      <td>48.116209</td>\n      <td>42.994301</td>\n      <td>337.525299</td>\n      <td>42.994301</td>\n      <td>337.525299</td>\n      <td>176.941787</td>\n      <td>226</td>\n    </tr>\n    <tr>\n      <th>5</th>\n      <td>POLYGON ((-93.67577 41.98026, -93.67571 41.980...</td>\n      <td>1679582</td>\n      <td>IA169</td>\n      <td>9.0</td>\n      <td>L138B</td>\n      <td>2765537</td>\n      <td>550.387774</td>\n      <td>11041.134105</td>\n      <td>642.0</td>\n      <td>1.279321e+05</td>\n      <td>...</td>\n      <td>1.279321e+05</td>\n      <td>199.271186</td>\n      <td>201.629395</td>\n      <td>30.809508</td>\n      <td>82.115501</td>\n      <td>282.751801</td>\n      <td>82.115501</td>\n      <td>282.751801</td>\n      <td>199.271174</td>\n      <td>642</td>\n    </tr>\n    <tr>\n      <th>6</th>\n      <td>POLYGON ((-93.67305 41.98305, -93.67261 41.983...</td>\n      <td>1679975</td>\n      <td>IA169</td>\n      <td>9.0</td>\n      <td>L138B</td>\n      <td>2765537</td>\n      <td>1300.434886</td>\n      <td>5963.292117</td>\n      <td>365.0</td>\n      <td>7.641316e+04</td>\n      <td>...</td>\n      <td>7.641316e+04</td>\n      <td>209.351127</td>\n      <td>210.781097</td>\n      <td>32.295120</td>\n      <td>69.628998</td>\n      <td>336.448303</td>\n      <td>69.628998</td>\n      <td>336.448303</td>\n      <td>209.351113</td>\n      <td>365</td>\n    </tr>\n    <tr>\n      <th>7</th>\n      <td>POLYGON ((-93.67784 41.97951, -93.67786 41.979...</td>\n      <td>1689022</td>\n      <td>IA169</td>\n      <td>9.0</td>\n      <td>L507</td>\n      <td>2922031</td>\n      <td>42460.177496</td>\n      <td>131704.052460</td>\n      <td>7975.0</td>\n      <td>1.570600e+06</td>\n      <td>...</td>\n      <td>1.570600e+06</td>\n      <td>196.940452</td>\n      <td>203.940308</td>\n      <td>44.503792</td>\n      <td>40.268799</td>\n      <td>346.724609</td>\n      <td>40.268799</td>\n      <td>346.724609</td>\n      <td>196.940470</td>\n      <td>7975</td>\n    </tr>\n    <tr>\n      <th>8</th>\n      <td>MULTIPOLYGON (((-93.66842 41.98255, -93.66840 ...</td>\n      <td>1689289</td>\n      <td>IA169</td>\n      <td>9.0</td>\n      <td>L55</td>\n      <td>2800480</td>\n      <td>922.446488</td>\n      <td>6182.684343</td>\n      <td>663.0</td>\n      <td>1.145793e+05</td>\n      <td>...</td>\n      <td>1.145793e+05</td>\n      <td>172.819454</td>\n      <td>182.495895</td>\n      <td>42.923843</td>\n      <td>40.689999</td>\n      <td>311.745087</td>\n      <td>40.689999</td>\n      <td>311.745087</td>\n      <td>172.819452</td>\n      <td>663</td>\n    </tr>\n    <tr>\n      <th>9</th>\n      <td>POLYGON ((-93.67227 41.97944, -93.67241 41.979...</td>\n      <td>1689439</td>\n      <td>IA169</td>\n      <td>9.0</td>\n      <td>L55</td>\n      <td>2800480</td>\n      <td>524.713926</td>\n      <td>6250.414950</td>\n      <td>365.0</td>\n      <td>5.170339e+04</td>\n      <td>...</td>\n      <td>5.170339e+04</td>\n      <td>141.653134</td>\n      <td>141.478699</td>\n      <td>43.498758</td>\n      <td>53.092400</td>\n      <td>226.033203</td>\n      <td>53.092400</td>\n      <td>226.033203</td>\n      <td>141.653136</td>\n      <td>365</td>\n    </tr>\n    <tr>\n      <th>10</th>\n      <td>POLYGON ((-93.67463 41.98305, -93.67452 41.983...</td>\n      <td>1689585</td>\n      <td>IA169</td>\n      <td>9.0</td>\n      <td>L55</td>\n      <td>2800480</td>\n      <td>781.549547</td>\n      <td>3737.180071</td>\n      <td>230.0</td>\n      <td>4.931988e+04</td>\n      <td>...</td>\n      <td>4.931988e+04</td>\n      <td>214.434256</td>\n      <td>211.061897</td>\n      <td>30.653533</td>\n      <td>146.779099</td>\n      <td>325.676697</td>\n      <td>146.779099</td>\n      <td>325.676697</td>\n      <td>214.434256</td>\n      <td>230</td>\n    </tr>\n    <tr>\n      <th>11</th>\n      <td>POLYGON ((-93.67554 41.97946, -93.67676 41.979...</td>\n      <td>1689765</td>\n      <td>IA169</td>\n      <td>9.0</td>\n      <td>L55</td>\n      <td>2800480</td>\n      <td>586.205403</td>\n      <td>3210.474913</td>\n      <td>177.0</td>\n      <td>3.150890e+04</td>\n      <td>...</td>\n      <td>3.150890e+04</td>\n      <td>178.016366</td>\n      <td>177.343704</td>\n      <td>28.572569</td>\n      <td>73.173798</td>\n      <td>278.349915</td>\n      <td>73.173798</td>\n      <td>278.349915</td>\n      <td>178.016364</td>\n      <td>177</td>\n    </tr>\n    <tr>\n      <th>12</th>\n      <td>MULTIPOLYGON (((-93.67793 41.98157, -93.67795 ...</td>\n      <td>1689892</td>\n      <td>IA169</td>\n      <td>9.0</td>\n      <td>L55</td>\n      <td>2800480</td>\n      <td>1264.460711</td>\n      <td>3953.234576</td>\n      <td>334.0</td>\n      <td>6.734640e+04</td>\n      <td>...</td>\n      <td>6.734640e+04</td>\n      <td>201.635929</td>\n      <td>208.489052</td>\n      <td>54.233565</td>\n      <td>40.766300</td>\n      <td>308.498505</td>\n      <td>40.766300</td>\n      <td>308.498505</td>\n      <td>201.635923</td>\n      <td>334</td>\n    </tr>\n    <tr>\n      <th>13</th>\n      <td>POLYGON ((-93.66948 41.98285, -93.66927 41.982...</td>\n      <td>1689902</td>\n      <td>IA169</td>\n      <td>9.0</td>\n      <td>L55</td>\n      <td>2800480</td>\n      <td>347.233677</td>\n      <td>7757.955881</td>\n      <td>461.0</td>\n      <td>1.021007e+05</td>\n      <td>...</td>\n      <td>1.021007e+05</td>\n      <td>221.476569</td>\n      <td>226.560394</td>\n      <td>36.287657</td>\n      <td>85.121696</td>\n      <td>343.237000</td>\n      <td>85.121696</td>\n      <td>343.237000</td>\n      <td>221.476579</td>\n      <td>461</td>\n    </tr>\n    <tr>\n      <th>14</th>\n      <td>POLYGON ((-93.67110 41.98180, -93.67123 41.981...</td>\n      <td>1694527</td>\n      <td>IA169</td>\n      <td>9.0</td>\n      <td>L95</td>\n      <td>2835194</td>\n      <td>664.745938</td>\n      <td>16396.573543</td>\n      <td>701.0</td>\n      <td>1.234265e+05</td>\n      <td>...</td>\n      <td>1.234265e+05</td>\n      <td>176.072105</td>\n      <td>183.030502</td>\n      <td>44.554332</td>\n      <td>41.917702</td>\n      <td>284.057404</td>\n      <td>41.917702</td>\n      <td>284.057404</td>\n      <td>176.072107</td>\n      <td>701</td>\n    </tr>\n    <tr>\n      <th>15</th>\n      <td>POLYGON ((-93.67532 41.98064, -93.67548 41.980...</td>\n      <td>1694530</td>\n      <td>IA169</td>\n      <td>9.0</td>\n      <td>L95</td>\n      <td>2835194</td>\n      <td>680.335861</td>\n      <td>14733.092212</td>\n      <td>733.0</td>\n      <td>1.396360e+05</td>\n      <td>...</td>\n      <td>1.396360e+05</td>\n      <td>190.499258</td>\n      <td>194.564102</td>\n      <td>43.386314</td>\n      <td>40.748402</td>\n      <td>312.688293</td>\n      <td>40.748402</td>\n      <td>312.688293</td>\n      <td>190.499233</td>\n      <td>733</td>\n    </tr>\n    <tr>\n      <th>16</th>\n      <td>POLYGON ((-93.67501 41.98007, -93.67511 41.979...</td>\n      <td>1694874</td>\n      <td>IA169</td>\n      <td>9.0</td>\n      <td>L55</td>\n      <td>2800480</td>\n      <td>367.827886</td>\n      <td>6493.865639</td>\n      <td>359.0</td>\n      <td>7.587909e+04</td>\n      <td>...</td>\n      <td>7.587909e+04</td>\n      <td>211.362374</td>\n      <td>228.815002</td>\n      <td>43.536147</td>\n      <td>66.295799</td>\n      <td>271.796387</td>\n      <td>66.295799</td>\n      <td>271.796387</td>\n      <td>211.362378</td>\n      <td>359</td>\n    </tr>\n    <tr>\n      <th>17</th>\n      <td>POLYGON ((-93.67058 41.97988, -93.67064 41.979...</td>\n      <td>1694884</td>\n      <td>IA169</td>\n      <td>9.0</td>\n      <td>L55</td>\n      <td>2800480</td>\n      <td>422.125769</td>\n      <td>9009.051049</td>\n      <td>484.0</td>\n      <td>9.551056e+04</td>\n      <td>...</td>\n      <td>9.551056e+04</td>\n      <td>197.335860</td>\n      <td>203.335999</td>\n      <td>41.151690</td>\n      <td>40.177399</td>\n      <td>347.350891</td>\n      <td>40.177399</td>\n      <td>347.350891</td>\n      <td>197.335857</td>\n      <td>484</td>\n    </tr>\n    <tr>\n      <th>18</th>\n      <td>POLYGON ((-93.67603 41.98124, -93.67624 41.981...</td>\n      <td>1694915</td>\n      <td>IA169</td>\n      <td>9.0</td>\n      <td>L55</td>\n      <td>2800480</td>\n      <td>334.378569</td>\n      <td>6378.716829</td>\n      <td>333.0</td>\n      <td>7.325874e+04</td>\n      <td>...</td>\n      <td>7.325874e+04</td>\n      <td>219.996218</td>\n      <td>223.655899</td>\n      <td>30.538035</td>\n      <td>47.118301</td>\n      <td>330.420197</td>\n      <td>47.118301</td>\n      <td>330.420197</td>\n      <td>219.996199</td>\n      <td>333</td>\n    </tr>\n  </tbody>\n</table>\n<p>19 rows × 22 columns</p>\n</div>"
     },
     "metadata": {},
     "execution_count": 9
    }
   ],
   "source": [
    "gpd.GeoDataFrame.from_features(stats)"
   ]
  },
  {
   "cell_type": "code",
   "execution_count": null,
   "metadata": {},
   "outputs": [],
   "source": [
    "#gdal.Grid('yield_avg.tif', 'accola_yield_basic.csv')"
   ]
  },
  {
   "cell_type": "code",
   "execution_count": null,
   "metadata": {},
   "outputs": [],
   "source": [
    "len(accola_yield_clean.loc[accola_yield_clean['Yld_Vol_Dr'] <= 150])"
   ]
  },
  {
   "cell_type": "code",
   "execution_count": null,
   "metadata": {},
   "outputs": [],
   "source": [
    "accola_mukeys = list(np.unique(accola_soils['mukey']))"
   ]
  },
  {
   "cell_type": "code",
   "execution_count": null,
   "metadata": {},
   "outputs": [],
   "source": [
    "create_mukey_runs(accola_mukeys, dbconn, 'sfc', 'accola.met', 'Accola', sfc_mgmt=accola_soy_mgmt_2018, cfs_mgmt=accola_corn_mgmt_2019)"
   ]
  },
  {
   "cell_type": "code",
   "execution_count": null,
   "metadata": {},
   "outputs": [],
   "source": []
  }
 ],
 "metadata": {
  "language_info": {
   "codemirror_mode": {
    "name": "ipython",
    "version": 3
   },
   "file_extension": ".py",
   "mimetype": "text/x-python",
   "name": "python",
   "nbconvert_exporter": "python",
   "pygments_lexer": "ipython3",
   "version": "3.8.2-final"
  },
  "orig_nbformat": 2,
  "kernelspec": {
   "name": "gis",
   "display_name": "gis"
  }
 },
 "nbformat": 4,
 "nbformat_minor": 2
}