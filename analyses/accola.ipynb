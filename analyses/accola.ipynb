{
 "cells": [
  {
   "cell_type": "code",
   "execution_count": 50,
   "metadata": {},
   "outputs": [],
   "source": [
    "import json\n",
    "import pandas as pd\n",
    "import geopandas as gpd\n",
    "import numpy as np\n",
    "import database as db\n",
    "import gdal\n",
    "import rasterio\n",
    "from sklearn.metrics import mean_squared_error\n",
    "from math import sqrt\n",
    "from rasterstats import zonal_stats\n",
    "from munging import get_centroid\n",
    "from apsim.daymet import create_excel_met\n",
    "from apsim.apsim_input_writer import create_mukey_runs\n",
    "from apsim.apsim_output_parser import parse_all_output_field, parse_summary_output_field\n",
    "import matplotlib.pyplot as plt\n",
    "#ogr2ogr -f \"PostgreSQL\" PG:\"dbname=aepe port=5432 user=mjn password=KBlhsab7618 host=10.24.18.212\" \"accola_yield.geojson\" -skip-failures"
   ]
  },
  {
   "cell_type": "code",
   "execution_count": 2,
   "metadata": {},
   "outputs": [],
   "source": [
    "dbconn = db.connect_to_db('database.ini')"
   ]
  },
  {
   "cell_type": "code",
   "execution_count": 3,
   "metadata": {},
   "outputs": [],
   "source": [
    "accola_soy_mgmt_2018 = json.loads( open( 'crop_jsons/accola_sfc_2018.json', 'r' ).read() )\n",
    "accola_corn_mgmt_2019 = json.loads( open( 'crop_jsons/accola_cfs_2019.json', 'r' ).read() )"
   ]
  },
  {
   "cell_type": "code",
   "execution_count": 4,
   "metadata": {},
   "outputs": [],
   "source": [
    "accola_soils = gpd.read_postgis('SELECT * FROM biocent_farms.accola_ssurgo;', dbconn, geom_col='wkb_geometry')\n",
    "accola_mukeys = list(np.unique(accola_soils['mukey']))\n",
    "#accola_soils = pd.read_sql('SELECT * FROM biocent_farms.accola_ssurgo;', dbconn)\n",
    "#### Get centroid and create met file\n",
    "#accola_centroid = get_centroid(accola_soils, 'areasymbol', 'wkb_geometry')\n",
    "#create_excel_met(accola_centroid[0], accola_centroid[1], 2012, 2019, 'accola')"
   ]
  },
  {
   "cell_type": "code",
   "execution_count": 5,
   "metadata": {
    "tags": []
   },
   "outputs": [
    {
     "output_type": "stream",
     "name": "stdout",
     "text": "Finished! All files created!\n"
    }
   ],
   "source": [
    "#create_mukey_runs(accola_mukeys, dbconn, 'sfc', 'accola.met', 'Accola', start_year=2017, end_year=2019, sfc_mgmt=accola_soy_mgmt_2018, cfs_mgmt=accola_corn_mgmt_2019)\n",
    "create_mukey_runs(accola_mukeys, dbconn, 'cfs', 'accola.met', 'Accola', start_year=2017, end_year=2019, sfc_mgmt=accola_soy_mgmt_2018, cfs_mgmt=accola_corn_mgmt_2019)"
   ]
  },
  {
   "cell_type": "code",
   "execution_count": 9,
   "metadata": {},
   "outputs": [],
   "source": [
    "accola_maize_output_2019 = parse_summary_output_field(\"apsim_files/Accola/\", year=2019)"
   ]
  },
  {
   "cell_type": "code",
   "execution_count": 28,
   "metadata": {},
   "outputs": [
    {
     "output_type": "execute_result",
     "data": {
      "text/plain": "     mukey  corn_buac\n0  2765537  165.43703\n1  2800480  147.96298\n2  2835021  169.84242\n3  2835194  195.34778\n4  2922031  164.70740\n5   411333  151.28084",
      "text/html": "<div>\n<style scoped>\n    .dataframe tbody tr th:only-of-type {\n        vertical-align: middle;\n    }\n\n    .dataframe tbody tr th {\n        vertical-align: top;\n    }\n\n    .dataframe thead th {\n        text-align: right;\n    }\n</style>\n<table border=\"1\" class=\"dataframe\">\n  <thead>\n    <tr style=\"text-align: right;\">\n      <th></th>\n      <th>mukey</th>\n      <th>corn_buac</th>\n    </tr>\n  </thead>\n  <tbody>\n    <tr>\n      <th>0</th>\n      <td>2765537</td>\n      <td>165.43703</td>\n    </tr>\n    <tr>\n      <th>1</th>\n      <td>2800480</td>\n      <td>147.96298</td>\n    </tr>\n    <tr>\n      <th>2</th>\n      <td>2835021</td>\n      <td>169.84242</td>\n    </tr>\n    <tr>\n      <th>3</th>\n      <td>2835194</td>\n      <td>195.34778</td>\n    </tr>\n    <tr>\n      <th>4</th>\n      <td>2922031</td>\n      <td>164.70740</td>\n    </tr>\n    <tr>\n      <th>5</th>\n      <td>411333</td>\n      <td>151.28084</td>\n    </tr>\n  </tbody>\n</table>\n</div>"
     },
     "metadata": {},
     "execution_count": 28
    }
   ],
   "source": [
    "accola_apsim_yield_2019 = accola_maize_output_2019[['mukey', 'corn_buac']]\n",
    "accola_apsim_yield_2019"
   ]
  },
  {
   "cell_type": "code",
   "execution_count": null,
   "metadata": {},
   "outputs": [],
   "source": [
    "#gdal Rasterize (vector to raster)\n",
    "#raster analysis > zonal statistics\n",
    "#user python rasterstats to calculate zonal statistics\n",
    "# from rasterstats import zonal_stats\n",
    "# stats = zonal_stats(\"tests/data/polygons.shp\", \"tests/data/elevation.tif\")\n",
    "# stats[1].keys()\n",
    "# ['count', 'min', 'max', 'mean']\n",
    "# [f['mean'] for f in stats]\n",
    "# [756.6057470703125, 114.660084635416666]"
   ]
  },
  {
   "cell_type": "code",
   "execution_count": null,
   "metadata": {},
   "outputs": [],
   "source": [
    "accola_yield = gpd.read_file(\"yield_monitor/Accola2019YieldwGeom.dbf\")"
   ]
  },
  {
   "cell_type": "code",
   "execution_count": null,
   "metadata": {},
   "outputs": [],
   "source": [
    "accola_yield_clean = accola_yield[['Yld_Vol_Dr','geometry']]\n",
    "#accola_yield_clean['Yld_Vol_Dr'].describe()"
   ]
  },
  {
   "cell_type": "code",
   "execution_count": 13,
   "metadata": {},
   "outputs": [],
   "source": [
    "stats = zonal_stats('C:/Users/mjn/Documents/Foresite/yield_monitor_data/accola_ssurgo.geojson', \"C:/Users/mjn/Documents/Foresite/yield_monitor_data/accola_2019_yield_raster.tif\", geojson_out=True)"
   ]
  },
  {
   "cell_type": "code",
   "execution_count": 31,
   "metadata": {},
   "outputs": [
    {
     "output_type": "execute_result",
     "data": {
      "text/plain": "                                             geometry  objectid areasymbol  \\\n0   MULTIPOLYGON (((-93.67114 41.97944, -93.67177 ...   1670419      IA169   \n1   MULTIPOLYGON (((-93.67638 41.98140, -93.67645 ...   1699584      IA169   \n2   MULTIPOLYGON (((-93.66838 41.98085, -93.66838 ...   1673500      IA169   \n3   MULTIPOLYGON (((-93.67787 41.97963, -93.67787 ...   1674524      IA169   \n4   MULTIPOLYGON (((-93.66838 41.97973, -93.66838 ...   1675300      IA169   \n5   MULTIPOLYGON (((-93.67577 41.98026, -93.67571 ...   1679582      IA169   \n6   MULTIPOLYGON (((-93.67305 41.98305, -93.67261 ...   1679975      IA169   \n7   MULTIPOLYGON (((-93.67784 41.97951, -93.67786 ...   1689022      IA169   \n8   MULTIPOLYGON (((-93.66842 41.98255, -93.66840 ...   1689289      IA169   \n9   MULTIPOLYGON (((-93.67227 41.97944, -93.67241 ...   1689439      IA169   \n10  MULTIPOLYGON (((-93.67463 41.98305, -93.67452 ...   1689585      IA169   \n11  MULTIPOLYGON (((-93.67554 41.97946, -93.67676 ...   1689765      IA169   \n12  MULTIPOLYGON (((-93.67793 41.98157, -93.67795 ...   1689892      IA169   \n13  MULTIPOLYGON (((-93.66948 41.98285, -93.66927 ...   1689902      IA169   \n14  MULTIPOLYGON (((-93.67110 41.98180, -93.67123 ...   1694527      IA169   \n15  MULTIPOLYGON (((-93.67532 41.98064, -93.67548 ...   1694530      IA169   \n16  MULTIPOLYGON (((-93.67501 41.98007, -93.67511 ...   1694874      IA169   \n17  MULTIPOLYGON (((-93.67058 41.97988, -93.67064 ...   1694884      IA169   \n18  MULTIPOLYGON (((-93.67603 41.98124, -93.67624 ...   1694915      IA169   \n\n    spatialver  musym    mukey  shape_length     shape_area  _count  \\\n0          9.0   L107  2835021   4532.587964   17372.778909  1027.0   \n1          9.0    L95  2835194    427.132962    9608.816987   617.0   \n2          9.0  L138B  2765537   5151.993709   51175.383764  3105.0   \n3          9.0      6   411333    370.991947     422.984319    39.0   \n4          9.0   L107  2835021   3939.586786    3689.868249   226.0   \n5          9.0  L138B  2765537    550.387774   11041.134105   642.0   \n6          9.0  L138B  2765537   1300.434886    5963.292117   365.0   \n7          9.0   L507  2922031  42460.177496  131704.052460  7975.0   \n8          9.0    L55  2800480    922.446488    6182.684343   663.0   \n9          9.0    L55  2800480    524.713926    6250.414950   365.0   \n10         9.0    L55  2800480    781.549547    3737.180071   230.0   \n11         9.0    L55  2800480    586.205403    3210.474913   177.0   \n12         9.0    L55  2800480   1264.460711    3953.234576   334.0   \n13         9.0    L55  2800480    347.233677    7757.955881   461.0   \n14         9.0    L95  2835194    664.745938   16396.573543   701.0   \n15         9.0    L95  2835194    680.335861   14733.092212   733.0   \n16         9.0    L55  2800480    367.827886    6493.865639   359.0   \n17         9.0    L55  2800480    422.125769    9009.051049   484.0   \n18         9.0    L55  2800480    334.378569    6378.716829   333.0   \n\n            _sum       _mean     _median     _stdev        _min        _max  \\\n0   1.876259e+05  182.693177  186.720093  26.237834   66.781502  245.805603   \n1   1.001452e+05  162.309815  175.093201  55.368015   40.117100  273.226410   \n2   6.888473e+05  221.850985  223.410599  31.126392   66.104897  348.802002   \n3   5.831197e+03  149.517880  157.001404  20.448641  102.758202  179.421295   \n4   3.998885e+04  176.941802  187.816048  48.116209   42.994301  337.525299   \n5   1.279321e+05  199.271186  201.629395  30.809508   82.115501  282.751801   \n6   7.641316e+04  209.351127  210.781097  32.295120   69.628998  336.448303   \n7   1.570600e+06  196.940452  203.940308  44.503792   40.268799  346.724609   \n8   1.145793e+05  172.819454  182.495895  42.923843   40.689999  311.745087   \n9   5.170339e+04  141.653134  141.478699  43.498758   53.092400  226.033203   \n10  4.931988e+04  214.434256  211.061897  30.653533  146.779099  325.676697   \n11  3.150890e+04  178.016366  177.343704  28.572569   73.173798  278.349915   \n12  6.734640e+04  201.635929  208.489052  54.233565   40.766300  308.498505   \n13  1.021007e+05  221.476569  226.560394  36.287657   85.121696  343.237000   \n14  1.234265e+05  176.072105  183.030502  44.554332   41.917702  284.057404   \n15  1.396360e+05  190.499258  194.564102  43.386314   40.748402  312.688293   \n16  7.587909e+04  211.362374  228.815002  43.536147   66.295799  271.796387   \n17  9.551056e+04  197.335860  203.335999  41.151690   40.177399  347.350891   \n18  7.325874e+04  219.996218  223.655899  30.538035   47.118301  330.420197   \n\n           min         max        mean  count  \n0    66.781502  245.805603  182.693190   1027  \n1    40.117100  273.226410  162.309816    617  \n2    66.104897  348.802002  221.850986   3105  \n3   102.758202  179.421295  149.517879     39  \n4    42.994301  337.525299  176.941787    226  \n5    82.115501  282.751801  199.271174    642  \n6    69.628998  336.448303  209.351113    365  \n7    40.268799  346.724609  196.940470   7975  \n8    40.689999  311.745087  172.819452    663  \n9    53.092400  226.033203  141.653136    365  \n10  146.779099  325.676697  214.434256    230  \n11   73.173798  278.349915  178.016364    177  \n12   40.766300  308.498505  201.635923    334  \n13   85.121696  343.237000  221.476579    461  \n14   41.917702  284.057404  176.072107    701  \n15   40.748402  312.688293  190.499233    733  \n16   66.295799  271.796387  211.362378    359  \n17   40.177399  347.350891  197.335857    484  \n18   47.118301  330.420197  219.996199    333  ",
      "text/html": "<div>\n<style scoped>\n    .dataframe tbody tr th:only-of-type {\n        vertical-align: middle;\n    }\n\n    .dataframe tbody tr th {\n        vertical-align: top;\n    }\n\n    .dataframe thead th {\n        text-align: right;\n    }\n</style>\n<table border=\"1\" class=\"dataframe\">\n  <thead>\n    <tr style=\"text-align: right;\">\n      <th></th>\n      <th>geometry</th>\n      <th>objectid</th>\n      <th>areasymbol</th>\n      <th>spatialver</th>\n      <th>musym</th>\n      <th>mukey</th>\n      <th>shape_length</th>\n      <th>shape_area</th>\n      <th>_count</th>\n      <th>_sum</th>\n      <th>_mean</th>\n      <th>_median</th>\n      <th>_stdev</th>\n      <th>_min</th>\n      <th>_max</th>\n      <th>min</th>\n      <th>max</th>\n      <th>mean</th>\n      <th>count</th>\n    </tr>\n  </thead>\n  <tbody>\n    <tr>\n      <th>0</th>\n      <td>MULTIPOLYGON (((-93.67114 41.97944, -93.67177 ...</td>\n      <td>1670419</td>\n      <td>IA169</td>\n      <td>9.0</td>\n      <td>L107</td>\n      <td>2835021</td>\n      <td>4532.587964</td>\n      <td>17372.778909</td>\n      <td>1027.0</td>\n      <td>1.876259e+05</td>\n      <td>182.693177</td>\n      <td>186.720093</td>\n      <td>26.237834</td>\n      <td>66.781502</td>\n      <td>245.805603</td>\n      <td>66.781502</td>\n      <td>245.805603</td>\n      <td>182.693190</td>\n      <td>1027</td>\n    </tr>\n    <tr>\n      <th>1</th>\n      <td>MULTIPOLYGON (((-93.67638 41.98140, -93.67645 ...</td>\n      <td>1699584</td>\n      <td>IA169</td>\n      <td>9.0</td>\n      <td>L95</td>\n      <td>2835194</td>\n      <td>427.132962</td>\n      <td>9608.816987</td>\n      <td>617.0</td>\n      <td>1.001452e+05</td>\n      <td>162.309815</td>\n      <td>175.093201</td>\n      <td>55.368015</td>\n      <td>40.117100</td>\n      <td>273.226410</td>\n      <td>40.117100</td>\n      <td>273.226410</td>\n      <td>162.309816</td>\n      <td>617</td>\n    </tr>\n    <tr>\n      <th>2</th>\n      <td>MULTIPOLYGON (((-93.66838 41.98085, -93.66838 ...</td>\n      <td>1673500</td>\n      <td>IA169</td>\n      <td>9.0</td>\n      <td>L138B</td>\n      <td>2765537</td>\n      <td>5151.993709</td>\n      <td>51175.383764</td>\n      <td>3105.0</td>\n      <td>6.888473e+05</td>\n      <td>221.850985</td>\n      <td>223.410599</td>\n      <td>31.126392</td>\n      <td>66.104897</td>\n      <td>348.802002</td>\n      <td>66.104897</td>\n      <td>348.802002</td>\n      <td>221.850986</td>\n      <td>3105</td>\n    </tr>\n    <tr>\n      <th>3</th>\n      <td>MULTIPOLYGON (((-93.67787 41.97963, -93.67787 ...</td>\n      <td>1674524</td>\n      <td>IA169</td>\n      <td>9.0</td>\n      <td>6</td>\n      <td>411333</td>\n      <td>370.991947</td>\n      <td>422.984319</td>\n      <td>39.0</td>\n      <td>5.831197e+03</td>\n      <td>149.517880</td>\n      <td>157.001404</td>\n      <td>20.448641</td>\n      <td>102.758202</td>\n      <td>179.421295</td>\n      <td>102.758202</td>\n      <td>179.421295</td>\n      <td>149.517879</td>\n      <td>39</td>\n    </tr>\n    <tr>\n      <th>4</th>\n      <td>MULTIPOLYGON (((-93.66838 41.97973, -93.66838 ...</td>\n      <td>1675300</td>\n      <td>IA169</td>\n      <td>9.0</td>\n      <td>L107</td>\n      <td>2835021</td>\n      <td>3939.586786</td>\n      <td>3689.868249</td>\n      <td>226.0</td>\n      <td>3.998885e+04</td>\n      <td>176.941802</td>\n      <td>187.816048</td>\n      <td>48.116209</td>\n      <td>42.994301</td>\n      <td>337.525299</td>\n      <td>42.994301</td>\n      <td>337.525299</td>\n      <td>176.941787</td>\n      <td>226</td>\n    </tr>\n    <tr>\n      <th>5</th>\n      <td>MULTIPOLYGON (((-93.67577 41.98026, -93.67571 ...</td>\n      <td>1679582</td>\n      <td>IA169</td>\n      <td>9.0</td>\n      <td>L138B</td>\n      <td>2765537</td>\n      <td>550.387774</td>\n      <td>11041.134105</td>\n      <td>642.0</td>\n      <td>1.279321e+05</td>\n      <td>199.271186</td>\n      <td>201.629395</td>\n      <td>30.809508</td>\n      <td>82.115501</td>\n      <td>282.751801</td>\n      <td>82.115501</td>\n      <td>282.751801</td>\n      <td>199.271174</td>\n      <td>642</td>\n    </tr>\n    <tr>\n      <th>6</th>\n      <td>MULTIPOLYGON (((-93.67305 41.98305, -93.67261 ...</td>\n      <td>1679975</td>\n      <td>IA169</td>\n      <td>9.0</td>\n      <td>L138B</td>\n      <td>2765537</td>\n      <td>1300.434886</td>\n      <td>5963.292117</td>\n      <td>365.0</td>\n      <td>7.641316e+04</td>\n      <td>209.351127</td>\n      <td>210.781097</td>\n      <td>32.295120</td>\n      <td>69.628998</td>\n      <td>336.448303</td>\n      <td>69.628998</td>\n      <td>336.448303</td>\n      <td>209.351113</td>\n      <td>365</td>\n    </tr>\n    <tr>\n      <th>7</th>\n      <td>MULTIPOLYGON (((-93.67784 41.97951, -93.67786 ...</td>\n      <td>1689022</td>\n      <td>IA169</td>\n      <td>9.0</td>\n      <td>L507</td>\n      <td>2922031</td>\n      <td>42460.177496</td>\n      <td>131704.052460</td>\n      <td>7975.0</td>\n      <td>1.570600e+06</td>\n      <td>196.940452</td>\n      <td>203.940308</td>\n      <td>44.503792</td>\n      <td>40.268799</td>\n      <td>346.724609</td>\n      <td>40.268799</td>\n      <td>346.724609</td>\n      <td>196.940470</td>\n      <td>7975</td>\n    </tr>\n    <tr>\n      <th>8</th>\n      <td>MULTIPOLYGON (((-93.66842 41.98255, -93.66840 ...</td>\n      <td>1689289</td>\n      <td>IA169</td>\n      <td>9.0</td>\n      <td>L55</td>\n      <td>2800480</td>\n      <td>922.446488</td>\n      <td>6182.684343</td>\n      <td>663.0</td>\n      <td>1.145793e+05</td>\n      <td>172.819454</td>\n      <td>182.495895</td>\n      <td>42.923843</td>\n      <td>40.689999</td>\n      <td>311.745087</td>\n      <td>40.689999</td>\n      <td>311.745087</td>\n      <td>172.819452</td>\n      <td>663</td>\n    </tr>\n    <tr>\n      <th>9</th>\n      <td>MULTIPOLYGON (((-93.67227 41.97944, -93.67241 ...</td>\n      <td>1689439</td>\n      <td>IA169</td>\n      <td>9.0</td>\n      <td>L55</td>\n      <td>2800480</td>\n      <td>524.713926</td>\n      <td>6250.414950</td>\n      <td>365.0</td>\n      <td>5.170339e+04</td>\n      <td>141.653134</td>\n      <td>141.478699</td>\n      <td>43.498758</td>\n      <td>53.092400</td>\n      <td>226.033203</td>\n      <td>53.092400</td>\n      <td>226.033203</td>\n      <td>141.653136</td>\n      <td>365</td>\n    </tr>\n    <tr>\n      <th>10</th>\n      <td>MULTIPOLYGON (((-93.67463 41.98305, -93.67452 ...</td>\n      <td>1689585</td>\n      <td>IA169</td>\n      <td>9.0</td>\n      <td>L55</td>\n      <td>2800480</td>\n      <td>781.549547</td>\n      <td>3737.180071</td>\n      <td>230.0</td>\n      <td>4.931988e+04</td>\n      <td>214.434256</td>\n      <td>211.061897</td>\n      <td>30.653533</td>\n      <td>146.779099</td>\n      <td>325.676697</td>\n      <td>146.779099</td>\n      <td>325.676697</td>\n      <td>214.434256</td>\n      <td>230</td>\n    </tr>\n    <tr>\n      <th>11</th>\n      <td>MULTIPOLYGON (((-93.67554 41.97946, -93.67676 ...</td>\n      <td>1689765</td>\n      <td>IA169</td>\n      <td>9.0</td>\n      <td>L55</td>\n      <td>2800480</td>\n      <td>586.205403</td>\n      <td>3210.474913</td>\n      <td>177.0</td>\n      <td>3.150890e+04</td>\n      <td>178.016366</td>\n      <td>177.343704</td>\n      <td>28.572569</td>\n      <td>73.173798</td>\n      <td>278.349915</td>\n      <td>73.173798</td>\n      <td>278.349915</td>\n      <td>178.016364</td>\n      <td>177</td>\n    </tr>\n    <tr>\n      <th>12</th>\n      <td>MULTIPOLYGON (((-93.67793 41.98157, -93.67795 ...</td>\n      <td>1689892</td>\n      <td>IA169</td>\n      <td>9.0</td>\n      <td>L55</td>\n      <td>2800480</td>\n      <td>1264.460711</td>\n      <td>3953.234576</td>\n      <td>334.0</td>\n      <td>6.734640e+04</td>\n      <td>201.635929</td>\n      <td>208.489052</td>\n      <td>54.233565</td>\n      <td>40.766300</td>\n      <td>308.498505</td>\n      <td>40.766300</td>\n      <td>308.498505</td>\n      <td>201.635923</td>\n      <td>334</td>\n    </tr>\n    <tr>\n      <th>13</th>\n      <td>MULTIPOLYGON (((-93.66948 41.98285, -93.66927 ...</td>\n      <td>1689902</td>\n      <td>IA169</td>\n      <td>9.0</td>\n      <td>L55</td>\n      <td>2800480</td>\n      <td>347.233677</td>\n      <td>7757.955881</td>\n      <td>461.0</td>\n      <td>1.021007e+05</td>\n      <td>221.476569</td>\n      <td>226.560394</td>\n      <td>36.287657</td>\n      <td>85.121696</td>\n      <td>343.237000</td>\n      <td>85.121696</td>\n      <td>343.237000</td>\n      <td>221.476579</td>\n      <td>461</td>\n    </tr>\n    <tr>\n      <th>14</th>\n      <td>MULTIPOLYGON (((-93.67110 41.98180, -93.67123 ...</td>\n      <td>1694527</td>\n      <td>IA169</td>\n      <td>9.0</td>\n      <td>L95</td>\n      <td>2835194</td>\n      <td>664.745938</td>\n      <td>16396.573543</td>\n      <td>701.0</td>\n      <td>1.234265e+05</td>\n      <td>176.072105</td>\n      <td>183.030502</td>\n      <td>44.554332</td>\n      <td>41.917702</td>\n      <td>284.057404</td>\n      <td>41.917702</td>\n      <td>284.057404</td>\n      <td>176.072107</td>\n      <td>701</td>\n    </tr>\n    <tr>\n      <th>15</th>\n      <td>MULTIPOLYGON (((-93.67532 41.98064, -93.67548 ...</td>\n      <td>1694530</td>\n      <td>IA169</td>\n      <td>9.0</td>\n      <td>L95</td>\n      <td>2835194</td>\n      <td>680.335861</td>\n      <td>14733.092212</td>\n      <td>733.0</td>\n      <td>1.396360e+05</td>\n      <td>190.499258</td>\n      <td>194.564102</td>\n      <td>43.386314</td>\n      <td>40.748402</td>\n      <td>312.688293</td>\n      <td>40.748402</td>\n      <td>312.688293</td>\n      <td>190.499233</td>\n      <td>733</td>\n    </tr>\n    <tr>\n      <th>16</th>\n      <td>MULTIPOLYGON (((-93.67501 41.98007, -93.67511 ...</td>\n      <td>1694874</td>\n      <td>IA169</td>\n      <td>9.0</td>\n      <td>L55</td>\n      <td>2800480</td>\n      <td>367.827886</td>\n      <td>6493.865639</td>\n      <td>359.0</td>\n      <td>7.587909e+04</td>\n      <td>211.362374</td>\n      <td>228.815002</td>\n      <td>43.536147</td>\n      <td>66.295799</td>\n      <td>271.796387</td>\n      <td>66.295799</td>\n      <td>271.796387</td>\n      <td>211.362378</td>\n      <td>359</td>\n    </tr>\n    <tr>\n      <th>17</th>\n      <td>MULTIPOLYGON (((-93.67058 41.97988, -93.67064 ...</td>\n      <td>1694884</td>\n      <td>IA169</td>\n      <td>9.0</td>\n      <td>L55</td>\n      <td>2800480</td>\n      <td>422.125769</td>\n      <td>9009.051049</td>\n      <td>484.0</td>\n      <td>9.551056e+04</td>\n      <td>197.335860</td>\n      <td>203.335999</td>\n      <td>41.151690</td>\n      <td>40.177399</td>\n      <td>347.350891</td>\n      <td>40.177399</td>\n      <td>347.350891</td>\n      <td>197.335857</td>\n      <td>484</td>\n    </tr>\n    <tr>\n      <th>18</th>\n      <td>MULTIPOLYGON (((-93.67603 41.98124, -93.67624 ...</td>\n      <td>1694915</td>\n      <td>IA169</td>\n      <td>9.0</td>\n      <td>L55</td>\n      <td>2800480</td>\n      <td>334.378569</td>\n      <td>6378.716829</td>\n      <td>333.0</td>\n      <td>7.325874e+04</td>\n      <td>219.996218</td>\n      <td>223.655899</td>\n      <td>30.538035</td>\n      <td>47.118301</td>\n      <td>330.420197</td>\n      <td>47.118301</td>\n      <td>330.420197</td>\n      <td>219.996199</td>\n      <td>333</td>\n    </tr>\n  </tbody>\n</table>\n</div>"
     },
     "metadata": {},
     "execution_count": 31
    }
   ],
   "source": [
    "accola_maize_2019 = gpd.GeoDataFrame.from_features(stats)\n",
    "accola_maize_2019"
   ]
  },
  {
   "cell_type": "code",
   "execution_count": 39,
   "metadata": {},
   "outputs": [
    {
     "output_type": "execute_result",
     "data": {
      "text/plain": "    objectid    mukey        mean\n2    1673500  2765537  221.850986\n5    1679582  2765537  199.271174\n6    1679975  2765537  209.351113\n9    1689439  2800480  141.653136\n16   1694874  2800480  211.362378\n13   1689902  2800480  221.476579\n12   1689892  2800480  201.635923\n11   1689765  2800480  178.016364\n10   1689585  2800480  214.434256\n18   1694915  2800480  219.996199\n8    1689289  2800480  172.819452\n17   1694884  2800480  197.335857\n4    1675300  2835021  176.941787\n0    1670419  2835021  182.693190\n14   1694527  2835194  176.072107\n15   1694530  2835194  190.499233\n1    1699584  2835194  162.309816\n7    1689022  2922031  196.940470\n3    1674524   411333  149.517879",
      "text/html": "<div>\n<style scoped>\n    .dataframe tbody tr th:only-of-type {\n        vertical-align: middle;\n    }\n\n    .dataframe tbody tr th {\n        vertical-align: top;\n    }\n\n    .dataframe thead th {\n        text-align: right;\n    }\n</style>\n<table border=\"1\" class=\"dataframe\">\n  <thead>\n    <tr style=\"text-align: right;\">\n      <th></th>\n      <th>objectid</th>\n      <th>mukey</th>\n      <th>mean</th>\n    </tr>\n  </thead>\n  <tbody>\n    <tr>\n      <th>2</th>\n      <td>1673500</td>\n      <td>2765537</td>\n      <td>221.850986</td>\n    </tr>\n    <tr>\n      <th>5</th>\n      <td>1679582</td>\n      <td>2765537</td>\n      <td>199.271174</td>\n    </tr>\n    <tr>\n      <th>6</th>\n      <td>1679975</td>\n      <td>2765537</td>\n      <td>209.351113</td>\n    </tr>\n    <tr>\n      <th>9</th>\n      <td>1689439</td>\n      <td>2800480</td>\n      <td>141.653136</td>\n    </tr>\n    <tr>\n      <th>16</th>\n      <td>1694874</td>\n      <td>2800480</td>\n      <td>211.362378</td>\n    </tr>\n    <tr>\n      <th>13</th>\n      <td>1689902</td>\n      <td>2800480</td>\n      <td>221.476579</td>\n    </tr>\n    <tr>\n      <th>12</th>\n      <td>1689892</td>\n      <td>2800480</td>\n      <td>201.635923</td>\n    </tr>\n    <tr>\n      <th>11</th>\n      <td>1689765</td>\n      <td>2800480</td>\n      <td>178.016364</td>\n    </tr>\n    <tr>\n      <th>10</th>\n      <td>1689585</td>\n      <td>2800480</td>\n      <td>214.434256</td>\n    </tr>\n    <tr>\n      <th>18</th>\n      <td>1694915</td>\n      <td>2800480</td>\n      <td>219.996199</td>\n    </tr>\n    <tr>\n      <th>8</th>\n      <td>1689289</td>\n      <td>2800480</td>\n      <td>172.819452</td>\n    </tr>\n    <tr>\n      <th>17</th>\n      <td>1694884</td>\n      <td>2800480</td>\n      <td>197.335857</td>\n    </tr>\n    <tr>\n      <th>4</th>\n      <td>1675300</td>\n      <td>2835021</td>\n      <td>176.941787</td>\n    </tr>\n    <tr>\n      <th>0</th>\n      <td>1670419</td>\n      <td>2835021</td>\n      <td>182.693190</td>\n    </tr>\n    <tr>\n      <th>14</th>\n      <td>1694527</td>\n      <td>2835194</td>\n      <td>176.072107</td>\n    </tr>\n    <tr>\n      <th>15</th>\n      <td>1694530</td>\n      <td>2835194</td>\n      <td>190.499233</td>\n    </tr>\n    <tr>\n      <th>1</th>\n      <td>1699584</td>\n      <td>2835194</td>\n      <td>162.309816</td>\n    </tr>\n    <tr>\n      <th>7</th>\n      <td>1689022</td>\n      <td>2922031</td>\n      <td>196.940470</td>\n    </tr>\n    <tr>\n      <th>3</th>\n      <td>1674524</td>\n      <td>411333</td>\n      <td>149.517879</td>\n    </tr>\n  </tbody>\n</table>\n</div>"
     },
     "metadata": {},
     "execution_count": 39
    }
   ],
   "source": [
    "accola_maize_2019 = accola_maize_2019[['objectid', 'mukey', 'mean']]\n",
    "accola_maize_2019.sort_values('mukey')"
   ]
  },
  {
   "cell_type": "code",
   "execution_count": 55,
   "metadata": {},
   "outputs": [],
   "source": [
    "pred_vs_obs = accola_maize_2019.merge(accola_apsim_yield_2019, on='mukey', how='left')\n",
    "pred_vs_obs.columns = ['objectid', 'mukey', 'observed', 'predicted']\n",
    "#pred_vs_obs.sort_values('mukey')"
   ]
  },
  {
   "cell_type": "code",
   "execution_count": 62,
   "metadata": {},
   "outputs": [
    {
     "output_type": "execute_result",
     "data": {
      "text/plain": "    objectid    mukey    observed  predicted\n0    1670419  2835021  182.693190  169.84242\n1    1699584  2835194  162.309816  195.34778\n2    1673500  2765537  221.850986  165.43703\n3    1674524   411333  149.517879  151.28084\n4    1675300  2835021  176.941787  169.84242\n5    1679582  2765537  199.271174  165.43703\n6    1679975  2765537  209.351113  165.43703\n7    1689022  2922031  196.940470  164.70740\n8    1689289  2800480  172.819452  147.96298\n9    1689439  2800480  141.653136  147.96298\n10   1689585  2800480  214.434256  147.96298\n11   1689765  2800480  178.016364  147.96298\n12   1689892  2800480  201.635923  147.96298\n13   1689902  2800480  221.476579  147.96298\n14   1694527  2835194  176.072107  195.34778\n15   1694530  2835194  190.499233  195.34778\n16   1694874  2800480  211.362378  147.96298\n17   1694884  2800480  197.335857  147.96298\n18   1694915  2800480  219.996199  147.96298",
      "text/html": "<div>\n<style scoped>\n    .dataframe tbody tr th:only-of-type {\n        vertical-align: middle;\n    }\n\n    .dataframe tbody tr th {\n        vertical-align: top;\n    }\n\n    .dataframe thead th {\n        text-align: right;\n    }\n</style>\n<table border=\"1\" class=\"dataframe\">\n  <thead>\n    <tr style=\"text-align: right;\">\n      <th></th>\n      <th>objectid</th>\n      <th>mukey</th>\n      <th>observed</th>\n      <th>predicted</th>\n    </tr>\n  </thead>\n  <tbody>\n    <tr>\n      <th>0</th>\n      <td>1670419</td>\n      <td>2835021</td>\n      <td>182.693190</td>\n      <td>169.84242</td>\n    </tr>\n    <tr>\n      <th>1</th>\n      <td>1699584</td>\n      <td>2835194</td>\n      <td>162.309816</td>\n      <td>195.34778</td>\n    </tr>\n    <tr>\n      <th>2</th>\n      <td>1673500</td>\n      <td>2765537</td>\n      <td>221.850986</td>\n      <td>165.43703</td>\n    </tr>\n    <tr>\n      <th>3</th>\n      <td>1674524</td>\n      <td>411333</td>\n      <td>149.517879</td>\n      <td>151.28084</td>\n    </tr>\n    <tr>\n      <th>4</th>\n      <td>1675300</td>\n      <td>2835021</td>\n      <td>176.941787</td>\n      <td>169.84242</td>\n    </tr>\n    <tr>\n      <th>5</th>\n      <td>1679582</td>\n      <td>2765537</td>\n      <td>199.271174</td>\n      <td>165.43703</td>\n    </tr>\n    <tr>\n      <th>6</th>\n      <td>1679975</td>\n      <td>2765537</td>\n      <td>209.351113</td>\n      <td>165.43703</td>\n    </tr>\n    <tr>\n      <th>7</th>\n      <td>1689022</td>\n      <td>2922031</td>\n      <td>196.940470</td>\n      <td>164.70740</td>\n    </tr>\n    <tr>\n      <th>8</th>\n      <td>1689289</td>\n      <td>2800480</td>\n      <td>172.819452</td>\n      <td>147.96298</td>\n    </tr>\n    <tr>\n      <th>9</th>\n      <td>1689439</td>\n      <td>2800480</td>\n      <td>141.653136</td>\n      <td>147.96298</td>\n    </tr>\n    <tr>\n      <th>10</th>\n      <td>1689585</td>\n      <td>2800480</td>\n      <td>214.434256</td>\n      <td>147.96298</td>\n    </tr>\n    <tr>\n      <th>11</th>\n      <td>1689765</td>\n      <td>2800480</td>\n      <td>178.016364</td>\n      <td>147.96298</td>\n    </tr>\n    <tr>\n      <th>12</th>\n      <td>1689892</td>\n      <td>2800480</td>\n      <td>201.635923</td>\n      <td>147.96298</td>\n    </tr>\n    <tr>\n      <th>13</th>\n      <td>1689902</td>\n      <td>2800480</td>\n      <td>221.476579</td>\n      <td>147.96298</td>\n    </tr>\n    <tr>\n      <th>14</th>\n      <td>1694527</td>\n      <td>2835194</td>\n      <td>176.072107</td>\n      <td>195.34778</td>\n    </tr>\n    <tr>\n      <th>15</th>\n      <td>1694530</td>\n      <td>2835194</td>\n      <td>190.499233</td>\n      <td>195.34778</td>\n    </tr>\n    <tr>\n      <th>16</th>\n      <td>1694874</td>\n      <td>2800480</td>\n      <td>211.362378</td>\n      <td>147.96298</td>\n    </tr>\n    <tr>\n      <th>17</th>\n      <td>1694884</td>\n      <td>2800480</td>\n      <td>197.335857</td>\n      <td>147.96298</td>\n    </tr>\n    <tr>\n      <th>18</th>\n      <td>1694915</td>\n      <td>2800480</td>\n      <td>219.996199</td>\n      <td>147.96298</td>\n    </tr>\n  </tbody>\n</table>\n</div>"
     },
     "metadata": {},
     "execution_count": 62
    }
   ],
   "source": [
    "pred_vs_obs"
   ]
  },
  {
   "cell_type": "code",
   "execution_count": 56,
   "metadata": {},
   "outputs": [],
   "source": [
    "yield_monitor = tuple(pred_vs_obs['observed'])\n",
    "apsim_predicted = tuple(pred_vs_obs['predicted'])"
   ]
  },
  {
   "cell_type": "code",
   "execution_count": 67,
   "metadata": {},
   "outputs": [
    {
     "output_type": "display_data",
     "data": {
      "text/plain": "<Figure size 432x288 with 1 Axes>",
      "image/svg+xml": "<?xml version=\"1.0\" encoding=\"utf-8\" standalone=\"no\"?>\r\n<!DOCTYPE svg PUBLIC \"-//W3C//DTD SVG 1.1//EN\"\r\n  \"http://www.w3.org/Graphics/SVG/1.1/DTD/svg11.dtd\">\r\n<!-- Created with matplotlib (https://matplotlib.org/) -->\r\n<svg height=\"262.19625pt\" version=\"1.1\" viewBox=\"0 0 388.965625 262.19625\" width=\"388.965625pt\" xmlns=\"http://www.w3.org/2000/svg\" xmlns:xlink=\"http://www.w3.org/1999/xlink\">\r\n <defs>\r\n  <style type=\"text/css\">\r\n*{stroke-linecap:butt;stroke-linejoin:round;}\r\n  </style>\r\n </defs>\r\n <g id=\"figure_1\">\r\n  <g id=\"patch_1\">\r\n   <path d=\"M 0 262.19625 \r\nL 388.965625 262.19625 \r\nL 388.965625 0 \r\nL 0 0 \r\nz\r\n\" style=\"fill:none;\"/>\r\n  </g>\r\n  <g id=\"axes_1\">\r\n   <g id=\"patch_2\">\r\n    <path d=\"M 46.965625 224.64 \r\nL 381.765625 224.64 \r\nL 381.765625 7.2 \r\nL 46.965625 7.2 \r\nz\r\n\" style=\"fill:#ffffff;\"/>\r\n   </g>\r\n   <g id=\"PathCollection_1\">\r\n    <defs>\r\n     <path d=\"M 0 3 \r\nC 0.795609 3 1.55874 2.683901 2.12132 2.12132 \r\nC 2.683901 1.55874 3 0.795609 3 0 \r\nC 3 -0.795609 2.683901 -1.55874 2.12132 -2.12132 \r\nC 1.55874 -2.683901 0.795609 -3 0 -3 \r\nC -0.795609 -3 -1.55874 -2.683901 -2.12132 -2.12132 \r\nC -2.683901 -1.55874 -3 -0.795609 -3 0 \r\nC -3 0.795609 -2.683901 1.55874 -2.12132 2.12132 \r\nC -1.55874 2.683901 -0.795609 3 0 3 \r\nz\r\n\" id=\"m79b8b8c273\" style=\"stroke:#1f77b4;\"/>\r\n    </defs>\r\n    <g clip-path=\"url(#pf71a24f479)\">\r\n     <use style=\"fill:#1f77b4;stroke:#1f77b4;\" x=\"229.975807\" xlink:href=\"#m79b8b8c273\" y=\"122.716753\"/>\r\n     <use style=\"fill:#1f77b4;stroke:#1f77b4;\" x=\"188.616087\" xlink:href=\"#m79b8b8c273\" y=\"89.105326\"/>\r\n     <use style=\"fill:#1f77b4;stroke:#1f77b4;\" x=\"309.430535\" xlink:href=\"#m79b8b8c273\" y=\"128.522256\"/>\r\n     <use style=\"fill:#1f77b4;stroke:#1f77b4;\" x=\"162.660084\" xlink:href=\"#m79b8b8c273\" y=\"147.17754\"/>\r\n     <use style=\"fill:#1f77b4;stroke:#1f77b4;\" x=\"218.305686\" xlink:href=\"#m79b8b8c273\" y=\"122.716753\"/>\r\n     <use style=\"fill:#1f77b4;stroke:#1f77b4;\" x=\"263.614044\" xlink:href=\"#m79b8b8c273\" y=\"128.522256\"/>\r\n     <use style=\"fill:#1f77b4;stroke:#1f77b4;\" x=\"284.067156\" xlink:href=\"#m79b8b8c273\" y=\"128.522256\"/>\r\n     <use style=\"fill:#1f77b4;stroke:#1f77b4;\" x=\"258.884834\" xlink:href=\"#m79b8b8c273\" y=\"129.483775\"/>\r\n     <use style=\"fill:#1f77b4;stroke:#1f77b4;\" x=\"209.941095\" xlink:href=\"#m79b8b8c273\" y=\"151.549877\"/>\r\n     <use style=\"fill:#1f77b4;stroke:#1f77b4;\" x=\"146.701806\" xlink:href=\"#m79b8b8c273\" y=\"151.549877\"/>\r\n     <use style=\"fill:#1f77b4;stroke:#1f77b4;\" x=\"294.381316\" xlink:href=\"#m79b8b8c273\" y=\"151.549877\"/>\r\n     <use style=\"fill:#1f77b4;stroke:#1f77b4;\" x=\"220.486102\" xlink:href=\"#m79b8b8c273\" y=\"151.549877\"/>\r\n     <use style=\"fill:#1f77b4;stroke:#1f77b4;\" x=\"268.412335\" xlink:href=\"#m79b8b8c273\" y=\"151.549877\"/>\r\n     <use style=\"fill:#1f77b4;stroke:#1f77b4;\" x=\"308.67083\" xlink:href=\"#m79b8b8c273\" y=\"151.549877\"/>\r\n     <use style=\"fill:#1f77b4;stroke:#1f77b4;\" x=\"216.541027\" xlink:href=\"#m79b8b8c273\" y=\"89.105326\"/>\r\n     <use style=\"fill:#1f77b4;stroke:#1f77b4;\" x=\"245.814977\" xlink:href=\"#m79b8b8c273\" y=\"89.105326\"/>\r\n     <use style=\"fill:#1f77b4;stroke:#1f77b4;\" x=\"288.148196\" xlink:href=\"#m79b8b8c273\" y=\"151.549877\"/>\r\n     <use style=\"fill:#1f77b4;stroke:#1f77b4;\" x=\"259.687109\" xlink:href=\"#m79b8b8c273\" y=\"151.549877\"/>\r\n     <use style=\"fill:#1f77b4;stroke:#1f77b4;\" x=\"305.667004\" xlink:href=\"#m79b8b8c273\" y=\"151.549877\"/>\r\n    </g>\r\n   </g>\r\n   <g id=\"matplotlib.axis_1\">\r\n    <g id=\"xtick_1\">\r\n     <g id=\"line2d_1\">\r\n      <defs>\r\n       <path d=\"M 0 0 \r\nL 0 3.5 \r\n\" id=\"mdc851d32fd\" style=\"stroke:#000000;stroke-width:0.8;\"/>\r\n      </defs>\r\n      <g>\r\n       <use style=\"stroke:#000000;stroke-width:0.8;\" x=\"62.183807\" xlink:href=\"#mdc851d32fd\" y=\"224.64\"/>\r\n      </g>\r\n     </g>\r\n     <g id=\"text_1\">\r\n      <!-- 100 -->\r\n      <defs>\r\n       <path d=\"M 12.40625 8.296875 \r\nL 28.515625 8.296875 \r\nL 28.515625 63.921875 \r\nL 10.984375 60.40625 \r\nL 10.984375 69.390625 \r\nL 28.421875 72.90625 \r\nL 38.28125 72.90625 \r\nL 38.28125 8.296875 \r\nL 54.390625 8.296875 \r\nL 54.390625 0 \r\nL 12.40625 0 \r\nz\r\n\" id=\"DejaVuSans-49\"/>\r\n       <path d=\"M 31.78125 66.40625 \r\nQ 24.171875 66.40625 20.328125 58.90625 \r\nQ 16.5 51.421875 16.5 36.375 \r\nQ 16.5 21.390625 20.328125 13.890625 \r\nQ 24.171875 6.390625 31.78125 6.390625 \r\nQ 39.453125 6.390625 43.28125 13.890625 \r\nQ 47.125 21.390625 47.125 36.375 \r\nQ 47.125 51.421875 43.28125 58.90625 \r\nQ 39.453125 66.40625 31.78125 66.40625 \r\nz\r\nM 31.78125 74.21875 \r\nQ 44.046875 74.21875 50.515625 64.515625 \r\nQ 56.984375 54.828125 56.984375 36.375 \r\nQ 56.984375 17.96875 50.515625 8.265625 \r\nQ 44.046875 -1.421875 31.78125 -1.421875 \r\nQ 19.53125 -1.421875 13.0625 8.265625 \r\nQ 6.59375 17.96875 6.59375 36.375 \r\nQ 6.59375 54.828125 13.0625 64.515625 \r\nQ 19.53125 74.21875 31.78125 74.21875 \r\nz\r\n\" id=\"DejaVuSans-48\"/>\r\n      </defs>\r\n      <g transform=\"translate(52.640057 239.238437)scale(0.1 -0.1)\">\r\n       <use xlink:href=\"#DejaVuSans-49\"/>\r\n       <use x=\"63.623047\" xlink:href=\"#DejaVuSans-48\"/>\r\n       <use x=\"127.246094\" xlink:href=\"#DejaVuSans-48\"/>\r\n      </g>\r\n     </g>\r\n    </g>\r\n    <g id=\"xtick_2\">\r\n     <g id=\"line2d_2\">\r\n      <g>\r\n       <use style=\"stroke:#000000;stroke-width:0.8;\" x=\"102.765625\" xlink:href=\"#mdc851d32fd\" y=\"224.64\"/>\r\n      </g>\r\n     </g>\r\n     <g id=\"text_2\">\r\n      <!-- 120 -->\r\n      <defs>\r\n       <path d=\"M 19.1875 8.296875 \r\nL 53.609375 8.296875 \r\nL 53.609375 0 \r\nL 7.328125 0 \r\nL 7.328125 8.296875 \r\nQ 12.9375 14.109375 22.625 23.890625 \r\nQ 32.328125 33.6875 34.8125 36.53125 \r\nQ 39.546875 41.84375 41.421875 45.53125 \r\nQ 43.3125 49.21875 43.3125 52.78125 \r\nQ 43.3125 58.59375 39.234375 62.25 \r\nQ 35.15625 65.921875 28.609375 65.921875 \r\nQ 23.96875 65.921875 18.8125 64.3125 \r\nQ 13.671875 62.703125 7.8125 59.421875 \r\nL 7.8125 69.390625 \r\nQ 13.765625 71.78125 18.9375 73 \r\nQ 24.125 74.21875 28.421875 74.21875 \r\nQ 39.75 74.21875 46.484375 68.546875 \r\nQ 53.21875 62.890625 53.21875 53.421875 \r\nQ 53.21875 48.921875 51.53125 44.890625 \r\nQ 49.859375 40.875 45.40625 35.40625 \r\nQ 44.1875 33.984375 37.640625 27.21875 \r\nQ 31.109375 20.453125 19.1875 8.296875 \r\nz\r\n\" id=\"DejaVuSans-50\"/>\r\n      </defs>\r\n      <g transform=\"translate(93.221875 239.238437)scale(0.1 -0.1)\">\r\n       <use xlink:href=\"#DejaVuSans-49\"/>\r\n       <use x=\"63.623047\" xlink:href=\"#DejaVuSans-50\"/>\r\n       <use x=\"127.246094\" xlink:href=\"#DejaVuSans-48\"/>\r\n      </g>\r\n     </g>\r\n    </g>\r\n    <g id=\"xtick_3\">\r\n     <g id=\"line2d_3\">\r\n      <g>\r\n       <use style=\"stroke:#000000;stroke-width:0.8;\" x=\"143.347443\" xlink:href=\"#mdc851d32fd\" y=\"224.64\"/>\r\n      </g>\r\n     </g>\r\n     <g id=\"text_3\">\r\n      <!-- 140 -->\r\n      <defs>\r\n       <path d=\"M 37.796875 64.3125 \r\nL 12.890625 25.390625 \r\nL 37.796875 25.390625 \r\nz\r\nM 35.203125 72.90625 \r\nL 47.609375 72.90625 \r\nL 47.609375 25.390625 \r\nL 58.015625 25.390625 \r\nL 58.015625 17.1875 \r\nL 47.609375 17.1875 \r\nL 47.609375 0 \r\nL 37.796875 0 \r\nL 37.796875 17.1875 \r\nL 4.890625 17.1875 \r\nL 4.890625 26.703125 \r\nz\r\n\" id=\"DejaVuSans-52\"/>\r\n      </defs>\r\n      <g transform=\"translate(133.803693 239.238437)scale(0.1 -0.1)\">\r\n       <use xlink:href=\"#DejaVuSans-49\"/>\r\n       <use x=\"63.623047\" xlink:href=\"#DejaVuSans-52\"/>\r\n       <use x=\"127.246094\" xlink:href=\"#DejaVuSans-48\"/>\r\n      </g>\r\n     </g>\r\n    </g>\r\n    <g id=\"xtick_4\">\r\n     <g id=\"line2d_4\">\r\n      <g>\r\n       <use style=\"stroke:#000000;stroke-width:0.8;\" x=\"183.929261\" xlink:href=\"#mdc851d32fd\" y=\"224.64\"/>\r\n      </g>\r\n     </g>\r\n     <g id=\"text_4\">\r\n      <!-- 160 -->\r\n      <defs>\r\n       <path d=\"M 33.015625 40.375 \r\nQ 26.375 40.375 22.484375 35.828125 \r\nQ 18.609375 31.296875 18.609375 23.390625 \r\nQ 18.609375 15.53125 22.484375 10.953125 \r\nQ 26.375 6.390625 33.015625 6.390625 \r\nQ 39.65625 6.390625 43.53125 10.953125 \r\nQ 47.40625 15.53125 47.40625 23.390625 \r\nQ 47.40625 31.296875 43.53125 35.828125 \r\nQ 39.65625 40.375 33.015625 40.375 \r\nz\r\nM 52.59375 71.296875 \r\nL 52.59375 62.3125 \r\nQ 48.875 64.0625 45.09375 64.984375 \r\nQ 41.3125 65.921875 37.59375 65.921875 \r\nQ 27.828125 65.921875 22.671875 59.328125 \r\nQ 17.53125 52.734375 16.796875 39.40625 \r\nQ 19.671875 43.65625 24.015625 45.921875 \r\nQ 28.375 48.1875 33.59375 48.1875 \r\nQ 44.578125 48.1875 50.953125 41.515625 \r\nQ 57.328125 34.859375 57.328125 23.390625 \r\nQ 57.328125 12.15625 50.6875 5.359375 \r\nQ 44.046875 -1.421875 33.015625 -1.421875 \r\nQ 20.359375 -1.421875 13.671875 8.265625 \r\nQ 6.984375 17.96875 6.984375 36.375 \r\nQ 6.984375 53.65625 15.1875 63.9375 \r\nQ 23.390625 74.21875 37.203125 74.21875 \r\nQ 40.921875 74.21875 44.703125 73.484375 \r\nQ 48.484375 72.75 52.59375 71.296875 \r\nz\r\n\" id=\"DejaVuSans-54\"/>\r\n      </defs>\r\n      <g transform=\"translate(174.385511 239.238437)scale(0.1 -0.1)\">\r\n       <use xlink:href=\"#DejaVuSans-49\"/>\r\n       <use x=\"63.623047\" xlink:href=\"#DejaVuSans-54\"/>\r\n       <use x=\"127.246094\" xlink:href=\"#DejaVuSans-48\"/>\r\n      </g>\r\n     </g>\r\n    </g>\r\n    <g id=\"xtick_5\">\r\n     <g id=\"line2d_5\">\r\n      <g>\r\n       <use style=\"stroke:#000000;stroke-width:0.8;\" x=\"224.51108\" xlink:href=\"#mdc851d32fd\" y=\"224.64\"/>\r\n      </g>\r\n     </g>\r\n     <g id=\"text_5\">\r\n      <!-- 180 -->\r\n      <defs>\r\n       <path d=\"M 31.78125 34.625 \r\nQ 24.75 34.625 20.71875 30.859375 \r\nQ 16.703125 27.09375 16.703125 20.515625 \r\nQ 16.703125 13.921875 20.71875 10.15625 \r\nQ 24.75 6.390625 31.78125 6.390625 \r\nQ 38.8125 6.390625 42.859375 10.171875 \r\nQ 46.921875 13.96875 46.921875 20.515625 \r\nQ 46.921875 27.09375 42.890625 30.859375 \r\nQ 38.875 34.625 31.78125 34.625 \r\nz\r\nM 21.921875 38.8125 \r\nQ 15.578125 40.375 12.03125 44.71875 \r\nQ 8.5 49.078125 8.5 55.328125 \r\nQ 8.5 64.0625 14.71875 69.140625 \r\nQ 20.953125 74.21875 31.78125 74.21875 \r\nQ 42.671875 74.21875 48.875 69.140625 \r\nQ 55.078125 64.0625 55.078125 55.328125 \r\nQ 55.078125 49.078125 51.53125 44.71875 \r\nQ 48 40.375 41.703125 38.8125 \r\nQ 48.828125 37.15625 52.796875 32.3125 \r\nQ 56.78125 27.484375 56.78125 20.515625 \r\nQ 56.78125 9.90625 50.3125 4.234375 \r\nQ 43.84375 -1.421875 31.78125 -1.421875 \r\nQ 19.734375 -1.421875 13.25 4.234375 \r\nQ 6.78125 9.90625 6.78125 20.515625 \r\nQ 6.78125 27.484375 10.78125 32.3125 \r\nQ 14.796875 37.15625 21.921875 38.8125 \r\nz\r\nM 18.3125 54.390625 \r\nQ 18.3125 48.734375 21.84375 45.5625 \r\nQ 25.390625 42.390625 31.78125 42.390625 \r\nQ 38.140625 42.390625 41.71875 45.5625 \r\nQ 45.3125 48.734375 45.3125 54.390625 \r\nQ 45.3125 60.0625 41.71875 63.234375 \r\nQ 38.140625 66.40625 31.78125 66.40625 \r\nQ 25.390625 66.40625 21.84375 63.234375 \r\nQ 18.3125 60.0625 18.3125 54.390625 \r\nz\r\n\" id=\"DejaVuSans-56\"/>\r\n      </defs>\r\n      <g transform=\"translate(214.96733 239.238437)scale(0.1 -0.1)\">\r\n       <use xlink:href=\"#DejaVuSans-49\"/>\r\n       <use x=\"63.623047\" xlink:href=\"#DejaVuSans-56\"/>\r\n       <use x=\"127.246094\" xlink:href=\"#DejaVuSans-48\"/>\r\n      </g>\r\n     </g>\r\n    </g>\r\n    <g id=\"xtick_6\">\r\n     <g id=\"line2d_6\">\r\n      <g>\r\n       <use style=\"stroke:#000000;stroke-width:0.8;\" x=\"265.092898\" xlink:href=\"#mdc851d32fd\" y=\"224.64\"/>\r\n      </g>\r\n     </g>\r\n     <g id=\"text_6\">\r\n      <!-- 200 -->\r\n      <g transform=\"translate(255.549148 239.238437)scale(0.1 -0.1)\">\r\n       <use xlink:href=\"#DejaVuSans-50\"/>\r\n       <use x=\"63.623047\" xlink:href=\"#DejaVuSans-48\"/>\r\n       <use x=\"127.246094\" xlink:href=\"#DejaVuSans-48\"/>\r\n      </g>\r\n     </g>\r\n    </g>\r\n    <g id=\"xtick_7\">\r\n     <g id=\"line2d_7\">\r\n      <g>\r\n       <use style=\"stroke:#000000;stroke-width:0.8;\" x=\"305.674716\" xlink:href=\"#mdc851d32fd\" y=\"224.64\"/>\r\n      </g>\r\n     </g>\r\n     <g id=\"text_7\">\r\n      <!-- 220 -->\r\n      <g transform=\"translate(296.130966 239.238437)scale(0.1 -0.1)\">\r\n       <use xlink:href=\"#DejaVuSans-50\"/>\r\n       <use x=\"63.623047\" xlink:href=\"#DejaVuSans-50\"/>\r\n       <use x=\"127.246094\" xlink:href=\"#DejaVuSans-48\"/>\r\n      </g>\r\n     </g>\r\n    </g>\r\n    <g id=\"xtick_8\">\r\n     <g id=\"line2d_8\">\r\n      <g>\r\n       <use style=\"stroke:#000000;stroke-width:0.8;\" x=\"346.256534\" xlink:href=\"#mdc851d32fd\" y=\"224.64\"/>\r\n      </g>\r\n     </g>\r\n     <g id=\"text_8\">\r\n      <!-- 240 -->\r\n      <g transform=\"translate(336.712784 239.238437)scale(0.1 -0.1)\">\r\n       <use xlink:href=\"#DejaVuSans-50\"/>\r\n       <use x=\"63.623047\" xlink:href=\"#DejaVuSans-52\"/>\r\n       <use x=\"127.246094\" xlink:href=\"#DejaVuSans-48\"/>\r\n      </g>\r\n     </g>\r\n    </g>\r\n    <g id=\"text_9\">\r\n     <!-- Measured -->\r\n     <defs>\r\n      <path d=\"M 9.8125 72.90625 \r\nL 24.515625 72.90625 \r\nL 43.109375 23.296875 \r\nL 61.8125 72.90625 \r\nL 76.515625 72.90625 \r\nL 76.515625 0 \r\nL 66.890625 0 \r\nL 66.890625 64.015625 \r\nL 48.09375 14.015625 \r\nL 38.1875 14.015625 \r\nL 19.390625 64.015625 \r\nL 19.390625 0 \r\nL 9.8125 0 \r\nz\r\n\" id=\"DejaVuSans-77\"/>\r\n      <path d=\"M 56.203125 29.59375 \r\nL 56.203125 25.203125 \r\nL 14.890625 25.203125 \r\nQ 15.484375 15.921875 20.484375 11.0625 \r\nQ 25.484375 6.203125 34.421875 6.203125 \r\nQ 39.59375 6.203125 44.453125 7.46875 \r\nQ 49.3125 8.734375 54.109375 11.28125 \r\nL 54.109375 2.78125 \r\nQ 49.265625 0.734375 44.1875 -0.34375 \r\nQ 39.109375 -1.421875 33.890625 -1.421875 \r\nQ 20.796875 -1.421875 13.15625 6.1875 \r\nQ 5.515625 13.8125 5.515625 26.8125 \r\nQ 5.515625 40.234375 12.765625 48.109375 \r\nQ 20.015625 56 32.328125 56 \r\nQ 43.359375 56 49.78125 48.890625 \r\nQ 56.203125 41.796875 56.203125 29.59375 \r\nz\r\nM 47.21875 32.234375 \r\nQ 47.125 39.59375 43.09375 43.984375 \r\nQ 39.0625 48.390625 32.421875 48.390625 \r\nQ 24.90625 48.390625 20.390625 44.140625 \r\nQ 15.875 39.890625 15.1875 32.171875 \r\nz\r\n\" id=\"DejaVuSans-101\"/>\r\n      <path d=\"M 34.28125 27.484375 \r\nQ 23.390625 27.484375 19.1875 25 \r\nQ 14.984375 22.515625 14.984375 16.5 \r\nQ 14.984375 11.71875 18.140625 8.90625 \r\nQ 21.296875 6.109375 26.703125 6.109375 \r\nQ 34.1875 6.109375 38.703125 11.40625 \r\nQ 43.21875 16.703125 43.21875 25.484375 \r\nL 43.21875 27.484375 \r\nz\r\nM 52.203125 31.203125 \r\nL 52.203125 0 \r\nL 43.21875 0 \r\nL 43.21875 8.296875 \r\nQ 40.140625 3.328125 35.546875 0.953125 \r\nQ 30.953125 -1.421875 24.3125 -1.421875 \r\nQ 15.921875 -1.421875 10.953125 3.296875 \r\nQ 6 8.015625 6 15.921875 \r\nQ 6 25.140625 12.171875 29.828125 \r\nQ 18.359375 34.515625 30.609375 34.515625 \r\nL 43.21875 34.515625 \r\nL 43.21875 35.40625 \r\nQ 43.21875 41.609375 39.140625 45 \r\nQ 35.0625 48.390625 27.6875 48.390625 \r\nQ 23 48.390625 18.546875 47.265625 \r\nQ 14.109375 46.140625 10.015625 43.890625 \r\nL 10.015625 52.203125 \r\nQ 14.9375 54.109375 19.578125 55.046875 \r\nQ 24.21875 56 28.609375 56 \r\nQ 40.484375 56 46.34375 49.84375 \r\nQ 52.203125 43.703125 52.203125 31.203125 \r\nz\r\n\" id=\"DejaVuSans-97\"/>\r\n      <path d=\"M 44.28125 53.078125 \r\nL 44.28125 44.578125 \r\nQ 40.484375 46.53125 36.375 47.5 \r\nQ 32.28125 48.484375 27.875 48.484375 \r\nQ 21.1875 48.484375 17.84375 46.4375 \r\nQ 14.5 44.390625 14.5 40.28125 \r\nQ 14.5 37.15625 16.890625 35.375 \r\nQ 19.28125 33.59375 26.515625 31.984375 \r\nL 29.59375 31.296875 \r\nQ 39.15625 29.25 43.1875 25.515625 \r\nQ 47.21875 21.78125 47.21875 15.09375 \r\nQ 47.21875 7.46875 41.1875 3.015625 \r\nQ 35.15625 -1.421875 24.609375 -1.421875 \r\nQ 20.21875 -1.421875 15.453125 -0.5625 \r\nQ 10.6875 0.296875 5.421875 2 \r\nL 5.421875 11.28125 \r\nQ 10.40625 8.6875 15.234375 7.390625 \r\nQ 20.0625 6.109375 24.8125 6.109375 \r\nQ 31.15625 6.109375 34.5625 8.28125 \r\nQ 37.984375 10.453125 37.984375 14.40625 \r\nQ 37.984375 18.0625 35.515625 20.015625 \r\nQ 33.0625 21.96875 24.703125 23.78125 \r\nL 21.578125 24.515625 \r\nQ 13.234375 26.265625 9.515625 29.90625 \r\nQ 5.8125 33.546875 5.8125 39.890625 \r\nQ 5.8125 47.609375 11.28125 51.796875 \r\nQ 16.75 56 26.8125 56 \r\nQ 31.78125 56 36.171875 55.265625 \r\nQ 40.578125 54.546875 44.28125 53.078125 \r\nz\r\n\" id=\"DejaVuSans-115\"/>\r\n      <path d=\"M 8.5 21.578125 \r\nL 8.5 54.6875 \r\nL 17.484375 54.6875 \r\nL 17.484375 21.921875 \r\nQ 17.484375 14.15625 20.5 10.265625 \r\nQ 23.53125 6.390625 29.59375 6.390625 \r\nQ 36.859375 6.390625 41.078125 11.03125 \r\nQ 45.3125 15.671875 45.3125 23.6875 \r\nL 45.3125 54.6875 \r\nL 54.296875 54.6875 \r\nL 54.296875 0 \r\nL 45.3125 0 \r\nL 45.3125 8.40625 \r\nQ 42.046875 3.421875 37.71875 1 \r\nQ 33.40625 -1.421875 27.6875 -1.421875 \r\nQ 18.265625 -1.421875 13.375 4.4375 \r\nQ 8.5 10.296875 8.5 21.578125 \r\nz\r\nM 31.109375 56 \r\nz\r\n\" id=\"DejaVuSans-117\"/>\r\n      <path d=\"M 41.109375 46.296875 \r\nQ 39.59375 47.171875 37.8125 47.578125 \r\nQ 36.03125 48 33.890625 48 \r\nQ 26.265625 48 22.1875 43.046875 \r\nQ 18.109375 38.09375 18.109375 28.8125 \r\nL 18.109375 0 \r\nL 9.078125 0 \r\nL 9.078125 54.6875 \r\nL 18.109375 54.6875 \r\nL 18.109375 46.1875 \r\nQ 20.953125 51.171875 25.484375 53.578125 \r\nQ 30.03125 56 36.53125 56 \r\nQ 37.453125 56 38.578125 55.875 \r\nQ 39.703125 55.765625 41.0625 55.515625 \r\nz\r\n\" id=\"DejaVuSans-114\"/>\r\n      <path d=\"M 45.40625 46.390625 \r\nL 45.40625 75.984375 \r\nL 54.390625 75.984375 \r\nL 54.390625 0 \r\nL 45.40625 0 \r\nL 45.40625 8.203125 \r\nQ 42.578125 3.328125 38.25 0.953125 \r\nQ 33.9375 -1.421875 27.875 -1.421875 \r\nQ 17.96875 -1.421875 11.734375 6.484375 \r\nQ 5.515625 14.40625 5.515625 27.296875 \r\nQ 5.515625 40.1875 11.734375 48.09375 \r\nQ 17.96875 56 27.875 56 \r\nQ 33.9375 56 38.25 53.625 \r\nQ 42.578125 51.265625 45.40625 46.390625 \r\nz\r\nM 14.796875 27.296875 \r\nQ 14.796875 17.390625 18.875 11.75 \r\nQ 22.953125 6.109375 30.078125 6.109375 \r\nQ 37.203125 6.109375 41.296875 11.75 \r\nQ 45.40625 17.390625 45.40625 27.296875 \r\nQ 45.40625 37.203125 41.296875 42.84375 \r\nQ 37.203125 48.484375 30.078125 48.484375 \r\nQ 22.953125 48.484375 18.875 42.84375 \r\nQ 14.796875 37.203125 14.796875 27.296875 \r\nz\r\n\" id=\"DejaVuSans-100\"/>\r\n     </defs>\r\n     <g transform=\"translate(189.94375 252.916562)scale(0.1 -0.1)\">\r\n      <use xlink:href=\"#DejaVuSans-77\"/>\r\n      <use x=\"86.279297\" xlink:href=\"#DejaVuSans-101\"/>\r\n      <use x=\"147.802734\" xlink:href=\"#DejaVuSans-97\"/>\r\n      <use x=\"209.082031\" xlink:href=\"#DejaVuSans-115\"/>\r\n      <use x=\"261.181641\" xlink:href=\"#DejaVuSans-117\"/>\r\n      <use x=\"324.560547\" xlink:href=\"#DejaVuSans-114\"/>\r\n      <use x=\"363.423828\" xlink:href=\"#DejaVuSans-101\"/>\r\n      <use x=\"424.947266\" xlink:href=\"#DejaVuSans-100\"/>\r\n     </g>\r\n    </g>\r\n   </g>\r\n   <g id=\"matplotlib.axis_2\">\r\n    <g id=\"ytick_1\">\r\n     <g id=\"line2d_9\">\r\n      <defs>\r\n       <path d=\"M 0 0 \r\nL -3.5 0 \r\n\" id=\"m8f3f8a27ad\" style=\"stroke:#000000;stroke-width:0.8;\"/>\r\n      </defs>\r\n      <g>\r\n       <use style=\"stroke:#000000;stroke-width:0.8;\" x=\"46.965625\" xlink:href=\"#m8f3f8a27ad\" y=\"214.756364\"/>\r\n      </g>\r\n     </g>\r\n     <g id=\"text_10\">\r\n      <!-- 100 -->\r\n      <g transform=\"translate(20.878125 218.555582)scale(0.1 -0.1)\">\r\n       <use xlink:href=\"#DejaVuSans-49\"/>\r\n       <use x=\"63.623047\" xlink:href=\"#DejaVuSans-48\"/>\r\n       <use x=\"127.246094\" xlink:href=\"#DejaVuSans-48\"/>\r\n      </g>\r\n     </g>\r\n    </g>\r\n    <g id=\"ytick_2\">\r\n     <g id=\"line2d_10\">\r\n      <g>\r\n       <use style=\"stroke:#000000;stroke-width:0.8;\" x=\"46.965625\" xlink:href=\"#m8f3f8a27ad\" y=\"188.4\"/>\r\n      </g>\r\n     </g>\r\n     <g id=\"text_11\">\r\n      <!-- 120 -->\r\n      <g transform=\"translate(20.878125 192.199219)scale(0.1 -0.1)\">\r\n       <use xlink:href=\"#DejaVuSans-49\"/>\r\n       <use x=\"63.623047\" xlink:href=\"#DejaVuSans-50\"/>\r\n       <use x=\"127.246094\" xlink:href=\"#DejaVuSans-48\"/>\r\n      </g>\r\n     </g>\r\n    </g>\r\n    <g id=\"ytick_3\">\r\n     <g id=\"line2d_11\">\r\n      <g>\r\n       <use style=\"stroke:#000000;stroke-width:0.8;\" x=\"46.965625\" xlink:href=\"#m8f3f8a27ad\" y=\"162.043636\"/>\r\n      </g>\r\n     </g>\r\n     <g id=\"text_12\">\r\n      <!-- 140 -->\r\n      <g transform=\"translate(20.878125 165.842855)scale(0.1 -0.1)\">\r\n       <use xlink:href=\"#DejaVuSans-49\"/>\r\n       <use x=\"63.623047\" xlink:href=\"#DejaVuSans-52\"/>\r\n       <use x=\"127.246094\" xlink:href=\"#DejaVuSans-48\"/>\r\n      </g>\r\n     </g>\r\n    </g>\r\n    <g id=\"ytick_4\">\r\n     <g id=\"line2d_12\">\r\n      <g>\r\n       <use style=\"stroke:#000000;stroke-width:0.8;\" x=\"46.965625\" xlink:href=\"#m8f3f8a27ad\" y=\"135.687273\"/>\r\n      </g>\r\n     </g>\r\n     <g id=\"text_13\">\r\n      <!-- 160 -->\r\n      <g transform=\"translate(20.878125 139.486491)scale(0.1 -0.1)\">\r\n       <use xlink:href=\"#DejaVuSans-49\"/>\r\n       <use x=\"63.623047\" xlink:href=\"#DejaVuSans-54\"/>\r\n       <use x=\"127.246094\" xlink:href=\"#DejaVuSans-48\"/>\r\n      </g>\r\n     </g>\r\n    </g>\r\n    <g id=\"ytick_5\">\r\n     <g id=\"line2d_13\">\r\n      <g>\r\n       <use style=\"stroke:#000000;stroke-width:0.8;\" x=\"46.965625\" xlink:href=\"#m8f3f8a27ad\" y=\"109.330909\"/>\r\n      </g>\r\n     </g>\r\n     <g id=\"text_14\">\r\n      <!-- 180 -->\r\n      <g transform=\"translate(20.878125 113.130128)scale(0.1 -0.1)\">\r\n       <use xlink:href=\"#DejaVuSans-49\"/>\r\n       <use x=\"63.623047\" xlink:href=\"#DejaVuSans-56\"/>\r\n       <use x=\"127.246094\" xlink:href=\"#DejaVuSans-48\"/>\r\n      </g>\r\n     </g>\r\n    </g>\r\n    <g id=\"ytick_6\">\r\n     <g id=\"line2d_14\">\r\n      <g>\r\n       <use style=\"stroke:#000000;stroke-width:0.8;\" x=\"46.965625\" xlink:href=\"#m8f3f8a27ad\" y=\"82.974545\"/>\r\n      </g>\r\n     </g>\r\n     <g id=\"text_15\">\r\n      <!-- 200 -->\r\n      <g transform=\"translate(20.878125 86.773764)scale(0.1 -0.1)\">\r\n       <use xlink:href=\"#DejaVuSans-50\"/>\r\n       <use x=\"63.623047\" xlink:href=\"#DejaVuSans-48\"/>\r\n       <use x=\"127.246094\" xlink:href=\"#DejaVuSans-48\"/>\r\n      </g>\r\n     </g>\r\n    </g>\r\n    <g id=\"ytick_7\">\r\n     <g id=\"line2d_15\">\r\n      <g>\r\n       <use style=\"stroke:#000000;stroke-width:0.8;\" x=\"46.965625\" xlink:href=\"#m8f3f8a27ad\" y=\"56.618182\"/>\r\n      </g>\r\n     </g>\r\n     <g id=\"text_16\">\r\n      <!-- 220 -->\r\n      <g transform=\"translate(20.878125 60.417401)scale(0.1 -0.1)\">\r\n       <use xlink:href=\"#DejaVuSans-50\"/>\r\n       <use x=\"63.623047\" xlink:href=\"#DejaVuSans-50\"/>\r\n       <use x=\"127.246094\" xlink:href=\"#DejaVuSans-48\"/>\r\n      </g>\r\n     </g>\r\n    </g>\r\n    <g id=\"ytick_8\">\r\n     <g id=\"line2d_16\">\r\n      <g>\r\n       <use style=\"stroke:#000000;stroke-width:0.8;\" x=\"46.965625\" xlink:href=\"#m8f3f8a27ad\" y=\"30.261818\"/>\r\n      </g>\r\n     </g>\r\n     <g id=\"text_17\">\r\n      <!-- 240 -->\r\n      <g transform=\"translate(20.878125 34.061037)scale(0.1 -0.1)\">\r\n       <use xlink:href=\"#DejaVuSans-50\"/>\r\n       <use x=\"63.623047\" xlink:href=\"#DejaVuSans-52\"/>\r\n       <use x=\"127.246094\" xlink:href=\"#DejaVuSans-48\"/>\r\n      </g>\r\n     </g>\r\n    </g>\r\n    <g id=\"text_18\">\r\n     <!-- Predicted -->\r\n     <defs>\r\n      <path d=\"M 19.671875 64.796875 \r\nL 19.671875 37.40625 \r\nL 32.078125 37.40625 \r\nQ 38.96875 37.40625 42.71875 40.96875 \r\nQ 46.484375 44.53125 46.484375 51.125 \r\nQ 46.484375 57.671875 42.71875 61.234375 \r\nQ 38.96875 64.796875 32.078125 64.796875 \r\nz\r\nM 9.8125 72.90625 \r\nL 32.078125 72.90625 \r\nQ 44.34375 72.90625 50.609375 67.359375 \r\nQ 56.890625 61.8125 56.890625 51.125 \r\nQ 56.890625 40.328125 50.609375 34.8125 \r\nQ 44.34375 29.296875 32.078125 29.296875 \r\nL 19.671875 29.296875 \r\nL 19.671875 0 \r\nL 9.8125 0 \r\nz\r\n\" id=\"DejaVuSans-80\"/>\r\n      <path d=\"M 9.421875 54.6875 \r\nL 18.40625 54.6875 \r\nL 18.40625 0 \r\nL 9.421875 0 \r\nz\r\nM 9.421875 75.984375 \r\nL 18.40625 75.984375 \r\nL 18.40625 64.59375 \r\nL 9.421875 64.59375 \r\nz\r\n\" id=\"DejaVuSans-105\"/>\r\n      <path d=\"M 48.78125 52.59375 \r\nL 48.78125 44.1875 \r\nQ 44.96875 46.296875 41.140625 47.34375 \r\nQ 37.3125 48.390625 33.40625 48.390625 \r\nQ 24.65625 48.390625 19.8125 42.84375 \r\nQ 14.984375 37.3125 14.984375 27.296875 \r\nQ 14.984375 17.28125 19.8125 11.734375 \r\nQ 24.65625 6.203125 33.40625 6.203125 \r\nQ 37.3125 6.203125 41.140625 7.25 \r\nQ 44.96875 8.296875 48.78125 10.40625 \r\nL 48.78125 2.09375 \r\nQ 45.015625 0.34375 40.984375 -0.53125 \r\nQ 36.96875 -1.421875 32.421875 -1.421875 \r\nQ 20.0625 -1.421875 12.78125 6.34375 \r\nQ 5.515625 14.109375 5.515625 27.296875 \r\nQ 5.515625 40.671875 12.859375 48.328125 \r\nQ 20.21875 56 33.015625 56 \r\nQ 37.15625 56 41.109375 55.140625 \r\nQ 45.0625 54.296875 48.78125 52.59375 \r\nz\r\n\" id=\"DejaVuSans-99\"/>\r\n      <path d=\"M 18.3125 70.21875 \r\nL 18.3125 54.6875 \r\nL 36.8125 54.6875 \r\nL 36.8125 47.703125 \r\nL 18.3125 47.703125 \r\nL 18.3125 18.015625 \r\nQ 18.3125 11.328125 20.140625 9.421875 \r\nQ 21.96875 7.515625 27.59375 7.515625 \r\nL 36.8125 7.515625 \r\nL 36.8125 0 \r\nL 27.59375 0 \r\nQ 17.1875 0 13.234375 3.875 \r\nQ 9.28125 7.765625 9.28125 18.015625 \r\nL 9.28125 47.703125 \r\nL 2.6875 47.703125 \r\nL 2.6875 54.6875 \r\nL 9.28125 54.6875 \r\nL 9.28125 70.21875 \r\nz\r\n\" id=\"DejaVuSans-116\"/>\r\n     </defs>\r\n     <g transform=\"translate(14.798438 139.390312)rotate(-90)scale(0.1 -0.1)\">\r\n      <use xlink:href=\"#DejaVuSans-80\"/>\r\n      <use x=\"58.552734\" xlink:href=\"#DejaVuSans-114\"/>\r\n      <use x=\"97.416016\" xlink:href=\"#DejaVuSans-101\"/>\r\n      <use x=\"158.939453\" xlink:href=\"#DejaVuSans-100\"/>\r\n      <use x=\"222.416016\" xlink:href=\"#DejaVuSans-105\"/>\r\n      <use x=\"250.199219\" xlink:href=\"#DejaVuSans-99\"/>\r\n      <use x=\"305.179688\" xlink:href=\"#DejaVuSans-116\"/>\r\n      <use x=\"344.388672\" xlink:href=\"#DejaVuSans-101\"/>\r\n      <use x=\"405.912109\" xlink:href=\"#DejaVuSans-100\"/>\r\n     </g>\r\n    </g>\r\n   </g>\r\n   <g id=\"line2d_17\">\r\n    <path clip-path=\"url(#pf71a24f479)\" d=\"M 62.183807 214.756364 \r\nL 366.547443 17.083636 \r\n\" style=\"fill:none;stroke:#1f77b4;stroke-linecap:square;stroke-width:1.5;\"/>\r\n   </g>\r\n   <g id=\"patch_3\">\r\n    <path d=\"M 46.965625 224.64 \r\nL 46.965625 7.2 \r\n\" style=\"fill:none;stroke:#000000;stroke-linecap:square;stroke-linejoin:miter;stroke-width:0.8;\"/>\r\n   </g>\r\n   <g id=\"patch_4\">\r\n    <path d=\"M 381.765625 224.64 \r\nL 381.765625 7.2 \r\n\" style=\"fill:none;stroke:#000000;stroke-linecap:square;stroke-linejoin:miter;stroke-width:0.8;\"/>\r\n   </g>\r\n   <g id=\"patch_5\">\r\n    <path d=\"M 46.965625 224.64 \r\nL 381.765625 224.64 \r\n\" style=\"fill:none;stroke:#000000;stroke-linecap:square;stroke-linejoin:miter;stroke-width:0.8;\"/>\r\n   </g>\r\n   <g id=\"patch_6\">\r\n    <path d=\"M 46.965625 7.2 \r\nL 381.765625 7.2 \r\n\" style=\"fill:none;stroke:#000000;stroke-linecap:square;stroke-linejoin:miter;stroke-width:0.8;\"/>\r\n   </g>\r\n  </g>\r\n </g>\r\n <defs>\r\n  <clipPath id=\"pf71a24f479\">\r\n   <rect height=\"217.44\" width=\"334.8\" x=\"46.965625\" y=\"7.2\"/>\r\n  </clipPath>\r\n </defs>\r\n</svg>\r\n",
      "image/png": "[encoded data removed]"
     },
     "metadata": {
      "needs_background": "light"
     }
    }
   ],
   "source": [
    "fig, ax = plt.subplots()\n",
    "ax.scatter(yield_monitor, apsim_predicted)\n",
    "ax.plot([100,250],[100,250])\n",
    "ax.set_xlabel('Measured')\n",
    "ax.set_ylabel('Predicted')\n",
    "plt.show()"
   ]
  },
  {
   "cell_type": "code",
   "execution_count": 57,
   "metadata": {},
   "outputs": [
    {
     "output_type": "execute_result",
     "data": {
      "text/plain": "42.864657252573465"
     },
     "metadata": {},
     "execution_count": 57
    }
   ],
   "source": [
    "rmse = mean_squared_error(yield_monitor, apsim_predicted, squared=False)\n",
    "rmse"
   ]
  },
  {
   "cell_type": "code",
   "execution_count": 59,
   "metadata": {},
   "outputs": [
    {
     "output_type": "execute_result",
     "data": {
      "text/plain": "0.04343078117267219"
     },
     "metadata": {},
     "execution_count": 59
    }
   ],
   "source": [
    "corr_matrix = np.corrcoef(yield_monitor, apsim_predicted)\n",
    "corr_xy = corr_matrix[0,1]\n",
    "r_squared = corr_xy**2\n",
    "r_squared"
   ]
  },
  {
   "cell_type": "code",
   "execution_count": 66,
   "metadata": {},
   "outputs": [
    {
     "output_type": "execute_result",
     "data": {
      "text/plain": "-0.2084005306439314"
     },
     "metadata": {},
     "execution_count": 66
    }
   ],
   "source": [
    "corr_xy"
   ]
  },
  {
   "cell_type": "code",
   "execution_count": null,
   "metadata": {},
   "outputs": [],
   "source": [
    "#gdal.Grid('yield_avg.tif', 'accola_yield_basic.csv')"
   ]
  },
  {
   "cell_type": "code",
   "execution_count": null,
   "metadata": {},
   "outputs": [],
   "source": [
    "len(accola_yield_clean.loc[accola_yield_clean['Yld_Vol_Dr'] <= 150])"
   ]
  },
  {
   "cell_type": "code",
   "execution_count": null,
   "metadata": {},
   "outputs": [],
   "source": [
    "# For re-projecting input vector layer to raster projection\n",
    "def reproject(vector_gpd, raster):\n",
    "    proj = raster.crs.to_proj4()\n",
    "    print(\"Original vector layer projection: \", vector_gpd.crs)\n",
    "    reproj = vector_gpd.to_crs(proj)\n",
    "    print(\"New vector layer projection (PROJ4): \", reproj.crs)\n",
    "    fig, ax = plt.subplots(figsize=(15, 15))\n",
    "    rplt.show(raster, ax=ax)\n",
    "    reproj.plot(ax=ax, facecolor='none', edgecolor='red')\n",
    "    fig.show()\n",
    "    return reproj\n",
    "#stats list: ['min', 'max', 'mean', 'count', 'sum', 'std', 'median', 'majority', 'minority', 'unique', 'range']\n",
    "def get_zonal_stats(vector, raster, stats):\n",
    "    # Run zonal statistics, store result in geopandas dataframe\n",
    "    result = zonal_stats(vector, raster, stats=stats, geojson_out=True)\n",
    "    geostats = gpd.GeoDataFrame.from_features(result)\n",
    "    return geostats\n",
    "    # For generating raster from zonal statistics result\n",
    "def stats_to_raster(zdf, raster, stats, out_raster, no_data='y'):\n",
    "    meta = raster.meta.copy()\n",
    "    out_shape = raster.shape\n",
    "    transform = raster.transform\n",
    "    dtype = raster.dtypes[0]\n",
    "    field_list = list_columns(stats)\n",
    "    index = int(input(\"Rasterize by which field? \"))\n",
    "    zone = zdf[field_list[index]]\n",
    "    shapes = ((geom,value) for geom, value in zip(zdf.geometry, zone))\n",
    "    burned = rasterize(shapes=shapes, fill=0, out_shape=out_shape, transform=transform)\n",
    "    show(burned)\n",
    "    meta.update(dtype=rasterio.float32, nodata=0)\n",
    "    # Optional to set nodata values to min of stat\n",
    "    if no_data == 'y':\n",
    "        cutoff = min(zone.values)\n",
    "        print(\"Setting nodata cutoff to: \", cutoff)\n",
    "        burned[burned < cutoff] = 0 \n",
    "    with rasterio.open(out_raster, 'w', **meta) as out:\n",
    "        out.write_band(1, burned)\n",
    "    print(\"Zonal Statistics Raster generated\")"
   ]
  },
  {
   "cell_type": "code",
   "execution_count": null,
   "metadata": {},
   "outputs": [],
   "source": []
  }
 ],
 "metadata": {
  "language_info": {
   "codemirror_mode": {
    "name": "ipython",
    "version": 3
   },
   "file_extension": ".py",
   "mimetype": "text/x-python",
   "name": "python",
   "nbconvert_exporter": "python",
   "pygments_lexer": "ipython3",
   "version": "3.8.2-final"
  },
  "orig_nbformat": 2,
  "kernelspec": {
   "name": "python3",
   "display_name": "Python 3"
  }
 },
 "nbformat": 4,
 "nbformat_minor": 2
}