{
 "cells": [
  {
   "cell_type": "markdown",
   "metadata": {},
   "source": [
    "### Notebook for analyzing BioCentury Research Farm Accola field site - author @ Matt Nowatzke"
   ]
  },
  {
   "cell_type": "code",
   "execution_count": 1,
   "metadata": {},
   "outputs": [],
   "source": [
    "import json\n",
    "import pandas as pd\n",
    "import geopandas as gpd\n",
    "import numpy as np\n",
    "import database as db\n",
    "import gdal\n",
    "import rasterio\n",
    "import run_apsim\n",
    "from sklearn.metrics import mean_squared_error, r2_score\n",
    "from math import sqrt\n",
    "from rasterstats import zonal_stats\n",
    "from munging import get_centroid\n",
    "from apsim.daymet import create_excel_met\n",
    "from apsim.apsim_input_writer import create_mukey_runs\n",
    "from apsim.apsim_output_parser import parse_all_output_field, parse_summary_output_field\n",
    "import matplotlib.pyplot as plt"
   ]
  },
  {
   "cell_type": "markdown",
   "metadata": {},
   "source": [
    "### Load management data for 2018 soybeans following corn and 2019 corn following soybeans."
   ]
  },
  {
   "cell_type": "code",
   "execution_count": 3,
   "metadata": {},
   "outputs": [],
   "source": [
    "#Load the management data\n",
    "accola_soy_mgmt_2018 = json.loads( open( 'crop_jsons/accola_sfc_2018.json', 'r' ).read() )\n",
    "accola_corn_mgmt_2019 = json.loads( open( 'crop_jsons/accola_cfs_2019.json', 'r' ).read() )"
   ]
  },
  {
   "cell_type": "markdown",
   "metadata": {},
   "source": [
    "Create database connection and get a list of all the unique soils (mukeys) for the field."
   ]
  },
  {
   "cell_type": "code",
   "execution_count": 2,
   "metadata": {},
   "outputs": [],
   "source": [
    "dbconn = db.connect_to_db('database.ini')"
   ]
  },
  {
   "cell_type": "code",
   "execution_count": 9,
   "metadata": {},
   "outputs": [],
   "source": [
    "accola_soils = gpd.read_postgis('SELECT * FROM biocent_farms.accola_ssurgo;', dbconn, geom_col='wkb_geometry')\n",
    "accola_mukeys = list(np.unique(accola_soils['mukey']))\n",
    "#accola_soils = pd.read_sql('SELECT * FROM biocent_farms.accola_ssurgo;', dbconn)"
   ]
  },
  {
   "cell_type": "markdown",
   "metadata": {},
   "source": [
    "### Get the centroid of the field and create met file.\n",
    "This met file--if created on a Windows machine--is a an Excel file that should be saved afterwards as a Formatted Text file (*.prn)  \n",
    "See: https://www.apsim.info/support/apsim-training-manuals/creating-an-apsim-met-file-using-excel/  \n",
    "This is a known problem with Pandas on Windows. If creating the met file on Mac or Linux, feel free to use the daymet.create_met function instead."
   ]
  },
  {
   "cell_type": "code",
   "execution_count": null,
   "metadata": {},
   "outputs": [],
   "source": [
    "accola_centroid = get_centroid(accola_soils, 'areasymbol', 'wkb_geometry')\n",
    "create_excel_met(accola_centroid[0], accola_centroid[1], 2012, 2019, 'accola')"
   ]
  },
  {
   "cell_type": "markdown",
   "metadata": {},
   "source": [
    "Create runs using the default soil calcs or Saxton Rawls"
   ]
  },
  {
   "cell_type": "code",
   "execution_count": 32,
   "metadata": {
    "tags": []
   },
   "outputs": [
    {
     "output_type": "stream",
     "name": "stdout",
     "text": "Finished! All files created!\nFinished! All files created!\n"
    }
   ],
   "source": [
    "create_mukey_runs(accola_mukeys, dbconn, 'cfs', 'accola.met', 'AccolaDefault', start_year=2017, end_year=2019, sfc_mgmt=accola_soy_mgmt_2018, cfs_mgmt=accola_corn_mgmt_2019)\n",
    "create_mukey_runs(accola_mukeys, dbconn, 'cfs', 'accola.met', 'AccolaSaxton', start_year=2017, end_year=2019, sfc_mgmt=accola_soy_mgmt_2018, cfs_mgmt=accola_corn_mgmt_2019, saxton=True)"
   ]
  },
  {
   "cell_type": "code",
   "execution_count": 33,
   "metadata": {
    "tags": []
   },
   "outputs": [
    {
     "output_type": "stream",
     "name": "stderr",
     "text": "100%|██████████| 6/6 [00:00<?, ?it/s]Running on 62 cores\nConverting 6 .apsim files to .sim files.\n\n100%|██████████| 6/6 [00:00<?, ?it/s]Running Apsim for 6 .sim files...\n\nRuns completed.\n"
    }
   ],
   "source": [
    "run_apsim.run_all_simulations(apsim_files_path=\"apsim_files\\\\AccolaSaxton\\\\*.apsim\", sim_files_path=\"apsim_files\\\\AccolaSaxton\\\\*.sim\")"
   ]
  },
  {
   "cell_type": "code",
   "execution_count": 34,
   "metadata": {},
   "outputs": [],
   "source": [
    "accola_maize_output_2019_saxton = parse_summary_output_field(\"apsim_files/AccolaSaxton/\", year=2019)"
   ]
  },
  {
   "cell_type": "code",
   "execution_count": 35,
   "metadata": {},
   "outputs": [
    {
     "output_type": "execute_result",
     "data": {
      "text/plain": "                                         title         field    mukey  \\\n0  name_AccolaSaxton_mukey_2765537_rot_cfs_sim  AccolaSaxton  2765537   \n1  name_AccolaSaxton_mukey_2800480_rot_cfs_sim  AccolaSaxton  2800480   \n2  name_AccolaSaxton_mukey_2835021_rot_cfs_sim  AccolaSaxton  2835021   \n3  name_AccolaSaxton_mukey_2835194_rot_cfs_sim  AccolaSaxton  2835194   \n4  name_AccolaSaxton_mukey_2922031_rot_cfs_sim  AccolaSaxton  2922031   \n5   name_AccolaSaxton_mukey_411333_rot_cfs_sim  AccolaSaxton   411333   \n\n  rotation  year  soybean_yield  maize_yield  corn_buac  soy_buac  \\\n0      cfs  2019            0.0   7970.37100  149.09282       0.0   \n1      cfs  2019            0.0   7483.47698  139.98505       0.0   \n2      cfs  2019            0.0   9605.81717  179.68529       0.0   \n3      cfs  2019            0.0  10369.68797  193.97417       0.0   \n4      cfs  2019            0.0   8928.34008  167.01248       0.0   \n5      cfs  2019            0.0  10178.22451  190.39267       0.0   \n\n   soybean_biomass  maize_biomass  fertiliser  surfaceom_c_init  \\\n0              0.0    14946.46419       168.0        1693.12085   \n1              0.0    14401.70423       168.0        1611.66638   \n2              0.0    16246.80922       168.0        1990.76782   \n3              0.0    17463.05681       168.0        2086.23584   \n4              0.0    15495.66876       168.0        1853.86206   \n5              0.0    17405.44352       168.0        2061.10571   \n\n   surfaceom_c_end  leach_no3  \n0       2609.60669   44.23188  \n1       2570.85230   49.77821  \n2       2476.79419   50.67606  \n3       2655.04541   48.45929  \n4       2440.91382   48.31842  \n5       2709.40625   96.28025  ",
      "text/html": "<div>\n<style scoped>\n    .dataframe tbody tr th:only-of-type {\n        vertical-align: middle;\n    }\n\n    .dataframe tbody tr th {\n        vertical-align: top;\n    }\n\n    .dataframe thead th {\n        text-align: right;\n    }\n</style>\n<table border=\"1\" class=\"dataframe\">\n  <thead>\n    <tr style=\"text-align: right;\">\n      <th></th>\n      <th>title</th>\n      <th>field</th>\n      <th>mukey</th>\n      <th>rotation</th>\n      <th>year</th>\n      <th>soybean_yield</th>\n      <th>maize_yield</th>\n      <th>corn_buac</th>\n      <th>soy_buac</th>\n      <th>soybean_biomass</th>\n      <th>maize_biomass</th>\n      <th>fertiliser</th>\n      <th>surfaceom_c_init</th>\n      <th>surfaceom_c_end</th>\n      <th>leach_no3</th>\n    </tr>\n  </thead>\n  <tbody>\n    <tr>\n      <th>0</th>\n      <td>name_AccolaSaxton_mukey_2765537_rot_cfs_sim</td>\n      <td>AccolaSaxton</td>\n      <td>2765537</td>\n      <td>cfs</td>\n      <td>2019</td>\n      <td>0.0</td>\n      <td>7970.37100</td>\n      <td>149.09282</td>\n      <td>0.0</td>\n      <td>0.0</td>\n      <td>14946.46419</td>\n      <td>168.0</td>\n      <td>1693.12085</td>\n      <td>2609.60669</td>\n      <td>44.23188</td>\n    </tr>\n    <tr>\n      <th>1</th>\n      <td>name_AccolaSaxton_mukey_2800480_rot_cfs_sim</td>\n      <td>AccolaSaxton</td>\n      <td>2800480</td>\n      <td>cfs</td>\n      <td>2019</td>\n      <td>0.0</td>\n      <td>7483.47698</td>\n      <td>139.98505</td>\n      <td>0.0</td>\n      <td>0.0</td>\n      <td>14401.70423</td>\n      <td>168.0</td>\n      <td>1611.66638</td>\n      <td>2570.85230</td>\n      <td>49.77821</td>\n    </tr>\n    <tr>\n      <th>2</th>\n      <td>name_AccolaSaxton_mukey_2835021_rot_cfs_sim</td>\n      <td>AccolaSaxton</td>\n      <td>2835021</td>\n      <td>cfs</td>\n      <td>2019</td>\n      <td>0.0</td>\n      <td>9605.81717</td>\n      <td>179.68529</td>\n      <td>0.0</td>\n      <td>0.0</td>\n      <td>16246.80922</td>\n      <td>168.0</td>\n      <td>1990.76782</td>\n      <td>2476.79419</td>\n      <td>50.67606</td>\n    </tr>\n    <tr>\n      <th>3</th>\n      <td>name_AccolaSaxton_mukey_2835194_rot_cfs_sim</td>\n      <td>AccolaSaxton</td>\n      <td>2835194</td>\n      <td>cfs</td>\n      <td>2019</td>\n      <td>0.0</td>\n      <td>10369.68797</td>\n      <td>193.97417</td>\n      <td>0.0</td>\n      <td>0.0</td>\n      <td>17463.05681</td>\n      <td>168.0</td>\n      <td>2086.23584</td>\n      <td>2655.04541</td>\n      <td>48.45929</td>\n    </tr>\n    <tr>\n      <th>4</th>\n      <td>name_AccolaSaxton_mukey_2922031_rot_cfs_sim</td>\n      <td>AccolaSaxton</td>\n      <td>2922031</td>\n      <td>cfs</td>\n      <td>2019</td>\n      <td>0.0</td>\n      <td>8928.34008</td>\n      <td>167.01248</td>\n      <td>0.0</td>\n      <td>0.0</td>\n      <td>15495.66876</td>\n      <td>168.0</td>\n      <td>1853.86206</td>\n      <td>2440.91382</td>\n      <td>48.31842</td>\n    </tr>\n    <tr>\n      <th>5</th>\n      <td>name_AccolaSaxton_mukey_411333_rot_cfs_sim</td>\n      <td>AccolaSaxton</td>\n      <td>411333</td>\n      <td>cfs</td>\n      <td>2019</td>\n      <td>0.0</td>\n      <td>10178.22451</td>\n      <td>190.39267</td>\n      <td>0.0</td>\n      <td>0.0</td>\n      <td>17405.44352</td>\n      <td>168.0</td>\n      <td>2061.10571</td>\n      <td>2709.40625</td>\n      <td>96.28025</td>\n    </tr>\n  </tbody>\n</table>\n</div>"
     },
     "metadata": {},
     "execution_count": 35
    }
   ],
   "source": [
    "accola_maize_output_2019_saxton"
   ]
  },
  {
   "cell_type": "code",
   "execution_count": 36,
   "metadata": {},
   "outputs": [
    {
     "output_type": "execute_result",
     "data": {
      "text/plain": "     mukey  corn_buac\n0  2765537  149.09282\n1  2800480  139.98505\n2  2835021  179.68529\n3  2835194  193.97417\n4  2922031  167.01248\n5   411333  190.39267",
      "text/html": "<div>\n<style scoped>\n    .dataframe tbody tr th:only-of-type {\n        vertical-align: middle;\n    }\n\n    .dataframe tbody tr th {\n        vertical-align: top;\n    }\n\n    .dataframe thead th {\n        text-align: right;\n    }\n</style>\n<table border=\"1\" class=\"dataframe\">\n  <thead>\n    <tr style=\"text-align: right;\">\n      <th></th>\n      <th>mukey</th>\n      <th>corn_buac</th>\n    </tr>\n  </thead>\n  <tbody>\n    <tr>\n      <th>0</th>\n      <td>2765537</td>\n      <td>149.09282</td>\n    </tr>\n    <tr>\n      <th>1</th>\n      <td>2800480</td>\n      <td>139.98505</td>\n    </tr>\n    <tr>\n      <th>2</th>\n      <td>2835021</td>\n      <td>179.68529</td>\n    </tr>\n    <tr>\n      <th>3</th>\n      <td>2835194</td>\n      <td>193.97417</td>\n    </tr>\n    <tr>\n      <th>4</th>\n      <td>2922031</td>\n      <td>167.01248</td>\n    </tr>\n    <tr>\n      <th>5</th>\n      <td>411333</td>\n      <td>190.39267</td>\n    </tr>\n  </tbody>\n</table>\n</div>"
     },
     "metadata": {},
     "execution_count": 36
    }
   ],
   "source": [
    "accola_apsim_yield_2019_saxton = accola_maize_output_2019_saxton[['mukey', 'corn_buac']]\n",
    "accola_apsim_yield_2019_saxton"
   ]
  },
  {
   "cell_type": "code",
   "execution_count": 37,
   "metadata": {
    "tags": []
   },
   "outputs": [
    {
     "output_type": "stream",
     "name": "stderr",
     "text": "100%|██████████| 6/6 [00:00<?, ?it/s]Running on 62 cores\nConverting 6 .apsim files to .sim files.\n\n100%|██████████| 6/6 [00:00<?, ?it/s]Running Apsim for 6 .sim files...\n\nRuns completed.\n"
    }
   ],
   "source": [
    "run_apsim.run_all_simulations(apsim_files_path=\"apsim_files\\\\AccolaDefault\\\\*.apsim\", sim_files_path=\"apsim_files\\\\AccolaDefault\\\\*.sim\")"
   ]
  },
  {
   "cell_type": "code",
   "execution_count": 38,
   "metadata": {},
   "outputs": [],
   "source": [
    "accola_maize_output_2019_default = parse_summary_output_field(\"apsim_files/AccolaDefault/\", year=2019)"
   ]
  },
  {
   "cell_type": "code",
   "execution_count": 39,
   "metadata": {},
   "outputs": [
    {
     "output_type": "execute_result",
     "data": {
      "text/plain": "                                          title          field    mukey  \\\n0  name_AccolaDefault_mukey_2765537_rot_cfs_sim  AccolaDefault  2765537   \n1  name_AccolaDefault_mukey_2800480_rot_cfs_sim  AccolaDefault  2800480   \n2  name_AccolaDefault_mukey_2835021_rot_cfs_sim  AccolaDefault  2835021   \n3  name_AccolaDefault_mukey_2835194_rot_cfs_sim  AccolaDefault  2835194   \n4  name_AccolaDefault_mukey_2922031_rot_cfs_sim  AccolaDefault  2922031   \n5   name_AccolaDefault_mukey_411333_rot_cfs_sim  AccolaDefault   411333   \n\n  rotation  year  soybean_yield  maize_yield  corn_buac  soy_buac  \\\n0      cfs  2019            0.0   9442.21313  176.62492       0.0   \n1      cfs  2019            0.0   7941.15972  148.54640       0.0   \n2      cfs  2019            0.0   9246.75745  172.96875       0.0   \n3      cfs  2019            0.0  10588.41608  198.06566       0.0   \n4      cfs  2019            0.0   8962.22686  167.64636       0.0   \n5      cfs  2019            0.0   8140.92756  152.28323       0.0   \n\n   soybean_biomass  maize_biomass  fertiliser  surfaceom_c_init  \\\n0              0.0    16316.17532       168.0        2007.14356   \n1              0.0    15120.61340       168.0        1681.04028   \n2              0.0    15953.10282       168.0        1926.73731   \n3              0.0    17934.27387       168.0        2137.77148   \n4              0.0    15678.82840       168.0        1856.05933   \n5              0.0    14772.84193       168.0        1708.92236   \n\n   surfaceom_c_end  leach_no3  \n0       2578.01001   23.30919  \n1       2693.28980   36.83828  \n2       2504.61475   41.74329  \n3       2764.91382   35.02096  \n4       2511.13892   38.44213  \n5       2462.09253   82.37149  ",
      "text/html": "<div>\n<style scoped>\n    .dataframe tbody tr th:only-of-type {\n        vertical-align: middle;\n    }\n\n    .dataframe tbody tr th {\n        vertical-align: top;\n    }\n\n    .dataframe thead th {\n        text-align: right;\n    }\n</style>\n<table border=\"1\" class=\"dataframe\">\n  <thead>\n    <tr style=\"text-align: right;\">\n      <th></th>\n      <th>title</th>\n      <th>field</th>\n      <th>mukey</th>\n      <th>rotation</th>\n      <th>year</th>\n      <th>soybean_yield</th>\n      <th>maize_yield</th>\n      <th>corn_buac</th>\n      <th>soy_buac</th>\n      <th>soybean_biomass</th>\n      <th>maize_biomass</th>\n      <th>fertiliser</th>\n      <th>surfaceom_c_init</th>\n      <th>surfaceom_c_end</th>\n      <th>leach_no3</th>\n    </tr>\n  </thead>\n  <tbody>\n    <tr>\n      <th>0</th>\n      <td>name_AccolaDefault_mukey_2765537_rot_cfs_sim</td>\n      <td>AccolaDefault</td>\n      <td>2765537</td>\n      <td>cfs</td>\n      <td>2019</td>\n      <td>0.0</td>\n      <td>9442.21313</td>\n      <td>176.62492</td>\n      <td>0.0</td>\n      <td>0.0</td>\n      <td>16316.17532</td>\n      <td>168.0</td>\n      <td>2007.14356</td>\n      <td>2578.01001</td>\n      <td>23.30919</td>\n    </tr>\n    <tr>\n      <th>1</th>\n      <td>name_AccolaDefault_mukey_2800480_rot_cfs_sim</td>\n      <td>AccolaDefault</td>\n      <td>2800480</td>\n      <td>cfs</td>\n      <td>2019</td>\n      <td>0.0</td>\n      <td>7941.15972</td>\n      <td>148.54640</td>\n      <td>0.0</td>\n      <td>0.0</td>\n      <td>15120.61340</td>\n      <td>168.0</td>\n      <td>1681.04028</td>\n      <td>2693.28980</td>\n      <td>36.83828</td>\n    </tr>\n    <tr>\n      <th>2</th>\n      <td>name_AccolaDefault_mukey_2835021_rot_cfs_sim</td>\n      <td>AccolaDefault</td>\n      <td>2835021</td>\n      <td>cfs</td>\n      <td>2019</td>\n      <td>0.0</td>\n      <td>9246.75745</td>\n      <td>172.96875</td>\n      <td>0.0</td>\n      <td>0.0</td>\n      <td>15953.10282</td>\n      <td>168.0</td>\n      <td>1926.73731</td>\n      <td>2504.61475</td>\n      <td>41.74329</td>\n    </tr>\n    <tr>\n      <th>3</th>\n      <td>name_AccolaDefault_mukey_2835194_rot_cfs_sim</td>\n      <td>AccolaDefault</td>\n      <td>2835194</td>\n      <td>cfs</td>\n      <td>2019</td>\n      <td>0.0</td>\n      <td>10588.41608</td>\n      <td>198.06566</td>\n      <td>0.0</td>\n      <td>0.0</td>\n      <td>17934.27387</td>\n      <td>168.0</td>\n      <td>2137.77148</td>\n      <td>2764.91382</td>\n      <td>35.02096</td>\n    </tr>\n    <tr>\n      <th>4</th>\n      <td>name_AccolaDefault_mukey_2922031_rot_cfs_sim</td>\n      <td>AccolaDefault</td>\n      <td>2922031</td>\n      <td>cfs</td>\n      <td>2019</td>\n      <td>0.0</td>\n      <td>8962.22686</td>\n      <td>167.64636</td>\n      <td>0.0</td>\n      <td>0.0</td>\n      <td>15678.82840</td>\n      <td>168.0</td>\n      <td>1856.05933</td>\n      <td>2511.13892</td>\n      <td>38.44213</td>\n    </tr>\n    <tr>\n      <th>5</th>\n      <td>name_AccolaDefault_mukey_411333_rot_cfs_sim</td>\n      <td>AccolaDefault</td>\n      <td>411333</td>\n      <td>cfs</td>\n      <td>2019</td>\n      <td>0.0</td>\n      <td>8140.92756</td>\n      <td>152.28323</td>\n      <td>0.0</td>\n      <td>0.0</td>\n      <td>14772.84193</td>\n      <td>168.0</td>\n      <td>1708.92236</td>\n      <td>2462.09253</td>\n      <td>82.37149</td>\n    </tr>\n  </tbody>\n</table>\n</div>"
     },
     "metadata": {},
     "execution_count": 39
    }
   ],
   "source": [
    "accola_maize_output_2019_default"
   ]
  },
  {
   "cell_type": "code",
   "execution_count": 41,
   "metadata": {},
   "outputs": [
    {
     "output_type": "execute_result",
     "data": {
      "text/plain": "     mukey  corn_buac\n0  2765537  176.62492\n1  2800480  148.54640\n2  2835021  172.96875\n3  2835194  198.06566\n4  2922031  167.64636\n5   411333  152.28323",
      "text/html": "<div>\n<style scoped>\n    .dataframe tbody tr th:only-of-type {\n        vertical-align: middle;\n    }\n\n    .dataframe tbody tr th {\n        vertical-align: top;\n    }\n\n    .dataframe thead th {\n        text-align: right;\n    }\n</style>\n<table border=\"1\" class=\"dataframe\">\n  <thead>\n    <tr style=\"text-align: right;\">\n      <th></th>\n      <th>mukey</th>\n      <th>corn_buac</th>\n    </tr>\n  </thead>\n  <tbody>\n    <tr>\n      <th>0</th>\n      <td>2765537</td>\n      <td>176.62492</td>\n    </tr>\n    <tr>\n      <th>1</th>\n      <td>2800480</td>\n      <td>148.54640</td>\n    </tr>\n    <tr>\n      <th>2</th>\n      <td>2835021</td>\n      <td>172.96875</td>\n    </tr>\n    <tr>\n      <th>3</th>\n      <td>2835194</td>\n      <td>198.06566</td>\n    </tr>\n    <tr>\n      <th>4</th>\n      <td>2922031</td>\n      <td>167.64636</td>\n    </tr>\n    <tr>\n      <th>5</th>\n      <td>411333</td>\n      <td>152.28323</td>\n    </tr>\n  </tbody>\n</table>\n</div>"
     },
     "metadata": {},
     "execution_count": 41
    }
   ],
   "source": [
    "accola_apsim_yield_2019_default = accola_maize_output_2019_default[['mukey', 'corn_buac']]\n",
    "accola_apsim_yield_2019_default"
   ]
  },
  {
   "cell_type": "code",
   "execution_count": null,
   "metadata": {},
   "outputs": [],
   "source": [
    "#gdal Rasterize (vector to raster)\n",
    "#raster analysis > zonal statistics\n",
    "#user python rasterstats to calculate zonal statistics\n",
    "# from rasterstats import zonal_stats\n",
    "# stats = zonal_stats(\"tests/data/polygons.shp\", \"tests/data/elevation.tif\")\n",
    "# stats[1].keys()\n",
    "# ['count', 'min', 'max', 'mean']\n",
    "# [f['mean'] for f in stats]\n",
    "# [756.6057470703125, 114.660084635416666]"
   ]
  },
  {
   "cell_type": "code",
   "execution_count": null,
   "metadata": {},
   "outputs": [],
   "source": [
    "#accola_yield = gpd.read_file(\"yield_monitor/Accola2019YieldwGeom.dbf\")"
   ]
  },
  {
   "cell_type": "code",
   "execution_count": null,
   "metadata": {},
   "outputs": [],
   "source": [
    "accola_yield_clean = accola_yield[['Yld_Vol_Dr','geometry']]\n",
    "#accola_yield_clean['Yld_Vol_Dr'].describe()"
   ]
  },
  {
   "cell_type": "code",
   "execution_count": null,
   "metadata": {},
   "outputs": [],
   "source": [
    "stats = zonal_stats('C:/Users/mjn/Documents/Foresite/yield_monitor_data/accola_ssurgo.geojson', \"C:/Users/mjn/Documents/Foresite/yield_monitor_data/accola_2019_yield_raster.tif\", geojson_out=True)"
   ]
  },
  {
   "cell_type": "code",
   "execution_count": null,
   "metadata": {},
   "outputs": [],
   "source": [
    "accola_maize_2019 = gpd.GeoDataFrame.from_features(stats)\n",
    "accola_maize_2019"
   ]
  },
  {
   "cell_type": "code",
   "execution_count": null,
   "metadata": {},
   "outputs": [],
   "source": [
    "accola_maize_2019 = accola_maize_2019[['objectid', 'mukey', 'mean']]\n",
    "accola_maize_2019.sort_values('mukey')"
   ]
  },
  {
   "cell_type": "code",
   "execution_count": null,
   "metadata": {},
   "outputs": [],
   "source": [
    "pred_vs_obs = accola_maize_2019.merge(accola_apsim_yield_2019, on='mukey', how='left')\n",
    "pred_vs_obs.columns = ['objectid', 'mukey', 'observed', 'predicted']\n",
    "#pred_vs_obs.sort_values('mukey')"
   ]
  },
  {
   "cell_type": "code",
   "execution_count": null,
   "metadata": {},
   "outputs": [],
   "source": [
    "pred_vs_obs"
   ]
  },
  {
   "cell_type": "code",
   "execution_count": null,
   "metadata": {},
   "outputs": [],
   "source": [
    "yield_monitor = tuple(pred_vs_obs['observed'])\n",
    "yield_monitor = [round(num, 2) for num in yield_monitor]\n",
    "apsim_predicted = tuple(pred_vs_obs['predicted'])\n",
    "apsim_predicted = [round(num, 2) for num in apsim_predicted]"
   ]
  },
  {
   "cell_type": "code",
   "execution_count": null,
   "metadata": {},
   "outputs": [],
   "source": [
    "yield_monitor"
   ]
  },
  {
   "cell_type": "code",
   "execution_count": null,
   "metadata": {},
   "outputs": [],
   "source": [
    "apsim_predicted"
   ]
  },
  {
   "cell_type": "code",
   "execution_count": null,
   "metadata": {},
   "outputs": [],
   "source": [
    "fig, ax = plt.subplots()\n",
    "ax.scatter(yield_monitor, apsim_predicted)\n",
    "ax.plot([100,250],[100,250])\n",
    "ax.set_xlabel('Measured')\n",
    "ax.set_ylabel('Predicted')\n",
    "plt.show()"
   ]
  },
  {
   "cell_type": "code",
   "execution_count": null,
   "metadata": {},
   "outputs": [],
   "source": [
    "rmse = mean_squared_error(yield_monitor, apsim_predicted, squared=False)\n",
    "rmse"
   ]
  },
  {
   "cell_type": "code",
   "execution_count": null,
   "metadata": {},
   "outputs": [],
   "source": [
    "r_sq = r2_score(yield_monitor, apsim_predicted)\n",
    "r_sq"
   ]
  },
  {
   "cell_type": "code",
   "execution_count": null,
   "metadata": {},
   "outputs": [],
   "source": [
    "corr_matrix = np.corrcoef(yield_monitor, apsim_predicted)\n",
    "corr_xy = corr_matrix[0,1]\n",
    "r_squared = corr_xy**2\n",
    "r_squared"
   ]
  },
  {
   "cell_type": "code",
   "execution_count": null,
   "metadata": {},
   "outputs": [],
   "source": [
    "corr_matrix"
   ]
  },
  {
   "cell_type": "code",
   "execution_count": null,
   "metadata": {},
   "outputs": [],
   "source": [
    "#gdal.Grid('yield_avg.tif', 'accola_yield_basic.csv')"
   ]
  },
  {
   "cell_type": "code",
   "execution_count": null,
   "metadata": {},
   "outputs": [],
   "source": [
    "len(accola_yield_clean.loc[accola_yield_clean['Yld_Vol_Dr'] <= 150])"
   ]
  },
  {
   "cell_type": "code",
   "execution_count": null,
   "metadata": {},
   "outputs": [],
   "source": [
    "# For re-projecting input vector layer to raster projection\n",
    "def reproject(vector_gpd, raster):\n",
    "    proj = raster.crs.to_proj4()\n",
    "    print(\"Original vector layer projection: \", vector_gpd.crs)\n",
    "    reproj = vector_gpd.to_crs(proj)\n",
    "    print(\"New vector layer projection (PROJ4): \", reproj.crs)\n",
    "    fig, ax = plt.subplots(figsize=(15, 15))\n",
    "    rplt.show(raster, ax=ax)\n",
    "    reproj.plot(ax=ax, facecolor='none', edgecolor='red')\n",
    "    fig.show()\n",
    "    return reproj\n",
    "#stats list: ['min', 'max', 'mean', 'count', 'sum', 'std', 'median', 'majority', 'minority', 'unique', 'range']\n",
    "def get_zonal_stats(vector, raster, stats):\n",
    "    # Run zonal statistics, store result in geopandas dataframe\n",
    "    result = zonal_stats(vector, raster, stats=stats, geojson_out=True)\n",
    "    geostats = gpd.GeoDataFrame.from_features(result)\n",
    "    return geostats\n",
    "    # For generating raster from zonal statistics result\n",
    "def stats_to_raster(zdf, raster, stats, out_raster, no_data='y'):\n",
    "    meta = raster.meta.copy()\n",
    "    out_shape = raster.shape\n",
    "    transform = raster.transform\n",
    "    dtype = raster.dtypes[0]\n",
    "    field_list = list_columns(stats)\n",
    "    index = int(input(\"Rasterize by which field? \"))\n",
    "    zone = zdf[field_list[index]]\n",
    "    shapes = ((geom,value) for geom, value in zip(zdf.geometry, zone))\n",
    "    burned = rasterize(shapes=shapes, fill=0, out_shape=out_shape, transform=transform)\n",
    "    show(burned)\n",
    "    meta.update(dtype=rasterio.float32, nodata=0)\n",
    "    # Optional to set nodata values to min of stat\n",
    "    if no_data == 'y':\n",
    "        cutoff = min(zone.values)\n",
    "        print(\"Setting nodata cutoff to: \", cutoff)\n",
    "        burned[burned < cutoff] = 0 \n",
    "    with rasterio.open(out_raster, 'w', **meta) as out:\n",
    "        out.write_band(1, burned)\n",
    "    print(\"Zonal Statistics Raster generated\")"
   ]
  }
 ],
 "metadata": {
  "language_info": {
   "codemirror_mode": {
    "name": "ipython",
    "version": 3
   },
   "file_extension": ".py",
   "mimetype": "text/x-python",
   "name": "python",
   "nbconvert_exporter": "python",
   "pygments_lexer": "ipython3",
   "version": "3.8.2-final"
  },
  "orig_nbformat": 2,
  "kernelspec": {
   "name": "python3",
   "display_name": "Python 3"
  }
 },
 "nbformat": 4,
 "nbformat_minor": 2
}