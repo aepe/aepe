{
 "cells": [
  {
   "cell_type": "code",
   "execution_count": null,
   "metadata": {},
   "outputs": [],
   "source": [
    "import json\n",
    "import pandas as pd\n",
    "import geopandas as gpd\n",
    "import numpy as np\n",
    "import database as db\n",
    "import gdal\n",
    "import rasterio\n",
    "from rasterstats import zonal_stats\n",
    "from munging import get_centroid\n",
    "from apsim.daymet import create_excel_met\n",
    "from apsim.apsim_input_writer import create_mukey_runs\n",
    "import matplotlib.pyplot as plt\n",
    "#ogr2ogr -f \"PostgreSQL\" PG:\"dbname=aepe port=5432 user=mjn password=KBlhsab7618 host=10.24.18.212\" \"accola_yield.geojson\" -skip-failures"
   ]
  },
  {
   "cell_type": "code",
   "execution_count": null,
   "metadata": {},
   "outputs": [],
   "source": [
    "dbconn = db.connect_to_db('database.ini')"
   ]
  },
  {
   "cell_type": "code",
   "execution_count": null,
   "metadata": {},
   "outputs": [],
   "source": [
    "accola_soy_mgmt_2018 = json.loads( open( 'crop_jsons/accola_sfc_2018.json', 'r' ).read() )\n",
    "accola_corn_mgmt_2019 = json.loads( open( 'crop_jsons/accola_cfs_2019.json', 'r' ).read() )"
   ]
  },
  {
   "cell_type": "code",
   "execution_count": null,
   "metadata": {},
   "outputs": [],
   "source": [
    "accola_soils = gpd.read_postgis('SELECT * FROM biocent_farms.accola_ssurgo;', dbconn, geom_col='wkb_geometry')\n",
    "accola_mukeys = list(np.unique(accola_soils['mukey']))\n",
    "#accola_soils = pd.read_sql('SELECT * FROM biocent_farms.accola_ssurgo;', dbconn)\n",
    "#### Get centroid and create met file\n",
    "#accola_centroid = get_centroid(accola_soils, 'areasymbol', 'wkb_geometry')\n",
    "#create_excel_met(accola_centroid[0], accola_centroid[1], 2012, 2019, 'accola')"
   ]
  },
  {
   "cell_type": "code",
   "execution_count": null,
   "metadata": {},
   "outputs": [],
   "source": [
    "create_mukey_runs(accola_mukeys, dbconn, 'sfc', 'accola.met', 'Accola', sfc_mgmt=accola_soy_mgmt_2018, cfs_mgmt=accola_corn_mgmt_2019)"
   ]
  },
  {
   "cell_type": "code",
   "execution_count": null,
   "metadata": {},
   "outputs": [],
   "source": [
    "#gdal Rasterize (vector to raster)\n",
    "#raster analysis > zonal statistics\n",
    "#user python rasterstats to calculate zonal statistics\n",
    "# from rasterstats import zonal_stats\n",
    "# stats = zonal_stats(\"tests/data/polygons.shp\", \"tests/data/elevation.tif\")\n",
    "# stats[1].keys()\n",
    "# ['count', 'min', 'max', 'mean']\n",
    "# [f['mean'] for f in stats]\n",
    "# [756.6057470703125, 114.660084635416666]"
   ]
  },
  {
   "cell_type": "code",
   "execution_count": null,
   "metadata": {},
   "outputs": [],
   "source": [
    "accola_yield = gpd.read_file(\"yield_monitor/Accola2019YieldwGeom.dbf\")"
   ]
  },
  {
   "cell_type": "code",
   "execution_count": null,
   "metadata": {},
   "outputs": [],
   "source": [
    "accola_yield_clean = accola_yield[['Yld_Vol_Dr','geometry']]\n",
    "#accola_yield_clean['Yld_Vol_Dr'].describe()"
   ]
  },
  {
   "cell_type": "code",
   "execution_count": null,
   "metadata": {},
   "outputs": [],
   "source": [
    "# For re-projecting input vector layer to raster projection\n",
    "def reproject(vector_gpd, raster):\n",
    "    proj = raster.crs.to_proj4()\n",
    "    print(\"Original vector layer projection: \", vector_gpd.crs)\n",
    "    reproj = vector_gpd.to_crs(proj)\n",
    "    print(\"New vector layer projection (PROJ4): \", reproj.crs)\n",
    "    fig, ax = plt.subplots(figsize=(15, 15))\n",
    "    rplt.show(raster, ax=ax)\n",
    "    reproj.plot(ax=ax, facecolor='none', edgecolor='red')\n",
    "    fig.show()\n",
    "    return reproj"
   ]
  },
  {
   "cell_type": "code",
   "execution_count": null,
   "metadata": {},
   "outputs": [],
   "source": [
    "#stats list: ['min', 'max', 'mean', 'count', 'sum', 'std', 'median', 'majority', 'minority', 'unique', 'range']\n",
    "def get_zonal_stats(vector, raster, stats):\n",
    "    # Run zonal statistics, store result in geopandas dataframe\n",
    "    result = zonal_stats(vector, raster, stats=stats, geojson_out=True)\n",
    "    geostats = gpd.GeoDataFrame.from_features(result)\n",
    "    return geostats"
   ]
  },
  {
   "cell_type": "code",
   "execution_count": null,
   "metadata": {},
   "outputs": [],
   "source": [
    "# For generating raster from zonal statistics result\n",
    "def stats_to_raster(zdf, raster, stats, out_raster, no_data='y'):\n",
    "    meta = raster.meta.copy()\n",
    "    out_shape = raster.shape\n",
    "    transform = raster.transform\n",
    "    dtype = raster.dtypes[0]\n",
    "    field_list = list_columns(stats)\n",
    "    index = int(input(\"Rasterize by which field? \"))\n",
    "    zone = zdf[field_list[index]]\n",
    "    shapes = ((geom,value) for geom, value in zip(zdf.geometry, zone))\n",
    "    burned = rasterize(shapes=shapes, fill=0, out_shape=out_shape, transform=transform)\n",
    "    show(burned)\n",
    "    meta.update(dtype=rasterio.float32, nodata=0)\n",
    "    # Optional to set nodata values to min of stat\n",
    "    if no_data == 'y':\n",
    "        cutoff = min(zone.values)\n",
    "        print(\"Setting nodata cutoff to: \", cutoff)\n",
    "        burned[burned < cutoff] = 0 \n",
    "    with rasterio.open(out_raster, 'w', **meta) as out:\n",
    "        out.write_band(1, burned)\n",
    "    print(\"Zonal Statistics Raster generated\")"
   ]
  },
  {
   "cell_type": "code",
   "execution_count": null,
   "metadata": {},
   "outputs": [],
   "source": [
    "stats = zonal_stats('yield_monitor/accola_soils.shp', 'yield_monitor/accola_2019_yield_raster.tif', geojson_out=True)"
   ]
  },
  {
   "cell_type": "code",
   "execution_count": null,
   "metadata": {},
   "outputs": [],
   "source": [
    "gpd.GeoDataFrame.from_features(stats)"
   ]
  },
  {
   "cell_type": "code",
   "execution_count": null,
   "metadata": {},
   "outputs": [],
   "source": [
    "#gdal.Grid('yield_avg.tif', 'accola_yield_basic.csv')"
   ]
  },
  {
   "cell_type": "code",
   "execution_count": null,
   "metadata": {},
   "outputs": [],
   "source": [
    "len(accola_yield_clean.loc[accola_yield_clean['Yld_Vol_Dr'] <= 150])"
   ]
  },
  {
   "cell_type": "code",
   "execution_count": null,
   "metadata": {},
   "outputs": [],
   "source": [
    "accola_mukeys = list(np.unique(accola_soils['mukey']))"
   ]
  },
  {
   "cell_type": "code",
   "execution_count": null,
   "metadata": {},
   "outputs": [],
   "source": [
    "create_mukey_runs(accola_mukeys, dbconn, 'sfc', 'accola.met', 'Accola', sfc_mgmt=accola_soy_mgmt_2018, cfs_mgmt=accola_corn_mgmt_2019)"
   ]
  },
  {
   "cell_type": "code",
   "execution_count": null,
   "metadata": {},
   "outputs": [],
   "source": []
  }
 ],
 "metadata": {
  "language_info": {
   "codemirror_mode": {
    "name": "ipython",
    "version": 3
   },
   "file_extension": ".py",
   "mimetype": "text/x-python",
   "name": "python",
   "nbconvert_exporter": "python",
   "pygments_lexer": "ipython3",
   "version": "3.8.2-final"
  },
  "orig_nbformat": 2,
  "kernelspec": {
   "name": "gis",
   "display_name": "gis"
  }
 },
 "nbformat": 4,
 "nbformat_minor": 2
}