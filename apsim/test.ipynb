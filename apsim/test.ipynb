{
 "cells": [
  {
   "cell_type": "code",
   "execution_count": 36,
   "metadata": {},
   "outputs": [],
   "source": [
    "import tomli\n",
    "import pandas as pd\n",
    "from apsim.op_manager import OpManager, get_date\n",
    "import xml.etree.ElementTree as ET"
   ]
  },
  {
   "cell_type": "code",
   "execution_count": 44,
   "metadata": {},
   "outputs": [],
   "source": [
    "with open(\"mgmt_example.toml\", \"rb\") as f:\n",
    "        mgmt = tomli.load(f)"
   ]
  },
  {
   "cell_type": "code",
   "execution_count": 45,
   "metadata": {},
   "outputs": [],
   "source": [
    "all_yearly_mgmt = mgmt['mgmt']['year']"
   ]
  },
  {
   "cell_type": "code",
   "execution_count": 46,
   "metadata": {},
   "outputs": [],
   "source": [
    "ops = [\"plant\", \"fert\", \"tillage\", \"harvest\"]"
   ]
  },
  {
   "cell_type": "code",
   "execution_count": 70,
   "metadata": {},
   "outputs": [],
   "source": [
    "op_man = OpManager()"
   ]
  },
  {
   "cell_type": "code",
   "execution_count": 71,
   "metadata": {},
   "outputs": [],
   "source": [
    "for year in all_yearly_mgmt:\n",
    "    #get mgmt for a given year\n",
    "    year_mgmt = all_yearly_mgmt[year]\n",
    "    #add planting ops\n",
    "    for year_id in year_mgmt['plant']:\n",
    "        planting_mgmt = year_mgmt['plant'][year_id]\n",
    "        op_man.add_plant_op(\n",
    "            get_date(planting_mgmt['planting_date'], year),\n",
    "            planting_mgmt['sow_crop'],\n",
    "            planting_mgmt['sowing_density'],\n",
    "            planting_mgmt['sowing_depth'],\n",
    "            planting_mgmt['cultivar'],\n",
    "            planting_mgmt['row_spacing'],\n",
    "            )\n",
    "    #add fertiliser ops\n",
    "    for year_id in year_mgmt['fert']:\n",
    "        fert_mgmt = year_mgmt['fert'][year_id]\n",
    "        if fert_mgmt['kg_ha'] != None and fert_mgmt['kg_ha'] > 0.0:\n",
    "            op_man.add_fert_op(\n",
    "            get_date(fert_mgmt['date'], year),\n",
    "            fert_mgmt['kg_ha'],\n",
    "            fert_mgmt['depth'],\n",
    "            fert_mgmt['formula'],\n",
    "            )\n",
    "    #add tillage ops\n",
    "    for year_id in year_mgmt['tillage']:\n",
    "        till_mgmt = year_mgmt['tillage'][year_id]\n",
    "        if till_mgmt['depth'] != None and till_mgmt['residue_incorp'] > 0.0:\n",
    "            op_man.add_till_op(\n",
    "                get_date(till_mgmt['date'], year),\n",
    "                till_mgmt['implement'],\n",
    "                till_mgmt['residue_incorp'],\n",
    "                till_mgmt['depth'],\n",
    "                )\n",
    "    #add harvest ops\n",
    "    for year_id in year_mgmt['harvest']:\n",
    "        harvest_mgmt = year_mgmt['harvest'][year_id]\n",
    "        op_man.add_harvest_op(\n",
    "            get_date(harvest_mgmt['date'], year),\n",
    "            harvest_mgmt['crop']\n",
    "        )"
   ]
  },
  {
   "cell_type": "code",
   "execution_count": 72,
   "metadata": {},
   "outputs": [
    {
     "name": "stdout",
     "output_type": "stream",
     "text": [
      "<folder name=\"Manager folder\">\n",
      "  <operations name=\"Operations Schedule\">\n",
      "    <operation condition=\"start_of_day\">\n",
      "      <date>16/5/2021</date>\n",
      "      <action>soybean sow plants = 34 (plants/m2), sowing_depth = 51 (mm), cultivar = MG_2, row_spacing = 762 (mm), crop_class = plant</action>\n",
      "    </operation>\n",
      "    <operation condition=\"start_of_day\">\n",
      "      <date>28/4/2021</date>\n",
      "      <action>SurfaceOrganicMatter tillage type = user_defined, f_incorp = 0.25 (0-1), tillage_depth = 88 (mm)</action>\n",
      "    </operation>\n",
      "    <operation condition=\"start_of_day\">\n",
      "      <date>16/5/2021</date>\n",
      "      <action>SurfaceOrganicMatter tillage type = user_defined, f_incorp = 0.33 (0-1), tillage_depth = 76 (mm)</action>\n",
      "    </operation>\n",
      "    <operation condition=\"start_of_day\">\n",
      "      <date>24/9/2021</date>\n",
      "      <action>soybean end_crop</action>\n",
      "    </operation>\n",
      "    <operation condition=\"start_of_day\">\n",
      "      <date>18/5/2022</date>\n",
      "      <action>maize sow plants = 8 (plants/m2), sowing_depth = 51 (mm), cultivar = B_105, row_spacing = 762 (mm), crop_class = plant</action>\n",
      "    </operation>\n",
      "    <operation condition=\"start_of_day\">\n",
      "      <date>21/4/2022</date>\n",
      "      <action>Fertiliser apply amount = 112.09 (kg/ha), depth = 50.0 (mm), type = uan_n ()</action>\n",
      "    </operation>\n",
      "    <operation condition=\"start_of_day\">\n",
      "      <date>28/6/2022</date>\n",
      "      <action>Fertiliser apply amount = 56.04 (kg/ha), depth = 50.0 (mm), type = uan_n ()</action>\n",
      "    </operation>\n",
      "    <operation condition=\"start_of_day\">\n",
      "      <date>16/4/2022</date>\n",
      "      <action>SurfaceOrganicMatter tillage type = user_defined, f_incorp = 0.25 (0-1), tillage_depth = 57 (mm)</action>\n",
      "    </operation>\n",
      "    <operation condition=\"start_of_day\">\n",
      "      <date>23/4/2022</date>\n",
      "      <action>SurfaceOrganicMatter tillage type = user_defined, f_incorp = 0.2 (0-1), tillage_depth = 76 (mm)</action>\n",
      "    </operation>\n",
      "    <operation condition=\"start_of_day\">\n",
      "      <date>15/10/2022</date>\n",
      "      <action>maize end_crop</action>\n",
      "    </operation>\n",
      "  </operations>\n",
      "</folder>\n"
     ]
    }
   ],
   "source": [
    "ET.indent(op_man.man_xml)\n",
    "# ET.dump(op_man.man_xml)\n",
    "print(ET.tostring(op_man.man_xml, encoding='unicode'))"
   ]
  },
  {
   "cell_type": "code",
   "execution_count": null,
   "metadata": {},
   "outputs": [],
   "source": []
  }
 ],
 "metadata": {
  "kernelspec": {
   "display_name": "gis",
   "language": "python",
   "name": "python3"
  },
  "language_info": {
   "codemirror_mode": {
    "name": "ipython",
    "version": 3
   },
   "file_extension": ".py",
   "mimetype": "text/x-python",
   "name": "python",
   "nbconvert_exporter": "python",
   "pygments_lexer": "ipython3",
   "version": "3.11.0"
  },
  "orig_nbformat": 4,
  "vscode": {
   "interpreter": {
    "hash": "a360326a42d5a28317c13b084cabb92cdb98f783569f1b2d7cf45551f4534edd"
   }
  }
 },
 "nbformat": 4,
 "nbformat_minor": 2
}
