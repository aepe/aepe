{
 "metadata": {
  "language_info": {
   "codemirror_mode": {
    "name": "ipython",
    "version": 3
   },
   "file_extension": ".py",
   "mimetype": "text/x-python",
   "name": "python",
   "nbconvert_exporter": "python",
   "pygments_lexer": "ipython3",
   "version": "3.8.2"
  },
  "orig_nbformat": 2,
  "kernelspec": {
   "name": "python382jvsc74a57bd0105ff0aaf530955537e1147328ef295aa52b0200f6f7ec5c3e3699f7f739eb29",
   "display_name": "Python 3.8.2 64-bit ('gis': conda)"
  }
 },
 "nbformat": 4,
 "nbformat_minor": 2,
 "cells": [
  {
   "cell_type": "code",
   "execution_count": 1,
   "metadata": {},
   "outputs": [],
   "source": [
    "import os\n",
    "import json\n",
    "import urllib\n",
    "import requests\n",
    "import webbrowser\n",
    "import pandas as pd"
   ]
  },
  {
   "cell_type": "code",
   "execution_count": 18,
   "metadata": {},
   "outputs": [
    {
     "output_type": "stream",
     "name": "stdout",
     "text": [
      "POWER_SinglePoint_Daily_20000101_20191231_032d93N_95d77W_ac479d3f.csv\n"
     ]
    },
    {
     "output_type": "execute_result",
     "data": {
      "text/plain": [
       "('pwr\\\\basswood\\\\POWER_SinglePoint_Daily_20000101_20191231_032d93N_95d77W_ac479d3f.csv',\n",
       " <http.client.HTTPMessage at 0x254d720cac0>)"
      ]
     },
     "metadata": {},
     "execution_count": 18
    }
   ],
   "source": [
    "output = \"CSV\" # JSON, CSV, ASCII, ICASA, NETCDF\n",
    "field_name = 'basswood'\n",
    "start_date = 20000101\n",
    "end_date = 20191231\n",
    "lat = 32.929\n",
    "long = -95.770\n",
    "\n",
    "output_folder = r'pwr' # if r'' the location of the script is where the files will be outputted.\n",
    "params = r'ALLSKY_SFC_SW_DWN,T2M_MAX,T2M_MIN,PRECTOT,RH2M,WS2M'\n",
    "base_url = f\"https://power.larc.nasa.gov/cgi-bin/v1/DataAccess.py?request=execute&identifier=SinglePoint&tempAverage=DAILY&parameters={params}&startDate={start_date}&endDate={end_date}&lat={lat}&lon={long}&outputList={output}&userCommunity=SSE\"\n",
    "\n",
    "# for latitude, longitude in locations:\n",
    "    #api_request_url = base_url.format(longitude=longitude, latitude=latitude, output=output.upper())\n",
    "\n",
    "# Python Memory Object\n",
    "json_response = json.loads(requests.get(base_url).content.decode('utf-8'))\n",
    "\n",
    "#Selects the file URL from the JSON response\n",
    "csv_request_url = json_response['outputs'][output.lower()]\n",
    "# Download File to Folder\n",
    "output_folder = os.path.join(output_folder, field_name)\n",
    "if not os.path.exists(output_folder):\n",
    "    os.mkdir(output_folder)\n",
    "output_file_location = os.path.join(output_folder, os.path.basename(csv_request_url))\n",
    "urllib.request.urlretrieve(csv_request_url, output_file_location)"
   ]
  },
  {
   "cell_type": "code",
   "execution_count": 19,
   "metadata": {},
   "outputs": [],
   "source": [
    "met = pd.read_csv(output_file_location, header=15)\n",
    "#met = pd.read_json(\"pwr\\POWER_SinglePoint_Daily_19810101_20191231_032d93N_95d77W_7dff805a.json\")"
   ]
  },
  {
   "cell_type": "code",
   "execution_count": 21,
   "metadata": {},
   "outputs": [],
   "source": [
    "met = met.drop(columns=['LAT', 'LON', 'MO'])"
   ]
  },
  {
   "cell_type": "code",
   "execution_count": 22,
   "metadata": {},
   "outputs": [],
   "source": [
    "met.columns = (\"year\", \"day\", \"maxt\", \"mint\", \"radn\", \"rain\", \"rh\", \"wind_speed\")"
   ]
  },
  {
   "cell_type": "code",
   "execution_count": 24,
   "metadata": {},
   "outputs": [
    {
     "output_type": "execute_result",
     "data": {
      "text/plain": [
       "     year  day  maxt  mint   radn   rain     rh  wind_speed\n",
       "360  2000   26  0.10  2.09  -0.09  33.72  94.83        3.18\n",
       "361  2000   27  0.47  0.65  -1.76   8.26  95.30        2.90\n",
       "362  2000   28  1.98  2.67  -4.60   3.64  93.85        2.04\n",
       "363  2000   29  3.87  1.75  -7.14   0.00  89.61        3.22\n",
       "364  2000   30  3.35  0.90 -10.35   0.01  87.65        2.00\n",
       "365  2000   31  0.49 -0.73  -7.89   4.38  91.40        2.62\n",
       "366  2001    1  0.99 -0.31  -9.80   0.22  89.50        2.29\n",
       "367  2001    2  1.89 -1.18  -9.18   0.02  86.95        2.12\n",
       "368  2001    3  3.29  3.13  -8.05   0.01  88.50        1.60\n",
       "369  2001    4  3.77  8.10  -3.73   0.04  86.44        1.53"
      ],
      "text/html": "<div>\n<style scoped>\n    .dataframe tbody tr th:only-of-type {\n        vertical-align: middle;\n    }\n\n    .dataframe tbody tr th {\n        vertical-align: top;\n    }\n\n    .dataframe thead th {\n        text-align: right;\n    }\n</style>\n<table border=\"1\" class=\"dataframe\">\n  <thead>\n    <tr style=\"text-align: right;\">\n      <th></th>\n      <th>year</th>\n      <th>day</th>\n      <th>maxt</th>\n      <th>mint</th>\n      <th>radn</th>\n      <th>rain</th>\n      <th>rh</th>\n      <th>wind_speed</th>\n    </tr>\n  </thead>\n  <tbody>\n    <tr>\n      <th>360</th>\n      <td>2000</td>\n      <td>26</td>\n      <td>0.10</td>\n      <td>2.09</td>\n      <td>-0.09</td>\n      <td>33.72</td>\n      <td>94.83</td>\n      <td>3.18</td>\n    </tr>\n    <tr>\n      <th>361</th>\n      <td>2000</td>\n      <td>27</td>\n      <td>0.47</td>\n      <td>0.65</td>\n      <td>-1.76</td>\n      <td>8.26</td>\n      <td>95.30</td>\n      <td>2.90</td>\n    </tr>\n    <tr>\n      <th>362</th>\n      <td>2000</td>\n      <td>28</td>\n      <td>1.98</td>\n      <td>2.67</td>\n      <td>-4.60</td>\n      <td>3.64</td>\n      <td>93.85</td>\n      <td>2.04</td>\n    </tr>\n    <tr>\n      <th>363</th>\n      <td>2000</td>\n      <td>29</td>\n      <td>3.87</td>\n      <td>1.75</td>\n      <td>-7.14</td>\n      <td>0.00</td>\n      <td>89.61</td>\n      <td>3.22</td>\n    </tr>\n    <tr>\n      <th>364</th>\n      <td>2000</td>\n      <td>30</td>\n      <td>3.35</td>\n      <td>0.90</td>\n      <td>-10.35</td>\n      <td>0.01</td>\n      <td>87.65</td>\n      <td>2.00</td>\n    </tr>\n    <tr>\n      <th>365</th>\n      <td>2000</td>\n      <td>31</td>\n      <td>0.49</td>\n      <td>-0.73</td>\n      <td>-7.89</td>\n      <td>4.38</td>\n      <td>91.40</td>\n      <td>2.62</td>\n    </tr>\n    <tr>\n      <th>366</th>\n      <td>2001</td>\n      <td>1</td>\n      <td>0.99</td>\n      <td>-0.31</td>\n      <td>-9.80</td>\n      <td>0.22</td>\n      <td>89.50</td>\n      <td>2.29</td>\n    </tr>\n    <tr>\n      <th>367</th>\n      <td>2001</td>\n      <td>2</td>\n      <td>1.89</td>\n      <td>-1.18</td>\n      <td>-9.18</td>\n      <td>0.02</td>\n      <td>86.95</td>\n      <td>2.12</td>\n    </tr>\n    <tr>\n      <th>368</th>\n      <td>2001</td>\n      <td>3</td>\n      <td>3.29</td>\n      <td>3.13</td>\n      <td>-8.05</td>\n      <td>0.01</td>\n      <td>88.50</td>\n      <td>1.60</td>\n    </tr>\n    <tr>\n      <th>369</th>\n      <td>2001</td>\n      <td>4</td>\n      <td>3.77</td>\n      <td>8.10</td>\n      <td>-3.73</td>\n      <td>0.04</td>\n      <td>86.44</td>\n      <td>1.53</td>\n    </tr>\n  </tbody>\n</table>\n</div>"
     },
     "metadata": {},
     "execution_count": 24
    }
   ],
   "source": [
    "met[360:370]"
   ]
  },
  {
   "cell_type": "code",
   "execution_count": 32,
   "metadata": {},
   "outputs": [],
   "source": [
    "met2020 = met.loc[met['year'] == 2019]"
   ]
  },
  {
   "cell_type": "code",
   "execution_count": null,
   "metadata": {},
   "outputs": [],
   "source": []
  }
 ]
}