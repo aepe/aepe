{
 "cells": [
  {
   "cell_type": "code",
   "execution_count": 1,
   "metadata": {},
   "outputs": [],
   "source": [
    "import database as db\n",
    "import pandas as pd"
   ]
  },
  {
   "cell_type": "code",
   "execution_count": 2,
   "metadata": {},
   "outputs": [],
   "source": [
    "dbconn = db.connect_to_db('database.ini')"
   ]
  },
  {
   "cell_type": "code",
   "execution_count": 3,
   "metadata": {},
   "outputs": [],
   "source": [
    "year = 2020\n",
    "buac = 180\n",
    "acres = 100\n",
    "phos = 40\n",
    "potash = 30"
   ]
  },
  {
   "cell_type": "code",
   "execution_count": 4,
   "metadata": {},
   "outputs": [],
   "source": [
    "class Budget:\n",
    "    \"\"\"\n",
    "    Calculates profitability for rotation, management, and acres.\n",
    "    \"\"\"\n",
    "    #Get basic field info\n",
    "    def __init__(self, uuid, rotation, current_crop, buac, acres=1, year=2019):\n",
    "        self.uuid = uuid\n",
    "        self.rotation = rotation\n",
    "        self.current_crop = current_crop\n",
    "        self.buac = buac\n",
    "        self.acres = acres\n",
    "        self.expenses = {'fert':0, 'seed':0, 'preharv_mach':0, 'harv_mach':0, 'processing':0, 'chemicals':0, 'extra':0, 'labor':0}\n",
    "        self.year = year\n",
    "\n",
    "    def fert_cost(self, n_lbs, phos_lbs, potash_lbs, n_price, phos_price, potash_price):\n",
    "        \"\"\"cost of fertilizer per acre\n",
    "        \n",
    "        Arguments:\n",
    "            n_lbs {float} -- pounds of nitrogen applied per acre\n",
    "            phos_lbs {float} -- pounds of phosphorous applied per acre\n",
    "            potash_lbs {float} -- pounds of potash/potassium applied per acre\n",
    "            n_price {float} -- price of nitrogen per pound\n",
    "            phos_price {float} -- price of phosphorous per pound\n",
    "            potash_price {float} -- price of potash/potassium per pound\n",
    "            acres {float} -- number of acres in field or area\n",
    "        \n",
    "        Returns:\n",
    "            float -- total price of fertilizer per acre\n",
    "        \"\"\"\n",
    "        n_cost = (n_lbs * n_price) * self.acres\n",
    "        phos_cost = (phos_lbs * phos_price) * self.acres\n",
    "        potash_cost = (potash_lbs * potash_price) * self.acres\n",
    "        total_fert_cost = n_cost + phos_cost + potash_cost\n",
    "        self.expenses['fert']=total_fert_cost\n",
    "        return self.expenses\n",
    "\n",
    "    def seed_cost(self, seed_rate, seed_price):\n",
    "        \"\"\"Calculates cost of seed for one acre\n",
    "        \n",
    "        Arguments:\n",
    "            seed_rate {int} -- number of seeds planted per acre\n",
    "            seed_price {float} -- cost per 1000 seeds\n",
    "            acres {float} -- number of acres in field or area\n",
    "        \n",
    "        Returns:\n",
    "            float -- cost of seed per acre\n",
    "        \"\"\"\n",
    "        seed_cost_acre = ((seed_rate * seed_price)/1000) * self.acres\n",
    "        self.expenses['seed']=seed_cost_acre\n",
    "        return self.expenses\n",
    "\n",
    "    def preharvest_machinery_cost(self, fix_chisel, var_chisel, fix_disk, var_disk, fix_applicator, var_applicator, fix_cultivator, var_cultivator, fix_planter, var_planter, fix_sprayer, var_sprayer):\n",
    "        \"\"\"Calculates per acre costs for preharvest machinery\n",
    "        \n",
    "        Arguments:\n",
    "            var_chisel {float} -- variable chisel cost\n",
    "            fix_chisel {float} -- fixed chisel cost\n",
    "            var_disk {float} -- variable disk cost\n",
    "            fix_disk {float} -- fixed disk cost\n",
    "            var_applicator {float} -- variable fertilizer application cost\n",
    "            fix_applicator {float} -- fixed fertilizer application cost\n",
    "            var_cultivator {float} -- variable field cultivator cost\n",
    "            fix_cultivator {float} -- fixed field cultivator cost\n",
    "            fix_planter {float} -- fixed planter cost\n",
    "            var_planter {float} -- variable planter cost\n",
    "            var_sprayer {float} -- variable sprayer cost\n",
    "            fix_sprayer {float} -- fixed sprayer cost\n",
    "            acres {float} -- number of acres in field or area\n",
    "        \n",
    "        Returns:\n",
    "            float -- cost of preharvest machinery per acre\n",
    "        \"\"\"\n",
    "        tillage_cost = (var_chisel + fix_chisel + var_disk + fix_disk) * self.acres\n",
    "        applicator_cost = (var_applicator + fix_applicator) * self.acres\n",
    "        cultivator_cost = (var_cultivator + fix_cultivator) * self.acres\n",
    "        planter_cost = (var_planter + fix_planter) * self.acres\n",
    "        sprayer_cost = (var_sprayer + fix_planter) * self.acres\n",
    "        total_preharvest = tillage_cost + applicator_cost + cultivator_cost + planter_cost + sprayer_cost\n",
    "        self.expenses['preharv_mach']=total_preharvest\n",
    "        return self.expenses\n",
    "\n",
    "    def harvest_machinery_cost(self, fix_combine, var_combine, fix_wagon, var_wagon):\n",
    "        \"\"\"calculates per acre cost of harvest machinery\n",
    "        \n",
    "        Arguments:\n",
    "            fix_combine {float} -- fixed cost of combine/harvester\n",
    "            var_combine {float} -- variable cost of combine/harvester\n",
    "            fix_wagon {float} -- fixed cost of wagon/grain cart\n",
    "            var_wagon {float} -- variable cost of wagon/grain cart\n",
    "            acres {float} -- number of acres in field or area\n",
    "        \n",
    "        Returns:\n",
    "            float -- total cost per acre of harvest machinery\n",
    "        \"\"\"\n",
    "        combine_cost = (fix_combine + var_combine) * self.acres\n",
    "        wagon_cost = (fix_wagon + var_wagon) * self.acres\n",
    "        total_harvest_machinery = combine_cost + wagon_cost\n",
    "        self.expenses['harv_mach'] = total_harvest_machinery\n",
    "        return self.expenses\n",
    "\n",
    "    def processing_cost(self, fix_hauling, var_hauling, fix_drying, var_drying, fix_handling, var_handling):\n",
    "        \"\"\"Calculate cost per bushel of processing \n",
    "        \n",
    "        Arguments:\n",
    "            buac {float} -- bushels of grain per acre\n",
    "            fix_hauling {float} -- fixed cost of hauling\n",
    "            var_hauling {float} -- variable cost of hauling\n",
    "            fix_drying {float} -- fixed cost of drying\n",
    "            var_drying {float} -- variable cost drying\n",
    "            fix_handling {float} -- fixed cost of handling\n",
    "            var_handling {float} -- variable cost of handling\n",
    "            acres {float} -- number of acres in field or area\n",
    "        \n",
    "        Returns:\n",
    "            float -- total cost of processing per acre\n",
    "        \"\"\"\n",
    "        hauling_cost = ((var_hauling + fix_hauling) * self.buac) * self.acres\n",
    "        drying_cost = ((var_drying + fix_drying) * self.buac) * self.acres\n",
    "        handling_cost = ((var_hauling + fix_hauling) * self.buac) * self.acres\n",
    "        total_processing = hauling_cost + drying_cost + handling_cost\n",
    "        self.expenses['processing'] = total_processing\n",
    "        return self.expenses\n",
    "        \n",
    "    def chemicals_cost(self, herbicide, insecticide):\n",
    "        \"\"\"calculate cost of herbicides and pesticides per acre\n",
    "        \n",
    "        Arguments:\n",
    "            herbicide {float} -- cost per acre of herbicide\n",
    "            insecticide {float} -- cost per acre of insecticide\n",
    "            acres {float} -- number of acres in field or area\n",
    "        \n",
    "        Returns:\n",
    "            float -- cost of herbicide and pesticide per acre\n",
    "        \"\"\"\n",
    "        herb_cost = herbicide\n",
    "        insect_cost = insecticide\n",
    "        total_chemical = herb_cost + insect_cost\n",
    "        self.expenses['chemicals'] = total_chemical\n",
    "        return self.expenses\n",
    "\n",
    "\n",
    "    def extra_costs(self, crop_insurance, rent_cost, rent=False):\n",
    "        \"\"\"calculate cost of extra costs like rent and insurance per acre\n",
    "        \n",
    "        Arguments:\n",
    "            rent {float} -- cost of rent per acre\n",
    "            crop_insurance {float} -- cost of insurance per acre\n",
    "            acres {float} -- number of acres to analyze\n",
    "        \n",
    "        Returns:\n",
    "            float -- total extra costs per acre\n",
    "        \"\"\"\n",
    "        if rent == True:\n",
    "            extra_rent_cost = (rent_cost + crop_insurance) * self.acres\n",
    "            self.expenses['extra'] = extra_rent_cost\n",
    "        else:\n",
    "            extra_own_cost = crop_insurance * self.acres\n",
    "            self.expenses['extra'] = extra_own_cost\n",
    "        return self.expenses\n",
    "\n",
    "    def labor_cost(self, labor_hours, rate_of_pay):\n",
    "        \"\"\"calculates cost of labor\n",
    "        \n",
    "        Arguments:\n",
    "            labor_hours {float} -- number of hours of hired labor\n",
    "            rate_of_pay {float} -- hourly rate of pay in dollars\n",
    "            acres {float} -- number of acres labor was hired for\n",
    "        \n",
    "        Returns:\n",
    "            float -- total cost of labor per acre\n",
    "        \"\"\"\n",
    "        total_labor = (labor_hours * rate_of_pay) * self.acres\n",
    "        self.expenses['labor'] = total_labor\n",
    "        return self.expenses\n",
    "\n",
    "    def calc_revenue(self, comm_price):\n",
    "        \"\"\"calculates total revenue from yield and commodity price\n",
    "        \n",
    "        Arguments:\n",
    "            comm_price {float} -- current price of given commodity\n",
    "            buac {float} -- yield in bushels per acre\n",
    "            acres {float} -- number of acres in given field or area\n",
    "        \n",
    "        Returns:\n",
    "            float -- total revenue from given field or area\n",
    "        \"\"\"\n",
    "        calc = (self.buac * self.acres) * comm_price\n",
    "        self.revenue = round(calc, 2)\n",
    "        return self.revenue\n",
    "\n",
    "    #TODO DOCUMENTATION\n",
    "    def sum_expenses(self):\n",
    "        \"\"\"\n",
    "        Sum total of a list that contains all expenses.\n",
    "        \"\"\"\n",
    "        self.expense_total = sum(self.expenses.values())\n",
    "        return self.expense_total\n",
    "        \n",
    "    def calc_profit(self):\n",
    "        \"\"\"[summary]\n",
    "        \n",
    "        Arguments:\n",
    "            revenue {[type]} -- [description]\n",
    "            expenses {[type]} -- [description]\n",
    "        \n",
    "        Keyword Arguments:\n",
    "            acres {int} -- [description] (default: {1})\n",
    "        \"\"\"\n",
    "        self.profit = self.revenue - self.expense_total\n",
    "        return self.profit"
   ]
  },
  {
   "cell_type": "code",
   "execution_count": 5,
   "metadata": {},
   "outputs": [],
   "source": [
    "dbconn = db.connect_to_db('database.ini')"
   ]
  },
  {
   "cell_type": "code",
   "execution_count": 68,
   "metadata": {},
   "outputs": [],
   "source": [
    "runs_query = f'SELECT * FROM public.runs_samples LIMIT 1000'\n",
    "runs_df = pd.read_sql(runs_query, dbconn)"
   ]
  },
  {
   "cell_type": "code",
   "execution_count": 69,
   "metadata": {},
   "outputs": [],
   "source": [
    "mgmt_query = f'SELECT * FROM public.mgmt_samples'\n",
    "mgmt_df = pd.read_sql(mgmt_query, dbconn)"
   ]
  },
  {
   "cell_type": "code",
   "execution_count": 70,
   "metadata": {},
   "outputs": [
    {
     "data": {
      "text/html": "<div>\n<style scoped>\n    .dataframe tbody tr th:only-of-type {\n        vertical-align: middle;\n    }\n\n    .dataframe tbody tr th {\n        vertical-align: top;\n    }\n\n    .dataframe thead th {\n        text-align: right;\n    }\n</style>\n<table border=\"1\" class=\"dataframe\">\n  <thead>\n    <tr style=\"text-align: right;\">\n      <th></th>\n      <th>tillage.implement</th>\n      <th>tillage.date</th>\n      <th>fertilizer.formulation</th>\n      <th>tillage.depth</th>\n      <th>fertilizer.crop</th>\n      <th>fertilizer.rotation</th>\n      <th>fertilizer.application_method</th>\n      <th>fertilizer.app1_date</th>\n      <th>fertilizer.app2_date</th>\n      <th>crops.cultivar</th>\n      <th>crops.sow_crop</th>\n      <th>crops.sowing_density</th>\n      <th>crops.sowing_depth</th>\n      <th>crops.row_spacing</th>\n      <th>crops.harvest_crop</th>\n      <th>tillage.residue</th>\n      <th>fertilizer.app1_kg_n_ha</th>\n      <th>fertilizer.app2_kg_n_ha</th>\n      <th>crops.planting_date</th>\n      <th>management_sample_id</th>\n    </tr>\n  </thead>\n  <tbody>\n    <tr>\n      <th>0</th>\n      <td>user_defined</td>\n      <td>10-nov</td>\n      <td>uan_n</td>\n      <td>0</td>\n      <td>maize</td>\n      <td>cont-maize</td>\n      <td>single</td>\n      <td>20-apr</td>\n      <td>20-apr</td>\n      <td>B_105</td>\n      <td>maize</td>\n      <td>8</td>\n      <td>51</td>\n      <td>381</td>\n      <td>maize</td>\n      <td>0.000000</td>\n      <td>243.06679</td>\n      <td>0.0</td>\n      <td>20-apr</td>\n      <td>1</td>\n    </tr>\n    <tr>\n      <th>1</th>\n      <td>user_defined</td>\n      <td>10-nov</td>\n      <td>uan_n</td>\n      <td>0</td>\n      <td>maize</td>\n      <td>cont-maize</td>\n      <td>single</td>\n      <td>20-apr</td>\n      <td>20-apr</td>\n      <td>B_105</td>\n      <td>maize</td>\n      <td>8</td>\n      <td>51</td>\n      <td>381</td>\n      <td>maize</td>\n      <td>0.000000</td>\n      <td>215.32307</td>\n      <td>0.0</td>\n      <td>20-apr</td>\n      <td>2</td>\n    </tr>\n    <tr>\n      <th>2</th>\n      <td>user_defined</td>\n      <td>10-nov</td>\n      <td>uan_n</td>\n      <td>0</td>\n      <td>maize</td>\n      <td>cont-maize</td>\n      <td>single</td>\n      <td>20-apr</td>\n      <td>20-apr</td>\n      <td>B_105</td>\n      <td>maize</td>\n      <td>8</td>\n      <td>51</td>\n      <td>381</td>\n      <td>maize</td>\n      <td>0.000000</td>\n      <td>224.69101</td>\n      <td>0.0</td>\n      <td>20-apr</td>\n      <td>3</td>\n    </tr>\n    <tr>\n      <th>3</th>\n      <td>user_defined</td>\n      <td>10-nov</td>\n      <td>uan_n</td>\n      <td>0</td>\n      <td>maize</td>\n      <td>cont-maize</td>\n      <td>single</td>\n      <td>20-apr</td>\n      <td>20-apr</td>\n      <td>B_105</td>\n      <td>maize</td>\n      <td>8</td>\n      <td>51</td>\n      <td>508</td>\n      <td>maize</td>\n      <td>0.000000</td>\n      <td>220.30394</td>\n      <td>0.0</td>\n      <td>20-apr</td>\n      <td>4</td>\n    </tr>\n    <tr>\n      <th>4</th>\n      <td>user_defined</td>\n      <td>10-nov</td>\n      <td>uan_n</td>\n      <td>0</td>\n      <td>maize</td>\n      <td>cont-maize</td>\n      <td>single</td>\n      <td>20-apr</td>\n      <td>20-apr</td>\n      <td>B_105</td>\n      <td>maize</td>\n      <td>8</td>\n      <td>51</td>\n      <td>508</td>\n      <td>maize</td>\n      <td>0.000000</td>\n      <td>214.10484</td>\n      <td>0.0</td>\n      <td>20-apr</td>\n      <td>5</td>\n    </tr>\n    <tr>\n      <th>...</th>\n      <td>...</td>\n      <td>...</td>\n      <td>...</td>\n      <td>...</td>\n      <td>...</td>\n      <td>...</td>\n      <td>...</td>\n      <td>...</td>\n      <td>...</td>\n      <td>...</td>\n      <td>...</td>\n      <td>...</td>\n      <td>...</td>\n      <td>...</td>\n      <td>...</td>\n      <td>...</td>\n      <td>...</td>\n      <td>...</td>\n      <td>...</td>\n      <td>...</td>\n    </tr>\n    <tr>\n      <th>52280</th>\n      <td>user_defined</td>\n      <td>10-nov</td>\n      <td>uan_n</td>\n      <td>203</td>\n      <td>soybean</td>\n      <td>maize-soybean</td>\n      <td>split</td>\n      <td>15-jun</td>\n      <td>10-jul</td>\n      <td>MG_3</td>\n      <td>soybean</td>\n      <td>42</td>\n      <td>38</td>\n      <td>381</td>\n      <td>soybean</td>\n      <td>0.551937</td>\n      <td>0.00000</td>\n      <td>0.0</td>\n      <td>15-jun</td>\n      <td>52281</td>\n    </tr>\n    <tr>\n      <th>52281</th>\n      <td>user_defined</td>\n      <td>10-nov</td>\n      <td>uan_n</td>\n      <td>203</td>\n      <td>soybean</td>\n      <td>maize-soybean</td>\n      <td>split</td>\n      <td>15-jun</td>\n      <td>10-jul</td>\n      <td>MG_3</td>\n      <td>soybean</td>\n      <td>42</td>\n      <td>38</td>\n      <td>381</td>\n      <td>soybean</td>\n      <td>0.621392</td>\n      <td>0.00000</td>\n      <td>0.0</td>\n      <td>15-jun</td>\n      <td>52282</td>\n    </tr>\n    <tr>\n      <th>52282</th>\n      <td>user_defined</td>\n      <td>10-nov</td>\n      <td>uan_n</td>\n      <td>203</td>\n      <td>soybean</td>\n      <td>maize-soybean</td>\n      <td>split</td>\n      <td>15-jun</td>\n      <td>10-jul</td>\n      <td>MG_3</td>\n      <td>soybean</td>\n      <td>42</td>\n      <td>38</td>\n      <td>762</td>\n      <td>soybean</td>\n      <td>0.565793</td>\n      <td>0.00000</td>\n      <td>0.0</td>\n      <td>15-jun</td>\n      <td>52283</td>\n    </tr>\n    <tr>\n      <th>52283</th>\n      <td>user_defined</td>\n      <td>10-nov</td>\n      <td>uan_n</td>\n      <td>203</td>\n      <td>soybean</td>\n      <td>maize-soybean</td>\n      <td>split</td>\n      <td>15-jun</td>\n      <td>10-jul</td>\n      <td>MG_3</td>\n      <td>soybean</td>\n      <td>42</td>\n      <td>38</td>\n      <td>762</td>\n      <td>soybean</td>\n      <td>0.757885</td>\n      <td>0.00000</td>\n      <td>0.0</td>\n      <td>15-jun</td>\n      <td>52284</td>\n    </tr>\n    <tr>\n      <th>52284</th>\n      <td>user_defined</td>\n      <td>10-nov</td>\n      <td>uan_n</td>\n      <td>203</td>\n      <td>soybean</td>\n      <td>maize-soybean</td>\n      <td>split</td>\n      <td>15-jun</td>\n      <td>10-jul</td>\n      <td>MG_3</td>\n      <td>soybean</td>\n      <td>42</td>\n      <td>38</td>\n      <td>762</td>\n      <td>soybean</td>\n      <td>0.855764</td>\n      <td>0.00000</td>\n      <td>0.0</td>\n      <td>15-jun</td>\n      <td>52285</td>\n    </tr>\n  </tbody>\n</table>\n<p>52285 rows × 20 columns</p>\n</div>",
      "text/plain": "      tillage.implement tillage.date fertilizer.formulation  tillage.depth  \\\n0          user_defined       10-nov                  uan_n              0   \n1          user_defined       10-nov                  uan_n              0   \n2          user_defined       10-nov                  uan_n              0   \n3          user_defined       10-nov                  uan_n              0   \n4          user_defined       10-nov                  uan_n              0   \n...                 ...          ...                    ...            ...   \n52280      user_defined       10-nov                  uan_n            203   \n52281      user_defined       10-nov                  uan_n            203   \n52282      user_defined       10-nov                  uan_n            203   \n52283      user_defined       10-nov                  uan_n            203   \n52284      user_defined       10-nov                  uan_n            203   \n\n      fertilizer.crop fertilizer.rotation fertilizer.application_method  \\\n0               maize          cont-maize                        single   \n1               maize          cont-maize                        single   \n2               maize          cont-maize                        single   \n3               maize          cont-maize                        single   \n4               maize          cont-maize                        single   \n...               ...                 ...                           ...   \n52280         soybean       maize-soybean                         split   \n52281         soybean       maize-soybean                         split   \n52282         soybean       maize-soybean                         split   \n52283         soybean       maize-soybean                         split   \n52284         soybean       maize-soybean                         split   \n\n      fertilizer.app1_date fertilizer.app2_date crops.cultivar crops.sow_crop  \\\n0                   20-apr               20-apr          B_105          maize   \n1                   20-apr               20-apr          B_105          maize   \n2                   20-apr               20-apr          B_105          maize   \n3                   20-apr               20-apr          B_105          maize   \n4                   20-apr               20-apr          B_105          maize   \n...                    ...                  ...            ...            ...   \n52280               15-jun               10-jul           MG_3        soybean   \n52281               15-jun               10-jul           MG_3        soybean   \n52282               15-jun               10-jul           MG_3        soybean   \n52283               15-jun               10-jul           MG_3        soybean   \n52284               15-jun               10-jul           MG_3        soybean   \n\n       crops.sowing_density  crops.sowing_depth  crops.row_spacing  \\\n0                         8                  51                381   \n1                         8                  51                381   \n2                         8                  51                381   \n3                         8                  51                508   \n4                         8                  51                508   \n...                     ...                 ...                ...   \n52280                    42                  38                381   \n52281                    42                  38                381   \n52282                    42                  38                762   \n52283                    42                  38                762   \n52284                    42                  38                762   \n\n      crops.harvest_crop  tillage.residue  fertilizer.app1_kg_n_ha  \\\n0                  maize         0.000000                243.06679   \n1                  maize         0.000000                215.32307   \n2                  maize         0.000000                224.69101   \n3                  maize         0.000000                220.30394   \n4                  maize         0.000000                214.10484   \n...                  ...              ...                      ...   \n52280            soybean         0.551937                  0.00000   \n52281            soybean         0.621392                  0.00000   \n52282            soybean         0.565793                  0.00000   \n52283            soybean         0.757885                  0.00000   \n52284            soybean         0.855764                  0.00000   \n\n       fertilizer.app2_kg_n_ha crops.planting_date  management_sample_id  \n0                          0.0              20-apr                     1  \n1                          0.0              20-apr                     2  \n2                          0.0              20-apr                     3  \n3                          0.0              20-apr                     4  \n4                          0.0              20-apr                     5  \n...                        ...                 ...                   ...  \n52280                      0.0              15-jun                 52281  \n52281                      0.0              15-jun                 52282  \n52282                      0.0              15-jun                 52283  \n52283                      0.0              15-jun                 52284  \n52284                      0.0              15-jun                 52285  \n\n[52285 rows x 20 columns]"
     },
     "execution_count": 70,
     "metadata": {},
     "output_type": "execute_result"
    }
   ],
   "source": [
    "mgmt_df"
   ]
  },
  {
   "cell_type": "code",
   "execution_count": 72,
   "metadata": {},
   "outputs": [],
   "source": [
    "runs_ids = list(runs_df['management_sample_id'])"
   ]
  },
  {
   "cell_type": "code",
   "execution_count": 78,
   "metadata": {},
   "outputs": [],
   "source": [
    "get_columns_query = f'SELECT * FROM public.mgmt_samples LIMIT 0'\n",
    "runs_df = pd.read_sql(get_columns_query, dbconn)"
   ]
  },
  {
   "cell_type": "code",
   "execution_count": 79,
   "metadata": {},
   "outputs": [
    {
     "data": {
      "text/html": "<div>\n<style scoped>\n    .dataframe tbody tr th:only-of-type {\n        vertical-align: middle;\n    }\n\n    .dataframe tbody tr th {\n        vertical-align: top;\n    }\n\n    .dataframe thead th {\n        text-align: right;\n    }\n</style>\n<table border=\"1\" class=\"dataframe\">\n  <thead>\n    <tr style=\"text-align: right;\">\n      <th></th>\n      <th>tillage.implement</th>\n      <th>tillage.date</th>\n      <th>fertilizer.formulation</th>\n      <th>tillage.depth</th>\n      <th>fertilizer.crop</th>\n      <th>fertilizer.rotation</th>\n      <th>fertilizer.application_method</th>\n      <th>fertilizer.app1_date</th>\n      <th>fertilizer.app2_date</th>\n      <th>crops.cultivar</th>\n      <th>crops.sow_crop</th>\n      <th>crops.sowing_density</th>\n      <th>crops.sowing_depth</th>\n      <th>crops.row_spacing</th>\n      <th>crops.harvest_crop</th>\n      <th>tillage.residue</th>\n      <th>fertilizer.app1_kg_n_ha</th>\n      <th>fertilizer.app2_kg_n_ha</th>\n      <th>crops.planting_date</th>\n      <th>management_sample_id</th>\n    </tr>\n  </thead>\n  <tbody>\n  </tbody>\n</table>\n</div>",
      "text/plain": "Empty DataFrame\nColumns: [tillage.implement, tillage.date, fertilizer.formulation, tillage.depth, fertilizer.crop, fertilizer.rotation, fertilizer.application_method, fertilizer.app1_date, fertilizer.app2_date, crops.cultivar, crops.sow_crop, crops.sowing_density, crops.sowing_depth, crops.row_spacing, crops.harvest_crop, tillage.residue, fertilizer.app1_kg_n_ha, fertilizer.app2_kg_n_ha, crops.planting_date, management_sample_id]\nIndex: []"
     },
     "execution_count": 79,
     "metadata": {},
     "output_type": "execute_result"
    }
   ],
   "source": [
    "runs_df"
   ]
  },
  {
   "cell_type": "code",
   "execution_count": 74,
   "metadata": {},
   "outputs": [],
   "source": [
    "def get_mgmt(mgmt_df, runs_ids):\n",
    "    new_df = pd.DataFrame()\n",
    "    for i in runs_ids:\n",
    "        new_df.append(mgmt_df.loc[mgmt_df['management_sample_id'] == i])\n",
    "    return new_df"
   ]
  },
  {
   "cell_type": "code",
   "execution_count": 75,
   "metadata": {},
   "outputs": [
    {
     "data": {
      "text/html": "<div>\n<style scoped>\n    .dataframe tbody tr th:only-of-type {\n        vertical-align: middle;\n    }\n\n    .dataframe tbody tr th {\n        vertical-align: top;\n    }\n\n    .dataframe thead th {\n        text-align: right;\n    }\n</style>\n<table border=\"1\" class=\"dataframe\">\n  <thead>\n    <tr style=\"text-align: right;\">\n      <th></th>\n    </tr>\n  </thead>\n  <tbody>\n  </tbody>\n</table>\n</div>",
      "text/plain": "Empty DataFrame\nColumns: []\nIndex: []"
     },
     "execution_count": 75,
     "metadata": {},
     "output_type": "execute_result"
    }
   ],
   "source": [
    "get_mgmt(mgmt_df_2, runs_ids)"
   ]
  },
  {
   "cell_type": "code",
   "execution_count": 23,
   "metadata": {},
   "outputs": [],
   "source": [
    "mgmt_df['fertilizer.rotation'][(mgmt_df['fertilizer.rotation'] == 'cont-maize')] = 'cc'\n",
    "mgmt_df['fertilizer.rotation'][(mgmt_df['fertilizer.rotation'] == 'maize-soybean') & (mgmt_df['crops.sow_crop'] == 'maize')] = 'cfs'\n",
    "mgmt_df['fertilizer.rotation'][(mgmt_df['fertilizer.rotation'] == 'maize-soybean') & (mgmt_df['crops.sow_crop'] == 'soybean')] = 'sfc'"
   ]
  },
  {
   "cell_type": "code",
   "execution_count": 56,
   "metadata": {},
   "outputs": [
    {
     "data": {
      "text/html": "<div>\n<style scoped>\n    .dataframe tbody tr th:only-of-type {\n        vertical-align: middle;\n    }\n\n    .dataframe tbody tr th {\n        vertical-align: top;\n    }\n\n    .dataframe thead th {\n        text-align: right;\n    }\n</style>\n<table border=\"1\" class=\"dataframe\">\n  <thead>\n    <tr style=\"text-align: right;\">\n      <th></th>\n      <th>tillage.implement</th>\n      <th>tillage.date</th>\n      <th>fertilizer.formulation</th>\n      <th>tillage.depth</th>\n      <th>fertilizer.crop</th>\n      <th>fertilizer.rotation</th>\n      <th>fertilizer.application_method</th>\n      <th>fertilizer.app1_date</th>\n      <th>fertilizer.app2_date</th>\n      <th>crops.cultivar</th>\n      <th>crops.sow_crop</th>\n      <th>crops.sowing_density</th>\n      <th>crops.sowing_depth</th>\n      <th>crops.row_spacing</th>\n      <th>crops.harvest_crop</th>\n      <th>tillage.residue</th>\n      <th>fertilizer.app1_kg_n_ha</th>\n      <th>fertilizer.app2_kg_n_ha</th>\n      <th>crops.planting_date</th>\n      <th>management_sample_id</th>\n    </tr>\n  </thead>\n  <tbody>\n    <tr>\n      <th>0</th>\n      <td>user_defined</td>\n      <td>10-nov</td>\n      <td>uan_n</td>\n      <td>0</td>\n      <td>maize</td>\n      <td>cont-maize</td>\n      <td>single</td>\n      <td>20-apr</td>\n      <td>20-apr</td>\n      <td>B_105</td>\n      <td>maize</td>\n      <td>8</td>\n      <td>51</td>\n      <td>381</td>\n      <td>maize</td>\n      <td>0.000000</td>\n      <td>243.06679</td>\n      <td>0.0</td>\n      <td>20-apr</td>\n      <td>1</td>\n    </tr>\n    <tr>\n      <th>1</th>\n      <td>user_defined</td>\n      <td>10-nov</td>\n      <td>uan_n</td>\n      <td>0</td>\n      <td>maize</td>\n      <td>cont-maize</td>\n      <td>single</td>\n      <td>20-apr</td>\n      <td>20-apr</td>\n      <td>B_105</td>\n      <td>maize</td>\n      <td>8</td>\n      <td>51</td>\n      <td>381</td>\n      <td>maize</td>\n      <td>0.000000</td>\n      <td>215.32307</td>\n      <td>0.0</td>\n      <td>20-apr</td>\n      <td>2</td>\n    </tr>\n    <tr>\n      <th>2</th>\n      <td>user_defined</td>\n      <td>10-nov</td>\n      <td>uan_n</td>\n      <td>0</td>\n      <td>maize</td>\n      <td>cont-maize</td>\n      <td>single</td>\n      <td>20-apr</td>\n      <td>20-apr</td>\n      <td>B_105</td>\n      <td>maize</td>\n      <td>8</td>\n      <td>51</td>\n      <td>381</td>\n      <td>maize</td>\n      <td>0.000000</td>\n      <td>224.69101</td>\n      <td>0.0</td>\n      <td>20-apr</td>\n      <td>3</td>\n    </tr>\n    <tr>\n      <th>3</th>\n      <td>user_defined</td>\n      <td>10-nov</td>\n      <td>uan_n</td>\n      <td>0</td>\n      <td>maize</td>\n      <td>cont-maize</td>\n      <td>single</td>\n      <td>20-apr</td>\n      <td>20-apr</td>\n      <td>B_105</td>\n      <td>maize</td>\n      <td>8</td>\n      <td>51</td>\n      <td>508</td>\n      <td>maize</td>\n      <td>0.000000</td>\n      <td>220.30394</td>\n      <td>0.0</td>\n      <td>20-apr</td>\n      <td>4</td>\n    </tr>\n    <tr>\n      <th>4</th>\n      <td>user_defined</td>\n      <td>10-nov</td>\n      <td>uan_n</td>\n      <td>0</td>\n      <td>maize</td>\n      <td>cont-maize</td>\n      <td>single</td>\n      <td>20-apr</td>\n      <td>20-apr</td>\n      <td>B_105</td>\n      <td>maize</td>\n      <td>8</td>\n      <td>51</td>\n      <td>508</td>\n      <td>maize</td>\n      <td>0.000000</td>\n      <td>214.10484</td>\n      <td>0.0</td>\n      <td>20-apr</td>\n      <td>5</td>\n    </tr>\n    <tr>\n      <th>...</th>\n      <td>...</td>\n      <td>...</td>\n      <td>...</td>\n      <td>...</td>\n      <td>...</td>\n      <td>...</td>\n      <td>...</td>\n      <td>...</td>\n      <td>...</td>\n      <td>...</td>\n      <td>...</td>\n      <td>...</td>\n      <td>...</td>\n      <td>...</td>\n      <td>...</td>\n      <td>...</td>\n      <td>...</td>\n      <td>...</td>\n      <td>...</td>\n      <td>...</td>\n    </tr>\n    <tr>\n      <th>52280</th>\n      <td>user_defined</td>\n      <td>10-nov</td>\n      <td>uan_n</td>\n      <td>203</td>\n      <td>soybean</td>\n      <td>maize-soybean</td>\n      <td>split</td>\n      <td>15-jun</td>\n      <td>10-jul</td>\n      <td>MG_3</td>\n      <td>soybean</td>\n      <td>42</td>\n      <td>38</td>\n      <td>381</td>\n      <td>soybean</td>\n      <td>0.551937</td>\n      <td>0.00000</td>\n      <td>0.0</td>\n      <td>15-jun</td>\n      <td>52281</td>\n    </tr>\n    <tr>\n      <th>52281</th>\n      <td>user_defined</td>\n      <td>10-nov</td>\n      <td>uan_n</td>\n      <td>203</td>\n      <td>soybean</td>\n      <td>maize-soybean</td>\n      <td>split</td>\n      <td>15-jun</td>\n      <td>10-jul</td>\n      <td>MG_3</td>\n      <td>soybean</td>\n      <td>42</td>\n      <td>38</td>\n      <td>381</td>\n      <td>soybean</td>\n      <td>0.621392</td>\n      <td>0.00000</td>\n      <td>0.0</td>\n      <td>15-jun</td>\n      <td>52282</td>\n    </tr>\n    <tr>\n      <th>52282</th>\n      <td>user_defined</td>\n      <td>10-nov</td>\n      <td>uan_n</td>\n      <td>203</td>\n      <td>soybean</td>\n      <td>maize-soybean</td>\n      <td>split</td>\n      <td>15-jun</td>\n      <td>10-jul</td>\n      <td>MG_3</td>\n      <td>soybean</td>\n      <td>42</td>\n      <td>38</td>\n      <td>762</td>\n      <td>soybean</td>\n      <td>0.565793</td>\n      <td>0.00000</td>\n      <td>0.0</td>\n      <td>15-jun</td>\n      <td>52283</td>\n    </tr>\n    <tr>\n      <th>52283</th>\n      <td>user_defined</td>\n      <td>10-nov</td>\n      <td>uan_n</td>\n      <td>203</td>\n      <td>soybean</td>\n      <td>maize-soybean</td>\n      <td>split</td>\n      <td>15-jun</td>\n      <td>10-jul</td>\n      <td>MG_3</td>\n      <td>soybean</td>\n      <td>42</td>\n      <td>38</td>\n      <td>762</td>\n      <td>soybean</td>\n      <td>0.757885</td>\n      <td>0.00000</td>\n      <td>0.0</td>\n      <td>15-jun</td>\n      <td>52284</td>\n    </tr>\n    <tr>\n      <th>52284</th>\n      <td>user_defined</td>\n      <td>10-nov</td>\n      <td>uan_n</td>\n      <td>203</td>\n      <td>soybean</td>\n      <td>maize-soybean</td>\n      <td>split</td>\n      <td>15-jun</td>\n      <td>10-jul</td>\n      <td>MG_3</td>\n      <td>soybean</td>\n      <td>42</td>\n      <td>38</td>\n      <td>762</td>\n      <td>soybean</td>\n      <td>0.855764</td>\n      <td>0.00000</td>\n      <td>0.0</td>\n      <td>15-jun</td>\n      <td>52285</td>\n    </tr>\n  </tbody>\n</table>\n<p>52285 rows × 20 columns</p>\n</div>",
      "text/plain": "      tillage.implement tillage.date fertilizer.formulation  tillage.depth  \\\n0          user_defined       10-nov                  uan_n              0   \n1          user_defined       10-nov                  uan_n              0   \n2          user_defined       10-nov                  uan_n              0   \n3          user_defined       10-nov                  uan_n              0   \n4          user_defined       10-nov                  uan_n              0   \n...                 ...          ...                    ...            ...   \n52280      user_defined       10-nov                  uan_n            203   \n52281      user_defined       10-nov                  uan_n            203   \n52282      user_defined       10-nov                  uan_n            203   \n52283      user_defined       10-nov                  uan_n            203   \n52284      user_defined       10-nov                  uan_n            203   \n\n      fertilizer.crop fertilizer.rotation fertilizer.application_method  \\\n0               maize          cont-maize                        single   \n1               maize          cont-maize                        single   \n2               maize          cont-maize                        single   \n3               maize          cont-maize                        single   \n4               maize          cont-maize                        single   \n...               ...                 ...                           ...   \n52280         soybean       maize-soybean                         split   \n52281         soybean       maize-soybean                         split   \n52282         soybean       maize-soybean                         split   \n52283         soybean       maize-soybean                         split   \n52284         soybean       maize-soybean                         split   \n\n      fertilizer.app1_date fertilizer.app2_date crops.cultivar crops.sow_crop  \\\n0                   20-apr               20-apr          B_105          maize   \n1                   20-apr               20-apr          B_105          maize   \n2                   20-apr               20-apr          B_105          maize   \n3                   20-apr               20-apr          B_105          maize   \n4                   20-apr               20-apr          B_105          maize   \n...                    ...                  ...            ...            ...   \n52280               15-jun               10-jul           MG_3        soybean   \n52281               15-jun               10-jul           MG_3        soybean   \n52282               15-jun               10-jul           MG_3        soybean   \n52283               15-jun               10-jul           MG_3        soybean   \n52284               15-jun               10-jul           MG_3        soybean   \n\n       crops.sowing_density  crops.sowing_depth  crops.row_spacing  \\\n0                         8                  51                381   \n1                         8                  51                381   \n2                         8                  51                381   \n3                         8                  51                508   \n4                         8                  51                508   \n...                     ...                 ...                ...   \n52280                    42                  38                381   \n52281                    42                  38                381   \n52282                    42                  38                762   \n52283                    42                  38                762   \n52284                    42                  38                762   \n\n      crops.harvest_crop  tillage.residue  fertilizer.app1_kg_n_ha  \\\n0                  maize         0.000000                243.06679   \n1                  maize         0.000000                215.32307   \n2                  maize         0.000000                224.69101   \n3                  maize         0.000000                220.30394   \n4                  maize         0.000000                214.10484   \n...                  ...              ...                      ...   \n52280            soybean         0.551937                  0.00000   \n52281            soybean         0.621392                  0.00000   \n52282            soybean         0.565793                  0.00000   \n52283            soybean         0.757885                  0.00000   \n52284            soybean         0.855764                  0.00000   \n\n       fertilizer.app2_kg_n_ha crops.planting_date  management_sample_id  \n0                          0.0              20-apr                     1  \n1                          0.0              20-apr                     2  \n2                          0.0              20-apr                     3  \n3                          0.0              20-apr                     4  \n4                          0.0              20-apr                     5  \n...                        ...                 ...                   ...  \n52280                      0.0              15-jun                 52281  \n52281                      0.0              15-jun                 52282  \n52282                      0.0              15-jun                 52283  \n52283                      0.0              15-jun                 52284  \n52284                      0.0              15-jun                 52285  \n\n[52285 rows x 20 columns]"
     },
     "execution_count": 56,
     "metadata": {},
     "output_type": "execute_result"
    }
   ],
   "source": [
    "mgmt_df_2 = mgmt_df\n",
    "mgmt_df_2[]"
   ]
  },
  {
   "cell_type": "code",
   "execution_count": null,
   "metadata": {},
   "outputs": [],
   "source": []
  }
 ],
 "metadata": {
  "kernelspec": {
   "display_name": "Python 3.7.5 64-bit ('foresite': venv)",
   "language": "python",
   "name": "python37564bitforesitevenv8ade351f1bae41038826c0676a51e81c"
  },
  "language_info": {
   "codemirror_mode": {
    "name": "ipython",
    "version": 3
   },
   "file_extension": ".py",
   "mimetype": "text/x-python",
   "name": "python",
   "nbconvert_exporter": "python",
   "pygments_lexer": "ipython3",
   "version": "3.7.5-final"
  }
 },
 "nbformat": 4,
 "nbformat_minor": 4
}